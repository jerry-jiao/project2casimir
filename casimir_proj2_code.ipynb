{
 "cells": [
  {
   "cell_type": "markdown",
   "metadata": {},
   "source": [
    "## Install Dependencies\n",
    "\n"
   ]
  },
  {
   "cell_type": "code",
   "execution_count": 1,
   "metadata": {},
   "outputs": [
    {
     "name": "stdout",
     "output_type": "stream",
     "text": [
      "Requirement already satisfied: numpy>=1.20.3 in /opt/conda/lib/python3.9/site-packages (from -r requirements.txt (line 4)) (1.21.5)\n",
      "Requirement already satisfied: pandas>=1.2.5 in /opt/conda/lib/python3.9/site-packages (from -r requirements.txt (line 7)) (1.3.5)\n",
      "Collecting pint>=0.18\n",
      "  Using cached Pint-0.18-py2.py3-none-any.whl (209 kB)\n",
      "Requirement already satisfied: requests>=2.26.0 in /opt/conda/lib/python3.9/site-packages (from -r requirements.txt (line 13)) (2.26.0)\n",
      "Collecting eep153_tools\n",
      "  Using cached eep153_tools-0.11-py2.py3-none-any.whl (4.4 kB)\n",
      "Processing /home/jovyan/.cache/pip/wheels/20/7e/30/7d702acd6a1e89911301cd9dbf9cb9870ca80c0e64bc2cde23/gnupg-2.3.1-py3-none-any.whl\n",
      "Requirement already satisfied: python-dateutil>=2.7.3 in /opt/conda/lib/python3.9/site-packages (from pandas>=1.2.5->-r requirements.txt (line 7)) (2.8.0)\n",
      "Requirement already satisfied: pytz>=2017.3 in /opt/conda/lib/python3.9/site-packages (from pandas>=1.2.5->-r requirements.txt (line 7)) (2021.1)\n",
      "Requirement already satisfied: packaging in /opt/conda/lib/python3.9/site-packages (from pint>=0.18->-r requirements.txt (line 10)) (21.3)\n",
      "Requirement already satisfied: certifi>=2017.4.17 in /opt/conda/lib/python3.9/site-packages (from requests>=2.26.0->-r requirements.txt (line 13)) (2019.11.28)\n",
      "Requirement already satisfied: charset-normalizer~=2.0.0; python_version >= \"3\" in /opt/conda/lib/python3.9/site-packages (from requests>=2.26.0->-r requirements.txt (line 13)) (2.0.0)\n",
      "Requirement already satisfied: urllib3<1.27,>=1.21.1 in /opt/conda/lib/python3.9/site-packages (from requests>=2.26.0->-r requirements.txt (line 13)) (1.25.7)\n",
      "Requirement already satisfied: idna<4,>=2.5; python_version >= \"3\" in /opt/conda/lib/python3.9/site-packages (from requests>=2.26.0->-r requirements.txt (line 13)) (2.8)\n",
      "Requirement already satisfied: psutil>=1.2.1 in /opt/conda/lib/python3.9/site-packages (from gnupg->-r requirements.txt (line 17)) (5.9.0)\n",
      "Requirement already satisfied: six>=1.5 in /opt/conda/lib/python3.9/site-packages (from python-dateutil>=2.7.3->pandas>=1.2.5->-r requirements.txt (line 7)) (1.16.0)\n",
      "Requirement already satisfied: pyparsing!=3.0.5,>=2.0.2 in /opt/conda/lib/python3.9/site-packages (from packaging->pint>=0.18->-r requirements.txt (line 10)) (3.0.7)\n",
      "Installing collected packages: pint, eep153-tools, gnupg\n",
      "  Attempting uninstall: pint\n",
      "    Found existing installation: Pint 0.17\n",
      "    Uninstalling Pint-0.17:\n",
      "      Successfully uninstalled Pint-0.17\n",
      "Successfully installed eep153-tools-0.11 gnupg-2.3.1 pint-0.18\n"
     ]
    }
   ],
   "source": [
    "!pip install -r requirements.txt"
   ]
  },
  {
   "cell_type": "code",
   "execution_count": 2,
   "metadata": {},
   "outputs": [],
   "source": [
    "import fooddatacentral as fdc"
   ]
  },
  {
   "cell_type": "code",
   "execution_count": 3,
   "metadata": {},
   "outputs": [],
   "source": [
    "from  scipy.optimize import linprog as lp\n",
    "import numpy as np\n",
    "import warnings\n",
    "import pandas as pd\n",
    "from eep153_tools.sheets import read_sheets"
   ]
  },
  {
   "cell_type": "markdown",
   "metadata": {},
   "source": [
    "## Utilities + Load and Clean Data"
   ]
  },
  {
   "cell_type": "code",
   "execution_count": 4,
   "metadata": {},
   "outputs": [],
   "source": [
    "apikey = 'MfcTfizjo11bsqJeJCn9Tb7RdKPQxJRjJSvTKElr' # This is Kaitlin's API key!"
   ]
  },
  {
   "cell_type": "code",
   "execution_count": 5,
   "metadata": {
    "scrolled": false
   },
   "outputs": [
    {
     "data": {
      "text/html": [
       "<div>\n",
       "<style scoped>\n",
       "    .dataframe tbody tr th:only-of-type {\n",
       "        vertical-align: middle;\n",
       "    }\n",
       "\n",
       "    .dataframe tbody tr th {\n",
       "        vertical-align: top;\n",
       "    }\n",
       "\n",
       "    .dataframe thead th {\n",
       "        text-align: right;\n",
       "    }\n",
       "</style>\n",
       "<table border=\"1\" class=\"dataframe\">\n",
       "  <thead>\n",
       "    <tr style=\"text-align: right;\">\n",
       "      <th></th>\n",
       "      <th>fdcId</th>\n",
       "      <th>description</th>\n",
       "      <th>lowercaseDescription</th>\n",
       "      <th>dataType</th>\n",
       "      <th>gtinUpc</th>\n",
       "      <th>publishedDate</th>\n",
       "      <th>brandOwner</th>\n",
       "      <th>ingredients</th>\n",
       "      <th>marketCountry</th>\n",
       "      <th>foodCategory</th>\n",
       "      <th>...</th>\n",
       "      <th>foodAttributeTypes</th>\n",
       "      <th>foodVersionIds</th>\n",
       "      <th>brandName</th>\n",
       "      <th>packageWeight</th>\n",
       "      <th>subbrandName</th>\n",
       "      <th>commonNames</th>\n",
       "      <th>additionalDescriptions</th>\n",
       "      <th>ndbNumber</th>\n",
       "      <th>foodCode</th>\n",
       "      <th>foodCategoryId</th>\n",
       "    </tr>\n",
       "  </thead>\n",
       "  <tbody>\n",
       "    <tr>\n",
       "      <th>0</th>\n",
       "      <td>579417</td>\n",
       "      <td>ORANGE JUICE</td>\n",
       "      <td>orange juice</td>\n",
       "      <td>Branded</td>\n",
       "      <td>048500008607</td>\n",
       "      <td>2019-04-01</td>\n",
       "      <td>Tropicana Products, Inc.</td>\n",
       "      <td>ORANGE JUICE FROM CONCENTRATE (FILTERED WATER ...</td>\n",
       "      <td>United States</td>\n",
       "      <td>Fruit &amp; Vegetable Juice, Nectars &amp; Fruit Drinks</td>\n",
       "      <td>...</td>\n",
       "      <td>[]</td>\n",
       "      <td>[]</td>\n",
       "      <td>NaN</td>\n",
       "      <td>NaN</td>\n",
       "      <td>NaN</td>\n",
       "      <td>NaN</td>\n",
       "      <td>NaN</td>\n",
       "      <td>NaN</td>\n",
       "      <td>NaN</td>\n",
       "      <td>NaN</td>\n",
       "    </tr>\n",
       "    <tr>\n",
       "      <th>1</th>\n",
       "      <td>2051634</td>\n",
       "      <td>ORANGE JUICE</td>\n",
       "      <td>orange juice</td>\n",
       "      <td>Branded</td>\n",
       "      <td>846656018774</td>\n",
       "      <td>2021-10-28</td>\n",
       "      <td>Agricultural Marketing Company Limited</td>\n",
       "      <td>WATER, ORANGE JUICE CONCENTRATE, SUGAR, PECTIN...</td>\n",
       "      <td>United States</td>\n",
       "      <td>Fruit &amp; Vegetable Juice, Nectars &amp; Fruit Drinks</td>\n",
       "      <td>...</td>\n",
       "      <td>[]</td>\n",
       "      <td>[]</td>\n",
       "      <td>FORTUNATA</td>\n",
       "      <td>33.81 fl oz/1 L</td>\n",
       "      <td>NaN</td>\n",
       "      <td>NaN</td>\n",
       "      <td>NaN</td>\n",
       "      <td>NaN</td>\n",
       "      <td>NaN</td>\n",
       "      <td>NaN</td>\n",
       "    </tr>\n",
       "    <tr>\n",
       "      <th>2</th>\n",
       "      <td>2091685</td>\n",
       "      <td>ORANGE JUICE</td>\n",
       "      <td>orange juice</td>\n",
       "      <td>Branded</td>\n",
       "      <td>085239040430</td>\n",
       "      <td>2021-10-28</td>\n",
       "      <td>Target Stores</td>\n",
       "      <td>WATER, ORANGE JUICE CONCENTRATE, TRICALCIUM PH...</td>\n",
       "      <td>United States</td>\n",
       "      <td>Fruit &amp; Vegetable Juice, Nectars &amp; Fruit Drinks</td>\n",
       "      <td>...</td>\n",
       "      <td>[]</td>\n",
       "      <td>[]</td>\n",
       "      <td>MARKET PANTRY</td>\n",
       "      <td>96 fl oz/3 Quart/2.8 L</td>\n",
       "      <td>NaN</td>\n",
       "      <td>NaN</td>\n",
       "      <td>NaN</td>\n",
       "      <td>NaN</td>\n",
       "      <td>NaN</td>\n",
       "      <td>NaN</td>\n",
       "    </tr>\n",
       "    <tr>\n",
       "      <th>3</th>\n",
       "      <td>2098640</td>\n",
       "      <td>ORANGE JUICE</td>\n",
       "      <td>orange juice</td>\n",
       "      <td>Branded</td>\n",
       "      <td>072730292413</td>\n",
       "      <td>2021-10-28</td>\n",
       "      <td>Prairie Farms Dairy, Inc.</td>\n",
       "      <td>ORANGE JUICE, CALCIUM PHOSPHATE* AND VITAMIN D3.*</td>\n",
       "      <td>United States</td>\n",
       "      <td>Fruit &amp; Vegetable Juice, Nectars &amp; Fruit Drinks</td>\n",
       "      <td>...</td>\n",
       "      <td>[]</td>\n",
       "      <td>[]</td>\n",
       "      <td>PRAIRIE FARMS</td>\n",
       "      <td>1.75 L/1.85 Quart/59 fl o</td>\n",
       "      <td>NaN</td>\n",
       "      <td>NaN</td>\n",
       "      <td>NaN</td>\n",
       "      <td>NaN</td>\n",
       "      <td>NaN</td>\n",
       "      <td>NaN</td>\n",
       "    </tr>\n",
       "    <tr>\n",
       "      <th>4</th>\n",
       "      <td>2104399</td>\n",
       "      <td>ORANGE JUICE</td>\n",
       "      <td>orange juice</td>\n",
       "      <td>Branded</td>\n",
       "      <td>099482407018</td>\n",
       "      <td>2021-10-28</td>\n",
       "      <td>Whole Foods Market, Inc.</td>\n",
       "      <td>ORANGE JUICE.</td>\n",
       "      <td>United States</td>\n",
       "      <td>Fruit &amp; Vegetable Juice, Nectars &amp; Fruit Drinks</td>\n",
       "      <td>...</td>\n",
       "      <td>[]</td>\n",
       "      <td>[]</td>\n",
       "      <td>365 EVERYDAY VALUE</td>\n",
       "      <td>64 fl oz/1.89 L</td>\n",
       "      <td>NaN</td>\n",
       "      <td>NaN</td>\n",
       "      <td>NaN</td>\n",
       "      <td>NaN</td>\n",
       "      <td>NaN</td>\n",
       "      <td>NaN</td>\n",
       "    </tr>\n",
       "    <tr>\n",
       "      <th>5</th>\n",
       "      <td>2104927</td>\n",
       "      <td>ORANGE JUICE</td>\n",
       "      <td>orange juice</td>\n",
       "      <td>Branded</td>\n",
       "      <td>607880101515</td>\n",
       "      <td>2021-10-28</td>\n",
       "      <td>Bruno's Supermarkets, Inc.</td>\n",
       "      <td>WATER, ORANGE JUICE CONCENTRATE, TRICALCIUM PH...</td>\n",
       "      <td>United States</td>\n",
       "      <td>Fruit &amp; Vegetable Juice, Nectars &amp; Fruit Drinks</td>\n",
       "      <td>...</td>\n",
       "      <td>[]</td>\n",
       "      <td>[]</td>\n",
       "      <td>SE GROCERS</td>\n",
       "      <td>0.5 GAL/1.89 L</td>\n",
       "      <td>NaN</td>\n",
       "      <td>NaN</td>\n",
       "      <td>NaN</td>\n",
       "      <td>NaN</td>\n",
       "      <td>NaN</td>\n",
       "      <td>NaN</td>\n",
       "    </tr>\n",
       "    <tr>\n",
       "      <th>6</th>\n",
       "      <td>2073024</td>\n",
       "      <td>ORANGE JUICE</td>\n",
       "      <td>orange juice</td>\n",
       "      <td>Branded</td>\n",
       "      <td>011161460183</td>\n",
       "      <td>2021-10-28</td>\n",
       "      <td>Topco Associates, Inc.</td>\n",
       "      <td>FILTERED WATER, ORANGE JUICE CONCENTRATE.</td>\n",
       "      <td>United States</td>\n",
       "      <td>Fruit &amp; Vegetable Juice, Nectars &amp; Fruit Drinks</td>\n",
       "      <td>...</td>\n",
       "      <td>[]</td>\n",
       "      <td>[]</td>\n",
       "      <td>SHURFINE</td>\n",
       "      <td>32 fl oz/1 Quart/946 mL</td>\n",
       "      <td>NaN</td>\n",
       "      <td>NaN</td>\n",
       "      <td>NaN</td>\n",
       "      <td>NaN</td>\n",
       "      <td>NaN</td>\n",
       "      <td>NaN</td>\n",
       "    </tr>\n",
       "    <tr>\n",
       "      <th>7</th>\n",
       "      <td>2073232</td>\n",
       "      <td>ORANGE JUICE</td>\n",
       "      <td>orange juice</td>\n",
       "      <td>Branded</td>\n",
       "      <td>030034080808</td>\n",
       "      <td>2021-10-28</td>\n",
       "      <td>Giant Eagle, Inc.</td>\n",
       "      <td>100% PURE PASTEURIZED ORANGE JUICE, TRICALCIUM...</td>\n",
       "      <td>United States</td>\n",
       "      <td>Fruit &amp; Vegetable Juice, Nectars &amp; Fruit Drinks</td>\n",
       "      <td>...</td>\n",
       "      <td>[]</td>\n",
       "      <td>[]</td>\n",
       "      <td>GIANT EAGLE</td>\n",
       "      <td>89 fl oz/2.78 Quart/2.63</td>\n",
       "      <td>NaN</td>\n",
       "      <td>NaN</td>\n",
       "      <td>NaN</td>\n",
       "      <td>NaN</td>\n",
       "      <td>NaN</td>\n",
       "      <td>NaN</td>\n",
       "    </tr>\n",
       "    <tr>\n",
       "      <th>8</th>\n",
       "      <td>2133897</td>\n",
       "      <td>ORANGE JUICE</td>\n",
       "      <td>orange juice</td>\n",
       "      <td>Branded</td>\n",
       "      <td>030034918477</td>\n",
       "      <td>2021-10-28</td>\n",
       "      <td>Giant Eagle, Inc.</td>\n",
       "      <td>ORANGE JUICE.</td>\n",
       "      <td>United States</td>\n",
       "      <td>Fruit &amp; Vegetable Juice, Nectars &amp; Fruit Drinks</td>\n",
       "      <td>...</td>\n",
       "      <td>[]</td>\n",
       "      <td>[]</td>\n",
       "      <td>GIANT EAGLE</td>\n",
       "      <td>NaN</td>\n",
       "      <td>NaN</td>\n",
       "      <td>NaN</td>\n",
       "      <td>NaN</td>\n",
       "      <td>NaN</td>\n",
       "      <td>NaN</td>\n",
       "      <td>NaN</td>\n",
       "    </tr>\n",
       "    <tr>\n",
       "      <th>9</th>\n",
       "      <td>579415</td>\n",
       "      <td>ORANGE JUICE</td>\n",
       "      <td>orange juice</td>\n",
       "      <td>Branded</td>\n",
       "      <td>048500009758</td>\n",
       "      <td>2019-04-01</td>\n",
       "      <td>Tropicana Products, Inc.</td>\n",
       "      <td>ORANGE JUICE FROM CONCENTRATE (FILTERED WATER ...</td>\n",
       "      <td>United States</td>\n",
       "      <td>Fruit &amp; Vegetable Juice, Nectars &amp; Fruit Drinks</td>\n",
       "      <td>...</td>\n",
       "      <td>[]</td>\n",
       "      <td>[]</td>\n",
       "      <td>NaN</td>\n",
       "      <td>NaN</td>\n",
       "      <td>NaN</td>\n",
       "      <td>NaN</td>\n",
       "      <td>NaN</td>\n",
       "      <td>NaN</td>\n",
       "      <td>NaN</td>\n",
       "      <td>NaN</td>\n",
       "    </tr>\n",
       "    <tr>\n",
       "      <th>10</th>\n",
       "      <td>1960246</td>\n",
       "      <td>ORANGE JUICE</td>\n",
       "      <td>orange juice</td>\n",
       "      <td>Branded</td>\n",
       "      <td>688267527180</td>\n",
       "      <td>2021-07-29</td>\n",
       "      <td>Ahold USA, Inc.</td>\n",
       "      <td>ORANGE JUICE.</td>\n",
       "      <td>United States</td>\n",
       "      <td>Fruit &amp; Vegetable Juice, Nectars &amp; Fruit Drinks</td>\n",
       "      <td>...</td>\n",
       "      <td>[]</td>\n",
       "      <td>[]</td>\n",
       "      <td>NATURE'S PROMISE</td>\n",
       "      <td>32 fl oz/1 Quart/946 mL</td>\n",
       "      <td>NaN</td>\n",
       "      <td>NaN</td>\n",
       "      <td>NaN</td>\n",
       "      <td>NaN</td>\n",
       "      <td>NaN</td>\n",
       "      <td>NaN</td>\n",
       "    </tr>\n",
       "    <tr>\n",
       "      <th>11</th>\n",
       "      <td>1927926</td>\n",
       "      <td>ORANGE JUICE</td>\n",
       "      <td>orange juice</td>\n",
       "      <td>Branded</td>\n",
       "      <td>053600110105</td>\n",
       "      <td>2021-07-29</td>\n",
       "      <td>Johanna Foods, Inc.</td>\n",
       "      <td>ORANGE JUICE, TRICALCIUM PHOSPHATE, CALCIUM LA...</td>\n",
       "      <td>United States</td>\n",
       "      <td>Fruit &amp; Vegetable Juice, Nectars &amp; Fruit Drinks</td>\n",
       "      <td>...</td>\n",
       "      <td>[]</td>\n",
       "      <td>[]</td>\n",
       "      <td>TREE RIPE</td>\n",
       "      <td>59 fl oz/1.85 Quart/1.75</td>\n",
       "      <td>NaN</td>\n",
       "      <td>NaN</td>\n",
       "      <td>NaN</td>\n",
       "      <td>NaN</td>\n",
       "      <td>NaN</td>\n",
       "      <td>NaN</td>\n",
       "    </tr>\n",
       "    <tr>\n",
       "      <th>12</th>\n",
       "      <td>1946543</td>\n",
       "      <td>ORANGE JUICE</td>\n",
       "      <td>orange juice</td>\n",
       "      <td>Branded</td>\n",
       "      <td>041498181048</td>\n",
       "      <td>2021-07-29</td>\n",
       "      <td>Aldi Inc.</td>\n",
       "      <td>ORANGE JUICE, ORANGE JUICE PULP.</td>\n",
       "      <td>United States</td>\n",
       "      <td>Fruit &amp; Vegetable Juice, Nectars &amp; Fruit Drinks</td>\n",
       "      <td>...</td>\n",
       "      <td>[]</td>\n",
       "      <td>[]</td>\n",
       "      <td>NATURE'S NECTAR</td>\n",
       "      <td>59 fl oz/1.85 Quart/1.75</td>\n",
       "      <td>NaN</td>\n",
       "      <td>NaN</td>\n",
       "      <td>NaN</td>\n",
       "      <td>NaN</td>\n",
       "      <td>NaN</td>\n",
       "      <td>NaN</td>\n",
       "    </tr>\n",
       "    <tr>\n",
       "      <th>13</th>\n",
       "      <td>1943104</td>\n",
       "      <td>ORANGE JUICE</td>\n",
       "      <td>orange juice</td>\n",
       "      <td>Branded</td>\n",
       "      <td>070038353867</td>\n",
       "      <td>2021-07-29</td>\n",
       "      <td>Associated Wholesale Grocers, Inc.</td>\n",
       "      <td>CONCENTRATE ORANGE JUICE.</td>\n",
       "      <td>United States</td>\n",
       "      <td>Frozen Fruit &amp; Fruit Juice Concentrates</td>\n",
       "      <td>...</td>\n",
       "      <td>[]</td>\n",
       "      <td>[]</td>\n",
       "      <td>ALWAYS SAVE</td>\n",
       "      <td>12 fl oz/355 mL</td>\n",
       "      <td>NaN</td>\n",
       "      <td>NaN</td>\n",
       "      <td>NaN</td>\n",
       "      <td>NaN</td>\n",
       "      <td>NaN</td>\n",
       "      <td>NaN</td>\n",
       "    </tr>\n",
       "    <tr>\n",
       "      <th>14</th>\n",
       "      <td>1938599</td>\n",
       "      <td>ORANGE JUICE</td>\n",
       "      <td>orange juice</td>\n",
       "      <td>Branded</td>\n",
       "      <td>041735065438</td>\n",
       "      <td>2021-07-29</td>\n",
       "      <td>Price Chopper Supermarkets</td>\n",
       "      <td>ORANGE JUICE, TRI-CALCIUM PHOSPHATE, CALCIUM L...</td>\n",
       "      <td>United States</td>\n",
       "      <td>Fruit &amp; Vegetable Juice, Nectars &amp; Fruit Drinks</td>\n",
       "      <td>...</td>\n",
       "      <td>[]</td>\n",
       "      <td>[]</td>\n",
       "      <td>PRICE CHOPPER</td>\n",
       "      <td>59 fl oz/1.8 Quart/1.75 L</td>\n",
       "      <td>PICS</td>\n",
       "      <td>NaN</td>\n",
       "      <td>NaN</td>\n",
       "      <td>NaN</td>\n",
       "      <td>NaN</td>\n",
       "      <td>NaN</td>\n",
       "    </tr>\n",
       "    <tr>\n",
       "      <th>15</th>\n",
       "      <td>2094679</td>\n",
       "      <td>ORANGE JUICE</td>\n",
       "      <td>orange juice</td>\n",
       "      <td>Branded</td>\n",
       "      <td>681131143264</td>\n",
       "      <td>2021-10-28</td>\n",
       "      <td>Wal-Mart Stores, Inc.</td>\n",
       "      <td>ORANGE JUICE, TRICALCIUM PHOSPHATE, CALCIUM LA...</td>\n",
       "      <td>United States</td>\n",
       "      <td>Fruit &amp; Vegetable Juice, Nectars &amp; Fruit Drinks</td>\n",
       "      <td>...</td>\n",
       "      <td>[]</td>\n",
       "      <td>[]</td>\n",
       "      <td>MARKETSIDE</td>\n",
       "      <td>59 fl oz/1.75 L</td>\n",
       "      <td>NaN</td>\n",
       "      <td>NaN</td>\n",
       "      <td>NaN</td>\n",
       "      <td>NaN</td>\n",
       "      <td>NaN</td>\n",
       "      <td>NaN</td>\n",
       "    </tr>\n",
       "    <tr>\n",
       "      <th>16</th>\n",
       "      <td>2118667</td>\n",
       "      <td>ORANGE JUICE</td>\n",
       "      <td>orange juice</td>\n",
       "      <td>Branded</td>\n",
       "      <td>041270489966</td>\n",
       "      <td>2021-10-28</td>\n",
       "      <td>Iga, Inc.</td>\n",
       "      <td>CONCENTRATED ORANGE JUICE, WATER, ORANGE PULP.</td>\n",
       "      <td>United States</td>\n",
       "      <td>Frozen Fruit &amp; Fruit Juice Concentrates</td>\n",
       "      <td>...</td>\n",
       "      <td>[]</td>\n",
       "      <td>[]</td>\n",
       "      <td>IGA</td>\n",
       "      <td>12 fl oz/355 mL</td>\n",
       "      <td>NaN</td>\n",
       "      <td>NaN</td>\n",
       "      <td>NaN</td>\n",
       "      <td>NaN</td>\n",
       "      <td>NaN</td>\n",
       "      <td>NaN</td>\n",
       "    </tr>\n",
       "    <tr>\n",
       "      <th>17</th>\n",
       "      <td>579225</td>\n",
       "      <td>ORANGE JUICE</td>\n",
       "      <td>orange juice</td>\n",
       "      <td>Branded</td>\n",
       "      <td>048500001745</td>\n",
       "      <td>2019-04-01</td>\n",
       "      <td>Tropicana Products, Inc.</td>\n",
       "      <td>100% PURE ORANGE JUICE FROM CONCENTRATE (FILTE...</td>\n",
       "      <td>United States</td>\n",
       "      <td>Fruit &amp; Vegetable Juice, Nectars &amp; Fruit Drinks</td>\n",
       "      <td>...</td>\n",
       "      <td>[]</td>\n",
       "      <td>[]</td>\n",
       "      <td>NaN</td>\n",
       "      <td>NaN</td>\n",
       "      <td>NaN</td>\n",
       "      <td>NaN</td>\n",
       "      <td>NaN</td>\n",
       "      <td>NaN</td>\n",
       "      <td>NaN</td>\n",
       "      <td>NaN</td>\n",
       "    </tr>\n",
       "    <tr>\n",
       "      <th>18</th>\n",
       "      <td>1922305</td>\n",
       "      <td>ORANGE JUICE</td>\n",
       "      <td>orange juice</td>\n",
       "      <td>Branded</td>\n",
       "      <td>011213040967</td>\n",
       "      <td>2021-07-29</td>\n",
       "      <td>McIlhenny Company</td>\n",
       "      <td>ORANGE JUICE</td>\n",
       "      <td>United States</td>\n",
       "      <td>Fruit &amp; Vegetable Juice, Nectars &amp; Fruit Drinks</td>\n",
       "      <td>...</td>\n",
       "      <td>[]</td>\n",
       "      <td>[]</td>\n",
       "      <td>SPARTAN</td>\n",
       "      <td>12 fl oz/1.5 cup/355 mL</td>\n",
       "      <td>NaN</td>\n",
       "      <td>NaN</td>\n",
       "      <td>NaN</td>\n",
       "      <td>NaN</td>\n",
       "      <td>NaN</td>\n",
       "      <td>NaN</td>\n",
       "    </tr>\n",
       "    <tr>\n",
       "      <th>19</th>\n",
       "      <td>1927945</td>\n",
       "      <td>ORANGE JUICE</td>\n",
       "      <td>orange juice</td>\n",
       "      <td>Branded</td>\n",
       "      <td>053600110099</td>\n",
       "      <td>2021-07-29</td>\n",
       "      <td>Johanna Foods, Inc.</td>\n",
       "      <td>ORANGE JUICE AND ORANGE JUICE PULP.</td>\n",
       "      <td>United States</td>\n",
       "      <td>Fruit &amp; Vegetable Juice, Nectars &amp; Fruit Drinks</td>\n",
       "      <td>...</td>\n",
       "      <td>[]</td>\n",
       "      <td>[]</td>\n",
       "      <td>TREE RIPE</td>\n",
       "      <td>59 fl oz/1.85 Quart/1.75</td>\n",
       "      <td>NaN</td>\n",
       "      <td>NaN</td>\n",
       "      <td>NaN</td>\n",
       "      <td>NaN</td>\n",
       "      <td>NaN</td>\n",
       "      <td>NaN</td>\n",
       "    </tr>\n",
       "    <tr>\n",
       "      <th>20</th>\n",
       "      <td>1917372</td>\n",
       "      <td>ORANGE JUICE</td>\n",
       "      <td>orange juice</td>\n",
       "      <td>Branded</td>\n",
       "      <td>811371700648</td>\n",
       "      <td>2021-07-29</td>\n",
       "      <td>Hmb, Inc.</td>\n",
       "      <td>WATER, CONCENTRATED ORANGE JUICE.</td>\n",
       "      <td>United States</td>\n",
       "      <td>Fruit &amp; Vegetable Juice, Nectars &amp; Fruit Drinks</td>\n",
       "      <td>...</td>\n",
       "      <td>[]</td>\n",
       "      <td>[]</td>\n",
       "      <td>CASA CARDENAS</td>\n",
       "      <td>64 fl oz/1.89 L</td>\n",
       "      <td>NaN</td>\n",
       "      <td>NaN</td>\n",
       "      <td>NaN</td>\n",
       "      <td>NaN</td>\n",
       "      <td>NaN</td>\n",
       "      <td>NaN</td>\n",
       "    </tr>\n",
       "    <tr>\n",
       "      <th>21</th>\n",
       "      <td>1983907</td>\n",
       "      <td>ORANGE JUICE</td>\n",
       "      <td>orange juice</td>\n",
       "      <td>Branded</td>\n",
       "      <td>07789081824</td>\n",
       "      <td>2021-07-29</td>\n",
       "      <td>Wegmans Food Markets, Inc.</td>\n",
       "      <td>ORANGE JUICE.</td>\n",
       "      <td>United States</td>\n",
       "      <td>Fruit &amp; Vegetable Juice, Nectars &amp; Fruit Drinks</td>\n",
       "      <td>...</td>\n",
       "      <td>[]</td>\n",
       "      <td>[]</td>\n",
       "      <td>WEGMANS</td>\n",
       "      <td>32 FL OZ/1 QT/946 mL</td>\n",
       "      <td>NaN</td>\n",
       "      <td>NaN</td>\n",
       "      <td>NaN</td>\n",
       "      <td>NaN</td>\n",
       "      <td>NaN</td>\n",
       "      <td>NaN</td>\n",
       "    </tr>\n",
       "    <tr>\n",
       "      <th>22</th>\n",
       "      <td>2091686</td>\n",
       "      <td>ORANGE JUICE</td>\n",
       "      <td>orange juice</td>\n",
       "      <td>Branded</td>\n",
       "      <td>085239077146</td>\n",
       "      <td>2021-10-28</td>\n",
       "      <td>Target Stores</td>\n",
       "      <td>ORANGE JUICE, CALCIUM LACTATE*, CALCIUM CITRAT...</td>\n",
       "      <td>United States</td>\n",
       "      <td>Fruit &amp; Vegetable Juice, Nectars &amp; Fruit Drinks</td>\n",
       "      <td>...</td>\n",
       "      <td>[]</td>\n",
       "      <td>[]</td>\n",
       "      <td>MARKET PANTRY</td>\n",
       "      <td>59 fl oz/1.75 L</td>\n",
       "      <td>NaN</td>\n",
       "      <td>NaN</td>\n",
       "      <td>NaN</td>\n",
       "      <td>NaN</td>\n",
       "      <td>NaN</td>\n",
       "      <td>NaN</td>\n",
       "    </tr>\n",
       "    <tr>\n",
       "      <th>23</th>\n",
       "      <td>1958035</td>\n",
       "      <td>ORANGE JUICE</td>\n",
       "      <td>orange juice</td>\n",
       "      <td>Branded</td>\n",
       "      <td>041512034725</td>\n",
       "      <td>2021-07-29</td>\n",
       "      <td>Smart &amp; Final Iris Corporation</td>\n",
       "      <td>WATER, ORANGE JUICE CONCENTRATE, TRICALCIUM PH...</td>\n",
       "      <td>United States</td>\n",
       "      <td>Fruit &amp; Vegetable Juice, Nectars &amp; Fruit Drinks</td>\n",
       "      <td>...</td>\n",
       "      <td>[]</td>\n",
       "      <td>[]</td>\n",
       "      <td>FIRST STREET</td>\n",
       "      <td>1 GAL/3.78 L</td>\n",
       "      <td>NaN</td>\n",
       "      <td>NaN</td>\n",
       "      <td>NaN</td>\n",
       "      <td>NaN</td>\n",
       "      <td>NaN</td>\n",
       "      <td>NaN</td>\n",
       "    </tr>\n",
       "    <tr>\n",
       "      <th>24</th>\n",
       "      <td>2073231</td>\n",
       "      <td>ORANGE JUICE</td>\n",
       "      <td>orange juice</td>\n",
       "      <td>Branded</td>\n",
       "      <td>030034080792</td>\n",
       "      <td>2021-10-28</td>\n",
       "      <td>Giant Eagle, Inc.</td>\n",
       "      <td>100% PURE PASTEURIZED ORANGE JUICE.</td>\n",
       "      <td>United States</td>\n",
       "      <td>Fruit &amp; Vegetable Juice, Nectars &amp; Fruit Drinks</td>\n",
       "      <td>...</td>\n",
       "      <td>[]</td>\n",
       "      <td>[]</td>\n",
       "      <td>GIANT EAGLE</td>\n",
       "      <td>2.78 Quart/89 fl oz/2.63</td>\n",
       "      <td>NaN</td>\n",
       "      <td>NaN</td>\n",
       "      <td>NaN</td>\n",
       "      <td>NaN</td>\n",
       "      <td>NaN</td>\n",
       "      <td>NaN</td>\n",
       "    </tr>\n",
       "    <tr>\n",
       "      <th>25</th>\n",
       "      <td>2083098</td>\n",
       "      <td>ORANGE JUICE</td>\n",
       "      <td>orange juice</td>\n",
       "      <td>Branded</td>\n",
       "      <td>088365010643</td>\n",
       "      <td>2021-10-28</td>\n",
       "      <td>Cream-O-Land Dairy</td>\n",
       "      <td>WATER, ORANGE JUICE CONCENTRATE</td>\n",
       "      <td>United States</td>\n",
       "      <td>Fruit &amp; Vegetable Juice, Nectars &amp; Fruit Drinks</td>\n",
       "      <td>...</td>\n",
       "      <td>[]</td>\n",
       "      <td>[]</td>\n",
       "      <td>CREAM-O-LAND</td>\n",
       "      <td>0.5 GAL/1.89 L</td>\n",
       "      <td>SUNSHINE FRESH</td>\n",
       "      <td>NaN</td>\n",
       "      <td>NaN</td>\n",
       "      <td>NaN</td>\n",
       "      <td>NaN</td>\n",
       "      <td>NaN</td>\n",
       "    </tr>\n",
       "    <tr>\n",
       "      <th>26</th>\n",
       "      <td>2073565</td>\n",
       "      <td>ORANGE JUICE</td>\n",
       "      <td>orange juice</td>\n",
       "      <td>Branded</td>\n",
       "      <td>049022804746</td>\n",
       "      <td>2021-10-28</td>\n",
       "      <td>Walgreens Co.</td>\n",
       "      <td>ORANGE JUICE.</td>\n",
       "      <td>United States</td>\n",
       "      <td>Fruit &amp; Vegetable Juice, Nectars &amp; Fruit Drinks</td>\n",
       "      <td>...</td>\n",
       "      <td>[]</td>\n",
       "      <td>[]</td>\n",
       "      <td>DELISH</td>\n",
       "      <td>59 fl oz/1.8 Quart/1.75 L</td>\n",
       "      <td>NaN</td>\n",
       "      <td>NaN</td>\n",
       "      <td>NaN</td>\n",
       "      <td>NaN</td>\n",
       "      <td>NaN</td>\n",
       "      <td>NaN</td>\n",
       "    </tr>\n",
       "    <tr>\n",
       "      <th>27</th>\n",
       "      <td>2083529</td>\n",
       "      <td>ORANGE JUICE</td>\n",
       "      <td>orange juice</td>\n",
       "      <td>Branded</td>\n",
       "      <td>041900026929</td>\n",
       "      <td>2021-10-28</td>\n",
       "      <td>Dean Foods Company</td>\n",
       "      <td>WATER, ORANGE JUICE CONCENTRATE.</td>\n",
       "      <td>United States</td>\n",
       "      <td>Fruit &amp; Vegetable Juice, Nectars &amp; Fruit Drinks</td>\n",
       "      <td>...</td>\n",
       "      <td>[]</td>\n",
       "      <td>[]</td>\n",
       "      <td>DEAN'S</td>\n",
       "      <td>0.5 GAL/1.89 L</td>\n",
       "      <td>NaN</td>\n",
       "      <td>NaN</td>\n",
       "      <td>NaN</td>\n",
       "      <td>NaN</td>\n",
       "      <td>NaN</td>\n",
       "      <td>NaN</td>\n",
       "    </tr>\n",
       "    <tr>\n",
       "      <th>28</th>\n",
       "      <td>2045843</td>\n",
       "      <td>ORANGE JUICE</td>\n",
       "      <td>orange juice</td>\n",
       "      <td>Branded</td>\n",
       "      <td>076545002670</td>\n",
       "      <td>2021-10-28</td>\n",
       "      <td>Dean Foods Company</td>\n",
       "      <td>ORANGE JUICE.</td>\n",
       "      <td>United States</td>\n",
       "      <td>Fruit &amp; Vegetable Juice, Nectars &amp; Fruit Drinks</td>\n",
       "      <td>...</td>\n",
       "      <td>[]</td>\n",
       "      <td>[]</td>\n",
       "      <td>SWISS PREMIUM</td>\n",
       "      <td>59 fl oz/1.8 Quart/1.75 L</td>\n",
       "      <td>NaN</td>\n",
       "      <td>NaN</td>\n",
       "      <td>NaN</td>\n",
       "      <td>NaN</td>\n",
       "      <td>NaN</td>\n",
       "      <td>NaN</td>\n",
       "    </tr>\n",
       "    <tr>\n",
       "      <th>29</th>\n",
       "      <td>2043483</td>\n",
       "      <td>ORANGE JUICE</td>\n",
       "      <td>orange juice</td>\n",
       "      <td>Branded</td>\n",
       "      <td>041900080464</td>\n",
       "      <td>2021-10-28</td>\n",
       "      <td>Dean Foods Company</td>\n",
       "      <td>WATER, ORANGE JUICE CONCENTRATE.</td>\n",
       "      <td>United States</td>\n",
       "      <td>Fruit &amp; Vegetable Juice, Nectars &amp; Fruit Drinks</td>\n",
       "      <td>...</td>\n",
       "      <td>[]</td>\n",
       "      <td>[]</td>\n",
       "      <td>ORCHARD PURE</td>\n",
       "      <td>12 fl oz/355 mL</td>\n",
       "      <td>NaN</td>\n",
       "      <td>NaN</td>\n",
       "      <td>NaN</td>\n",
       "      <td>NaN</td>\n",
       "      <td>NaN</td>\n",
       "      <td>NaN</td>\n",
       "    </tr>\n",
       "    <tr>\n",
       "      <th>30</th>\n",
       "      <td>2113637</td>\n",
       "      <td>ORANGE JUICE</td>\n",
       "      <td>orange juice</td>\n",
       "      <td>Branded</td>\n",
       "      <td>041318521313</td>\n",
       "      <td>2021-10-28</td>\n",
       "      <td>Schnuck Markets, Inc.</td>\n",
       "      <td>FILTERED WATER AND ORANGE JUICE CONCENTRATE.</td>\n",
       "      <td>United States</td>\n",
       "      <td>Fruit &amp; Vegetable Juice, Nectars &amp; Fruit Drinks</td>\n",
       "      <td>...</td>\n",
       "      <td>[]</td>\n",
       "      <td>[]</td>\n",
       "      <td>SCHNUCKS</td>\n",
       "      <td>0.50 GAL/1.89 L</td>\n",
       "      <td>NaN</td>\n",
       "      <td>NaN</td>\n",
       "      <td>NaN</td>\n",
       "      <td>NaN</td>\n",
       "      <td>NaN</td>\n",
       "      <td>NaN</td>\n",
       "    </tr>\n",
       "    <tr>\n",
       "      <th>31</th>\n",
       "      <td>2115209</td>\n",
       "      <td>ORANGE JUICE</td>\n",
       "      <td>orange juice</td>\n",
       "      <td>Branded</td>\n",
       "      <td>085239040423</td>\n",
       "      <td>2021-10-28</td>\n",
       "      <td>Target Stores</td>\n",
       "      <td>WATER, ORANGE JUICE CONCENTRATE.</td>\n",
       "      <td>United States</td>\n",
       "      <td>Fruit &amp; Vegetable Juice, Nectars &amp; Fruit Drinks</td>\n",
       "      <td>...</td>\n",
       "      <td>[]</td>\n",
       "      <td>[]</td>\n",
       "      <td>MARKET PANTRY</td>\n",
       "      <td>96 fl oz/3 Quart/2.8 L</td>\n",
       "      <td>NaN</td>\n",
       "      <td>NaN</td>\n",
       "      <td>NaN</td>\n",
       "      <td>NaN</td>\n",
       "      <td>NaN</td>\n",
       "      <td>NaN</td>\n",
       "    </tr>\n",
       "    <tr>\n",
       "      <th>32</th>\n",
       "      <td>537524</td>\n",
       "      <td>ORANGE JUICE</td>\n",
       "      <td>orange juice</td>\n",
       "      <td>Branded</td>\n",
       "      <td>748753911401</td>\n",
       "      <td>2019-04-01</td>\n",
       "      <td>COLUMBIA GORGE</td>\n",
       "      <td>CERTIFIED ORGANIC INGREDIENTS: ORANGES (LESS T...</td>\n",
       "      <td>United States</td>\n",
       "      <td>Fruit &amp; Vegetable Juice, Nectars &amp; Fruit Drinks</td>\n",
       "      <td>...</td>\n",
       "      <td>[]</td>\n",
       "      <td>[]</td>\n",
       "      <td>NaN</td>\n",
       "      <td>NaN</td>\n",
       "      <td>NaN</td>\n",
       "      <td>NaN</td>\n",
       "      <td>NaN</td>\n",
       "      <td>NaN</td>\n",
       "      <td>NaN</td>\n",
       "      <td>NaN</td>\n",
       "    </tr>\n",
       "    <tr>\n",
       "      <th>33</th>\n",
       "      <td>541373</td>\n",
       "      <td>ORANGE JUICE</td>\n",
       "      <td>orange juice</td>\n",
       "      <td>Branded</td>\n",
       "      <td>048500201244</td>\n",
       "      <td>2019-04-01</td>\n",
       "      <td>Tropicana Products, Inc.</td>\n",
       "      <td>100% PURE SQUEEZED PASTEURIZED ORANGE JUICE, A...</td>\n",
       "      <td>United States</td>\n",
       "      <td>Fruit &amp; Vegetable Juice, Nectars &amp; Fruit Drinks</td>\n",
       "      <td>...</td>\n",
       "      <td>[]</td>\n",
       "      <td>[]</td>\n",
       "      <td>NaN</td>\n",
       "      <td>NaN</td>\n",
       "      <td>NaN</td>\n",
       "      <td>NaN</td>\n",
       "      <td>NaN</td>\n",
       "      <td>NaN</td>\n",
       "      <td>NaN</td>\n",
       "      <td>NaN</td>\n",
       "    </tr>\n",
       "    <tr>\n",
       "      <th>34</th>\n",
       "      <td>1872908</td>\n",
       "      <td>ORANGE JUICE</td>\n",
       "      <td>orange juice</td>\n",
       "      <td>Branded</td>\n",
       "      <td>00990370</td>\n",
       "      <td>2021-07-29</td>\n",
       "      <td>Bond Food Products Co., Inc.</td>\n",
       "      <td>FILTERED WATER, CONCENTRATED ORANGE JUICE, TRI...</td>\n",
       "      <td>United States</td>\n",
       "      <td>Fruit &amp; Vegetable Juice, Nectars &amp; Fruit Drinks</td>\n",
       "      <td>...</td>\n",
       "      <td>[]</td>\n",
       "      <td>[]</td>\n",
       "      <td>TRADER JOE'S</td>\n",
       "      <td>64 fl oz/2 Quart/1.89 L</td>\n",
       "      <td>NaN</td>\n",
       "      <td>NaN</td>\n",
       "      <td>NaN</td>\n",
       "      <td>NaN</td>\n",
       "      <td>NaN</td>\n",
       "      <td>NaN</td>\n",
       "    </tr>\n",
       "    <tr>\n",
       "      <th>35</th>\n",
       "      <td>1917358</td>\n",
       "      <td>ORANGE JUICE</td>\n",
       "      <td>orange juice</td>\n",
       "      <td>Branded</td>\n",
       "      <td>811102020960</td>\n",
       "      <td>2021-07-29</td>\n",
       "      <td>Fresh Direct, LLC</td>\n",
       "      <td>ORANGE JUICE.</td>\n",
       "      <td>United States</td>\n",
       "      <td>Fruit &amp; Vegetable Juice, Nectars &amp; Fruit Drinks</td>\n",
       "      <td>...</td>\n",
       "      <td>[]</td>\n",
       "      <td>[]</td>\n",
       "      <td>FRESHDIRECT</td>\n",
       "      <td>64 fl oz/2 Quart/1.89 L</td>\n",
       "      <td>NaN</td>\n",
       "      <td>NaN</td>\n",
       "      <td>NaN</td>\n",
       "      <td>NaN</td>\n",
       "      <td>NaN</td>\n",
       "      <td>NaN</td>\n",
       "    </tr>\n",
       "    <tr>\n",
       "      <th>36</th>\n",
       "      <td>2083558</td>\n",
       "      <td>ORANGE JUICE</td>\n",
       "      <td>orange juice</td>\n",
       "      <td>Branded</td>\n",
       "      <td>071537052114</td>\n",
       "      <td>2021-10-28</td>\n",
       "      <td>Polar Corporation</td>\n",
       "      <td>CONTAINS CARBONATED WATER, HIGH FRUCTOSE CORN ...</td>\n",
       "      <td>United States</td>\n",
       "      <td>Soda</td>\n",
       "      <td>...</td>\n",
       "      <td>[]</td>\n",
       "      <td>[]</td>\n",
       "      <td>POLAR</td>\n",
       "      <td>67.6 fl oz/2 L</td>\n",
       "      <td>NaN</td>\n",
       "      <td>NaN</td>\n",
       "      <td>NaN</td>\n",
       "      <td>NaN</td>\n",
       "      <td>NaN</td>\n",
       "      <td>NaN</td>\n",
       "    </tr>\n",
       "    <tr>\n",
       "      <th>37</th>\n",
       "      <td>2106886</td>\n",
       "      <td>ORANGE JUICE</td>\n",
       "      <td>orange juice</td>\n",
       "      <td>Branded</td>\n",
       "      <td>077890818275</td>\n",
       "      <td>2021-10-28</td>\n",
       "      <td>Wegmans Food Markets, Inc.</td>\n",
       "      <td>ORANGE JUICE</td>\n",
       "      <td>United States</td>\n",
       "      <td>Fruit &amp; Vegetable Juice, Nectars &amp; Fruit Drinks</td>\n",
       "      <td>...</td>\n",
       "      <td>[]</td>\n",
       "      <td>[]</td>\n",
       "      <td>WEGMANS</td>\n",
       "      <td>NaN</td>\n",
       "      <td>NaN</td>\n",
       "      <td>NaN</td>\n",
       "      <td>NaN</td>\n",
       "      <td>NaN</td>\n",
       "      <td>NaN</td>\n",
       "      <td>NaN</td>\n",
       "    </tr>\n",
       "    <tr>\n",
       "      <th>38</th>\n",
       "      <td>171354</td>\n",
       "      <td>Babyfood, juice, orange</td>\n",
       "      <td>babyfood, juice, orange</td>\n",
       "      <td>SR Legacy</td>\n",
       "      <td>NaN</td>\n",
       "      <td>2019-04-01</td>\n",
       "      <td>NaN</td>\n",
       "      <td>NaN</td>\n",
       "      <td>NaN</td>\n",
       "      <td>Baby Foods</td>\n",
       "      <td>...</td>\n",
       "      <td>[]</td>\n",
       "      <td>[]</td>\n",
       "      <td>NaN</td>\n",
       "      <td>NaN</td>\n",
       "      <td>NaN</td>\n",
       "      <td></td>\n",
       "      <td></td>\n",
       "      <td>3172.0</td>\n",
       "      <td>NaN</td>\n",
       "      <td>NaN</td>\n",
       "    </tr>\n",
       "    <tr>\n",
       "      <th>39</th>\n",
       "      <td>171355</td>\n",
       "      <td>Babyfood, juice, orange and apple</td>\n",
       "      <td>babyfood, juice, orange and apple</td>\n",
       "      <td>SR Legacy</td>\n",
       "      <td>NaN</td>\n",
       "      <td>2019-04-01</td>\n",
       "      <td>NaN</td>\n",
       "      <td>NaN</td>\n",
       "      <td>NaN</td>\n",
       "      <td>Baby Foods</td>\n",
       "      <td>...</td>\n",
       "      <td>[]</td>\n",
       "      <td>[]</td>\n",
       "      <td>NaN</td>\n",
       "      <td>NaN</td>\n",
       "      <td>NaN</td>\n",
       "      <td></td>\n",
       "      <td></td>\n",
       "      <td>3173.0</td>\n",
       "      <td>NaN</td>\n",
       "      <td>NaN</td>\n",
       "    </tr>\n",
       "    <tr>\n",
       "      <th>40</th>\n",
       "      <td>170961</td>\n",
       "      <td>Babyfood, juice, orange and apricot</td>\n",
       "      <td>babyfood, juice, orange and apricot</td>\n",
       "      <td>SR Legacy</td>\n",
       "      <td>NaN</td>\n",
       "      <td>2019-04-01</td>\n",
       "      <td>NaN</td>\n",
       "      <td>NaN</td>\n",
       "      <td>NaN</td>\n",
       "      <td>Baby Foods</td>\n",
       "      <td>...</td>\n",
       "      <td>[]</td>\n",
       "      <td>[]</td>\n",
       "      <td>NaN</td>\n",
       "      <td>NaN</td>\n",
       "      <td>NaN</td>\n",
       "      <td></td>\n",
       "      <td></td>\n",
       "      <td>3175.0</td>\n",
       "      <td>NaN</td>\n",
       "      <td>NaN</td>\n",
       "    </tr>\n",
       "    <tr>\n",
       "      <th>41</th>\n",
       "      <td>170962</td>\n",
       "      <td>Babyfood, juice, orange and banana</td>\n",
       "      <td>babyfood, juice, orange and banana</td>\n",
       "      <td>SR Legacy</td>\n",
       "      <td>NaN</td>\n",
       "      <td>2019-04-01</td>\n",
       "      <td>NaN</td>\n",
       "      <td>NaN</td>\n",
       "      <td>NaN</td>\n",
       "      <td>Baby Foods</td>\n",
       "      <td>...</td>\n",
       "      <td>[]</td>\n",
       "      <td>[]</td>\n",
       "      <td>NaN</td>\n",
       "      <td>NaN</td>\n",
       "      <td>NaN</td>\n",
       "      <td></td>\n",
       "      <td></td>\n",
       "      <td>3176.0</td>\n",
       "      <td>NaN</td>\n",
       "      <td>NaN</td>\n",
       "    </tr>\n",
       "    <tr>\n",
       "      <th>42</th>\n",
       "      <td>170963</td>\n",
       "      <td>Babyfood, juice, orange and pineapple</td>\n",
       "      <td>babyfood, juice, orange and pineapple</td>\n",
       "      <td>SR Legacy</td>\n",
       "      <td>NaN</td>\n",
       "      <td>2019-04-01</td>\n",
       "      <td>NaN</td>\n",
       "      <td>NaN</td>\n",
       "      <td>NaN</td>\n",
       "      <td>Baby Foods</td>\n",
       "      <td>...</td>\n",
       "      <td>[]</td>\n",
       "      <td>[]</td>\n",
       "      <td>NaN</td>\n",
       "      <td>NaN</td>\n",
       "      <td>NaN</td>\n",
       "      <td></td>\n",
       "      <td></td>\n",
       "      <td>3177.0</td>\n",
       "      <td>NaN</td>\n",
       "      <td>NaN</td>\n",
       "    </tr>\n",
       "    <tr>\n",
       "      <th>43</th>\n",
       "      <td>169043</td>\n",
       "      <td>Babyfood, juice, orange-carrot</td>\n",
       "      <td>babyfood, juice, orange-carrot</td>\n",
       "      <td>SR Legacy</td>\n",
       "      <td>NaN</td>\n",
       "      <td>2019-04-01</td>\n",
       "      <td>NaN</td>\n",
       "      <td>NaN</td>\n",
       "      <td>NaN</td>\n",
       "      <td>Baby Foods</td>\n",
       "      <td>...</td>\n",
       "      <td>[]</td>\n",
       "      <td>[]</td>\n",
       "      <td>NaN</td>\n",
       "      <td>NaN</td>\n",
       "      <td>NaN</td>\n",
       "      <td></td>\n",
       "      <td></td>\n",
       "      <td>42267.0</td>\n",
       "      <td>NaN</td>\n",
       "      <td>NaN</td>\n",
       "    </tr>\n",
       "    <tr>\n",
       "      <th>44</th>\n",
       "      <td>171356</td>\n",
       "      <td>Babyfood, juice, prune and orange</td>\n",
       "      <td>babyfood, juice, prune and orange</td>\n",
       "      <td>SR Legacy</td>\n",
       "      <td>NaN</td>\n",
       "      <td>2019-04-01</td>\n",
       "      <td>NaN</td>\n",
       "      <td>NaN</td>\n",
       "      <td>NaN</td>\n",
       "      <td>Baby Foods</td>\n",
       "      <td>...</td>\n",
       "      <td>[]</td>\n",
       "      <td>[]</td>\n",
       "      <td>NaN</td>\n",
       "      <td>NaN</td>\n",
       "      <td>NaN</td>\n",
       "      <td></td>\n",
       "      <td></td>\n",
       "      <td>3178.0</td>\n",
       "      <td>NaN</td>\n",
       "      <td>NaN</td>\n",
       "    </tr>\n",
       "    <tr>\n",
       "      <th>45</th>\n",
       "      <td>169044</td>\n",
       "      <td>Beverages, Orange juice drink</td>\n",
       "      <td>beverages, orange juice drink</td>\n",
       "      <td>SR Legacy</td>\n",
       "      <td>NaN</td>\n",
       "      <td>2019-04-01</td>\n",
       "      <td>NaN</td>\n",
       "      <td>NaN</td>\n",
       "      <td>NaN</td>\n",
       "      <td>Beverages</td>\n",
       "      <td>...</td>\n",
       "      <td>[]</td>\n",
       "      <td>[]</td>\n",
       "      <td>NaN</td>\n",
       "      <td>NaN</td>\n",
       "      <td>NaN</td>\n",
       "      <td></td>\n",
       "      <td></td>\n",
       "      <td>42270.0</td>\n",
       "      <td>NaN</td>\n",
       "      <td>NaN</td>\n",
       "    </tr>\n",
       "    <tr>\n",
       "      <th>46</th>\n",
       "      <td>1102613</td>\n",
       "      <td>Orange juice, 100%, NFS</td>\n",
       "      <td>orange juice, 100%, nfs</td>\n",
       "      <td>Survey (FNDDS)</td>\n",
       "      <td>NaN</td>\n",
       "      <td>2020-10-30</td>\n",
       "      <td>NaN</td>\n",
       "      <td>NaN</td>\n",
       "      <td>NaN</td>\n",
       "      <td>Citrus juice</td>\n",
       "      <td>...</td>\n",
       "      <td>[{'name': 'Attribute', 'description': 'Generic...</td>\n",
       "      <td>[]</td>\n",
       "      <td>NaN</td>\n",
       "      <td>NaN</td>\n",
       "      <td>NaN</td>\n",
       "      <td></td>\n",
       "      <td></td>\n",
       "      <td>NaN</td>\n",
       "      <td>61210000.0</td>\n",
       "      <td>998332.0</td>\n",
       "    </tr>\n",
       "    <tr>\n",
       "      <th>47</th>\n",
       "      <td>1102828</td>\n",
       "      <td>Orange juice, baby food</td>\n",
       "      <td>orange juice, baby food</td>\n",
       "      <td>Survey (FNDDS)</td>\n",
       "      <td>NaN</td>\n",
       "      <td>2020-10-30</td>\n",
       "      <td>NaN</td>\n",
       "      <td>NaN</td>\n",
       "      <td>NaN</td>\n",
       "      <td>Baby juice</td>\n",
       "      <td>...</td>\n",
       "      <td>[{'name': 'Additional Description', 'descripti...</td>\n",
       "      <td>[]</td>\n",
       "      <td>NaN</td>\n",
       "      <td>NaN</td>\n",
       "      <td>NaN</td>\n",
       "      <td></td>\n",
       "      <td>Gerber;Beech-Nut</td>\n",
       "      <td>NaN</td>\n",
       "      <td>67205000.0</td>\n",
       "      <td>998547.0</td>\n",
       "    </tr>\n",
       "    <tr>\n",
       "      <th>48</th>\n",
       "      <td>169099</td>\n",
       "      <td>Orange juice, canned, unsweetened</td>\n",
       "      <td>orange juice, canned, unsweetened</td>\n",
       "      <td>SR Legacy</td>\n",
       "      <td>NaN</td>\n",
       "      <td>2019-04-01</td>\n",
       "      <td>NaN</td>\n",
       "      <td>NaN</td>\n",
       "      <td>NaN</td>\n",
       "      <td>Fruits and Fruit Juices</td>\n",
       "      <td>...</td>\n",
       "      <td>[]</td>\n",
       "      <td>[]</td>\n",
       "      <td>NaN</td>\n",
       "      <td>NaN</td>\n",
       "      <td>NaN</td>\n",
       "      <td></td>\n",
       "      <td></td>\n",
       "      <td>9207.0</td>\n",
       "      <td>NaN</td>\n",
       "      <td>NaN</td>\n",
       "    </tr>\n",
       "    <tr>\n",
       "      <th>49</th>\n",
       "      <td>167792</td>\n",
       "      <td>Orange Pineapple Juice Blend</td>\n",
       "      <td>orange pineapple juice blend</td>\n",
       "      <td>SR Legacy</td>\n",
       "      <td>NaN</td>\n",
       "      <td>2019-04-01</td>\n",
       "      <td>NaN</td>\n",
       "      <td>NaN</td>\n",
       "      <td>NaN</td>\n",
       "      <td>Fruits and Fruit Juices</td>\n",
       "      <td>...</td>\n",
       "      <td>[]</td>\n",
       "      <td>[]</td>\n",
       "      <td>NaN</td>\n",
       "      <td>NaN</td>\n",
       "      <td>NaN</td>\n",
       "      <td></td>\n",
       "      <td></td>\n",
       "      <td>9452.0</td>\n",
       "      <td>NaN</td>\n",
       "      <td>NaN</td>\n",
       "    </tr>\n",
       "  </tbody>\n",
       "</table>\n",
       "<p>50 rows × 31 columns</p>\n",
       "</div>"
      ],
      "text/plain": [
       "      fdcId                            description  \\\n",
       "0    579417                           ORANGE JUICE   \n",
       "1   2051634                           ORANGE JUICE   \n",
       "2   2091685                           ORANGE JUICE   \n",
       "3   2098640                           ORANGE JUICE   \n",
       "4   2104399                           ORANGE JUICE   \n",
       "5   2104927                           ORANGE JUICE   \n",
       "6   2073024                           ORANGE JUICE   \n",
       "7   2073232                           ORANGE JUICE   \n",
       "8   2133897                           ORANGE JUICE   \n",
       "9    579415                           ORANGE JUICE   \n",
       "10  1960246                           ORANGE JUICE   \n",
       "11  1927926                           ORANGE JUICE   \n",
       "12  1946543                           ORANGE JUICE   \n",
       "13  1943104                           ORANGE JUICE   \n",
       "14  1938599                           ORANGE JUICE   \n",
       "15  2094679                           ORANGE JUICE   \n",
       "16  2118667                           ORANGE JUICE   \n",
       "17   579225                           ORANGE JUICE   \n",
       "18  1922305                           ORANGE JUICE   \n",
       "19  1927945                           ORANGE JUICE   \n",
       "20  1917372                           ORANGE JUICE   \n",
       "21  1983907                           ORANGE JUICE   \n",
       "22  2091686                           ORANGE JUICE   \n",
       "23  1958035                           ORANGE JUICE   \n",
       "24  2073231                           ORANGE JUICE   \n",
       "25  2083098                           ORANGE JUICE   \n",
       "26  2073565                           ORANGE JUICE   \n",
       "27  2083529                           ORANGE JUICE   \n",
       "28  2045843                           ORANGE JUICE   \n",
       "29  2043483                           ORANGE JUICE   \n",
       "30  2113637                           ORANGE JUICE   \n",
       "31  2115209                           ORANGE JUICE   \n",
       "32   537524                           ORANGE JUICE   \n",
       "33   541373                           ORANGE JUICE   \n",
       "34  1872908                           ORANGE JUICE   \n",
       "35  1917358                           ORANGE JUICE   \n",
       "36  2083558                           ORANGE JUICE   \n",
       "37  2106886                           ORANGE JUICE   \n",
       "38   171354                Babyfood, juice, orange   \n",
       "39   171355      Babyfood, juice, orange and apple   \n",
       "40   170961    Babyfood, juice, orange and apricot   \n",
       "41   170962     Babyfood, juice, orange and banana   \n",
       "42   170963  Babyfood, juice, orange and pineapple   \n",
       "43   169043         Babyfood, juice, orange-carrot   \n",
       "44   171356      Babyfood, juice, prune and orange   \n",
       "45   169044          Beverages, Orange juice drink   \n",
       "46  1102613                Orange juice, 100%, NFS   \n",
       "47  1102828                Orange juice, baby food   \n",
       "48   169099      Orange juice, canned, unsweetened   \n",
       "49   167792           Orange Pineapple Juice Blend   \n",
       "\n",
       "                     lowercaseDescription        dataType       gtinUpc  \\\n",
       "0                            orange juice         Branded  048500008607   \n",
       "1                            orange juice         Branded  846656018774   \n",
       "2                            orange juice         Branded  085239040430   \n",
       "3                            orange juice         Branded  072730292413   \n",
       "4                            orange juice         Branded  099482407018   \n",
       "5                            orange juice         Branded  607880101515   \n",
       "6                            orange juice         Branded  011161460183   \n",
       "7                            orange juice         Branded  030034080808   \n",
       "8                            orange juice         Branded  030034918477   \n",
       "9                            orange juice         Branded  048500009758   \n",
       "10                           orange juice         Branded  688267527180   \n",
       "11                           orange juice         Branded  053600110105   \n",
       "12                           orange juice         Branded  041498181048   \n",
       "13                           orange juice         Branded  070038353867   \n",
       "14                           orange juice         Branded  041735065438   \n",
       "15                           orange juice         Branded  681131143264   \n",
       "16                           orange juice         Branded  041270489966   \n",
       "17                           orange juice         Branded  048500001745   \n",
       "18                           orange juice         Branded  011213040967   \n",
       "19                           orange juice         Branded  053600110099   \n",
       "20                           orange juice         Branded  811371700648   \n",
       "21                           orange juice         Branded   07789081824   \n",
       "22                           orange juice         Branded  085239077146   \n",
       "23                           orange juice         Branded  041512034725   \n",
       "24                           orange juice         Branded  030034080792   \n",
       "25                           orange juice         Branded  088365010643   \n",
       "26                           orange juice         Branded  049022804746   \n",
       "27                           orange juice         Branded  041900026929   \n",
       "28                           orange juice         Branded  076545002670   \n",
       "29                           orange juice         Branded  041900080464   \n",
       "30                           orange juice         Branded  041318521313   \n",
       "31                           orange juice         Branded  085239040423   \n",
       "32                           orange juice         Branded  748753911401   \n",
       "33                           orange juice         Branded  048500201244   \n",
       "34                           orange juice         Branded      00990370   \n",
       "35                           orange juice         Branded  811102020960   \n",
       "36                           orange juice         Branded  071537052114   \n",
       "37                           orange juice         Branded  077890818275   \n",
       "38                babyfood, juice, orange       SR Legacy           NaN   \n",
       "39      babyfood, juice, orange and apple       SR Legacy           NaN   \n",
       "40    babyfood, juice, orange and apricot       SR Legacy           NaN   \n",
       "41     babyfood, juice, orange and banana       SR Legacy           NaN   \n",
       "42  babyfood, juice, orange and pineapple       SR Legacy           NaN   \n",
       "43         babyfood, juice, orange-carrot       SR Legacy           NaN   \n",
       "44      babyfood, juice, prune and orange       SR Legacy           NaN   \n",
       "45          beverages, orange juice drink       SR Legacy           NaN   \n",
       "46                orange juice, 100%, nfs  Survey (FNDDS)           NaN   \n",
       "47                orange juice, baby food  Survey (FNDDS)           NaN   \n",
       "48      orange juice, canned, unsweetened       SR Legacy           NaN   \n",
       "49           orange pineapple juice blend       SR Legacy           NaN   \n",
       "\n",
       "   publishedDate                              brandOwner  \\\n",
       "0     2019-04-01                Tropicana Products, Inc.   \n",
       "1     2021-10-28  Agricultural Marketing Company Limited   \n",
       "2     2021-10-28                           Target Stores   \n",
       "3     2021-10-28               Prairie Farms Dairy, Inc.   \n",
       "4     2021-10-28                Whole Foods Market, Inc.   \n",
       "5     2021-10-28              Bruno's Supermarkets, Inc.   \n",
       "6     2021-10-28                  Topco Associates, Inc.   \n",
       "7     2021-10-28                       Giant Eagle, Inc.   \n",
       "8     2021-10-28                       Giant Eagle, Inc.   \n",
       "9     2019-04-01                Tropicana Products, Inc.   \n",
       "10    2021-07-29                        Ahold USA, Inc.    \n",
       "11    2021-07-29                     Johanna Foods, Inc.   \n",
       "12    2021-07-29                               Aldi Inc.   \n",
       "13    2021-07-29      Associated Wholesale Grocers, Inc.   \n",
       "14    2021-07-29              Price Chopper Supermarkets   \n",
       "15    2021-10-28                   Wal-Mart Stores, Inc.   \n",
       "16    2021-10-28                               Iga, Inc.   \n",
       "17    2019-04-01                Tropicana Products, Inc.   \n",
       "18    2021-07-29                       McIlhenny Company   \n",
       "19    2021-07-29                     Johanna Foods, Inc.   \n",
       "20    2021-07-29                               Hmb, Inc.   \n",
       "21    2021-07-29             Wegmans Food Markets, Inc.    \n",
       "22    2021-10-28                           Target Stores   \n",
       "23    2021-07-29          Smart & Final Iris Corporation   \n",
       "24    2021-10-28                       Giant Eagle, Inc.   \n",
       "25    2021-10-28                      Cream-O-Land Dairy   \n",
       "26    2021-10-28                           Walgreens Co.   \n",
       "27    2021-10-28                      Dean Foods Company   \n",
       "28    2021-10-28                      Dean Foods Company   \n",
       "29    2021-10-28                      Dean Foods Company   \n",
       "30    2021-10-28                   Schnuck Markets, Inc.   \n",
       "31    2021-10-28                           Target Stores   \n",
       "32    2019-04-01                          COLUMBIA GORGE   \n",
       "33    2019-04-01                Tropicana Products, Inc.   \n",
       "34    2021-07-29            Bond Food Products Co., Inc.   \n",
       "35    2021-07-29                       Fresh Direct, LLC   \n",
       "36    2021-10-28                       Polar Corporation   \n",
       "37    2021-10-28             Wegmans Food Markets, Inc.    \n",
       "38    2019-04-01                                     NaN   \n",
       "39    2019-04-01                                     NaN   \n",
       "40    2019-04-01                                     NaN   \n",
       "41    2019-04-01                                     NaN   \n",
       "42    2019-04-01                                     NaN   \n",
       "43    2019-04-01                                     NaN   \n",
       "44    2019-04-01                                     NaN   \n",
       "45    2019-04-01                                     NaN   \n",
       "46    2020-10-30                                     NaN   \n",
       "47    2020-10-30                                     NaN   \n",
       "48    2019-04-01                                     NaN   \n",
       "49    2019-04-01                                     NaN   \n",
       "\n",
       "                                          ingredients  marketCountry  \\\n",
       "0   ORANGE JUICE FROM CONCENTRATE (FILTERED WATER ...  United States   \n",
       "1   WATER, ORANGE JUICE CONCENTRATE, SUGAR, PECTIN...  United States   \n",
       "2   WATER, ORANGE JUICE CONCENTRATE, TRICALCIUM PH...  United States   \n",
       "3   ORANGE JUICE, CALCIUM PHOSPHATE* AND VITAMIN D3.*  United States   \n",
       "4                                       ORANGE JUICE.  United States   \n",
       "5   WATER, ORANGE JUICE CONCENTRATE, TRICALCIUM PH...  United States   \n",
       "6           FILTERED WATER, ORANGE JUICE CONCENTRATE.  United States   \n",
       "7   100% PURE PASTEURIZED ORANGE JUICE, TRICALCIUM...  United States   \n",
       "8                                       ORANGE JUICE.  United States   \n",
       "9   ORANGE JUICE FROM CONCENTRATE (FILTERED WATER ...  United States   \n",
       "10                                      ORANGE JUICE.  United States   \n",
       "11  ORANGE JUICE, TRICALCIUM PHOSPHATE, CALCIUM LA...  United States   \n",
       "12                   ORANGE JUICE, ORANGE JUICE PULP.  United States   \n",
       "13                          CONCENTRATE ORANGE JUICE.  United States   \n",
       "14  ORANGE JUICE, TRI-CALCIUM PHOSPHATE, CALCIUM L...  United States   \n",
       "15  ORANGE JUICE, TRICALCIUM PHOSPHATE, CALCIUM LA...  United States   \n",
       "16     CONCENTRATED ORANGE JUICE, WATER, ORANGE PULP.  United States   \n",
       "17  100% PURE ORANGE JUICE FROM CONCENTRATE (FILTE...  United States   \n",
       "18                                       ORANGE JUICE  United States   \n",
       "19                ORANGE JUICE AND ORANGE JUICE PULP.  United States   \n",
       "20                  WATER, CONCENTRATED ORANGE JUICE.  United States   \n",
       "21                                      ORANGE JUICE.  United States   \n",
       "22  ORANGE JUICE, CALCIUM LACTATE*, CALCIUM CITRAT...  United States   \n",
       "23  WATER, ORANGE JUICE CONCENTRATE, TRICALCIUM PH...  United States   \n",
       "24                100% PURE PASTEURIZED ORANGE JUICE.  United States   \n",
       "25                    WATER, ORANGE JUICE CONCENTRATE  United States   \n",
       "26                                      ORANGE JUICE.  United States   \n",
       "27                  WATER, ORANGE JUICE CONCENTRATE.   United States   \n",
       "28                                      ORANGE JUICE.  United States   \n",
       "29                   WATER, ORANGE JUICE CONCENTRATE.  United States   \n",
       "30       FILTERED WATER AND ORANGE JUICE CONCENTRATE.  United States   \n",
       "31                   WATER, ORANGE JUICE CONCENTRATE.  United States   \n",
       "32  CERTIFIED ORGANIC INGREDIENTS: ORANGES (LESS T...  United States   \n",
       "33  100% PURE SQUEEZED PASTEURIZED ORANGE JUICE, A...  United States   \n",
       "34  FILTERED WATER, CONCENTRATED ORANGE JUICE, TRI...  United States   \n",
       "35                                      ORANGE JUICE.  United States   \n",
       "36  CONTAINS CARBONATED WATER, HIGH FRUCTOSE CORN ...  United States   \n",
       "37                                       ORANGE JUICE  United States   \n",
       "38                                                NaN            NaN   \n",
       "39                                                NaN            NaN   \n",
       "40                                                NaN            NaN   \n",
       "41                                                NaN            NaN   \n",
       "42                                                NaN            NaN   \n",
       "43                                                NaN            NaN   \n",
       "44                                                NaN            NaN   \n",
       "45                                                NaN            NaN   \n",
       "46                                                NaN            NaN   \n",
       "47                                                NaN            NaN   \n",
       "48                                                NaN            NaN   \n",
       "49                                                NaN            NaN   \n",
       "\n",
       "                                       foodCategory  ...  \\\n",
       "0   Fruit & Vegetable Juice, Nectars & Fruit Drinks  ...   \n",
       "1   Fruit & Vegetable Juice, Nectars & Fruit Drinks  ...   \n",
       "2   Fruit & Vegetable Juice, Nectars & Fruit Drinks  ...   \n",
       "3   Fruit & Vegetable Juice, Nectars & Fruit Drinks  ...   \n",
       "4   Fruit & Vegetable Juice, Nectars & Fruit Drinks  ...   \n",
       "5   Fruit & Vegetable Juice, Nectars & Fruit Drinks  ...   \n",
       "6   Fruit & Vegetable Juice, Nectars & Fruit Drinks  ...   \n",
       "7   Fruit & Vegetable Juice, Nectars & Fruit Drinks  ...   \n",
       "8   Fruit & Vegetable Juice, Nectars & Fruit Drinks  ...   \n",
       "9   Fruit & Vegetable Juice, Nectars & Fruit Drinks  ...   \n",
       "10  Fruit & Vegetable Juice, Nectars & Fruit Drinks  ...   \n",
       "11  Fruit & Vegetable Juice, Nectars & Fruit Drinks  ...   \n",
       "12  Fruit & Vegetable Juice, Nectars & Fruit Drinks  ...   \n",
       "13          Frozen Fruit & Fruit Juice Concentrates  ...   \n",
       "14  Fruit & Vegetable Juice, Nectars & Fruit Drinks  ...   \n",
       "15  Fruit & Vegetable Juice, Nectars & Fruit Drinks  ...   \n",
       "16          Frozen Fruit & Fruit Juice Concentrates  ...   \n",
       "17  Fruit & Vegetable Juice, Nectars & Fruit Drinks  ...   \n",
       "18  Fruit & Vegetable Juice, Nectars & Fruit Drinks  ...   \n",
       "19  Fruit & Vegetable Juice, Nectars & Fruit Drinks  ...   \n",
       "20  Fruit & Vegetable Juice, Nectars & Fruit Drinks  ...   \n",
       "21  Fruit & Vegetable Juice, Nectars & Fruit Drinks  ...   \n",
       "22  Fruit & Vegetable Juice, Nectars & Fruit Drinks  ...   \n",
       "23  Fruit & Vegetable Juice, Nectars & Fruit Drinks  ...   \n",
       "24  Fruit & Vegetable Juice, Nectars & Fruit Drinks  ...   \n",
       "25  Fruit & Vegetable Juice, Nectars & Fruit Drinks  ...   \n",
       "26  Fruit & Vegetable Juice, Nectars & Fruit Drinks  ...   \n",
       "27  Fruit & Vegetable Juice, Nectars & Fruit Drinks  ...   \n",
       "28  Fruit & Vegetable Juice, Nectars & Fruit Drinks  ...   \n",
       "29  Fruit & Vegetable Juice, Nectars & Fruit Drinks  ...   \n",
       "30  Fruit & Vegetable Juice, Nectars & Fruit Drinks  ...   \n",
       "31  Fruit & Vegetable Juice, Nectars & Fruit Drinks  ...   \n",
       "32  Fruit & Vegetable Juice, Nectars & Fruit Drinks  ...   \n",
       "33  Fruit & Vegetable Juice, Nectars & Fruit Drinks  ...   \n",
       "34  Fruit & Vegetable Juice, Nectars & Fruit Drinks  ...   \n",
       "35  Fruit & Vegetable Juice, Nectars & Fruit Drinks  ...   \n",
       "36                                             Soda  ...   \n",
       "37  Fruit & Vegetable Juice, Nectars & Fruit Drinks  ...   \n",
       "38                                       Baby Foods  ...   \n",
       "39                                       Baby Foods  ...   \n",
       "40                                       Baby Foods  ...   \n",
       "41                                       Baby Foods  ...   \n",
       "42                                       Baby Foods  ...   \n",
       "43                                       Baby Foods  ...   \n",
       "44                                       Baby Foods  ...   \n",
       "45                                        Beverages  ...   \n",
       "46                                     Citrus juice  ...   \n",
       "47                                       Baby juice  ...   \n",
       "48                          Fruits and Fruit Juices  ...   \n",
       "49                          Fruits and Fruit Juices  ...   \n",
       "\n",
       "                                   foodAttributeTypes foodVersionIds  \\\n",
       "0                                                  []             []   \n",
       "1                                                  []             []   \n",
       "2                                                  []             []   \n",
       "3                                                  []             []   \n",
       "4                                                  []             []   \n",
       "5                                                  []             []   \n",
       "6                                                  []             []   \n",
       "7                                                  []             []   \n",
       "8                                                  []             []   \n",
       "9                                                  []             []   \n",
       "10                                                 []             []   \n",
       "11                                                 []             []   \n",
       "12                                                 []             []   \n",
       "13                                                 []             []   \n",
       "14                                                 []             []   \n",
       "15                                                 []             []   \n",
       "16                                                 []             []   \n",
       "17                                                 []             []   \n",
       "18                                                 []             []   \n",
       "19                                                 []             []   \n",
       "20                                                 []             []   \n",
       "21                                                 []             []   \n",
       "22                                                 []             []   \n",
       "23                                                 []             []   \n",
       "24                                                 []             []   \n",
       "25                                                 []             []   \n",
       "26                                                 []             []   \n",
       "27                                                 []             []   \n",
       "28                                                 []             []   \n",
       "29                                                 []             []   \n",
       "30                                                 []             []   \n",
       "31                                                 []             []   \n",
       "32                                                 []             []   \n",
       "33                                                 []             []   \n",
       "34                                                 []             []   \n",
       "35                                                 []             []   \n",
       "36                                                 []             []   \n",
       "37                                                 []             []   \n",
       "38                                                 []             []   \n",
       "39                                                 []             []   \n",
       "40                                                 []             []   \n",
       "41                                                 []             []   \n",
       "42                                                 []             []   \n",
       "43                                                 []             []   \n",
       "44                                                 []             []   \n",
       "45                                                 []             []   \n",
       "46  [{'name': 'Attribute', 'description': 'Generic...             []   \n",
       "47  [{'name': 'Additional Description', 'descripti...             []   \n",
       "48                                                 []             []   \n",
       "49                                                 []             []   \n",
       "\n",
       "             brandName              packageWeight    subbrandName commonNames  \\\n",
       "0                  NaN                        NaN             NaN         NaN   \n",
       "1            FORTUNATA            33.81 fl oz/1 L             NaN         NaN   \n",
       "2        MARKET PANTRY     96 fl oz/3 Quart/2.8 L             NaN         NaN   \n",
       "3        PRAIRIE FARMS  1.75 L/1.85 Quart/59 fl o             NaN         NaN   \n",
       "4   365 EVERYDAY VALUE            64 fl oz/1.89 L             NaN         NaN   \n",
       "5           SE GROCERS             0.5 GAL/1.89 L             NaN         NaN   \n",
       "6             SHURFINE    32 fl oz/1 Quart/946 mL             NaN         NaN   \n",
       "7          GIANT EAGLE  89 fl oz/2.78 Quart/2.63              NaN         NaN   \n",
       "8          GIANT EAGLE                        NaN             NaN         NaN   \n",
       "9                  NaN                        NaN             NaN         NaN   \n",
       "10    NATURE'S PROMISE    32 fl oz/1 Quart/946 mL             NaN         NaN   \n",
       "11           TREE RIPE  59 fl oz/1.85 Quart/1.75              NaN         NaN   \n",
       "12     NATURE'S NECTAR  59 fl oz/1.85 Quart/1.75              NaN         NaN   \n",
       "13         ALWAYS SAVE            12 fl oz/355 mL             NaN         NaN   \n",
       "14       PRICE CHOPPER  59 fl oz/1.8 Quart/1.75 L            PICS         NaN   \n",
       "15          MARKETSIDE            59 fl oz/1.75 L             NaN         NaN   \n",
       "16                 IGA            12 fl oz/355 mL             NaN         NaN   \n",
       "17                 NaN                        NaN             NaN         NaN   \n",
       "18             SPARTAN    12 fl oz/1.5 cup/355 mL             NaN         NaN   \n",
       "19           TREE RIPE  59 fl oz/1.85 Quart/1.75              NaN         NaN   \n",
       "20       CASA CARDENAS            64 fl oz/1.89 L             NaN         NaN   \n",
       "21             WEGMANS       32 FL OZ/1 QT/946 mL             NaN         NaN   \n",
       "22       MARKET PANTRY            59 fl oz/1.75 L             NaN         NaN   \n",
       "23        FIRST STREET               1 GAL/3.78 L             NaN         NaN   \n",
       "24         GIANT EAGLE  2.78 Quart/89 fl oz/2.63              NaN         NaN   \n",
       "25        CREAM-O-LAND             0.5 GAL/1.89 L  SUNSHINE FRESH         NaN   \n",
       "26              DELISH  59 fl oz/1.8 Quart/1.75 L             NaN         NaN   \n",
       "27              DEAN'S             0.5 GAL/1.89 L             NaN         NaN   \n",
       "28       SWISS PREMIUM  59 fl oz/1.8 Quart/1.75 L             NaN         NaN   \n",
       "29        ORCHARD PURE            12 fl oz/355 mL             NaN         NaN   \n",
       "30            SCHNUCKS            0.50 GAL/1.89 L             NaN         NaN   \n",
       "31       MARKET PANTRY     96 fl oz/3 Quart/2.8 L             NaN         NaN   \n",
       "32                 NaN                        NaN             NaN         NaN   \n",
       "33                 NaN                        NaN             NaN         NaN   \n",
       "34        TRADER JOE'S    64 fl oz/2 Quart/1.89 L             NaN         NaN   \n",
       "35         FRESHDIRECT    64 fl oz/2 Quart/1.89 L             NaN         NaN   \n",
       "36               POLAR             67.6 fl oz/2 L             NaN         NaN   \n",
       "37             WEGMANS                        NaN             NaN         NaN   \n",
       "38                 NaN                        NaN             NaN               \n",
       "39                 NaN                        NaN             NaN               \n",
       "40                 NaN                        NaN             NaN               \n",
       "41                 NaN                        NaN             NaN               \n",
       "42                 NaN                        NaN             NaN               \n",
       "43                 NaN                        NaN             NaN               \n",
       "44                 NaN                        NaN             NaN               \n",
       "45                 NaN                        NaN             NaN               \n",
       "46                 NaN                        NaN             NaN               \n",
       "47                 NaN                        NaN             NaN               \n",
       "48                 NaN                        NaN             NaN               \n",
       "49                 NaN                        NaN             NaN               \n",
       "\n",
       "    additionalDescriptions ndbNumber    foodCode foodCategoryId  \n",
       "0                      NaN       NaN         NaN            NaN  \n",
       "1                      NaN       NaN         NaN            NaN  \n",
       "2                      NaN       NaN         NaN            NaN  \n",
       "3                      NaN       NaN         NaN            NaN  \n",
       "4                      NaN       NaN         NaN            NaN  \n",
       "5                      NaN       NaN         NaN            NaN  \n",
       "6                      NaN       NaN         NaN            NaN  \n",
       "7                      NaN       NaN         NaN            NaN  \n",
       "8                      NaN       NaN         NaN            NaN  \n",
       "9                      NaN       NaN         NaN            NaN  \n",
       "10                     NaN       NaN         NaN            NaN  \n",
       "11                     NaN       NaN         NaN            NaN  \n",
       "12                     NaN       NaN         NaN            NaN  \n",
       "13                     NaN       NaN         NaN            NaN  \n",
       "14                     NaN       NaN         NaN            NaN  \n",
       "15                     NaN       NaN         NaN            NaN  \n",
       "16                     NaN       NaN         NaN            NaN  \n",
       "17                     NaN       NaN         NaN            NaN  \n",
       "18                     NaN       NaN         NaN            NaN  \n",
       "19                     NaN       NaN         NaN            NaN  \n",
       "20                     NaN       NaN         NaN            NaN  \n",
       "21                     NaN       NaN         NaN            NaN  \n",
       "22                     NaN       NaN         NaN            NaN  \n",
       "23                     NaN       NaN         NaN            NaN  \n",
       "24                     NaN       NaN         NaN            NaN  \n",
       "25                     NaN       NaN         NaN            NaN  \n",
       "26                     NaN       NaN         NaN            NaN  \n",
       "27                     NaN       NaN         NaN            NaN  \n",
       "28                     NaN       NaN         NaN            NaN  \n",
       "29                     NaN       NaN         NaN            NaN  \n",
       "30                     NaN       NaN         NaN            NaN  \n",
       "31                     NaN       NaN         NaN            NaN  \n",
       "32                     NaN       NaN         NaN            NaN  \n",
       "33                     NaN       NaN         NaN            NaN  \n",
       "34                     NaN       NaN         NaN            NaN  \n",
       "35                     NaN       NaN         NaN            NaN  \n",
       "36                     NaN       NaN         NaN            NaN  \n",
       "37                     NaN       NaN         NaN            NaN  \n",
       "38                            3172.0         NaN            NaN  \n",
       "39                            3173.0         NaN            NaN  \n",
       "40                            3175.0         NaN            NaN  \n",
       "41                            3176.0         NaN            NaN  \n",
       "42                            3177.0         NaN            NaN  \n",
       "43                           42267.0         NaN            NaN  \n",
       "44                            3178.0         NaN            NaN  \n",
       "45                           42270.0         NaN            NaN  \n",
       "46                               NaN  61210000.0       998332.0  \n",
       "47        Gerber;Beech-Nut       NaN  67205000.0       998547.0  \n",
       "48                            9207.0         NaN            NaN  \n",
       "49                            9452.0         NaN            NaN  \n",
       "\n",
       "[50 rows x 31 columns]"
      ]
     },
     "execution_count": 5,
     "metadata": {},
     "output_type": "execute_result"
    }
   ],
   "source": [
    "food_name = \"orange juice\"\n",
    "\n",
    "fdc.search(apikey,food_name)"
   ]
  },
  {
   "cell_type": "code",
   "execution_count": 33,
   "metadata": {},
   "outputs": [
    {
     "data": {
      "text/html": [
       "<div>\n",
       "<style scoped>\n",
       "    .dataframe tbody tr th:only-of-type {\n",
       "        vertical-align: middle;\n",
       "    }\n",
       "\n",
       "    .dataframe tbody tr th {\n",
       "        vertical-align: top;\n",
       "    }\n",
       "\n",
       "    .dataframe thead th {\n",
       "        text-align: right;\n",
       "    }\n",
       "</style>\n",
       "<table border=\"1\" class=\"dataframe\">\n",
       "  <thead>\n",
       "    <tr style=\"text-align: right;\">\n",
       "      <th></th>\n",
       "      <th>Quantity</th>\n",
       "      <th>Units</th>\n",
       "    </tr>\n",
       "  </thead>\n",
       "  <tbody>\n",
       "    <tr>\n",
       "      <th>Iron, Fe</th>\n",
       "      <td>2.25</td>\n",
       "      <td>mg</td>\n",
       "    </tr>\n",
       "    <tr>\n",
       "      <th>Calcium, Ca</th>\n",
       "      <td>0.00</td>\n",
       "      <td>mg</td>\n",
       "    </tr>\n",
       "    <tr>\n",
       "      <th>Vitamin C, total ascorbic acid</th>\n",
       "      <td>0.00</td>\n",
       "      <td>mg</td>\n",
       "    </tr>\n",
       "    <tr>\n",
       "      <th>Cholesterol</th>\n",
       "      <td>0.00</td>\n",
       "      <td>mg</td>\n",
       "    </tr>\n",
       "    <tr>\n",
       "      <th>Vitamin A, IU</th>\n",
       "      <td>0.00</td>\n",
       "      <td>IU</td>\n",
       "    </tr>\n",
       "    <tr>\n",
       "      <th>Total lipid (fat)</th>\n",
       "      <td>50.00</td>\n",
       "      <td>g</td>\n",
       "    </tr>\n",
       "    <tr>\n",
       "      <th>Fatty acids, total trans</th>\n",
       "      <td>0.00</td>\n",
       "      <td>g</td>\n",
       "    </tr>\n",
       "    <tr>\n",
       "      <th>Sugars, total including NLEA</th>\n",
       "      <td>9.38</td>\n",
       "      <td>g</td>\n",
       "    </tr>\n",
       "    <tr>\n",
       "      <th>Carbohydrate, by difference</th>\n",
       "      <td>21.88</td>\n",
       "      <td>g</td>\n",
       "    </tr>\n",
       "    <tr>\n",
       "      <th>Fiber, total dietary</th>\n",
       "      <td>6.20</td>\n",
       "      <td>g</td>\n",
       "    </tr>\n",
       "    <tr>\n",
       "      <th>Sodium, Na</th>\n",
       "      <td>469.00</td>\n",
       "      <td>mg</td>\n",
       "    </tr>\n",
       "    <tr>\n",
       "      <th>Protein</th>\n",
       "      <td>21.88</td>\n",
       "      <td>g</td>\n",
       "    </tr>\n",
       "    <tr>\n",
       "      <th>Energy</th>\n",
       "      <td>625.00</td>\n",
       "      <td>kcal</td>\n",
       "    </tr>\n",
       "    <tr>\n",
       "      <th>Fatty acids, total saturated</th>\n",
       "      <td>10.94</td>\n",
       "      <td>g</td>\n",
       "    </tr>\n",
       "  </tbody>\n",
       "</table>\n",
       "</div>"
      ],
      "text/plain": [
       "                                Quantity Units\n",
       "Iron, Fe                            2.25    mg\n",
       "Calcium, Ca                         0.00    mg\n",
       "Vitamin C, total ascorbic acid      0.00    mg\n",
       "Cholesterol                         0.00    mg\n",
       "Vitamin A, IU                       0.00    IU\n",
       "Total lipid (fat)                  50.00     g\n",
       "Fatty acids, total trans            0.00     g\n",
       "Sugars, total including NLEA        9.38     g\n",
       "Carbohydrate, by difference        21.88     g\n",
       "Fiber, total dietary                6.20     g\n",
       "Sodium, Na                        469.00    mg\n",
       "Protein                            21.88     g\n",
       "Energy                            625.00  kcal\n",
       "Fatty acids, total saturated       10.94     g"
      ]
     },
     "execution_count": 33,
     "metadata": {},
     "output_type": "execute_result"
    }
   ],
   "source": [
    "id =  455481   # Put an FDC ID HERE!\n",
    "\n",
    "fdc.nutrients(apikey,fdc_id=id)"
   ]
  },
  {
   "cell_type": "code",
   "execution_count": 34,
   "metadata": {},
   "outputs": [],
   "source": [
    "SHEETs = [# options: Berkeley, Whole; Berkeley, Prepared; Atlanta, Whole; Atlanta, Prepared \n",
    "          (\"https://docs.google.com/spreadsheets/d/1j38SlusoWvBtohgU-PAondBKihr1tCpjfLcgit7Ic_s/edit#gid=0\",\"Atlanta, Whole\"), \n",
    "         ]"
   ]
  },
  {
   "cell_type": "code",
   "execution_count": 35,
   "metadata": {},
   "outputs": [
    {
     "name": "stdout",
     "output_type": "stream",
     "text": [
      "Key available for students@eep153.iam.gserviceaccount.com.\n"
     ]
    },
    {
     "data": {
      "text/html": [
       "<div>\n",
       "<style scoped>\n",
       "    .dataframe tbody tr th:only-of-type {\n",
       "        vertical-align: middle;\n",
       "    }\n",
       "\n",
       "    .dataframe tbody tr th {\n",
       "        vertical-align: top;\n",
       "    }\n",
       "\n",
       "    .dataframe thead th {\n",
       "        text-align: right;\n",
       "    }\n",
       "</style>\n",
       "<table border=\"1\" class=\"dataframe\">\n",
       "  <thead>\n",
       "    <tr style=\"text-align: right;\">\n",
       "      <th></th>\n",
       "      <th>Food</th>\n",
       "      <th>Quantity</th>\n",
       "      <th>Units</th>\n",
       "      <th>Price</th>\n",
       "      <th>Date</th>\n",
       "      <th>Location</th>\n",
       "      <th>FDC</th>\n",
       "    </tr>\n",
       "  </thead>\n",
       "  <tbody>\n",
       "    <tr>\n",
       "      <th>0</th>\n",
       "      <td>egg</td>\n",
       "      <td>25.50</td>\n",
       "      <td>oz</td>\n",
       "      <td>2.59</td>\n",
       "      <td>[2022-2-23]</td>\n",
       "      <td>Atlanta 30303</td>\n",
       "      <td>748967</td>\n",
       "    </tr>\n",
       "    <tr>\n",
       "      <th>1</th>\n",
       "      <td>banana</td>\n",
       "      <td>2.00</td>\n",
       "      <td>lbs</td>\n",
       "      <td>1.29</td>\n",
       "      <td>[2022-2-23]</td>\n",
       "      <td>Atlanta 30303</td>\n",
       "      <td>1102653</td>\n",
       "    </tr>\n",
       "    <tr>\n",
       "      <th>2</th>\n",
       "      <td>cheddar cheese</td>\n",
       "      <td>8.00</td>\n",
       "      <td>oz</td>\n",
       "      <td>2.19</td>\n",
       "      <td>[2022-2-23]</td>\n",
       "      <td>Atlanta 30303</td>\n",
       "      <td>1098007</td>\n",
       "    </tr>\n",
       "    <tr>\n",
       "      <th>3</th>\n",
       "      <td>chicken breast</td>\n",
       "      <td>1.50</td>\n",
       "      <td>lbs</td>\n",
       "      <td>8.99</td>\n",
       "      <td>[2022-2-23]</td>\n",
       "      <td>Atlanta 30303</td>\n",
       "      <td>1098461</td>\n",
       "    </tr>\n",
       "    <tr>\n",
       "      <th>4</th>\n",
       "      <td>spaghetti noodles</td>\n",
       "      <td>16.00</td>\n",
       "      <td>oz</td>\n",
       "      <td>1.44</td>\n",
       "      <td>[2022-2-23]</td>\n",
       "      <td>Atlanta 30303</td>\n",
       "      <td>1101523</td>\n",
       "    </tr>\n",
       "    <tr>\n",
       "      <th>5</th>\n",
       "      <td>broccoli</td>\n",
       "      <td>12.00</td>\n",
       "      <td>oz</td>\n",
       "      <td>1.59</td>\n",
       "      <td>[2022-2-23]</td>\n",
       "      <td>Atlanta 30303</td>\n",
       "      <td>1103170</td>\n",
       "    </tr>\n",
       "    <tr>\n",
       "      <th>6</th>\n",
       "      <td>carrots</td>\n",
       "      <td>5.00</td>\n",
       "      <td>lbs</td>\n",
       "      <td>4.19</td>\n",
       "      <td>[2022-2-23]</td>\n",
       "      <td>Atlanta 30303</td>\n",
       "      <td>1103193</td>\n",
       "    </tr>\n",
       "    <tr>\n",
       "      <th>7</th>\n",
       "      <td>cucumber</td>\n",
       "      <td>16.00</td>\n",
       "      <td>oz</td>\n",
       "      <td>3.09</td>\n",
       "      <td>[2022-2-23]</td>\n",
       "      <td>Atlanta 30303</td>\n",
       "      <td>1103352</td>\n",
       "    </tr>\n",
       "    <tr>\n",
       "      <th>8</th>\n",
       "      <td>peanut butter</td>\n",
       "      <td>40.00</td>\n",
       "      <td>oz</td>\n",
       "      <td>4.63</td>\n",
       "      <td>[2022-2-23]</td>\n",
       "      <td>Atlanta 30303</td>\n",
       "      <td>1100559</td>\n",
       "    </tr>\n",
       "    <tr>\n",
       "      <th>9</th>\n",
       "      <td>whole milk</td>\n",
       "      <td>128.00</td>\n",
       "      <td>oz</td>\n",
       "      <td>3.19</td>\n",
       "      <td>[2022-2-23]</td>\n",
       "      <td>Atlanta 30303</td>\n",
       "      <td>1097512</td>\n",
       "    </tr>\n",
       "    <tr>\n",
       "      <th>10</th>\n",
       "      <td>almond milk</td>\n",
       "      <td>64.00</td>\n",
       "      <td>oz</td>\n",
       "      <td>3.39</td>\n",
       "      <td>[2022-2-23]</td>\n",
       "      <td>Atlanta 30303</td>\n",
       "      <td>1999631</td>\n",
       "    </tr>\n",
       "    <tr>\n",
       "      <th>11</th>\n",
       "      <td>green peas</td>\n",
       "      <td>12.00</td>\n",
       "      <td>oz</td>\n",
       "      <td>1.19</td>\n",
       "      <td>[2022-2-23]</td>\n",
       "      <td>Atlanta 30303</td>\n",
       "      <td>1103545</td>\n",
       "    </tr>\n",
       "    <tr>\n",
       "      <th>12</th>\n",
       "      <td>cabbage</td>\n",
       "      <td>2.00</td>\n",
       "      <td>lbs</td>\n",
       "      <td>1.79</td>\n",
       "      <td>[2022-2-23]</td>\n",
       "      <td>Atlanta 30303</td>\n",
       "      <td>169975</td>\n",
       "    </tr>\n",
       "    <tr>\n",
       "      <th>13</th>\n",
       "      <td>cauliflower</td>\n",
       "      <td>12.00</td>\n",
       "      <td>oz</td>\n",
       "      <td>1.59</td>\n",
       "      <td>[2022-2-23]</td>\n",
       "      <td>Atlanta 30303</td>\n",
       "      <td>1103345</td>\n",
       "    </tr>\n",
       "    <tr>\n",
       "      <th>14</th>\n",
       "      <td>brown rice</td>\n",
       "      <td>5.00</td>\n",
       "      <td>lbs</td>\n",
       "      <td>4.19</td>\n",
       "      <td>[2022-2-23]</td>\n",
       "      <td>Atlanta 30303</td>\n",
       "      <td>1101619</td>\n",
       "    </tr>\n",
       "    <tr>\n",
       "      <th>15</th>\n",
       "      <td>pork chops</td>\n",
       "      <td>1.00</td>\n",
       "      <td>lbs</td>\n",
       "      <td>5.97</td>\n",
       "      <td>[2022-2-23]</td>\n",
       "      <td>Atlanta 30303</td>\n",
       "      <td>167831</td>\n",
       "    </tr>\n",
       "    <tr>\n",
       "      <th>16</th>\n",
       "      <td>potatoes</td>\n",
       "      <td>1.00</td>\n",
       "      <td>lbs</td>\n",
       "      <td>0.60</td>\n",
       "      <td>[2022-2-23]</td>\n",
       "      <td>Atlanta 30303</td>\n",
       "      <td>1102879</td>\n",
       "    </tr>\n",
       "    <tr>\n",
       "      <th>17</th>\n",
       "      <td>onions</td>\n",
       "      <td>1.00</td>\n",
       "      <td>lbs</td>\n",
       "      <td>0.86</td>\n",
       "      <td>[2022-2-23]</td>\n",
       "      <td>Atlanta 30303</td>\n",
       "      <td>1103364</td>\n",
       "    </tr>\n",
       "    <tr>\n",
       "      <th>18</th>\n",
       "      <td>black beans</td>\n",
       "      <td>1.00</td>\n",
       "      <td>oz</td>\n",
       "      <td>0.05</td>\n",
       "      <td>[2022-2-23]</td>\n",
       "      <td>Atlanta 30303</td>\n",
       "      <td>1100378</td>\n",
       "    </tr>\n",
       "    <tr>\n",
       "      <th>19</th>\n",
       "      <td>corn</td>\n",
       "      <td>1.00</td>\n",
       "      <td>oz</td>\n",
       "      <td>0.05</td>\n",
       "      <td>[2022-2-23]</td>\n",
       "      <td>Atlanta 30303</td>\n",
       "      <td>1103351</td>\n",
       "    </tr>\n",
       "    <tr>\n",
       "      <th>20</th>\n",
       "      <td>tomatoes</td>\n",
       "      <td>1.00</td>\n",
       "      <td>lbs</td>\n",
       "      <td>2.19</td>\n",
       "      <td>[2022-2-23]</td>\n",
       "      <td>Atlanta 30303</td>\n",
       "      <td>1103276</td>\n",
       "    </tr>\n",
       "    <tr>\n",
       "      <th>21</th>\n",
       "      <td>apples</td>\n",
       "      <td>3.00</td>\n",
       "      <td>lbs</td>\n",
       "      <td>4.99</td>\n",
       "      <td>[2022-2-23]</td>\n",
       "      <td>Atlanta 30303</td>\n",
       "      <td>1102644</td>\n",
       "    </tr>\n",
       "    <tr>\n",
       "      <th>22</th>\n",
       "      <td>oranges</td>\n",
       "      <td>4.23</td>\n",
       "      <td>oz</td>\n",
       "      <td>1.39</td>\n",
       "      <td>[2022-2-23]</td>\n",
       "      <td>Atlanta 30303</td>\n",
       "      <td>1102597</td>\n",
       "    </tr>\n",
       "    <tr>\n",
       "      <th>23</th>\n",
       "      <td>strawberries</td>\n",
       "      <td>1.00</td>\n",
       "      <td>oz</td>\n",
       "      <td>0.23</td>\n",
       "      <td>[2022-2-23]</td>\n",
       "      <td>Atlanta 30303</td>\n",
       "      <td>1102710</td>\n",
       "    </tr>\n",
       "    <tr>\n",
       "      <th>24</th>\n",
       "      <td>oats</td>\n",
       "      <td>18.00</td>\n",
       "      <td>oz</td>\n",
       "      <td>2.35</td>\n",
       "      <td>[2022-2-23]</td>\n",
       "      <td>Atlanta 30303</td>\n",
       "      <td>1101825</td>\n",
       "    </tr>\n",
       "    <tr>\n",
       "      <th>25</th>\n",
       "      <td>spinach</td>\n",
       "      <td>16.00</td>\n",
       "      <td>oz</td>\n",
       "      <td>4.99</td>\n",
       "      <td>[2022-2-23]</td>\n",
       "      <td>Atlanta 30303</td>\n",
       "      <td>1103136</td>\n",
       "    </tr>\n",
       "    <tr>\n",
       "      <th>26</th>\n",
       "      <td>tuna</td>\n",
       "      <td>5.00</td>\n",
       "      <td>oz</td>\n",
       "      <td>0.79</td>\n",
       "      <td>[2022-2-23]</td>\n",
       "      <td>Atlanta 30303</td>\n",
       "      <td>1099042</td>\n",
       "    </tr>\n",
       "  </tbody>\n",
       "</table>\n",
       "</div>"
      ],
      "text/plain": [
       "                 Food  Quantity Units  Price         Date       Location  \\\n",
       "0                 egg     25.50    oz   2.59  [2022-2-23]  Atlanta 30303   \n",
       "1              banana      2.00   lbs   1.29  [2022-2-23]  Atlanta 30303   \n",
       "2      cheddar cheese      8.00    oz   2.19  [2022-2-23]  Atlanta 30303   \n",
       "3      chicken breast      1.50   lbs   8.99  [2022-2-23]  Atlanta 30303   \n",
       "4   spaghetti noodles     16.00    oz   1.44  [2022-2-23]  Atlanta 30303   \n",
       "5            broccoli     12.00    oz   1.59  [2022-2-23]  Atlanta 30303   \n",
       "6             carrots      5.00   lbs   4.19  [2022-2-23]  Atlanta 30303   \n",
       "7            cucumber     16.00    oz   3.09  [2022-2-23]  Atlanta 30303   \n",
       "8       peanut butter     40.00    oz   4.63  [2022-2-23]  Atlanta 30303   \n",
       "9          whole milk    128.00    oz   3.19  [2022-2-23]  Atlanta 30303   \n",
       "10        almond milk     64.00    oz   3.39  [2022-2-23]  Atlanta 30303   \n",
       "11         green peas     12.00    oz   1.19  [2022-2-23]  Atlanta 30303   \n",
       "12            cabbage      2.00   lbs   1.79  [2022-2-23]  Atlanta 30303   \n",
       "13        cauliflower     12.00    oz   1.59  [2022-2-23]  Atlanta 30303   \n",
       "14         brown rice      5.00   lbs   4.19  [2022-2-23]  Atlanta 30303   \n",
       "15         pork chops      1.00   lbs   5.97  [2022-2-23]  Atlanta 30303   \n",
       "16           potatoes      1.00   lbs   0.60  [2022-2-23]  Atlanta 30303   \n",
       "17             onions      1.00   lbs   0.86  [2022-2-23]  Atlanta 30303   \n",
       "18        black beans      1.00    oz   0.05  [2022-2-23]  Atlanta 30303   \n",
       "19               corn      1.00    oz   0.05  [2022-2-23]  Atlanta 30303   \n",
       "20           tomatoes      1.00   lbs   2.19  [2022-2-23]  Atlanta 30303   \n",
       "21             apples      3.00   lbs   4.99  [2022-2-23]  Atlanta 30303   \n",
       "22            oranges      4.23    oz   1.39  [2022-2-23]  Atlanta 30303   \n",
       "23       strawberries      1.00    oz   0.23  [2022-2-23]  Atlanta 30303   \n",
       "24               oats     18.00    oz   2.35  [2022-2-23]  Atlanta 30303   \n",
       "25            spinach     16.00    oz   4.99  [2022-2-23]  Atlanta 30303   \n",
       "26               tuna      5.00    oz   0.79  [2022-2-23]  Atlanta 30303   \n",
       "\n",
       "        FDC  \n",
       "0    748967  \n",
       "1   1102653  \n",
       "2   1098007  \n",
       "3   1098461  \n",
       "4   1101523  \n",
       "5   1103170  \n",
       "6   1103193  \n",
       "7   1103352  \n",
       "8   1100559  \n",
       "9   1097512  \n",
       "10  1999631  \n",
       "11  1103545  \n",
       "12   169975  \n",
       "13  1103345  \n",
       "14  1101619  \n",
       "15   167831  \n",
       "16  1102879  \n",
       "17  1103364  \n",
       "18  1100378  \n",
       "19  1103351  \n",
       "20  1103276  \n",
       "21  1102644  \n",
       "22  1102597  \n",
       "23  1102710  \n",
       "24  1101825  \n",
       "25  1103136  \n",
       "26  1099042  "
      ]
     },
     "execution_count": 35,
     "metadata": {},
     "output_type": "execute_result"
    }
   ],
   "source": [
    "df = read_sheets(SHEETs[0][0])[SHEETs[0][1]]\n",
    "df.drop(['Name of person', 'Link'], axis=1)"
   ]
  },
  {
   "cell_type": "code",
   "execution_count": 36,
   "metadata": {},
   "outputs": [],
   "source": [
    "D = {}\n",
    "count = 0\n",
    "for food in df.Food.tolist():\n",
    "    try:\n",
    "        FDC = df.loc[df.Food==food,:].FDC[count]\n",
    "        count+=1\n",
    "        D[food] = fdc.nutrients(apikey,FDC).Quantity\n",
    "    except AttributeError: \n",
    "        warnings.warn(\"Couldn't find FDC Code %s for food %s.\" % (food,FDC))        \n",
    "\n",
    "FoodNutrients = pd.DataFrame(D,dtype=float)"
   ]
  },
  {
   "cell_type": "code",
   "execution_count": 37,
   "metadata": {
    "scrolled": true
   },
   "outputs": [
    {
     "data": {
      "text/html": [
       "<div>\n",
       "<style scoped>\n",
       "    .dataframe tbody tr th:only-of-type {\n",
       "        vertical-align: middle;\n",
       "    }\n",
       "\n",
       "    .dataframe tbody tr th {\n",
       "        vertical-align: top;\n",
       "    }\n",
       "\n",
       "    .dataframe thead th {\n",
       "        text-align: right;\n",
       "    }\n",
       "</style>\n",
       "<table border=\"1\" class=\"dataframe\">\n",
       "  <thead>\n",
       "    <tr style=\"text-align: right;\">\n",
       "      <th></th>\n",
       "      <th>egg</th>\n",
       "      <th>banana</th>\n",
       "      <th>cheddar cheese</th>\n",
       "      <th>chicken breast</th>\n",
       "      <th>spaghetti noodles</th>\n",
       "      <th>broccoli</th>\n",
       "      <th>carrots</th>\n",
       "      <th>cucumber</th>\n",
       "      <th>peanut butter</th>\n",
       "      <th>whole milk</th>\n",
       "      <th>...</th>\n",
       "      <th>onions</th>\n",
       "      <th>black beans</th>\n",
       "      <th>corn</th>\n",
       "      <th>tomatoes</th>\n",
       "      <th>apples</th>\n",
       "      <th>oranges</th>\n",
       "      <th>strawberries</th>\n",
       "      <th>oats</th>\n",
       "      <th>spinach</th>\n",
       "      <th>tuna</th>\n",
       "    </tr>\n",
       "  </thead>\n",
       "  <tbody>\n",
       "    <tr>\n",
       "      <th>Cholesterol</th>\n",
       "      <td>411.0</td>\n",
       "      <td>0.0</td>\n",
       "      <td>100.0</td>\n",
       "      <td>96.0</td>\n",
       "      <td>29.0</td>\n",
       "      <td>0.0</td>\n",
       "      <td>0.0</td>\n",
       "      <td>0.0</td>\n",
       "      <td>0.0</td>\n",
       "      <td>12.0</td>\n",
       "      <td>...</td>\n",
       "      <td>0.0</td>\n",
       "      <td>0.0</td>\n",
       "      <td>0.0</td>\n",
       "      <td>0.0</td>\n",
       "      <td>0.0</td>\n",
       "      <td>0.0</td>\n",
       "      <td>0.0</td>\n",
       "      <td>0.0</td>\n",
       "      <td>0.0</td>\n",
       "      <td>36.0</td>\n",
       "    </tr>\n",
       "  </tbody>\n",
       "</table>\n",
       "<p>1 rows × 27 columns</p>\n",
       "</div>"
      ],
      "text/plain": [
       "               egg  banana  cheddar cheese  chicken breast  spaghetti noodles  \\\n",
       "Cholesterol  411.0     0.0           100.0            96.0               29.0   \n",
       "\n",
       "             broccoli  carrots  cucumber  peanut butter  whole milk  ...  \\\n",
       "Cholesterol       0.0      0.0       0.0            0.0        12.0  ...   \n",
       "\n",
       "             onions  black beans  corn  tomatoes  apples  oranges  \\\n",
       "Cholesterol     0.0          0.0   0.0       0.0     0.0      0.0   \n",
       "\n",
       "             strawberries  oats  spinach  tuna  \n",
       "Cholesterol           0.0   0.0      0.0  36.0  \n",
       "\n",
       "[1 rows x 27 columns]"
      ]
     },
     "execution_count": 37,
     "metadata": {},
     "output_type": "execute_result"
    }
   ],
   "source": [
    "FoodNutrients[FoodNutrients.index == 'Cholesterol']"
   ]
  },
  {
   "cell_type": "code",
   "execution_count": 38,
   "metadata": {},
   "outputs": [
    {
     "name": "stderr",
     "output_type": "stream",
     "text": [
      "/opt/conda/lib/python3.9/site-packages/pandas/core/dtypes/cast.py:1990: UnitStrippedWarning: The unit of the quantity is stripped when downcasting to ndarray.\n",
      "  result[:] = values\n"
     ]
    }
   ],
   "source": [
    "# Convert food quantities to FDC units\n",
    "df['FDC Quantity'] = df[['Quantity','Units']].T.apply(lambda x : fdc.units(x['Quantity'],x['Units']))\n",
    "\n",
    "# Now may want to filter df by time or place--need to get a unique set of food names.\n",
    "df['FDC Price'] = df['Price']/df['FDC Quantity']\n",
    "\n",
    "df.dropna(how='any') # Drop food with any missing data\n",
    "\n",
    "# To use minimum price observed\n",
    "Prices = df.groupby('Food',sort=False)['FDC Price'].min()"
   ]
  },
  {
   "cell_type": "markdown",
   "metadata": {},
   "source": [
    "# Deliverable: Dietary Reference Intakes"
   ]
  },
  {
   "cell_type": "code",
   "execution_count": 12,
   "metadata": {},
   "outputs": [],
   "source": [
    "def DRI(age, sex):\n",
    "    '''\n",
    "    Description: Function that retrieves Dietary Reference Intakes or Recommended Daily Allowances for a\n",
    "        population of interest described by the input characteristics\n",
    "\n",
    "    Inputs:\n",
    "        Age: The age of interest, in years (integer)\n",
    "        Sex: The sex of interest, 'M' or 'F' (string)\n",
    "        \n",
    "    Output: Returns a pandas.Series of DRI or RDA of a variety of nutrients for our population of interest\n",
    "    '''\n",
    "    \n",
    "    # Make a combined dataframe with min and max nutrients\n",
    "    nut_min = pd.read_csv('./diet_minimums.csv').set_index('Nutrition').iloc[:, 2:]\n",
    "    nut_max = pd.read_csv('./diet_maximums.csv').set_index('Nutrition').iloc[:, 2:]\n",
    "    nut = pd.concat([nut_min, -nut_max])\n",
    "    \n",
    "    # Case 1: Child\n",
    "    if age in range(1, 4):\n",
    "        return nut.loc[:,'C 1-3']\n",
    "    \n",
    "    # Case 2: Not a child\n",
    "    # Determine the age-range; Filter data by desired age-range and sex\n",
    "    age_ranges = [[1,4], [4,9], [9,14], [14,19], [19,31], [31,51], [51,1000]]\n",
    "    for r in age_ranges:\n",
    "        if age in range(r[0], r[1]):\n",
    "            return nut.filter(regex = sex).filter(regex = ' ' + str(r[0])).iloc[:, 0]\n",
    "        \n",
    "def grouping(age, sex):\n",
    "    # Case 1: Child\n",
    "    if age in range(1, 4):\n",
    "        return 'C 1-3'\n",
    "    \n",
    "    # Case 2: Not a child\n",
    "    # Determine the age-range; Filter data by desired age-range and sex\n",
    "    age_ranges = [[1,4], [4,9], [9,14], [14,19], [19,31], [31,51], [51,1000]]\n",
    "    for r in age_ranges:\n",
    "        if age in range(r[0], r[1]):\n",
    "            return sex + ' ' + str(r[0]) + '-' + str(r[1]-1)"
   ]
  },
  {
   "cell_type": "markdown",
   "metadata": {},
   "source": [
    "# Deliverable: Subsistence Solver"
   ]
  },
  {
   "cell_type": "code",
   "execution_count": 13,
   "metadata": {},
   "outputs": [],
   "source": [
    "def solve_subsistence_problem(FoodNutrients,Prices,diet_min,diet_max,max_weight=23,tol=1e-6):\n",
    "    \"\"\"Solve Stigler's Subsistence Cost Problem.\n",
    "\n",
    "    Inputs:\n",
    "       - FoodNutrients : A pd.DataFrame with rows corresponding to foods, columns to nutrients.\n",
    "       - Prices : A pd.Series of prices for different foods\n",
    "       - diet_min : A pd.Series of DRIs, with index corresponding to columns of FoodNutrients,\n",
    "                    describing minimum intakes.\n",
    "       - diet_max : A pd.Series of DRIs, with index corresponding to columns of FoodNutrients,\n",
    "                    describing maximum intakes.\n",
    "       - max_weight : Maximum weight (in hectograms) allowed for diet.\n",
    "       - tol : Solution values smaller than this in absolute value treated as zeros.\n",
    "       \n",
    "    \"\"\"\n",
    "    p = Prices.apply(lambda x:x.magnitude).dropna()\n",
    "\n",
    "    # Compile list that we have both prices and nutritional info for; drop if either missing\n",
    "    use = p.index.intersection(FoodNutrients.columns)\n",
    "    p = p[use]\n",
    "\n",
    "    # Drop nutritional information for foods we don't know the price of,\n",
    "    # and replace missing nutrients with zeros.\n",
    "    Aall = FoodNutrients[p.index].fillna(0)\n",
    "\n",
    "    # Drop rows of A that we don't have constraints for.\n",
    "    Amin = Aall.loc[Aall.index.intersection(diet_min.index)]\n",
    "\n",
    "    Amax = Aall.loc[Aall.index.intersection(diet_max.index)]\n",
    "\n",
    "    # Minimum requirements involve multiplying constraint by -1 to make <=.\n",
    "    A = pd.concat([Amin,\n",
    "                   -Amax])\n",
    "\n",
    "    b = pd.concat([diet_min,\n",
    "                   -diet_max]) # Note sign change for max constraints\n",
    "\n",
    "    # Make sure order of p, A, b are consistent\n",
    "    A = A.reindex(p.index,axis=1)\n",
    "    A = A.reindex(b.index,axis=0)\n",
    "\n",
    "    if max_weight is not None:\n",
    "        # Add up weights of foods consumed\n",
    "        A.loc['Hectograms'] = -1\n",
    "        b.loc['Hectograms'] = -max_weight\n",
    "        \n",
    "    # Now solve problem!  (Note that the linear program solver we'll use assumes\n",
    "    # \"less-than-or-equal\" constraints.  We can switch back and forth by\n",
    "    # multiplying $A$ and $b$ by $-1$.)\n",
    "\n",
    "    result = lp(p, -A, -b, method='interior-point')\n",
    "\n",
    "    result.A = A\n",
    "    result.b = b\n",
    "    \n",
    "    if result.success:\n",
    "        result.diet = pd.Series(result.x,index=p.index)\n",
    "    else: # No feasible solution?\n",
    "        warnings.warn(result.message)\n",
    "        result.diet = pd.Series(result.x,index=p.index)*np.nan  \n",
    "\n",
    "    return result"
   ]
  },
  {
   "cell_type": "markdown",
   "metadata": {},
   "source": [
    "## Dietary Requirements\n",
    "\n"
   ]
  },
  {
   "cell_type": "code",
   "execution_count": 39,
   "metadata": {},
   "outputs": [
    {
     "name": "stdout",
     "output_type": "stream",
     "text": [
      "Key available for students@eep153.iam.gserviceaccount.com.\n"
     ]
    }
   ],
   "source": [
    "from eep153_tools.sheets import read_sheets\n",
    "\n",
    "# using Dietary Requirements sheet from class\n",
    "DRI_url = \"https://docs.google.com/spreadsheets/d/1XJRHTnxNJwrUXperIhwrwDp1HcVxPEVoQobYDmjg9Qw/\"\n",
    "\n",
    "DRIs = read_sheets(DRI_url)\n",
    "\n",
    "# Define *minimums*\n",
    "diet_min = DRIs['diet_minimums'].set_index('Nutrition')\n",
    "\n",
    "# Define *maximums*\n",
    "diet_max = DRIs['diet_maximums'].set_index('Nutrition')\n",
    "\n",
    "# diet max but with forgiving values - basically forces the output to tell us the end values for sugar, chol, salt\n",
    "diet_max_forgiving = DRIs['diet_maximums_forgiving'].set_index('Nutrition')"
   ]
  },
  {
   "cell_type": "code",
   "execution_count": 40,
   "metadata": {},
   "outputs": [],
   "source": [
    "# diet_max = diet_max[1:2]"
   ]
  },
  {
   "cell_type": "code",
   "execution_count": 41,
   "metadata": {},
   "outputs": [
    {
     "data": {
      "text/html": [
       "<div>\n",
       "<style scoped>\n",
       "    .dataframe tbody tr th:only-of-type {\n",
       "        vertical-align: middle;\n",
       "    }\n",
       "\n",
       "    .dataframe tbody tr th {\n",
       "        vertical-align: top;\n",
       "    }\n",
       "\n",
       "    .dataframe thead th {\n",
       "        text-align: right;\n",
       "    }\n",
       "</style>\n",
       "<table border=\"1\" class=\"dataframe\">\n",
       "  <thead>\n",
       "    <tr style=\"text-align: right;\">\n",
       "      <th></th>\n",
       "      <th>Source</th>\n",
       "      <th>C 1-3</th>\n",
       "      <th>F 4-8</th>\n",
       "      <th>M 4-8</th>\n",
       "      <th>F 9-13</th>\n",
       "      <th>M 9-13</th>\n",
       "      <th>F 14-18</th>\n",
       "      <th>M 14-18</th>\n",
       "      <th>F 19-30</th>\n",
       "      <th>M 19-30</th>\n",
       "      <th>F 31-50</th>\n",
       "      <th>M 31-50</th>\n",
       "      <th>F 51+</th>\n",
       "      <th>M 51+</th>\n",
       "    </tr>\n",
       "    <tr>\n",
       "      <th>Nutrition</th>\n",
       "      <th></th>\n",
       "      <th></th>\n",
       "      <th></th>\n",
       "      <th></th>\n",
       "      <th></th>\n",
       "      <th></th>\n",
       "      <th></th>\n",
       "      <th></th>\n",
       "      <th></th>\n",
       "      <th></th>\n",
       "      <th></th>\n",
       "      <th></th>\n",
       "      <th></th>\n",
       "      <th></th>\n",
       "    </tr>\n",
       "  </thead>\n",
       "  <tbody>\n",
       "    <tr>\n",
       "      <th>Sodium, Na</th>\n",
       "      <td>UL</td>\n",
       "      <td>1500</td>\n",
       "      <td>1900</td>\n",
       "      <td>1900</td>\n",
       "      <td>2200</td>\n",
       "      <td>2200</td>\n",
       "      <td>2300</td>\n",
       "      <td>2300</td>\n",
       "      <td>2300</td>\n",
       "      <td>2300</td>\n",
       "      <td>2300</td>\n",
       "      <td>2300</td>\n",
       "      <td>2300</td>\n",
       "      <td>2300</td>\n",
       "    </tr>\n",
       "    <tr>\n",
       "      <th>Sugars, total including NLEA</th>\n",
       "      <td>online</td>\n",
       "      <td>36</td>\n",
       "      <td>36</td>\n",
       "      <td>36</td>\n",
       "      <td>36</td>\n",
       "      <td>36</td>\n",
       "      <td>36</td>\n",
       "      <td>36</td>\n",
       "      <td>36</td>\n",
       "      <td>36</td>\n",
       "      <td>36</td>\n",
       "      <td>36</td>\n",
       "      <td>36</td>\n",
       "      <td>36</td>\n",
       "    </tr>\n",
       "    <tr>\n",
       "      <th>Cholesterol</th>\n",
       "      <td>online</td>\n",
       "      <td>300</td>\n",
       "      <td>300</td>\n",
       "      <td>300</td>\n",
       "      <td>300</td>\n",
       "      <td>300</td>\n",
       "      <td>300</td>\n",
       "      <td>300</td>\n",
       "      <td>300</td>\n",
       "      <td>300</td>\n",
       "      <td>300</td>\n",
       "      <td>300</td>\n",
       "      <td>300</td>\n",
       "      <td>300</td>\n",
       "    </tr>\n",
       "  </tbody>\n",
       "</table>\n",
       "</div>"
      ],
      "text/plain": [
       "                              Source  C 1-3  F 4-8  M 4-8  F 9-13  M 9-13  \\\n",
       "Nutrition                                                                   \n",
       "Sodium, Na                        UL   1500   1900   1900    2200    2200   \n",
       "Sugars, total including NLEA  online     36     36     36      36      36   \n",
       "Cholesterol                   online    300    300    300     300     300   \n",
       "\n",
       "                              F 14-18  M 14-18  F 19-30  M 19-30  F 31-50  \\\n",
       "Nutrition                                                                   \n",
       "Sodium, Na                       2300     2300     2300     2300     2300   \n",
       "Sugars, total including NLEA       36       36       36       36       36   \n",
       "Cholesterol                       300      300      300      300      300   \n",
       "\n",
       "                              M 31-50  F 51+  M 51+  \n",
       "Nutrition                                            \n",
       "Sodium, Na                       2300   2300   2300  \n",
       "Sugars, total including NLEA       36     36     36  \n",
       "Cholesterol                       300    300    300  "
      ]
     },
     "execution_count": 41,
     "metadata": {},
     "output_type": "execute_result"
    }
   ],
   "source": [
    "diet_max"
   ]
  },
  {
   "cell_type": "markdown",
   "metadata": {},
   "source": [
    "## Solving for the minimum diet\n"
   ]
  },
  {
   "cell_type": "code",
   "execution_count": 42,
   "metadata": {},
   "outputs": [
    {
     "name": "stdout",
     "output_type": "stream",
     "text": [
      "Cost of diet for M 19-30 is $2.98 per day.\n",
      "\n",
      "\n",
      "Diet (in 100s of grams or milliliters):\n",
      "egg              0.602262\n",
      "carrots          0.646759\n",
      "peanut butter    0.422837\n",
      "whole milk       3.230511\n",
      "almond milk      1.466958\n",
      "cabbage          1.043377\n",
      "potatoes         4.567995\n",
      "black beans      2.864015\n",
      "oats             1.301787\n",
      "dtype: float64\n",
      "\n",
      "\n",
      "With the following nutritional outcomes of interest:\n",
      "                                    Outcome  Recommendation\n",
      "Nutrition                                                  \n",
      "Energy                          2400.000025          2400.0\n",
      "Protein                           81.393140            56.0\n",
      "Fiber, total dietary              54.918780            33.6\n",
      "Folate, DFE                      419.728078           400.0\n",
      "Calcium, Ca                     1000.000022          1000.0\n",
      "Carbohydrate, by difference      289.092622           130.0\n",
      "Iron, Fe                          17.923288             8.0\n",
      "Magnesium, Mg                    582.669615           400.0\n",
      "Niacin                            16.944736            16.0\n",
      "Phosphorus, P                   1882.367630           700.0\n",
      "Potassium, K                    4700.000064          4700.0\n",
      "Riboflavin                         1.686009             1.3\n",
      "Thiamin                            2.008935             1.2\n",
      "Vitamin A, RAE                   900.000212           900.0\n",
      "Vitamin B-12                       2.853882             2.4\n",
      "Vitamin B-6                        2.417297             1.3\n",
      "Vitamin C, total ascorbic acid   108.159510            90.0\n",
      "Vitamin E (alpha-tocopherol)      15.000002            15.0\n",
      "Vitamin K (phylloquinone)        120.000008           120.0\n",
      "Zinc, Zn                          12.020491            11.0\n",
      "Sodium, Na                      2299.999953          2300.0\n",
      "Sugars, total including NLEA      35.999999            36.0\n",
      "Cholesterol                      299.999961           300.0\n",
      "Hectograms                        16.146503            23.0\n",
      "\n",
      "\n",
      "Constraining nutrients are:\n",
      "['Energy', 'Calcium, Ca', 'Potassium, K', 'Vitamin E (alpha-tocopherol)', 'Vitamin K (phylloquinone)', 'Sodium, Na', 'Sugars, total including NLEA', 'Cholesterol']\n"
     ]
    }
   ],
   "source": [
    "group = 'M 19-30'\n",
    "tol = 1e-6\n",
    "\n",
    "result = solve_subsistence_problem(FoodNutrients,Prices,diet_min[group],diet_max[group],tol=tol)\n",
    "\n",
    "print(\"Cost of diet for %s is $%4.2f per day.\\n\" % (group,result.fun))\n",
    "\n",
    "# Put back into nice series\n",
    "diet = result.diet\n",
    "\n",
    "print(\"\\nDiet (in 100s of grams or milliliters):\")\n",
    "print(diet[diet >= tol])  # Drop items with quantities less than precision of calculation.\n",
    "print()\n",
    "\n",
    "tab = pd.DataFrame({\"Outcome\":np.abs(result.A).dot(diet),\"Recommendation\":np.abs(result.b)})\n",
    "print(\"\\nWith the following nutritional outcomes of interest:\")\n",
    "print(tab)\n",
    "print()\n",
    "\n",
    "print(\"\\nConstraining nutrients are:\")\n",
    "excess = tab.diff(axis=1).iloc[:,1]\n",
    "print(excess.loc[np.abs(excess) < tol*100].index.tolist())"
   ]
  },
  {
   "cell_type": "markdown",
   "metadata": {},
   "source": [
    "## Effects of Price Changes on Subsistence Diet Cost\n",
    "\n"
   ]
  },
  {
   "cell_type": "markdown",
   "metadata": {},
   "source": [
    "As prices change, we should expect the minimum cost diet to also\n",
    "  change.  The code below creates a graph which changes prices away\n",
    "  from the \\`base&rsquo; case one food at a time, and plots changes in total\n",
    "  diet cost.\n",
    "\n"
   ]
  },
  {
   "cell_type": "code",
   "execution_count": 43,
   "metadata": {},
   "outputs": [
    {
     "name": "stderr",
     "output_type": "stream",
     "text": [
      "/opt/conda/lib/python3.9/site-packages/geopandas/_compat.py:111: UserWarning:\n",
      "\n",
      "The Shapely GEOS version (3.10.2-CAPI-1.16.0) is incompatible with the GEOS version PyGEOS was compiled with (3.10.1-CAPI-1.16.0). Conversions between both will be slow.\n",
      "\n"
     ]
    },
    {
     "data": {
      "text/html": [
       "        <script type=\"text/javascript\">\n",
       "        window.PlotlyConfig = {MathJaxConfig: 'local'};\n",
       "        if (window.MathJax) {MathJax.Hub.Config({SVG: {font: \"STIX-Web\"}});}\n",
       "        if (typeof require !== 'undefined') {\n",
       "        require.undef(\"plotly\");\n",
       "        requirejs.config({\n",
       "            paths: {\n",
       "                'plotly': ['https://cdn.plot.ly/plotly-2.3.1.min']\n",
       "            }\n",
       "        });\n",
       "        require(['plotly'], function(Plotly) {\n",
       "            window._Plotly = Plotly;\n",
       "        });\n",
       "        }\n",
       "        </script>\n",
       "        "
      ]
     },
     "metadata": {},
     "output_type": "display_data"
    },
    {
     "data": {
      "application/vnd.plotly.v1+json": {
       "config": {
        "linkText": "Export to plot.ly",
        "plotlyServerURL": "https://plot.ly",
        "showLink": true
       },
       "data": [
        {
         "line": {
          "color": "rgba(255, 153, 51, 1.0)",
          "dash": "solid",
          "shape": "linear",
          "width": 1.3
         },
         "mode": "lines",
         "name": "egg",
         "text": "",
         "type": "scatter",
         "x": [
          -0.6931471805599453,
          -0.5108256237659907,
          -0.35667494393873245,
          -0.2231435513142097,
          -0.10536051565782628,
          0,
          0.09531017980432493,
          0.1823215567939546,
          0.26236426446749106,
          0.3364722366212129,
          0.4054651081081644
         ],
         "y": [
          -0.0368662628150693,
          -0.029383489187020058,
          -0.021956285707716315,
          -0.014583835292142454,
          -0.00726533538851077,
          0,
          0.007212941117159163,
          0.014374244361063458,
          0.021484657048409423,
          0.028544933154067618,
          0.035555107213357987
         ]
        },
        {
         "line": {
          "color": "rgba(55, 128, 191, 1.0)",
          "dash": "solid",
          "shape": "linear",
          "width": 1.3
         },
         "mode": "lines",
         "name": "banana",
         "text": "",
         "type": "scatter",
         "x": [
          -0.6931471805599453,
          -0.5108256237659907,
          -0.35667494393873245,
          -0.2231435513142097,
          -0.10536051565782628,
          0,
          0.09531017980432493,
          0.1823215567939546,
          0.26236426446749106,
          0.3364722366212129,
          0.4054651081081644
         ],
         "y": [
          4.048133923848244e-08,
          3.3581290073278694e-08,
          2.4892297912854115e-08,
          1.586851193401962e-08,
          7.411474295684061e-09,
          0,
          -6.166309371029804e-09,
          -9.146105470395817e-09,
          3.753177767868551e-10,
          9.83040977118164e-09,
          1.936333852275156e-08
         ]
        },
        {
         "line": {
          "color": "rgba(50, 171, 96, 1.0)",
          "dash": "solid",
          "shape": "linear",
          "width": 1.3
         },
         "mode": "lines",
         "name": "cheddar cheese",
         "text": "",
         "type": "scatter",
         "x": [
          -0.6931471805599453,
          -0.5108256237659907,
          -0.35667494393873245,
          -0.2231435513142097,
          -0.10536051565782628,
          0,
          0.09531017980432493,
          0.1823215567939546,
          0.26236426446749106,
          0.3364722366212129,
          0.4054651081081644
         ],
         "y": [
          -0.0046168520119869985,
          -0.003364506080364604,
          -0.002113729294669002,
          -0.0008645170183041712,
          -6.504419468648761e-09,
          0,
          -1.2282289162822495e-07,
          -1.3639012283763214e-07,
          -1.4432885184919112e-07,
          -1.4800105526105425e-07,
          -1.4972691852603498e-07
         ]
        },
        {
         "line": {
          "color": "rgba(128, 0, 128, 1.0)",
          "dash": "solid",
          "shape": "linear",
          "width": 1.3
         },
         "mode": "lines",
         "name": "chicken breast",
         "text": "",
         "type": "scatter",
         "x": [
          -0.6931471805599453,
          -0.5108256237659907,
          -0.35667494393873245,
          -0.2231435513142097,
          -0.10536051565782628,
          0,
          0.09531017980432493,
          0.1823215567939546,
          0.26236426446749106,
          0.3364722366212129,
          0.4054651081081644
         ],
         "y": [
          9.094299988103806e-08,
          1.1667417852626717e-08,
          -5.185509812777278e-09,
          -1.7715128077061057e-08,
          -5.581941591206561e-09,
          0,
          1.0240785996460046e-10,
          -1.992893629885929e-09,
          -4.127971306638001e-09,
          -6.416538210254567e-09,
          -8.864446549448702e-09
         ]
        },
        {
         "line": {
          "color": "rgba(219, 64, 82, 1.0)",
          "dash": "solid",
          "shape": "linear",
          "width": 1.3
         },
         "mode": "lines",
         "name": "spaghetti noodles",
         "text": "",
         "type": "scatter",
         "x": [
          -0.6931471805599453,
          -0.5108256237659907,
          -0.35667494393873245,
          -0.2231435513142097,
          -0.10536051565782628,
          0,
          0.09531017980432493,
          0.1823215567939546,
          0.26236426446749106,
          0.3364722366212129,
          0.4054651081081644
         ],
         "y": [
          2.790494086147947e-07,
          8.629370489992885e-08,
          -9.366168662325735e-09,
          -2.38960063133802e-09,
          -1.9679702312396707e-11,
          0,
          -1.2957902537149424e-09,
          -3.3895829533995373e-09,
          -5.9960006029051184e-09,
          -8.942285285598921e-09,
          -8.492586558974417e-09
         ]
        },
        {
         "line": {
          "color": "rgba(0, 128, 128, 1.0)",
          "dash": "solid",
          "shape": "linear",
          "width": 1.3
         },
         "mode": "lines",
         "name": "broccoli",
         "text": "",
         "type": "scatter",
         "x": [
          -0.6931471805599453,
          -0.5108256237659907,
          -0.35667494393873245,
          -0.2231435513142097,
          -0.10536051565782628,
          0,
          0.09531017980432493,
          0.1823215567939546,
          0.26236426446749106,
          0.3364722366212129,
          0.4054651081081644
         ],
         "y": [
          -0.005631195963948308,
          -1.0254208996971593e-07,
          -1.5660118629034638e-07,
          -4.9759185344423116e-08,
          -6.324101675801042e-08,
          0,
          4.782853657234415e-09,
          1.2606762882772808e-07,
          1.8219736569447395e-07,
          1.7333897258476216e-07,
          1.241090997340092e-07
         ]
        },
        {
         "line": {
          "color": "rgba(255, 255, 51, 1.0)",
          "dash": "solid",
          "shape": "linear",
          "width": 1.3
         },
         "mode": "lines",
         "name": "carrots",
         "text": "",
         "type": "scatter",
         "x": [
          -0.6931471805599453,
          -0.5108256237659907,
          -0.35667494393873245,
          -0.2231435513142097,
          -0.10536051565782628,
          0,
          0.09531017980432493,
          0.1823215567939546,
          0.26236426446749106,
          0.3364722366212129,
          0.4054651081081644
         ],
         "y": [
          -0.020246952590975097,
          -0.01616467196686073,
          -0.012098959488397228,
          -0.008049698815975434,
          -0.004016757222518421,
          0,
          0.004000707754728243,
          0.007985502133932908,
          0.011954522275685487,
          0.01590793195333297,
          0.019844885137664095
         ]
        },
        {
         "line": {
          "color": "rgba(128, 128, 0, 1.0)",
          "dash": "solid",
          "shape": "linear",
          "width": 1.3
         },
         "mode": "lines",
         "name": "cucumber",
         "text": "",
         "type": "scatter",
         "x": [
          -0.6931471805599453,
          -0.5108256237659907,
          -0.35667494393873245,
          -0.2231435513142097,
          -0.10536051565782628,
          0,
          0.09531017980432493,
          0.1823215567939546,
          0.26236426446749106,
          0.3364722366212129,
          0.4054651081081644
         ],
         "y": [
          -3.883007457688031e-08,
          -3.471564973574277e-08,
          -4.5674397607825753e-10,
          -6.43464495738709e-08,
          -3.829895551875904e-08,
          0,
          4.952933895818412e-08,
          1.0339177779007947e-07,
          1.5824494905816906e-07,
          2.035817933505423e-07,
          2.4033040223224824e-07
         ]
        },
        {
         "line": {
          "color": "rgba(251, 128, 114, 1.0)",
          "dash": "solid",
          "shape": "linear",
          "width": 1.3
         },
         "mode": "lines",
         "name": "peanut butter",
         "text": "",
         "type": "scatter",
         "x": [
          -0.6931471805599453,
          -0.5108256237659907,
          -0.35667494393873245,
          -0.2231435513142097,
          -0.10536051565782628,
          0,
          0.09531017980432493,
          0.1823215567939546,
          0.26236426446749106,
          0.3364722366212129,
          0.4054651081081644
         ],
         "y": [
          -0.03008340937976892,
          -0.023440508223313103,
          -0.017528784989787907,
          -0.011651703837530355,
          -0.005808573455363832,
          0,
          0.0057751852830681,
          0.01151724891032339,
          0.01722654266349992,
          0.02290342867488969,
          0.028548271198098482
         ]
        },
        {
         "line": {
          "color": "rgba(128, 177, 211, 1.0)",
          "dash": "solid",
          "shape": "linear",
          "width": 1.3
         },
         "mode": "lines",
         "name": "whole milk",
         "text": "",
         "type": "scatter",
         "x": [
          -0.6931471805599453,
          -0.5108256237659907,
          -0.35667494393873245,
          -0.2231435513142097,
          -0.10536051565782628,
          0,
          0.09531017980432493,
          0.1823215567939546,
          0.26236426446749106,
          0.3364722366212129,
          0.4054651081081644
         ],
         "y": [
          -0.04910343934408415,
          -0.03885580537835923,
          -0.02899937144892715,
          -0.019239245199246167,
          -0.009573404446892173,
          0,
          0.00948274932722003,
          0.018876723234851935,
          0.028181812223779797,
          0.037402029045210186,
          0.046396492244684194
         ]
        },
        {
         "line": {
          "color": "rgba(128, 177, 211, 0.8999999999999999)",
          "dash": "solid",
          "shape": "linear",
          "width": 1.3
         },
         "mode": "lines",
         "name": "almond milk",
         "text": "",
         "type": "scatter",
         "x": [
          -0.6931471805599453,
          -0.5108256237659907,
          -0.35667494393873245,
          -0.2231435513142097,
          -0.10536051565782628,
          0,
          0.09531017980432493,
          0.1823215567939546,
          0.26236426446749106,
          0.3364722366212129,
          0.4054651081081644
         ],
         "y": [
          -0.051790459175268796,
          -0.04062216624636506,
          -0.029577215747070663,
          -0.018652944445955486,
          -0.009238072175048727,
          0,
          0.009153302581763004,
          0.018223884055453554,
          0.02721233152335635,
          0.03612105252143592,
          0.04436760149087354
         ]
        },
        {
         "line": {
          "color": "rgba(255, 153, 51, 0.8999999999999999)",
          "dash": "solid",
          "shape": "linear",
          "width": 1.3
         },
         "mode": "lines",
         "name": "green peas",
         "text": "",
         "type": "scatter",
         "x": [
          -0.6931471805599453,
          -0.5108256237659907,
          -0.35667494393873245,
          -0.2231435513142097,
          -0.10536051565782628,
          0,
          0.09531017980432493,
          0.1823215567939546,
          0.26236426446749106,
          0.3364722366212129,
          0.4054651081081644
         ],
         "y": [
          6.733842723189888e-08,
          4.5481625652760315e-08,
          2.93612596588578e-08,
          1.7127133564600595e-08,
          7.598367017800795e-09,
          0,
          -6.1896384875903785e-09,
          -1.1329763080835992e-08,
          -1.5672914422533747e-08,
          -1.9400081507357946e-08,
          -2.264321400480981e-08
         ]
        },
        {
         "line": {
          "color": "rgba(55, 128, 191, 0.8999999999999999)",
          "dash": "solid",
          "shape": "linear",
          "width": 1.3
         },
         "mode": "lines",
         "name": "cabbage",
         "text": "",
         "type": "scatter",
         "x": [
          -0.6931471805599453,
          -0.5108256237659907,
          -0.35667494393873245,
          -0.2231435513142097,
          -0.10536051565782628,
          0,
          0.09531017980432493,
          0.1823215567939546,
          0.26236426446749106,
          0.3364722366212129,
          0.4054651081081644
         ],
         "y": [
          -0.035166639776811996,
          -0.028016083810609733,
          -0.020936861159668564,
          -0.013909974374029627,
          -0.006930865208937687,
          0,
          0.0068829038580900245,
          0.010768608895638807,
          0.014104992175500776,
          0.01692675552415391,
          0.019628882160453786
         ]
        },
        {
         "line": {
          "color": "rgba(50, 171, 96, 0.8999999999999999)",
          "dash": "solid",
          "shape": "linear",
          "width": 1.3
         },
         "mode": "lines",
         "name": "cauliflower",
         "text": "",
         "type": "scatter",
         "x": [
          -0.6931471805599453,
          -0.5108256237659907,
          -0.35667494393873245,
          -0.2231435513142097,
          -0.10536051565782628,
          0,
          0.09531017980432493,
          0.1823215567939546,
          0.26236426446749106,
          0.3364722366212129,
          0.4054651081081644
         ],
         "y": [
          -1.540337491838997e-07,
          -1.1689962381922631e-07,
          3.436655856347859e-08,
          9.332181946967397e-08,
          7.567830764354027e-08,
          0,
          2.8161659631246053e-09,
          -1.3195549295927714e-08,
          -4.015412438789173e-08,
          -6.754306209285797e-08,
          -9.087667087662605e-08
         ]
        },
        {
         "line": {
          "color": "rgba(128, 0, 128, 0.8999999999999999)",
          "dash": "solid",
          "shape": "linear",
          "width": 1.3
         },
         "mode": "lines",
         "name": "brown rice",
         "text": "",
         "type": "scatter",
         "x": [
          -0.6931471805599453,
          -0.5108256237659907,
          -0.35667494393873245,
          -0.2231435513142097,
          -0.10536051565782628,
          0,
          0.09531017980432493,
          0.1823215567939546,
          0.26236426446749106,
          0.3364722366212129,
          0.4054651081081644
         ],
         "y": [
          -1.570861324496972e-07,
          6.520614656158476e-07,
          3.2607855117657985e-07,
          1.5077678168404682e-07,
          5.5102523913250056e-08,
          0,
          -3.379322989694249e-08,
          -5.585416629758921e-08,
          -7.108673391688596e-08,
          -8.211700945544984e-08,
          -9.042407076706314e-08
         ]
        },
        {
         "line": {
          "color": "rgba(219, 64, 82, 0.8999999999999999)",
          "dash": "solid",
          "shape": "linear",
          "width": 1.3
         },
         "mode": "lines",
         "name": "pork chops",
         "text": "",
         "type": "scatter",
         "x": [
          -0.6931471805599453,
          -0.5108256237659907,
          -0.35667494393873245,
          -0.2231435513142097,
          -0.10536051565782628,
          0,
          0.09531017980432493,
          0.1823215567939546,
          0.26236426446749106,
          0.3364722366212129,
          0.4054651081081644
         ],
         "y": [
          -0.006966411519073018,
          -0.0024886817606638106,
          -1.5652797606321672e-07,
          -1.4722932735435448e-07,
          -1.618462588167473e-08,
          0,
          4.928334811520046e-07,
          4.883098863186556e-07,
          -1.5709424696003657e-07,
          -1.5708527580147681e-07,
          -1.5706835688810238e-07
         ]
        },
        {
         "line": {
          "color": "rgba(0, 128, 128, 0.8999999999999999)",
          "dash": "solid",
          "shape": "linear",
          "width": 1.3
         },
         "mode": "lines",
         "name": "potatoes",
         "text": "",
         "type": "scatter",
         "x": [
          -0.6931471805599453,
          -0.5108256237659907,
          -0.35667494393873245,
          -0.2231435513142097,
          -0.10536051565782628,
          0,
          0.09531017980432493,
          0.1823215567939546,
          0.26236426446749106,
          0.3364722366212129,
          0.4054651081081644
         ],
         "y": [
          -0.11551180450970207,
          -0.09096023180691609,
          -0.06699686223128981,
          -0.04359428821092752,
          -0.020726842122301564,
          0,
          0.02006876280246698,
          0.03977648171286191,
          0.05903753484078482,
          0.07446318640999418,
          0.08557395956099072
         ]
        },
        {
         "line": {
          "color": "rgba(255, 255, 51, 0.8999999999999999)",
          "dash": "solid",
          "shape": "linear",
          "width": 1.3
         },
         "mode": "lines",
         "name": "onions",
         "text": "",
         "type": "scatter",
         "x": [
          -0.6931471805599453,
          -0.5108256237659907,
          -0.35667494393873245,
          -0.2231435513142097,
          -0.10536051565782628,
          0,
          0.09531017980432493,
          0.1823215567939546,
          0.26236426446749106,
          0.3364722366212129,
          0.4054651081081644
         ],
         "y": [
          -1.7653358375503034e-08,
          -1.3575777594312525e-08,
          -9.749557098102606e-09,
          -6.262608673494306e-09,
          -3.0415499054540126e-09,
          0,
          2.926002325036867e-09,
          5.776206829481918e-09,
          8.572098105682668e-09,
          1.1323258933000967e-08,
          1.4032059415885714e-08
         ]
        },
        {
         "line": {
          "color": "rgba(128, 128, 0, 0.8999999999999999)",
          "dash": "solid",
          "shape": "linear",
          "width": 1.3
         },
         "mode": "lines",
         "name": "black beans",
         "text": "",
         "type": "scatter",
         "x": [
          -0.6931471805599453,
          -0.5108256237659907,
          -0.35667494393873245,
          -0.2231435513142097,
          -0.10536051565782628,
          0,
          0.09531017980432493,
          0.1823215567939546,
          0.26236426446749106,
          0.3364722366212129,
          0.4054651081081644
         ],
         "y": [
          -0.08853851805759136,
          -0.07019183951877767,
          -0.05217719929789168,
          -0.0344806200327868,
          -0.017091780559637004,
          0,
          0.016804254713665052,
          0.03193628196078518,
          0.0467522001226264,
          0.061351881723049145,
          0.07574175839071287
         ]
        },
        {
         "line": {
          "color": "rgba(251, 128, 114, 0.8999999999999999)",
          "dash": "solid",
          "shape": "linear",
          "width": 1.3
         },
         "mode": "lines",
         "name": "corn",
         "text": "",
         "type": "scatter",
         "x": [
          -0.6931471805599453,
          -0.5108256237659907,
          -0.35667494393873245,
          -0.2231435513142097,
          -0.10536051565782628,
          0,
          0.09531017980432493,
          0.1823215567939546,
          0.26236426446749106,
          0.3364722366212129,
          0.4054651081081644
         ],
         "y": [
          -3.7107597794665404e-08,
          -1.8898929266935988e-08,
          -9.223392536741935e-09,
          -4.254771322101838e-09,
          -1.5897883022678048e-09,
          0,
          1.1561576134222525e-09,
          2.2222894610911156e-09,
          1.1806835883664493e-08,
          2.231175508327556e-08,
          3.195983804270359e-08
         ]
        },
        {
         "line": {
          "color": "rgba(251, 128, 114, 0.7999999999999998)",
          "dash": "solid",
          "shape": "linear",
          "width": 1.3
         },
         "mode": "lines",
         "name": "tomatoes",
         "text": "",
         "type": "scatter",
         "x": [
          -0.6931471805599453,
          -0.5108256237659907,
          -0.35667494393873245,
          -0.2231435513142097,
          -0.10536051565782628,
          0,
          0.09531017980432493,
          0.1823215567939546,
          0.26236426446749106,
          0.3364722366212129,
          0.4054651081081644
         ],
         "y": [
          -6.485838387969419e-08,
          -8.009900652688171e-08,
          -7.853373537882339e-08,
          -6.453938192307734e-08,
          -4.026785663830833e-08,
          0,
          2.9617277746920388e-08,
          4.898774621423126e-08,
          6.059290285798483e-08,
          6.806951459523215e-08,
          7.280505888477558e-08
         ]
        },
        {
         "line": {
          "color": "rgba(128, 177, 211, 0.7999999999999998)",
          "dash": "solid",
          "shape": "linear",
          "width": 1.3
         },
         "mode": "lines",
         "name": "apples",
         "text": "",
         "type": "scatter",
         "x": [
          -0.6931471805599453,
          -0.5108256237659907,
          -0.35667494393873245,
          -0.2231435513142097,
          -0.10536051565782628,
          0,
          0.09531017980432493,
          0.1823215567939546,
          0.26236426446749106,
          0.3364722366212129,
          0.4054651081081644
         ],
         "y": [
          -1.7368488132005264e-08,
          -1.4936534676296784e-08,
          -1.194910721958089e-08,
          -8.443858203877161e-09,
          -4.453201484157054e-09,
          0,
          4.846416367578828e-09,
          9.952395968894924e-09,
          1.5465847149928387e-08,
          2.1400497589300693e-08,
          2.778039693000444e-08
         ]
        },
        {
         "line": {
          "color": "rgba(255, 153, 51, 0.7999999999999998)",
          "dash": "solid",
          "shape": "linear",
          "width": 1.3
         },
         "mode": "lines",
         "name": "oranges",
         "text": "",
         "type": "scatter",
         "x": [
          -0.6931471805599453,
          -0.5108256237659907,
          -0.35667494393873245,
          -0.2231435513142097,
          -0.10536051565782628,
          0,
          0.09531017980432493,
          0.1823215567939546,
          0.26236426446749106,
          0.3364722366212129,
          0.4054651081081644
         ],
         "y": [
          4.837375821533079e-09,
          2.1918296042993314e-09,
          9.45412414574094e-10,
          4.2685166503402634e-10,
          2.2443225053660526e-10,
          0,
          -2.2011470426555065e-10,
          -2.747466698971254e-10,
          6.430916001248351e-09,
          1.8879186258181687e-08,
          3.2035269479162864e-08
         ]
        },
        {
         "line": {
          "color": "rgba(55, 128, 191, 0.7999999999999998)",
          "dash": "solid",
          "shape": "linear",
          "width": 1.3
         },
         "mode": "lines",
         "name": "strawberries",
         "text": "",
         "type": "scatter",
         "x": [
          -0.6931471805599453,
          -0.5108256237659907,
          -0.35667494393873245,
          -0.2231435513142097,
          -0.10536051565782628,
          0,
          0.09531017980432493,
          0.1823215567939546,
          0.26236426446749106,
          0.3364722366212129,
          0.4054651081081644
         ],
         "y": [
          -1.5272526804384618e-08,
          -1.1564349211821719e-08,
          -8.270353214272557e-09,
          -5.257465254758091e-09,
          -2.479431218969789e-09,
          0,
          2.35029462282406e-09,
          4.610318338679846e-09,
          6.81725562564576e-09,
          8.327001053989884e-09,
          9.00422177206496e-09
         ]
        },
        {
         "line": {
          "color": "rgba(50, 171, 96, 0.7999999999999998)",
          "dash": "solid",
          "shape": "linear",
          "width": 1.3
         },
         "mode": "lines",
         "name": "oats",
         "text": "",
         "type": "scatter",
         "x": [
          -0.6931471805599453,
          -0.5108256237659907,
          -0.35667494393873245,
          -0.2231435513142097,
          -0.10536051565782628,
          0,
          0.09531017980432493,
          0.1823215567939546,
          0.26236426446749106,
          0.3364722366212129,
          0.4054651081081644
         ],
         "y": [
          -0.12745368011890762,
          -0.094136791678927,
          -0.06222301637196253,
          -0.0410566042967239,
          -0.02031769835238896,
          0,
          0.019912819207185198,
          0.03926467174820374,
          0.05717942288425458,
          0.07465439731209526,
          0.09182926301982465
         ]
        },
        {
         "line": {
          "color": "rgba(128, 0, 128, 0.7999999999999998)",
          "dash": "solid",
          "shape": "linear",
          "width": 1.3
         },
         "mode": "lines",
         "name": "spinach",
         "text": "",
         "type": "scatter",
         "x": [
          -0.6931471805599453,
          -0.5108256237659907,
          -0.35667494393873245,
          -0.2231435513142097,
          -0.10536051565782628,
          0,
          0.09531017980432493,
          0.1823215567939546,
          0.26236426446749106,
          0.3364722366212129,
          0.4054651081081644
         ],
         "y": [
          -0.012373197874540767,
          -0.008662393949608667,
          -0.005389119995460416,
          -0.0022288663307026358,
          4.147567042341446e-07,
          0,
          -3.410734730636551e-08,
          -5.696990797074413e-08,
          -7.503199809848125e-08,
          -8.812949780818639e-08,
          -9.69397126262218e-08
         ]
        },
        {
         "line": {
          "color": "rgba(219, 64, 82, 0.7999999999999998)",
          "dash": "solid",
          "shape": "linear",
          "width": 1.3
         },
         "mode": "lines",
         "name": "tuna",
         "text": "",
         "type": "scatter",
         "x": [
          -0.6931471805599453,
          -0.5108256237659907,
          -0.35667494393873245,
          -0.2231435513142097,
          -0.10536051565782628,
          0,
          0.09531017980432493,
          0.1823215567939546,
          0.26236426446749106,
          0.3364722366212129,
          0.4054651081081644
         ],
         "y": [
          5.259061868663516e-07,
          3.1177574124980326e-07,
          1.8010281287635105e-07,
          9.59097315536941e-08,
          3.9533517011284123e-08,
          0,
          -2.8944096094656172e-08,
          -5.1287144958293975e-08,
          -6.539688948823214e-08,
          -7.531116536434324e-08,
          -8.334824444913178e-08
         ]
        }
       ],
       "layout": {
        "legend": {
         "bgcolor": "#F5F6F9",
         "font": {
          "color": "#4D5663"
         }
        },
        "paper_bgcolor": "#F5F6F9",
        "plot_bgcolor": "#F5F6F9",
        "template": {
         "data": {
          "bar": [
           {
            "error_x": {
             "color": "#2a3f5f"
            },
            "error_y": {
             "color": "#2a3f5f"
            },
            "marker": {
             "line": {
              "color": "#E5ECF6",
              "width": 0.5
             },
             "pattern": {
              "fillmode": "overlay",
              "size": 10,
              "solidity": 0.2
             }
            },
            "type": "bar"
           }
          ],
          "barpolar": [
           {
            "marker": {
             "line": {
              "color": "#E5ECF6",
              "width": 0.5
             },
             "pattern": {
              "fillmode": "overlay",
              "size": 10,
              "solidity": 0.2
             }
            },
            "type": "barpolar"
           }
          ],
          "carpet": [
           {
            "aaxis": {
             "endlinecolor": "#2a3f5f",
             "gridcolor": "white",
             "linecolor": "white",
             "minorgridcolor": "white",
             "startlinecolor": "#2a3f5f"
            },
            "baxis": {
             "endlinecolor": "#2a3f5f",
             "gridcolor": "white",
             "linecolor": "white",
             "minorgridcolor": "white",
             "startlinecolor": "#2a3f5f"
            },
            "type": "carpet"
           }
          ],
          "choropleth": [
           {
            "colorbar": {
             "outlinewidth": 0,
             "ticks": ""
            },
            "type": "choropleth"
           }
          ],
          "contour": [
           {
            "colorbar": {
             "outlinewidth": 0,
             "ticks": ""
            },
            "colorscale": [
             [
              0,
              "#0d0887"
             ],
             [
              0.1111111111111111,
              "#46039f"
             ],
             [
              0.2222222222222222,
              "#7201a8"
             ],
             [
              0.3333333333333333,
              "#9c179e"
             ],
             [
              0.4444444444444444,
              "#bd3786"
             ],
             [
              0.5555555555555556,
              "#d8576b"
             ],
             [
              0.6666666666666666,
              "#ed7953"
             ],
             [
              0.7777777777777778,
              "#fb9f3a"
             ],
             [
              0.8888888888888888,
              "#fdca26"
             ],
             [
              1,
              "#f0f921"
             ]
            ],
            "type": "contour"
           }
          ],
          "contourcarpet": [
           {
            "colorbar": {
             "outlinewidth": 0,
             "ticks": ""
            },
            "type": "contourcarpet"
           }
          ],
          "heatmap": [
           {
            "colorbar": {
             "outlinewidth": 0,
             "ticks": ""
            },
            "colorscale": [
             [
              0,
              "#0d0887"
             ],
             [
              0.1111111111111111,
              "#46039f"
             ],
             [
              0.2222222222222222,
              "#7201a8"
             ],
             [
              0.3333333333333333,
              "#9c179e"
             ],
             [
              0.4444444444444444,
              "#bd3786"
             ],
             [
              0.5555555555555556,
              "#d8576b"
             ],
             [
              0.6666666666666666,
              "#ed7953"
             ],
             [
              0.7777777777777778,
              "#fb9f3a"
             ],
             [
              0.8888888888888888,
              "#fdca26"
             ],
             [
              1,
              "#f0f921"
             ]
            ],
            "type": "heatmap"
           }
          ],
          "heatmapgl": [
           {
            "colorbar": {
             "outlinewidth": 0,
             "ticks": ""
            },
            "colorscale": [
             [
              0,
              "#0d0887"
             ],
             [
              0.1111111111111111,
              "#46039f"
             ],
             [
              0.2222222222222222,
              "#7201a8"
             ],
             [
              0.3333333333333333,
              "#9c179e"
             ],
             [
              0.4444444444444444,
              "#bd3786"
             ],
             [
              0.5555555555555556,
              "#d8576b"
             ],
             [
              0.6666666666666666,
              "#ed7953"
             ],
             [
              0.7777777777777778,
              "#fb9f3a"
             ],
             [
              0.8888888888888888,
              "#fdca26"
             ],
             [
              1,
              "#f0f921"
             ]
            ],
            "type": "heatmapgl"
           }
          ],
          "histogram": [
           {
            "marker": {
             "pattern": {
              "fillmode": "overlay",
              "size": 10,
              "solidity": 0.2
             }
            },
            "type": "histogram"
           }
          ],
          "histogram2d": [
           {
            "colorbar": {
             "outlinewidth": 0,
             "ticks": ""
            },
            "colorscale": [
             [
              0,
              "#0d0887"
             ],
             [
              0.1111111111111111,
              "#46039f"
             ],
             [
              0.2222222222222222,
              "#7201a8"
             ],
             [
              0.3333333333333333,
              "#9c179e"
             ],
             [
              0.4444444444444444,
              "#bd3786"
             ],
             [
              0.5555555555555556,
              "#d8576b"
             ],
             [
              0.6666666666666666,
              "#ed7953"
             ],
             [
              0.7777777777777778,
              "#fb9f3a"
             ],
             [
              0.8888888888888888,
              "#fdca26"
             ],
             [
              1,
              "#f0f921"
             ]
            ],
            "type": "histogram2d"
           }
          ],
          "histogram2dcontour": [
           {
            "colorbar": {
             "outlinewidth": 0,
             "ticks": ""
            },
            "colorscale": [
             [
              0,
              "#0d0887"
             ],
             [
              0.1111111111111111,
              "#46039f"
             ],
             [
              0.2222222222222222,
              "#7201a8"
             ],
             [
              0.3333333333333333,
              "#9c179e"
             ],
             [
              0.4444444444444444,
              "#bd3786"
             ],
             [
              0.5555555555555556,
              "#d8576b"
             ],
             [
              0.6666666666666666,
              "#ed7953"
             ],
             [
              0.7777777777777778,
              "#fb9f3a"
             ],
             [
              0.8888888888888888,
              "#fdca26"
             ],
             [
              1,
              "#f0f921"
             ]
            ],
            "type": "histogram2dcontour"
           }
          ],
          "mesh3d": [
           {
            "colorbar": {
             "outlinewidth": 0,
             "ticks": ""
            },
            "type": "mesh3d"
           }
          ],
          "parcoords": [
           {
            "line": {
             "colorbar": {
              "outlinewidth": 0,
              "ticks": ""
             }
            },
            "type": "parcoords"
           }
          ],
          "pie": [
           {
            "automargin": true,
            "type": "pie"
           }
          ],
          "scatter": [
           {
            "marker": {
             "colorbar": {
              "outlinewidth": 0,
              "ticks": ""
             }
            },
            "type": "scatter"
           }
          ],
          "scatter3d": [
           {
            "line": {
             "colorbar": {
              "outlinewidth": 0,
              "ticks": ""
             }
            },
            "marker": {
             "colorbar": {
              "outlinewidth": 0,
              "ticks": ""
             }
            },
            "type": "scatter3d"
           }
          ],
          "scattercarpet": [
           {
            "marker": {
             "colorbar": {
              "outlinewidth": 0,
              "ticks": ""
             }
            },
            "type": "scattercarpet"
           }
          ],
          "scattergeo": [
           {
            "marker": {
             "colorbar": {
              "outlinewidth": 0,
              "ticks": ""
             }
            },
            "type": "scattergeo"
           }
          ],
          "scattergl": [
           {
            "marker": {
             "colorbar": {
              "outlinewidth": 0,
              "ticks": ""
             }
            },
            "type": "scattergl"
           }
          ],
          "scattermapbox": [
           {
            "marker": {
             "colorbar": {
              "outlinewidth": 0,
              "ticks": ""
             }
            },
            "type": "scattermapbox"
           }
          ],
          "scatterpolar": [
           {
            "marker": {
             "colorbar": {
              "outlinewidth": 0,
              "ticks": ""
             }
            },
            "type": "scatterpolar"
           }
          ],
          "scatterpolargl": [
           {
            "marker": {
             "colorbar": {
              "outlinewidth": 0,
              "ticks": ""
             }
            },
            "type": "scatterpolargl"
           }
          ],
          "scatterternary": [
           {
            "marker": {
             "colorbar": {
              "outlinewidth": 0,
              "ticks": ""
             }
            },
            "type": "scatterternary"
           }
          ],
          "surface": [
           {
            "colorbar": {
             "outlinewidth": 0,
             "ticks": ""
            },
            "colorscale": [
             [
              0,
              "#0d0887"
             ],
             [
              0.1111111111111111,
              "#46039f"
             ],
             [
              0.2222222222222222,
              "#7201a8"
             ],
             [
              0.3333333333333333,
              "#9c179e"
             ],
             [
              0.4444444444444444,
              "#bd3786"
             ],
             [
              0.5555555555555556,
              "#d8576b"
             ],
             [
              0.6666666666666666,
              "#ed7953"
             ],
             [
              0.7777777777777778,
              "#fb9f3a"
             ],
             [
              0.8888888888888888,
              "#fdca26"
             ],
             [
              1,
              "#f0f921"
             ]
            ],
            "type": "surface"
           }
          ],
          "table": [
           {
            "cells": {
             "fill": {
              "color": "#EBF0F8"
             },
             "line": {
              "color": "white"
             }
            },
            "header": {
             "fill": {
              "color": "#C8D4E3"
             },
             "line": {
              "color": "white"
             }
            },
            "type": "table"
           }
          ]
         },
         "layout": {
          "annotationdefaults": {
           "arrowcolor": "#2a3f5f",
           "arrowhead": 0,
           "arrowwidth": 1
          },
          "autotypenumbers": "strict",
          "coloraxis": {
           "colorbar": {
            "outlinewidth": 0,
            "ticks": ""
           }
          },
          "colorscale": {
           "diverging": [
            [
             0,
             "#8e0152"
            ],
            [
             0.1,
             "#c51b7d"
            ],
            [
             0.2,
             "#de77ae"
            ],
            [
             0.3,
             "#f1b6da"
            ],
            [
             0.4,
             "#fde0ef"
            ],
            [
             0.5,
             "#f7f7f7"
            ],
            [
             0.6,
             "#e6f5d0"
            ],
            [
             0.7,
             "#b8e186"
            ],
            [
             0.8,
             "#7fbc41"
            ],
            [
             0.9,
             "#4d9221"
            ],
            [
             1,
             "#276419"
            ]
           ],
           "sequential": [
            [
             0,
             "#0d0887"
            ],
            [
             0.1111111111111111,
             "#46039f"
            ],
            [
             0.2222222222222222,
             "#7201a8"
            ],
            [
             0.3333333333333333,
             "#9c179e"
            ],
            [
             0.4444444444444444,
             "#bd3786"
            ],
            [
             0.5555555555555556,
             "#d8576b"
            ],
            [
             0.6666666666666666,
             "#ed7953"
            ],
            [
             0.7777777777777778,
             "#fb9f3a"
            ],
            [
             0.8888888888888888,
             "#fdca26"
            ],
            [
             1,
             "#f0f921"
            ]
           ],
           "sequentialminus": [
            [
             0,
             "#0d0887"
            ],
            [
             0.1111111111111111,
             "#46039f"
            ],
            [
             0.2222222222222222,
             "#7201a8"
            ],
            [
             0.3333333333333333,
             "#9c179e"
            ],
            [
             0.4444444444444444,
             "#bd3786"
            ],
            [
             0.5555555555555556,
             "#d8576b"
            ],
            [
             0.6666666666666666,
             "#ed7953"
            ],
            [
             0.7777777777777778,
             "#fb9f3a"
            ],
            [
             0.8888888888888888,
             "#fdca26"
            ],
            [
             1,
             "#f0f921"
            ]
           ]
          },
          "colorway": [
           "#636efa",
           "#EF553B",
           "#00cc96",
           "#ab63fa",
           "#FFA15A",
           "#19d3f3",
           "#FF6692",
           "#B6E880",
           "#FF97FF",
           "#FECB52"
          ],
          "font": {
           "color": "#2a3f5f"
          },
          "geo": {
           "bgcolor": "white",
           "lakecolor": "white",
           "landcolor": "#E5ECF6",
           "showlakes": true,
           "showland": true,
           "subunitcolor": "white"
          },
          "hoverlabel": {
           "align": "left"
          },
          "hovermode": "closest",
          "mapbox": {
           "style": "light"
          },
          "paper_bgcolor": "white",
          "plot_bgcolor": "#E5ECF6",
          "polar": {
           "angularaxis": {
            "gridcolor": "white",
            "linecolor": "white",
            "ticks": ""
           },
           "bgcolor": "#E5ECF6",
           "radialaxis": {
            "gridcolor": "white",
            "linecolor": "white",
            "ticks": ""
           }
          },
          "scene": {
           "xaxis": {
            "backgroundcolor": "#E5ECF6",
            "gridcolor": "white",
            "gridwidth": 2,
            "linecolor": "white",
            "showbackground": true,
            "ticks": "",
            "zerolinecolor": "white"
           },
           "yaxis": {
            "backgroundcolor": "#E5ECF6",
            "gridcolor": "white",
            "gridwidth": 2,
            "linecolor": "white",
            "showbackground": true,
            "ticks": "",
            "zerolinecolor": "white"
           },
           "zaxis": {
            "backgroundcolor": "#E5ECF6",
            "gridcolor": "white",
            "gridwidth": 2,
            "linecolor": "white",
            "showbackground": true,
            "ticks": "",
            "zerolinecolor": "white"
           }
          },
          "shapedefaults": {
           "line": {
            "color": "#2a3f5f"
           }
          },
          "ternary": {
           "aaxis": {
            "gridcolor": "white",
            "linecolor": "white",
            "ticks": ""
           },
           "baxis": {
            "gridcolor": "white",
            "linecolor": "white",
            "ticks": ""
           },
           "bgcolor": "#E5ECF6",
           "caxis": {
            "gridcolor": "white",
            "linecolor": "white",
            "ticks": ""
           }
          },
          "title": {
           "x": 0.05
          },
          "xaxis": {
           "automargin": true,
           "gridcolor": "white",
           "linecolor": "white",
           "ticks": "",
           "title": {
            "standoff": 15
           },
           "zerolinecolor": "white",
           "zerolinewidth": 2
          },
          "yaxis": {
           "automargin": true,
           "gridcolor": "white",
           "linecolor": "white",
           "ticks": "",
           "title": {
            "standoff": 15
           },
           "zerolinecolor": "white",
           "zerolinewidth": 2
          }
         }
        },
        "title": {
         "font": {
          "color": "#4D5663"
         }
        },
        "xaxis": {
         "gridcolor": "#E1E5ED",
         "showgrid": true,
         "tickfont": {
          "color": "#4D5663"
         },
         "title": {
          "font": {
           "color": "#4D5663"
          },
          "text": "change in log price"
         },
         "zerolinecolor": "#E1E5ED"
        },
        "yaxis": {
         "gridcolor": "#E1E5ED",
         "showgrid": true,
         "tickfont": {
          "color": "#4D5663"
         },
         "title": {
          "font": {
           "color": "#4D5663"
          },
          "text": "change in log cost"
         },
         "zerolinecolor": "#E1E5ED"
        }
       }
      },
      "text/html": [
       "<div>                            <div id=\"d9178a2f-2654-413a-8c24-c27abb936f2a\" class=\"plotly-graph-div\" style=\"height:525px; width:100%;\"></div>            <script type=\"text/javascript\">                require([\"plotly\"], function(Plotly) {                    window.PLOTLYENV=window.PLOTLYENV || {};\n",
       "                    window.PLOTLYENV.BASE_URL='https://plot.ly';                                    if (document.getElementById(\"d9178a2f-2654-413a-8c24-c27abb936f2a\")) {                    Plotly.newPlot(                        \"d9178a2f-2654-413a-8c24-c27abb936f2a\",                        [{\"line\":{\"color\":\"rgba(255, 153, 51, 1.0)\",\"dash\":\"solid\",\"shape\":\"linear\",\"width\":1.3},\"mode\":\"lines\",\"name\":\"egg\",\"text\":\"\",\"type\":\"scatter\",\"x\":[-0.6931471805599453,-0.5108256237659907,-0.35667494393873245,-0.2231435513142097,-0.10536051565782628,0.0,0.09531017980432493,0.1823215567939546,0.26236426446749106,0.3364722366212129,0.4054651081081644],\"y\":[-0.0368662628150693,-0.029383489187020058,-0.021956285707716315,-0.014583835292142454,-0.00726533538851077,0.0,0.007212941117159163,0.014374244361063458,0.021484657048409423,0.028544933154067618,0.035555107213357987]},{\"line\":{\"color\":\"rgba(55, 128, 191, 1.0)\",\"dash\":\"solid\",\"shape\":\"linear\",\"width\":1.3},\"mode\":\"lines\",\"name\":\"banana\",\"text\":\"\",\"type\":\"scatter\",\"x\":[-0.6931471805599453,-0.5108256237659907,-0.35667494393873245,-0.2231435513142097,-0.10536051565782628,0.0,0.09531017980432493,0.1823215567939546,0.26236426446749106,0.3364722366212129,0.4054651081081644],\"y\":[4.048133923848244e-08,3.3581290073278694e-08,2.4892297912854115e-08,1.586851193401962e-08,7.411474295684061e-09,0.0,-6.166309371029804e-09,-9.146105470395817e-09,3.753177767868551e-10,9.83040977118164e-09,1.936333852275156e-08]},{\"line\":{\"color\":\"rgba(50, 171, 96, 1.0)\",\"dash\":\"solid\",\"shape\":\"linear\",\"width\":1.3},\"mode\":\"lines\",\"name\":\"cheddar cheese\",\"text\":\"\",\"type\":\"scatter\",\"x\":[-0.6931471805599453,-0.5108256237659907,-0.35667494393873245,-0.2231435513142097,-0.10536051565782628,0.0,0.09531017980432493,0.1823215567939546,0.26236426446749106,0.3364722366212129,0.4054651081081644],\"y\":[-0.0046168520119869985,-0.003364506080364604,-0.002113729294669002,-0.0008645170183041712,-6.504419468648761e-09,0.0,-1.2282289162822495e-07,-1.3639012283763214e-07,-1.4432885184919112e-07,-1.4800105526105425e-07,-1.4972691852603498e-07]},{\"line\":{\"color\":\"rgba(128, 0, 128, 1.0)\",\"dash\":\"solid\",\"shape\":\"linear\",\"width\":1.3},\"mode\":\"lines\",\"name\":\"chicken breast\",\"text\":\"\",\"type\":\"scatter\",\"x\":[-0.6931471805599453,-0.5108256237659907,-0.35667494393873245,-0.2231435513142097,-0.10536051565782628,0.0,0.09531017980432493,0.1823215567939546,0.26236426446749106,0.3364722366212129,0.4054651081081644],\"y\":[9.094299988103806e-08,1.1667417852626717e-08,-5.185509812777278e-09,-1.7715128077061057e-08,-5.581941591206561e-09,0.0,1.0240785996460046e-10,-1.992893629885929e-09,-4.127971306638001e-09,-6.416538210254567e-09,-8.864446549448702e-09]},{\"line\":{\"color\":\"rgba(219, 64, 82, 1.0)\",\"dash\":\"solid\",\"shape\":\"linear\",\"width\":1.3},\"mode\":\"lines\",\"name\":\"spaghetti noodles\",\"text\":\"\",\"type\":\"scatter\",\"x\":[-0.6931471805599453,-0.5108256237659907,-0.35667494393873245,-0.2231435513142097,-0.10536051565782628,0.0,0.09531017980432493,0.1823215567939546,0.26236426446749106,0.3364722366212129,0.4054651081081644],\"y\":[2.790494086147947e-07,8.629370489992885e-08,-9.366168662325735e-09,-2.38960063133802e-09,-1.9679702312396707e-11,0.0,-1.2957902537149424e-09,-3.3895829533995373e-09,-5.9960006029051184e-09,-8.942285285598921e-09,-8.492586558974417e-09]},{\"line\":{\"color\":\"rgba(0, 128, 128, 1.0)\",\"dash\":\"solid\",\"shape\":\"linear\",\"width\":1.3},\"mode\":\"lines\",\"name\":\"broccoli\",\"text\":\"\",\"type\":\"scatter\",\"x\":[-0.6931471805599453,-0.5108256237659907,-0.35667494393873245,-0.2231435513142097,-0.10536051565782628,0.0,0.09531017980432493,0.1823215567939546,0.26236426446749106,0.3364722366212129,0.4054651081081644],\"y\":[-0.005631195963948308,-1.0254208996971593e-07,-1.5660118629034638e-07,-4.9759185344423116e-08,-6.324101675801042e-08,0.0,4.782853657234415e-09,1.2606762882772808e-07,1.8219736569447395e-07,1.7333897258476216e-07,1.241090997340092e-07]},{\"line\":{\"color\":\"rgba(255, 255, 51, 1.0)\",\"dash\":\"solid\",\"shape\":\"linear\",\"width\":1.3},\"mode\":\"lines\",\"name\":\"carrots\",\"text\":\"\",\"type\":\"scatter\",\"x\":[-0.6931471805599453,-0.5108256237659907,-0.35667494393873245,-0.2231435513142097,-0.10536051565782628,0.0,0.09531017980432493,0.1823215567939546,0.26236426446749106,0.3364722366212129,0.4054651081081644],\"y\":[-0.020246952590975097,-0.01616467196686073,-0.012098959488397228,-0.008049698815975434,-0.004016757222518421,0.0,0.004000707754728243,0.007985502133932908,0.011954522275685487,0.01590793195333297,0.019844885137664095]},{\"line\":{\"color\":\"rgba(128, 128, 0, 1.0)\",\"dash\":\"solid\",\"shape\":\"linear\",\"width\":1.3},\"mode\":\"lines\",\"name\":\"cucumber\",\"text\":\"\",\"type\":\"scatter\",\"x\":[-0.6931471805599453,-0.5108256237659907,-0.35667494393873245,-0.2231435513142097,-0.10536051565782628,0.0,0.09531017980432493,0.1823215567939546,0.26236426446749106,0.3364722366212129,0.4054651081081644],\"y\":[-3.883007457688031e-08,-3.471564973574277e-08,-4.5674397607825753e-10,-6.43464495738709e-08,-3.829895551875904e-08,0.0,4.952933895818412e-08,1.0339177779007947e-07,1.5824494905816906e-07,2.035817933505423e-07,2.4033040223224824e-07]},{\"line\":{\"color\":\"rgba(251, 128, 114, 1.0)\",\"dash\":\"solid\",\"shape\":\"linear\",\"width\":1.3},\"mode\":\"lines\",\"name\":\"peanut butter\",\"text\":\"\",\"type\":\"scatter\",\"x\":[-0.6931471805599453,-0.5108256237659907,-0.35667494393873245,-0.2231435513142097,-0.10536051565782628,0.0,0.09531017980432493,0.1823215567939546,0.26236426446749106,0.3364722366212129,0.4054651081081644],\"y\":[-0.03008340937976892,-0.023440508223313103,-0.017528784989787907,-0.011651703837530355,-0.005808573455363832,0.0,0.0057751852830681,0.01151724891032339,0.01722654266349992,0.02290342867488969,0.028548271198098482]},{\"line\":{\"color\":\"rgba(128, 177, 211, 1.0)\",\"dash\":\"solid\",\"shape\":\"linear\",\"width\":1.3},\"mode\":\"lines\",\"name\":\"whole milk\",\"text\":\"\",\"type\":\"scatter\",\"x\":[-0.6931471805599453,-0.5108256237659907,-0.35667494393873245,-0.2231435513142097,-0.10536051565782628,0.0,0.09531017980432493,0.1823215567939546,0.26236426446749106,0.3364722366212129,0.4054651081081644],\"y\":[-0.04910343934408415,-0.03885580537835923,-0.02899937144892715,-0.019239245199246167,-0.009573404446892173,0.0,0.00948274932722003,0.018876723234851935,0.028181812223779797,0.037402029045210186,0.046396492244684194]},{\"line\":{\"color\":\"rgba(128, 177, 211, 0.8999999999999999)\",\"dash\":\"solid\",\"shape\":\"linear\",\"width\":1.3},\"mode\":\"lines\",\"name\":\"almond milk\",\"text\":\"\",\"type\":\"scatter\",\"x\":[-0.6931471805599453,-0.5108256237659907,-0.35667494393873245,-0.2231435513142097,-0.10536051565782628,0.0,0.09531017980432493,0.1823215567939546,0.26236426446749106,0.3364722366212129,0.4054651081081644],\"y\":[-0.051790459175268796,-0.04062216624636506,-0.029577215747070663,-0.018652944445955486,-0.009238072175048727,0.0,0.009153302581763004,0.018223884055453554,0.02721233152335635,0.03612105252143592,0.04436760149087354]},{\"line\":{\"color\":\"rgba(255, 153, 51, 0.8999999999999999)\",\"dash\":\"solid\",\"shape\":\"linear\",\"width\":1.3},\"mode\":\"lines\",\"name\":\"green peas\",\"text\":\"\",\"type\":\"scatter\",\"x\":[-0.6931471805599453,-0.5108256237659907,-0.35667494393873245,-0.2231435513142097,-0.10536051565782628,0.0,0.09531017980432493,0.1823215567939546,0.26236426446749106,0.3364722366212129,0.4054651081081644],\"y\":[6.733842723189888e-08,4.5481625652760315e-08,2.93612596588578e-08,1.7127133564600595e-08,7.598367017800795e-09,0.0,-6.1896384875903785e-09,-1.1329763080835992e-08,-1.5672914422533747e-08,-1.9400081507357946e-08,-2.264321400480981e-08]},{\"line\":{\"color\":\"rgba(55, 128, 191, 0.8999999999999999)\",\"dash\":\"solid\",\"shape\":\"linear\",\"width\":1.3},\"mode\":\"lines\",\"name\":\"cabbage\",\"text\":\"\",\"type\":\"scatter\",\"x\":[-0.6931471805599453,-0.5108256237659907,-0.35667494393873245,-0.2231435513142097,-0.10536051565782628,0.0,0.09531017980432493,0.1823215567939546,0.26236426446749106,0.3364722366212129,0.4054651081081644],\"y\":[-0.035166639776811996,-0.028016083810609733,-0.020936861159668564,-0.013909974374029627,-0.006930865208937687,0.0,0.0068829038580900245,0.010768608895638807,0.014104992175500776,0.01692675552415391,0.019628882160453786]},{\"line\":{\"color\":\"rgba(50, 171, 96, 0.8999999999999999)\",\"dash\":\"solid\",\"shape\":\"linear\",\"width\":1.3},\"mode\":\"lines\",\"name\":\"cauliflower\",\"text\":\"\",\"type\":\"scatter\",\"x\":[-0.6931471805599453,-0.5108256237659907,-0.35667494393873245,-0.2231435513142097,-0.10536051565782628,0.0,0.09531017980432493,0.1823215567939546,0.26236426446749106,0.3364722366212129,0.4054651081081644],\"y\":[-1.540337491838997e-07,-1.1689962381922631e-07,3.436655856347859e-08,9.332181946967397e-08,7.567830764354027e-08,0.0,2.8161659631246053e-09,-1.3195549295927714e-08,-4.015412438789173e-08,-6.754306209285797e-08,-9.087667087662605e-08]},{\"line\":{\"color\":\"rgba(128, 0, 128, 0.8999999999999999)\",\"dash\":\"solid\",\"shape\":\"linear\",\"width\":1.3},\"mode\":\"lines\",\"name\":\"brown rice\",\"text\":\"\",\"type\":\"scatter\",\"x\":[-0.6931471805599453,-0.5108256237659907,-0.35667494393873245,-0.2231435513142097,-0.10536051565782628,0.0,0.09531017980432493,0.1823215567939546,0.26236426446749106,0.3364722366212129,0.4054651081081644],\"y\":[-1.570861324496972e-07,6.520614656158476e-07,3.2607855117657985e-07,1.5077678168404682e-07,5.5102523913250056e-08,0.0,-3.379322989694249e-08,-5.585416629758921e-08,-7.108673391688596e-08,-8.211700945544984e-08,-9.042407076706314e-08]},{\"line\":{\"color\":\"rgba(219, 64, 82, 0.8999999999999999)\",\"dash\":\"solid\",\"shape\":\"linear\",\"width\":1.3},\"mode\":\"lines\",\"name\":\"pork chops\",\"text\":\"\",\"type\":\"scatter\",\"x\":[-0.6931471805599453,-0.5108256237659907,-0.35667494393873245,-0.2231435513142097,-0.10536051565782628,0.0,0.09531017980432493,0.1823215567939546,0.26236426446749106,0.3364722366212129,0.4054651081081644],\"y\":[-0.006966411519073018,-0.0024886817606638106,-1.5652797606321672e-07,-1.4722932735435448e-07,-1.618462588167473e-08,0.0,4.928334811520046e-07,4.883098863186556e-07,-1.5709424696003657e-07,-1.5708527580147681e-07,-1.5706835688810238e-07]},{\"line\":{\"color\":\"rgba(0, 128, 128, 0.8999999999999999)\",\"dash\":\"solid\",\"shape\":\"linear\",\"width\":1.3},\"mode\":\"lines\",\"name\":\"potatoes\",\"text\":\"\",\"type\":\"scatter\",\"x\":[-0.6931471805599453,-0.5108256237659907,-0.35667494393873245,-0.2231435513142097,-0.10536051565782628,0.0,0.09531017980432493,0.1823215567939546,0.26236426446749106,0.3364722366212129,0.4054651081081644],\"y\":[-0.11551180450970207,-0.09096023180691609,-0.06699686223128981,-0.04359428821092752,-0.020726842122301564,0.0,0.02006876280246698,0.03977648171286191,0.05903753484078482,0.07446318640999418,0.08557395956099072]},{\"line\":{\"color\":\"rgba(255, 255, 51, 0.8999999999999999)\",\"dash\":\"solid\",\"shape\":\"linear\",\"width\":1.3},\"mode\":\"lines\",\"name\":\"onions\",\"text\":\"\",\"type\":\"scatter\",\"x\":[-0.6931471805599453,-0.5108256237659907,-0.35667494393873245,-0.2231435513142097,-0.10536051565782628,0.0,0.09531017980432493,0.1823215567939546,0.26236426446749106,0.3364722366212129,0.4054651081081644],\"y\":[-1.7653358375503034e-08,-1.3575777594312525e-08,-9.749557098102606e-09,-6.262608673494306e-09,-3.0415499054540126e-09,0.0,2.926002325036867e-09,5.776206829481918e-09,8.572098105682668e-09,1.1323258933000967e-08,1.4032059415885714e-08]},{\"line\":{\"color\":\"rgba(128, 128, 0, 0.8999999999999999)\",\"dash\":\"solid\",\"shape\":\"linear\",\"width\":1.3},\"mode\":\"lines\",\"name\":\"black beans\",\"text\":\"\",\"type\":\"scatter\",\"x\":[-0.6931471805599453,-0.5108256237659907,-0.35667494393873245,-0.2231435513142097,-0.10536051565782628,0.0,0.09531017980432493,0.1823215567939546,0.26236426446749106,0.3364722366212129,0.4054651081081644],\"y\":[-0.08853851805759136,-0.07019183951877767,-0.05217719929789168,-0.0344806200327868,-0.017091780559637004,0.0,0.016804254713665052,0.03193628196078518,0.0467522001226264,0.061351881723049145,0.07574175839071287]},{\"line\":{\"color\":\"rgba(251, 128, 114, 0.8999999999999999)\",\"dash\":\"solid\",\"shape\":\"linear\",\"width\":1.3},\"mode\":\"lines\",\"name\":\"corn\",\"text\":\"\",\"type\":\"scatter\",\"x\":[-0.6931471805599453,-0.5108256237659907,-0.35667494393873245,-0.2231435513142097,-0.10536051565782628,0.0,0.09531017980432493,0.1823215567939546,0.26236426446749106,0.3364722366212129,0.4054651081081644],\"y\":[-3.7107597794665404e-08,-1.8898929266935988e-08,-9.223392536741935e-09,-4.254771322101838e-09,-1.5897883022678048e-09,0.0,1.1561576134222525e-09,2.2222894610911156e-09,1.1806835883664493e-08,2.231175508327556e-08,3.195983804270359e-08]},{\"line\":{\"color\":\"rgba(251, 128, 114, 0.7999999999999998)\",\"dash\":\"solid\",\"shape\":\"linear\",\"width\":1.3},\"mode\":\"lines\",\"name\":\"tomatoes\",\"text\":\"\",\"type\":\"scatter\",\"x\":[-0.6931471805599453,-0.5108256237659907,-0.35667494393873245,-0.2231435513142097,-0.10536051565782628,0.0,0.09531017980432493,0.1823215567939546,0.26236426446749106,0.3364722366212129,0.4054651081081644],\"y\":[-6.485838387969419e-08,-8.009900652688171e-08,-7.853373537882339e-08,-6.453938192307734e-08,-4.026785663830833e-08,0.0,2.9617277746920388e-08,4.898774621423126e-08,6.059290285798483e-08,6.806951459523215e-08,7.280505888477558e-08]},{\"line\":{\"color\":\"rgba(128, 177, 211, 0.7999999999999998)\",\"dash\":\"solid\",\"shape\":\"linear\",\"width\":1.3},\"mode\":\"lines\",\"name\":\"apples\",\"text\":\"\",\"type\":\"scatter\",\"x\":[-0.6931471805599453,-0.5108256237659907,-0.35667494393873245,-0.2231435513142097,-0.10536051565782628,0.0,0.09531017980432493,0.1823215567939546,0.26236426446749106,0.3364722366212129,0.4054651081081644],\"y\":[-1.7368488132005264e-08,-1.4936534676296784e-08,-1.194910721958089e-08,-8.443858203877161e-09,-4.453201484157054e-09,0.0,4.846416367578828e-09,9.952395968894924e-09,1.5465847149928387e-08,2.1400497589300693e-08,2.778039693000444e-08]},{\"line\":{\"color\":\"rgba(255, 153, 51, 0.7999999999999998)\",\"dash\":\"solid\",\"shape\":\"linear\",\"width\":1.3},\"mode\":\"lines\",\"name\":\"oranges\",\"text\":\"\",\"type\":\"scatter\",\"x\":[-0.6931471805599453,-0.5108256237659907,-0.35667494393873245,-0.2231435513142097,-0.10536051565782628,0.0,0.09531017980432493,0.1823215567939546,0.26236426446749106,0.3364722366212129,0.4054651081081644],\"y\":[4.837375821533079e-09,2.1918296042993314e-09,9.45412414574094e-10,4.2685166503402634e-10,2.2443225053660526e-10,0.0,-2.2011470426555065e-10,-2.747466698971254e-10,6.430916001248351e-09,1.8879186258181687e-08,3.2035269479162864e-08]},{\"line\":{\"color\":\"rgba(55, 128, 191, 0.7999999999999998)\",\"dash\":\"solid\",\"shape\":\"linear\",\"width\":1.3},\"mode\":\"lines\",\"name\":\"strawberries\",\"text\":\"\",\"type\":\"scatter\",\"x\":[-0.6931471805599453,-0.5108256237659907,-0.35667494393873245,-0.2231435513142097,-0.10536051565782628,0.0,0.09531017980432493,0.1823215567939546,0.26236426446749106,0.3364722366212129,0.4054651081081644],\"y\":[-1.5272526804384618e-08,-1.1564349211821719e-08,-8.270353214272557e-09,-5.257465254758091e-09,-2.479431218969789e-09,0.0,2.35029462282406e-09,4.610318338679846e-09,6.81725562564576e-09,8.327001053989884e-09,9.00422177206496e-09]},{\"line\":{\"color\":\"rgba(50, 171, 96, 0.7999999999999998)\",\"dash\":\"solid\",\"shape\":\"linear\",\"width\":1.3},\"mode\":\"lines\",\"name\":\"oats\",\"text\":\"\",\"type\":\"scatter\",\"x\":[-0.6931471805599453,-0.5108256237659907,-0.35667494393873245,-0.2231435513142097,-0.10536051565782628,0.0,0.09531017980432493,0.1823215567939546,0.26236426446749106,0.3364722366212129,0.4054651081081644],\"y\":[-0.12745368011890762,-0.094136791678927,-0.06222301637196253,-0.0410566042967239,-0.02031769835238896,0.0,0.019912819207185198,0.03926467174820374,0.05717942288425458,0.07465439731209526,0.09182926301982465]},{\"line\":{\"color\":\"rgba(128, 0, 128, 0.7999999999999998)\",\"dash\":\"solid\",\"shape\":\"linear\",\"width\":1.3},\"mode\":\"lines\",\"name\":\"spinach\",\"text\":\"\",\"type\":\"scatter\",\"x\":[-0.6931471805599453,-0.5108256237659907,-0.35667494393873245,-0.2231435513142097,-0.10536051565782628,0.0,0.09531017980432493,0.1823215567939546,0.26236426446749106,0.3364722366212129,0.4054651081081644],\"y\":[-0.012373197874540767,-0.008662393949608667,-0.005389119995460416,-0.0022288663307026358,4.147567042341446e-07,0.0,-3.410734730636551e-08,-5.696990797074413e-08,-7.503199809848125e-08,-8.812949780818639e-08,-9.69397126262218e-08]},{\"line\":{\"color\":\"rgba(219, 64, 82, 0.7999999999999998)\",\"dash\":\"solid\",\"shape\":\"linear\",\"width\":1.3},\"mode\":\"lines\",\"name\":\"tuna\",\"text\":\"\",\"type\":\"scatter\",\"x\":[-0.6931471805599453,-0.5108256237659907,-0.35667494393873245,-0.2231435513142097,-0.10536051565782628,0.0,0.09531017980432493,0.1823215567939546,0.26236426446749106,0.3364722366212129,0.4054651081081644],\"y\":[5.259061868663516e-07,3.1177574124980326e-07,1.8010281287635105e-07,9.59097315536941e-08,3.9533517011284123e-08,0.0,-2.8944096094656172e-08,-5.1287144958293975e-08,-6.539688948823214e-08,-7.531116536434324e-08,-8.334824444913178e-08]}],                        {\"legend\":{\"bgcolor\":\"#F5F6F9\",\"font\":{\"color\":\"#4D5663\"}},\"paper_bgcolor\":\"#F5F6F9\",\"plot_bgcolor\":\"#F5F6F9\",\"template\":{\"data\":{\"bar\":[{\"error_x\":{\"color\":\"#2a3f5f\"},\"error_y\":{\"color\":\"#2a3f5f\"},\"marker\":{\"line\":{\"color\":\"#E5ECF6\",\"width\":0.5},\"pattern\":{\"fillmode\":\"overlay\",\"size\":10,\"solidity\":0.2}},\"type\":\"bar\"}],\"barpolar\":[{\"marker\":{\"line\":{\"color\":\"#E5ECF6\",\"width\":0.5},\"pattern\":{\"fillmode\":\"overlay\",\"size\":10,\"solidity\":0.2}},\"type\":\"barpolar\"}],\"carpet\":[{\"aaxis\":{\"endlinecolor\":\"#2a3f5f\",\"gridcolor\":\"white\",\"linecolor\":\"white\",\"minorgridcolor\":\"white\",\"startlinecolor\":\"#2a3f5f\"},\"baxis\":{\"endlinecolor\":\"#2a3f5f\",\"gridcolor\":\"white\",\"linecolor\":\"white\",\"minorgridcolor\":\"white\",\"startlinecolor\":\"#2a3f5f\"},\"type\":\"carpet\"}],\"choropleth\":[{\"colorbar\":{\"outlinewidth\":0,\"ticks\":\"\"},\"type\":\"choropleth\"}],\"contour\":[{\"colorbar\":{\"outlinewidth\":0,\"ticks\":\"\"},\"colorscale\":[[0.0,\"#0d0887\"],[0.1111111111111111,\"#46039f\"],[0.2222222222222222,\"#7201a8\"],[0.3333333333333333,\"#9c179e\"],[0.4444444444444444,\"#bd3786\"],[0.5555555555555556,\"#d8576b\"],[0.6666666666666666,\"#ed7953\"],[0.7777777777777778,\"#fb9f3a\"],[0.8888888888888888,\"#fdca26\"],[1.0,\"#f0f921\"]],\"type\":\"contour\"}],\"contourcarpet\":[{\"colorbar\":{\"outlinewidth\":0,\"ticks\":\"\"},\"type\":\"contourcarpet\"}],\"heatmap\":[{\"colorbar\":{\"outlinewidth\":0,\"ticks\":\"\"},\"colorscale\":[[0.0,\"#0d0887\"],[0.1111111111111111,\"#46039f\"],[0.2222222222222222,\"#7201a8\"],[0.3333333333333333,\"#9c179e\"],[0.4444444444444444,\"#bd3786\"],[0.5555555555555556,\"#d8576b\"],[0.6666666666666666,\"#ed7953\"],[0.7777777777777778,\"#fb9f3a\"],[0.8888888888888888,\"#fdca26\"],[1.0,\"#f0f921\"]],\"type\":\"heatmap\"}],\"heatmapgl\":[{\"colorbar\":{\"outlinewidth\":0,\"ticks\":\"\"},\"colorscale\":[[0.0,\"#0d0887\"],[0.1111111111111111,\"#46039f\"],[0.2222222222222222,\"#7201a8\"],[0.3333333333333333,\"#9c179e\"],[0.4444444444444444,\"#bd3786\"],[0.5555555555555556,\"#d8576b\"],[0.6666666666666666,\"#ed7953\"],[0.7777777777777778,\"#fb9f3a\"],[0.8888888888888888,\"#fdca26\"],[1.0,\"#f0f921\"]],\"type\":\"heatmapgl\"}],\"histogram\":[{\"marker\":{\"pattern\":{\"fillmode\":\"overlay\",\"size\":10,\"solidity\":0.2}},\"type\":\"histogram\"}],\"histogram2d\":[{\"colorbar\":{\"outlinewidth\":0,\"ticks\":\"\"},\"colorscale\":[[0.0,\"#0d0887\"],[0.1111111111111111,\"#46039f\"],[0.2222222222222222,\"#7201a8\"],[0.3333333333333333,\"#9c179e\"],[0.4444444444444444,\"#bd3786\"],[0.5555555555555556,\"#d8576b\"],[0.6666666666666666,\"#ed7953\"],[0.7777777777777778,\"#fb9f3a\"],[0.8888888888888888,\"#fdca26\"],[1.0,\"#f0f921\"]],\"type\":\"histogram2d\"}],\"histogram2dcontour\":[{\"colorbar\":{\"outlinewidth\":0,\"ticks\":\"\"},\"colorscale\":[[0.0,\"#0d0887\"],[0.1111111111111111,\"#46039f\"],[0.2222222222222222,\"#7201a8\"],[0.3333333333333333,\"#9c179e\"],[0.4444444444444444,\"#bd3786\"],[0.5555555555555556,\"#d8576b\"],[0.6666666666666666,\"#ed7953\"],[0.7777777777777778,\"#fb9f3a\"],[0.8888888888888888,\"#fdca26\"],[1.0,\"#f0f921\"]],\"type\":\"histogram2dcontour\"}],\"mesh3d\":[{\"colorbar\":{\"outlinewidth\":0,\"ticks\":\"\"},\"type\":\"mesh3d\"}],\"parcoords\":[{\"line\":{\"colorbar\":{\"outlinewidth\":0,\"ticks\":\"\"}},\"type\":\"parcoords\"}],\"pie\":[{\"automargin\":true,\"type\":\"pie\"}],\"scatter\":[{\"marker\":{\"colorbar\":{\"outlinewidth\":0,\"ticks\":\"\"}},\"type\":\"scatter\"}],\"scatter3d\":[{\"line\":{\"colorbar\":{\"outlinewidth\":0,\"ticks\":\"\"}},\"marker\":{\"colorbar\":{\"outlinewidth\":0,\"ticks\":\"\"}},\"type\":\"scatter3d\"}],\"scattercarpet\":[{\"marker\":{\"colorbar\":{\"outlinewidth\":0,\"ticks\":\"\"}},\"type\":\"scattercarpet\"}],\"scattergeo\":[{\"marker\":{\"colorbar\":{\"outlinewidth\":0,\"ticks\":\"\"}},\"type\":\"scattergeo\"}],\"scattergl\":[{\"marker\":{\"colorbar\":{\"outlinewidth\":0,\"ticks\":\"\"}},\"type\":\"scattergl\"}],\"scattermapbox\":[{\"marker\":{\"colorbar\":{\"outlinewidth\":0,\"ticks\":\"\"}},\"type\":\"scattermapbox\"}],\"scatterpolar\":[{\"marker\":{\"colorbar\":{\"outlinewidth\":0,\"ticks\":\"\"}},\"type\":\"scatterpolar\"}],\"scatterpolargl\":[{\"marker\":{\"colorbar\":{\"outlinewidth\":0,\"ticks\":\"\"}},\"type\":\"scatterpolargl\"}],\"scatterternary\":[{\"marker\":{\"colorbar\":{\"outlinewidth\":0,\"ticks\":\"\"}},\"type\":\"scatterternary\"}],\"surface\":[{\"colorbar\":{\"outlinewidth\":0,\"ticks\":\"\"},\"colorscale\":[[0.0,\"#0d0887\"],[0.1111111111111111,\"#46039f\"],[0.2222222222222222,\"#7201a8\"],[0.3333333333333333,\"#9c179e\"],[0.4444444444444444,\"#bd3786\"],[0.5555555555555556,\"#d8576b\"],[0.6666666666666666,\"#ed7953\"],[0.7777777777777778,\"#fb9f3a\"],[0.8888888888888888,\"#fdca26\"],[1.0,\"#f0f921\"]],\"type\":\"surface\"}],\"table\":[{\"cells\":{\"fill\":{\"color\":\"#EBF0F8\"},\"line\":{\"color\":\"white\"}},\"header\":{\"fill\":{\"color\":\"#C8D4E3\"},\"line\":{\"color\":\"white\"}},\"type\":\"table\"}]},\"layout\":{\"annotationdefaults\":{\"arrowcolor\":\"#2a3f5f\",\"arrowhead\":0,\"arrowwidth\":1},\"autotypenumbers\":\"strict\",\"coloraxis\":{\"colorbar\":{\"outlinewidth\":0,\"ticks\":\"\"}},\"colorscale\":{\"diverging\":[[0,\"#8e0152\"],[0.1,\"#c51b7d\"],[0.2,\"#de77ae\"],[0.3,\"#f1b6da\"],[0.4,\"#fde0ef\"],[0.5,\"#f7f7f7\"],[0.6,\"#e6f5d0\"],[0.7,\"#b8e186\"],[0.8,\"#7fbc41\"],[0.9,\"#4d9221\"],[1,\"#276419\"]],\"sequential\":[[0.0,\"#0d0887\"],[0.1111111111111111,\"#46039f\"],[0.2222222222222222,\"#7201a8\"],[0.3333333333333333,\"#9c179e\"],[0.4444444444444444,\"#bd3786\"],[0.5555555555555556,\"#d8576b\"],[0.6666666666666666,\"#ed7953\"],[0.7777777777777778,\"#fb9f3a\"],[0.8888888888888888,\"#fdca26\"],[1.0,\"#f0f921\"]],\"sequentialminus\":[[0.0,\"#0d0887\"],[0.1111111111111111,\"#46039f\"],[0.2222222222222222,\"#7201a8\"],[0.3333333333333333,\"#9c179e\"],[0.4444444444444444,\"#bd3786\"],[0.5555555555555556,\"#d8576b\"],[0.6666666666666666,\"#ed7953\"],[0.7777777777777778,\"#fb9f3a\"],[0.8888888888888888,\"#fdca26\"],[1.0,\"#f0f921\"]]},\"colorway\":[\"#636efa\",\"#EF553B\",\"#00cc96\",\"#ab63fa\",\"#FFA15A\",\"#19d3f3\",\"#FF6692\",\"#B6E880\",\"#FF97FF\",\"#FECB52\"],\"font\":{\"color\":\"#2a3f5f\"},\"geo\":{\"bgcolor\":\"white\",\"lakecolor\":\"white\",\"landcolor\":\"#E5ECF6\",\"showlakes\":true,\"showland\":true,\"subunitcolor\":\"white\"},\"hoverlabel\":{\"align\":\"left\"},\"hovermode\":\"closest\",\"mapbox\":{\"style\":\"light\"},\"paper_bgcolor\":\"white\",\"plot_bgcolor\":\"#E5ECF6\",\"polar\":{\"angularaxis\":{\"gridcolor\":\"white\",\"linecolor\":\"white\",\"ticks\":\"\"},\"bgcolor\":\"#E5ECF6\",\"radialaxis\":{\"gridcolor\":\"white\",\"linecolor\":\"white\",\"ticks\":\"\"}},\"scene\":{\"xaxis\":{\"backgroundcolor\":\"#E5ECF6\",\"gridcolor\":\"white\",\"gridwidth\":2,\"linecolor\":\"white\",\"showbackground\":true,\"ticks\":\"\",\"zerolinecolor\":\"white\"},\"yaxis\":{\"backgroundcolor\":\"#E5ECF6\",\"gridcolor\":\"white\",\"gridwidth\":2,\"linecolor\":\"white\",\"showbackground\":true,\"ticks\":\"\",\"zerolinecolor\":\"white\"},\"zaxis\":{\"backgroundcolor\":\"#E5ECF6\",\"gridcolor\":\"white\",\"gridwidth\":2,\"linecolor\":\"white\",\"showbackground\":true,\"ticks\":\"\",\"zerolinecolor\":\"white\"}},\"shapedefaults\":{\"line\":{\"color\":\"#2a3f5f\"}},\"ternary\":{\"aaxis\":{\"gridcolor\":\"white\",\"linecolor\":\"white\",\"ticks\":\"\"},\"baxis\":{\"gridcolor\":\"white\",\"linecolor\":\"white\",\"ticks\":\"\"},\"bgcolor\":\"#E5ECF6\",\"caxis\":{\"gridcolor\":\"white\",\"linecolor\":\"white\",\"ticks\":\"\"}},\"title\":{\"x\":0.05},\"xaxis\":{\"automargin\":true,\"gridcolor\":\"white\",\"linecolor\":\"white\",\"ticks\":\"\",\"title\":{\"standoff\":15},\"zerolinecolor\":\"white\",\"zerolinewidth\":2},\"yaxis\":{\"automargin\":true,\"gridcolor\":\"white\",\"linecolor\":\"white\",\"ticks\":\"\",\"title\":{\"standoff\":15},\"zerolinecolor\":\"white\",\"zerolinewidth\":2}}},\"title\":{\"font\":{\"color\":\"#4D5663\"}},\"xaxis\":{\"gridcolor\":\"#E1E5ED\",\"showgrid\":true,\"tickfont\":{\"color\":\"#4D5663\"},\"title\":{\"font\":{\"color\":\"#4D5663\"},\"text\":\"change in log price\"},\"zerolinecolor\":\"#E1E5ED\"},\"yaxis\":{\"gridcolor\":\"#E1E5ED\",\"showgrid\":true,\"tickfont\":{\"color\":\"#4D5663\"},\"title\":{\"font\":{\"color\":\"#4D5663\"},\"text\":\"change in log cost\"},\"zerolinecolor\":\"#E1E5ED\"}},                        {\"showLink\": true, \"linkText\": \"Export to plot.ly\", \"plotlyServerURL\": \"https://plot.ly\", \"responsive\": true}                    ).then(function(){\n",
       "                            \n",
       "var gd = document.getElementById('d9178a2f-2654-413a-8c24-c27abb936f2a');\n",
       "var x = new MutationObserver(function (mutations, observer) {{\n",
       "        var display = window.getComputedStyle(gd).display;\n",
       "        if (!display || display === 'none') {{\n",
       "            console.log([gd, 'removed!']);\n",
       "            Plotly.purge(gd);\n",
       "            observer.disconnect();\n",
       "        }}\n",
       "}});\n",
       "\n",
       "// Listen for the removal of the full notebook cells\n",
       "var notebookContainer = gd.closest('#notebook-container');\n",
       "if (notebookContainer) {{\n",
       "    x.observe(notebookContainer, {childList: true});\n",
       "}}\n",
       "\n",
       "// Listen for the clearing of the current output cell\n",
       "var outputEl = gd.closest('.output');\n",
       "if (outputEl) {{\n",
       "    x.observe(outputEl, {childList: true});\n",
       "}}\n",
       "\n",
       "                        })                };                });            </script>        </div>"
      ]
     },
     "metadata": {},
     "output_type": "display_data"
    }
   ],
   "source": [
    "import cufflinks as cf\n",
    "cf.go_offline()\n",
    "\n",
    "scale = [.5,.6,.7,.8,.9,1.,1.1,1.2,1.3,1.4,1.5]\n",
    "\n",
    "cost0 = solve_subsistence_problem(FoodNutrients,Prices,diet_min[group],diet_max[group],tol=tol).fun\n",
    "\n",
    "Price_response={}\n",
    "for s in scale:\n",
    "    cost = {}\n",
    "    for i,p in enumerate(Prices):\n",
    "        my_p = Prices.copy()\n",
    "        my_p[i] = p*s\n",
    "        result = solve_subsistence_problem(FoodNutrients,my_p,diet_min[group],diet_max[group],tol=tol)\n",
    "        cost[Prices.index[i]] = np.log(result.fun/cost0)\n",
    "    Price_response[np.log(s)] = cost\n",
    "\n",
    "Price_response = pd.DataFrame(Price_response).T\n",
    "Price_response.iplot(xTitle='change in log price',yTitle='change in log cost')"
   ]
  },
  {
   "cell_type": "markdown",
   "metadata": {},
   "source": [
    "## Effects of Price Changes on Subsistence Diet Composition\n",
    "\n"
   ]
  },
  {
   "cell_type": "markdown",
   "metadata": {},
   "source": [
    "The code below creates a graph which changes prices just for *one* food,\n",
    "  and traces out the effects of this change on all the foods consumed.\n",
    "\n"
   ]
  },
  {
   "cell_type": "code",
   "execution_count": 33,
   "metadata": {},
   "outputs": [
    {
     "data": {
      "text/html": [
       "        <script type=\"text/javascript\">\n",
       "        window.PlotlyConfig = {MathJaxConfig: 'local'};\n",
       "        if (window.MathJax) {MathJax.Hub.Config({SVG: {font: \"STIX-Web\"}});}\n",
       "        if (typeof require !== 'undefined') {\n",
       "        require.undef(\"plotly\");\n",
       "        requirejs.config({\n",
       "            paths: {\n",
       "                'plotly': ['https://cdn.plot.ly/plotly-2.3.1.min']\n",
       "            }\n",
       "        });\n",
       "        require(['plotly'], function(Plotly) {\n",
       "            window._Plotly = Plotly;\n",
       "        });\n",
       "        }\n",
       "        </script>\n",
       "        "
      ]
     },
     "metadata": {},
     "output_type": "display_data"
    },
    {
     "data": {
      "application/vnd.plotly.v1+json": {
       "config": {
        "linkText": "Export to plot.ly",
        "plotlyServerURL": "https://plot.ly",
        "showLink": true
       },
       "data": [
        {
         "line": {
          "color": "rgba(255, 153, 51, 1.0)",
          "dash": "solid",
          "shape": "linear",
          "width": 1.3
         },
         "mode": "lines",
         "name": "Egg",
         "text": "",
         "type": "scatter",
         "x": [
          0.07661063610924494,
          0.1149159541638674,
          0.1378991449966409,
          0.15322127221848988,
          0.1685433994403389,
          0.18386552666218786,
          0.19918765388403686,
          0.21450978110588584,
          0.2298319083277348,
          0.30644254443697977,
          0.6128850888739595
         ],
         "y": [
          3.9594190199714863,
          3.959419187929968,
          3.959419191974547,
          3.959418907567879,
          3.959414429086559,
          3.959412084548512,
          3.9594151427374804,
          3.9594181893723923,
          3.9594179750185763,
          3.9594184413358136,
          0.5624365453015756
         ]
        },
        {
         "line": {
          "color": "rgba(55, 128, 191, 1.0)",
          "dash": "solid",
          "shape": "linear",
          "width": 1.3
         },
         "mode": "lines",
         "name": "Banana",
         "text": "",
         "type": "scatter",
         "x": [
          0.07661063610924494,
          0.1149159541638674,
          0.1378991449966409,
          0.15322127221848988,
          0.1685433994403389,
          0.18386552666218786,
          0.19918765388403686,
          0.21450978110588584,
          0.2298319083277348,
          0.30644254443697977,
          0.6128850888739595
         ],
         "y": [
          9.516415910813288,
          9.516415994316432,
          9.516415995302008,
          9.516415880936323,
          9.516409785338277,
          9.516407115142007,
          9.51640834152091,
          9.51641403583343,
          9.516414535414759,
          9.516415724757692,
          1.0432900599339738
         ]
        },
        {
         "line": {
          "color": "rgba(50, 171, 96, 1.0)",
          "dash": "solid",
          "shape": "linear",
          "width": 1.3
         },
         "mode": "lines",
         "name": "spaghetti noodles",
         "text": "",
         "type": "scatter",
         "x": [
          0.07661063610924494,
          0.1149159541638674,
          0.1378991449966409,
          0.15322127221848988,
          0.1685433994403389,
          0.18386552666218786,
          0.19918765388403686,
          0.21450978110588584,
          0.2298319083277348,
          0.30644254443697977,
          0.6128850888739595
         ],
         "y": [
          1.7483139560585704e-08,
          5.813196984763972e-10,
          4.5263745715842574e-10,
          1.0253951586153312e-08,
          1.0834976867890099e-06,
          1.4572038887408863e-06,
          1.2085208915301933e-06,
          2.897466787322252e-07,
          1.6849573545038054e-07,
          7.234051678683043e-09,
          2.2480103637676877e-09
         ]
        },
        {
         "line": {
          "color": "rgba(128, 0, 128, 1.0)",
          "dash": "solid",
          "shape": "linear",
          "width": 1.3
         },
         "mode": "lines",
         "name": "almond milk",
         "text": "",
         "type": "scatter",
         "x": [
          0.07661063610924494,
          0.1149159541638674,
          0.1378991449966409,
          0.15322127221848988,
          0.1685433994403389,
          0.18386552666218786,
          0.19918765388403686,
          0.21450978110588584,
          0.2298319083277348,
          0.30644254443697977,
          0.6128850888739595
         ],
         "y": [
          4.173436623604593,
          4.1734366173510065,
          4.173436617350567,
          4.173436619658644,
          4.173437132292367,
          4.173437300229471,
          4.173437256189399,
          4.1734367630036475,
          4.1734366950825255,
          4.173436613425376,
          4.370901592193514
         ]
        },
        {
         "line": {
          "color": "rgba(219, 64, 82, 1.0)",
          "dash": "solid",
          "shape": "linear",
          "width": 1.3
         },
         "mode": "lines",
         "name": "frozen green peas",
         "text": "",
         "type": "scatter",
         "x": [
          0.07661063610924494,
          0.1149159541638674,
          0.1378991449966409,
          0.15322127221848988,
          0.1685433994403389,
          0.18386552666218786,
          0.19918765388403686,
          0.21450978110588584,
          0.2298319083277348,
          0.30644254443697977,
          0.6128850888739595
         ],
         "y": [
          5.106894729047436,
          5.1068947452881215,
          5.106894742630509,
          5.106894891429078,
          5.1068894578043365,
          5.106888405742012,
          5.106887427219981,
          5.106893161171859,
          5.1068942705396605,
          5.106895318664241,
          9.532039054872945
         ]
        },
        {
         "line": {
          "color": "rgba(0, 128, 128, 1.0)",
          "dash": "solid",
          "shape": "linear",
          "width": 1.3
         },
         "mode": "lines",
         "name": "pork chops",
         "text": "",
         "type": "scatter",
         "x": [
          0.07661063610924494,
          0.1149159541638674,
          0.1378991449966409,
          0.15322127221848988,
          0.1685433994403389,
          0.18386552666218786,
          0.19918765388403686,
          0.21450978110588584,
          0.2298319083277348,
          0.30644254443697977,
          0.6128850888739595
         ],
         "y": [
          0.24383355564261178,
          0.24383344999702702,
          0.24383344842608587,
          0.24383357173142375,
          0.2438380627484981,
          0.2438398382488573,
          0.2438383043471384,
          0.24383458070547648,
          0.24383434782405397,
          0.24383372016489654,
          0.7745802964167765
         ]
        },
        {
         "line": {
          "color": "rgba(255, 255, 51, 1.0)",
          "dash": "solid",
          "shape": "linear",
          "width": 1.3
         },
         "mode": "lines",
         "name": "potatoes",
         "text": "",
         "type": "scatter",
         "x": [
          0.07661063610924494,
          0.1149159541638674,
          0.1378991449966409,
          0.15322127221848988,
          0.1685433994403389,
          0.18386552666218786,
          0.19918765388403686,
          0.21450978110588584,
          0.2298319083277348,
          0.30644254443697977,
          0.6128850888739595
         ],
         "y": [
          2.6647207901979415e-08,
          8.878433633997497e-10,
          7.64750246317753e-10,
          2.253951988875875e-08,
          2.167799029279686e-06,
          3.109923990578631e-06,
          2.8955160961716995e-06,
          7.971754902272597e-07,
          5.298469480650387e-07,
          1.1979796561587819e-08,
          6.716752376129697
         ]
        }
       ],
       "layout": {
        "legend": {
         "bgcolor": "#F5F6F9",
         "font": {
          "color": "#4D5663"
         }
        },
        "paper_bgcolor": "#F5F6F9",
        "plot_bgcolor": "#F5F6F9",
        "template": {
         "data": {
          "bar": [
           {
            "error_x": {
             "color": "#2a3f5f"
            },
            "error_y": {
             "color": "#2a3f5f"
            },
            "marker": {
             "line": {
              "color": "#E5ECF6",
              "width": 0.5
             },
             "pattern": {
              "fillmode": "overlay",
              "size": 10,
              "solidity": 0.2
             }
            },
            "type": "bar"
           }
          ],
          "barpolar": [
           {
            "marker": {
             "line": {
              "color": "#E5ECF6",
              "width": 0.5
             },
             "pattern": {
              "fillmode": "overlay",
              "size": 10,
              "solidity": 0.2
             }
            },
            "type": "barpolar"
           }
          ],
          "carpet": [
           {
            "aaxis": {
             "endlinecolor": "#2a3f5f",
             "gridcolor": "white",
             "linecolor": "white",
             "minorgridcolor": "white",
             "startlinecolor": "#2a3f5f"
            },
            "baxis": {
             "endlinecolor": "#2a3f5f",
             "gridcolor": "white",
             "linecolor": "white",
             "minorgridcolor": "white",
             "startlinecolor": "#2a3f5f"
            },
            "type": "carpet"
           }
          ],
          "choropleth": [
           {
            "colorbar": {
             "outlinewidth": 0,
             "ticks": ""
            },
            "type": "choropleth"
           }
          ],
          "contour": [
           {
            "colorbar": {
             "outlinewidth": 0,
             "ticks": ""
            },
            "colorscale": [
             [
              0,
              "#0d0887"
             ],
             [
              0.1111111111111111,
              "#46039f"
             ],
             [
              0.2222222222222222,
              "#7201a8"
             ],
             [
              0.3333333333333333,
              "#9c179e"
             ],
             [
              0.4444444444444444,
              "#bd3786"
             ],
             [
              0.5555555555555556,
              "#d8576b"
             ],
             [
              0.6666666666666666,
              "#ed7953"
             ],
             [
              0.7777777777777778,
              "#fb9f3a"
             ],
             [
              0.8888888888888888,
              "#fdca26"
             ],
             [
              1,
              "#f0f921"
             ]
            ],
            "type": "contour"
           }
          ],
          "contourcarpet": [
           {
            "colorbar": {
             "outlinewidth": 0,
             "ticks": ""
            },
            "type": "contourcarpet"
           }
          ],
          "heatmap": [
           {
            "colorbar": {
             "outlinewidth": 0,
             "ticks": ""
            },
            "colorscale": [
             [
              0,
              "#0d0887"
             ],
             [
              0.1111111111111111,
              "#46039f"
             ],
             [
              0.2222222222222222,
              "#7201a8"
             ],
             [
              0.3333333333333333,
              "#9c179e"
             ],
             [
              0.4444444444444444,
              "#bd3786"
             ],
             [
              0.5555555555555556,
              "#d8576b"
             ],
             [
              0.6666666666666666,
              "#ed7953"
             ],
             [
              0.7777777777777778,
              "#fb9f3a"
             ],
             [
              0.8888888888888888,
              "#fdca26"
             ],
             [
              1,
              "#f0f921"
             ]
            ],
            "type": "heatmap"
           }
          ],
          "heatmapgl": [
           {
            "colorbar": {
             "outlinewidth": 0,
             "ticks": ""
            },
            "colorscale": [
             [
              0,
              "#0d0887"
             ],
             [
              0.1111111111111111,
              "#46039f"
             ],
             [
              0.2222222222222222,
              "#7201a8"
             ],
             [
              0.3333333333333333,
              "#9c179e"
             ],
             [
              0.4444444444444444,
              "#bd3786"
             ],
             [
              0.5555555555555556,
              "#d8576b"
             ],
             [
              0.6666666666666666,
              "#ed7953"
             ],
             [
              0.7777777777777778,
              "#fb9f3a"
             ],
             [
              0.8888888888888888,
              "#fdca26"
             ],
             [
              1,
              "#f0f921"
             ]
            ],
            "type": "heatmapgl"
           }
          ],
          "histogram": [
           {
            "marker": {
             "pattern": {
              "fillmode": "overlay",
              "size": 10,
              "solidity": 0.2
             }
            },
            "type": "histogram"
           }
          ],
          "histogram2d": [
           {
            "colorbar": {
             "outlinewidth": 0,
             "ticks": ""
            },
            "colorscale": [
             [
              0,
              "#0d0887"
             ],
             [
              0.1111111111111111,
              "#46039f"
             ],
             [
              0.2222222222222222,
              "#7201a8"
             ],
             [
              0.3333333333333333,
              "#9c179e"
             ],
             [
              0.4444444444444444,
              "#bd3786"
             ],
             [
              0.5555555555555556,
              "#d8576b"
             ],
             [
              0.6666666666666666,
              "#ed7953"
             ],
             [
              0.7777777777777778,
              "#fb9f3a"
             ],
             [
              0.8888888888888888,
              "#fdca26"
             ],
             [
              1,
              "#f0f921"
             ]
            ],
            "type": "histogram2d"
           }
          ],
          "histogram2dcontour": [
           {
            "colorbar": {
             "outlinewidth": 0,
             "ticks": ""
            },
            "colorscale": [
             [
              0,
              "#0d0887"
             ],
             [
              0.1111111111111111,
              "#46039f"
             ],
             [
              0.2222222222222222,
              "#7201a8"
             ],
             [
              0.3333333333333333,
              "#9c179e"
             ],
             [
              0.4444444444444444,
              "#bd3786"
             ],
             [
              0.5555555555555556,
              "#d8576b"
             ],
             [
              0.6666666666666666,
              "#ed7953"
             ],
             [
              0.7777777777777778,
              "#fb9f3a"
             ],
             [
              0.8888888888888888,
              "#fdca26"
             ],
             [
              1,
              "#f0f921"
             ]
            ],
            "type": "histogram2dcontour"
           }
          ],
          "mesh3d": [
           {
            "colorbar": {
             "outlinewidth": 0,
             "ticks": ""
            },
            "type": "mesh3d"
           }
          ],
          "parcoords": [
           {
            "line": {
             "colorbar": {
              "outlinewidth": 0,
              "ticks": ""
             }
            },
            "type": "parcoords"
           }
          ],
          "pie": [
           {
            "automargin": true,
            "type": "pie"
           }
          ],
          "scatter": [
           {
            "marker": {
             "colorbar": {
              "outlinewidth": 0,
              "ticks": ""
             }
            },
            "type": "scatter"
           }
          ],
          "scatter3d": [
           {
            "line": {
             "colorbar": {
              "outlinewidth": 0,
              "ticks": ""
             }
            },
            "marker": {
             "colorbar": {
              "outlinewidth": 0,
              "ticks": ""
             }
            },
            "type": "scatter3d"
           }
          ],
          "scattercarpet": [
           {
            "marker": {
             "colorbar": {
              "outlinewidth": 0,
              "ticks": ""
             }
            },
            "type": "scattercarpet"
           }
          ],
          "scattergeo": [
           {
            "marker": {
             "colorbar": {
              "outlinewidth": 0,
              "ticks": ""
             }
            },
            "type": "scattergeo"
           }
          ],
          "scattergl": [
           {
            "marker": {
             "colorbar": {
              "outlinewidth": 0,
              "ticks": ""
             }
            },
            "type": "scattergl"
           }
          ],
          "scattermapbox": [
           {
            "marker": {
             "colorbar": {
              "outlinewidth": 0,
              "ticks": ""
             }
            },
            "type": "scattermapbox"
           }
          ],
          "scatterpolar": [
           {
            "marker": {
             "colorbar": {
              "outlinewidth": 0,
              "ticks": ""
             }
            },
            "type": "scatterpolar"
           }
          ],
          "scatterpolargl": [
           {
            "marker": {
             "colorbar": {
              "outlinewidth": 0,
              "ticks": ""
             }
            },
            "type": "scatterpolargl"
           }
          ],
          "scatterternary": [
           {
            "marker": {
             "colorbar": {
              "outlinewidth": 0,
              "ticks": ""
             }
            },
            "type": "scatterternary"
           }
          ],
          "surface": [
           {
            "colorbar": {
             "outlinewidth": 0,
             "ticks": ""
            },
            "colorscale": [
             [
              0,
              "#0d0887"
             ],
             [
              0.1111111111111111,
              "#46039f"
             ],
             [
              0.2222222222222222,
              "#7201a8"
             ],
             [
              0.3333333333333333,
              "#9c179e"
             ],
             [
              0.4444444444444444,
              "#bd3786"
             ],
             [
              0.5555555555555556,
              "#d8576b"
             ],
             [
              0.6666666666666666,
              "#ed7953"
             ],
             [
              0.7777777777777778,
              "#fb9f3a"
             ],
             [
              0.8888888888888888,
              "#fdca26"
             ],
             [
              1,
              "#f0f921"
             ]
            ],
            "type": "surface"
           }
          ],
          "table": [
           {
            "cells": {
             "fill": {
              "color": "#EBF0F8"
             },
             "line": {
              "color": "white"
             }
            },
            "header": {
             "fill": {
              "color": "#C8D4E3"
             },
             "line": {
              "color": "white"
             }
            },
            "type": "table"
           }
          ]
         },
         "layout": {
          "annotationdefaults": {
           "arrowcolor": "#2a3f5f",
           "arrowhead": 0,
           "arrowwidth": 1
          },
          "autotypenumbers": "strict",
          "coloraxis": {
           "colorbar": {
            "outlinewidth": 0,
            "ticks": ""
           }
          },
          "colorscale": {
           "diverging": [
            [
             0,
             "#8e0152"
            ],
            [
             0.1,
             "#c51b7d"
            ],
            [
             0.2,
             "#de77ae"
            ],
            [
             0.3,
             "#f1b6da"
            ],
            [
             0.4,
             "#fde0ef"
            ],
            [
             0.5,
             "#f7f7f7"
            ],
            [
             0.6,
             "#e6f5d0"
            ],
            [
             0.7,
             "#b8e186"
            ],
            [
             0.8,
             "#7fbc41"
            ],
            [
             0.9,
             "#4d9221"
            ],
            [
             1,
             "#276419"
            ]
           ],
           "sequential": [
            [
             0,
             "#0d0887"
            ],
            [
             0.1111111111111111,
             "#46039f"
            ],
            [
             0.2222222222222222,
             "#7201a8"
            ],
            [
             0.3333333333333333,
             "#9c179e"
            ],
            [
             0.4444444444444444,
             "#bd3786"
            ],
            [
             0.5555555555555556,
             "#d8576b"
            ],
            [
             0.6666666666666666,
             "#ed7953"
            ],
            [
             0.7777777777777778,
             "#fb9f3a"
            ],
            [
             0.8888888888888888,
             "#fdca26"
            ],
            [
             1,
             "#f0f921"
            ]
           ],
           "sequentialminus": [
            [
             0,
             "#0d0887"
            ],
            [
             0.1111111111111111,
             "#46039f"
            ],
            [
             0.2222222222222222,
             "#7201a8"
            ],
            [
             0.3333333333333333,
             "#9c179e"
            ],
            [
             0.4444444444444444,
             "#bd3786"
            ],
            [
             0.5555555555555556,
             "#d8576b"
            ],
            [
             0.6666666666666666,
             "#ed7953"
            ],
            [
             0.7777777777777778,
             "#fb9f3a"
            ],
            [
             0.8888888888888888,
             "#fdca26"
            ],
            [
             1,
             "#f0f921"
            ]
           ]
          },
          "colorway": [
           "#636efa",
           "#EF553B",
           "#00cc96",
           "#ab63fa",
           "#FFA15A",
           "#19d3f3",
           "#FF6692",
           "#B6E880",
           "#FF97FF",
           "#FECB52"
          ],
          "font": {
           "color": "#2a3f5f"
          },
          "geo": {
           "bgcolor": "white",
           "lakecolor": "white",
           "landcolor": "#E5ECF6",
           "showlakes": true,
           "showland": true,
           "subunitcolor": "white"
          },
          "hoverlabel": {
           "align": "left"
          },
          "hovermode": "closest",
          "mapbox": {
           "style": "light"
          },
          "paper_bgcolor": "white",
          "plot_bgcolor": "#E5ECF6",
          "polar": {
           "angularaxis": {
            "gridcolor": "white",
            "linecolor": "white",
            "ticks": ""
           },
           "bgcolor": "#E5ECF6",
           "radialaxis": {
            "gridcolor": "white",
            "linecolor": "white",
            "ticks": ""
           }
          },
          "scene": {
           "xaxis": {
            "backgroundcolor": "#E5ECF6",
            "gridcolor": "white",
            "gridwidth": 2,
            "linecolor": "white",
            "showbackground": true,
            "ticks": "",
            "zerolinecolor": "white"
           },
           "yaxis": {
            "backgroundcolor": "#E5ECF6",
            "gridcolor": "white",
            "gridwidth": 2,
            "linecolor": "white",
            "showbackground": true,
            "ticks": "",
            "zerolinecolor": "white"
           },
           "zaxis": {
            "backgroundcolor": "#E5ECF6",
            "gridcolor": "white",
            "gridwidth": 2,
            "linecolor": "white",
            "showbackground": true,
            "ticks": "",
            "zerolinecolor": "white"
           }
          },
          "shapedefaults": {
           "line": {
            "color": "#2a3f5f"
           }
          },
          "ternary": {
           "aaxis": {
            "gridcolor": "white",
            "linecolor": "white",
            "ticks": ""
           },
           "baxis": {
            "gridcolor": "white",
            "linecolor": "white",
            "ticks": ""
           },
           "bgcolor": "#E5ECF6",
           "caxis": {
            "gridcolor": "white",
            "linecolor": "white",
            "ticks": ""
           }
          },
          "title": {
           "x": 0.05
          },
          "xaxis": {
           "automargin": true,
           "gridcolor": "white",
           "linecolor": "white",
           "ticks": "",
           "title": {
            "standoff": 15
           },
           "zerolinecolor": "white",
           "zerolinewidth": 2
          },
          "yaxis": {
           "automargin": true,
           "gridcolor": "white",
           "linecolor": "white",
           "ticks": "",
           "title": {
            "standoff": 15
           },
           "zerolinecolor": "white",
           "zerolinewidth": 2
          }
         }
        },
        "title": {
         "font": {
          "color": "#4D5663"
         }
        },
        "xaxis": {
         "gridcolor": "#E1E5ED",
         "showgrid": true,
         "tickfont": {
          "color": "#4D5663"
         },
         "title": {
          "font": {
           "color": "#4D5663"
          },
          "text": "Banana Price"
         },
         "zerolinecolor": "#E1E5ED"
        },
        "yaxis": {
         "gridcolor": "#E1E5ED",
         "showgrid": true,
         "tickfont": {
          "color": "#4D5663"
         },
         "title": {
          "font": {
           "color": "#4D5663"
          },
          "text": "Hectograms"
         },
         "zerolinecolor": "#E1E5ED"
        }
       }
      },
      "text/html": [
       "<div>                            <div id=\"093d4e4b-5b37-41d0-9b87-91c99b65639e\" class=\"plotly-graph-div\" style=\"height:525px; width:100%;\"></div>            <script type=\"text/javascript\">                require([\"plotly\"], function(Plotly) {                    window.PLOTLYENV=window.PLOTLYENV || {};\n",
       "                    window.PLOTLYENV.BASE_URL='https://plot.ly';                                    if (document.getElementById(\"093d4e4b-5b37-41d0-9b87-91c99b65639e\")) {                    Plotly.newPlot(                        \"093d4e4b-5b37-41d0-9b87-91c99b65639e\",                        [{\"line\":{\"color\":\"rgba(255, 153, 51, 1.0)\",\"dash\":\"solid\",\"shape\":\"linear\",\"width\":1.3},\"mode\":\"lines\",\"name\":\"Egg\",\"text\":\"\",\"type\":\"scatter\",\"x\":[0.07661063610924494,0.1149159541638674,0.1378991449966409,0.15322127221848988,0.1685433994403389,0.18386552666218786,0.19918765388403686,0.21450978110588584,0.2298319083277348,0.30644254443697977,0.6128850888739595],\"y\":[3.9594190199714863,3.959419187929968,3.959419191974547,3.959418907567879,3.959414429086559,3.959412084548512,3.9594151427374804,3.9594181893723923,3.9594179750185763,3.9594184413358136,0.5624365453015756]},{\"line\":{\"color\":\"rgba(55, 128, 191, 1.0)\",\"dash\":\"solid\",\"shape\":\"linear\",\"width\":1.3},\"mode\":\"lines\",\"name\":\"Banana\",\"text\":\"\",\"type\":\"scatter\",\"x\":[0.07661063610924494,0.1149159541638674,0.1378991449966409,0.15322127221848988,0.1685433994403389,0.18386552666218786,0.19918765388403686,0.21450978110588584,0.2298319083277348,0.30644254443697977,0.6128850888739595],\"y\":[9.516415910813288,9.516415994316432,9.516415995302008,9.516415880936323,9.516409785338277,9.516407115142007,9.51640834152091,9.51641403583343,9.516414535414759,9.516415724757692,1.0432900599339738]},{\"line\":{\"color\":\"rgba(50, 171, 96, 1.0)\",\"dash\":\"solid\",\"shape\":\"linear\",\"width\":1.3},\"mode\":\"lines\",\"name\":\"spaghetti noodles\",\"text\":\"\",\"type\":\"scatter\",\"x\":[0.07661063610924494,0.1149159541638674,0.1378991449966409,0.15322127221848988,0.1685433994403389,0.18386552666218786,0.19918765388403686,0.21450978110588584,0.2298319083277348,0.30644254443697977,0.6128850888739595],\"y\":[1.7483139560585704e-08,5.813196984763972e-10,4.5263745715842574e-10,1.0253951586153312e-08,1.0834976867890099e-06,1.4572038887408863e-06,1.2085208915301933e-06,2.897466787322252e-07,1.6849573545038054e-07,7.234051678683043e-09,2.2480103637676877e-09]},{\"line\":{\"color\":\"rgba(128, 0, 128, 1.0)\",\"dash\":\"solid\",\"shape\":\"linear\",\"width\":1.3},\"mode\":\"lines\",\"name\":\"almond milk\",\"text\":\"\",\"type\":\"scatter\",\"x\":[0.07661063610924494,0.1149159541638674,0.1378991449966409,0.15322127221848988,0.1685433994403389,0.18386552666218786,0.19918765388403686,0.21450978110588584,0.2298319083277348,0.30644254443697977,0.6128850888739595],\"y\":[4.173436623604593,4.1734366173510065,4.173436617350567,4.173436619658644,4.173437132292367,4.173437300229471,4.173437256189399,4.1734367630036475,4.1734366950825255,4.173436613425376,4.370901592193514]},{\"line\":{\"color\":\"rgba(219, 64, 82, 1.0)\",\"dash\":\"solid\",\"shape\":\"linear\",\"width\":1.3},\"mode\":\"lines\",\"name\":\"frozen green peas\",\"text\":\"\",\"type\":\"scatter\",\"x\":[0.07661063610924494,0.1149159541638674,0.1378991449966409,0.15322127221848988,0.1685433994403389,0.18386552666218786,0.19918765388403686,0.21450978110588584,0.2298319083277348,0.30644254443697977,0.6128850888739595],\"y\":[5.106894729047436,5.1068947452881215,5.106894742630509,5.106894891429078,5.1068894578043365,5.106888405742012,5.106887427219981,5.106893161171859,5.1068942705396605,5.106895318664241,9.532039054872945]},{\"line\":{\"color\":\"rgba(0, 128, 128, 1.0)\",\"dash\":\"solid\",\"shape\":\"linear\",\"width\":1.3},\"mode\":\"lines\",\"name\":\"pork chops\",\"text\":\"\",\"type\":\"scatter\",\"x\":[0.07661063610924494,0.1149159541638674,0.1378991449966409,0.15322127221848988,0.1685433994403389,0.18386552666218786,0.19918765388403686,0.21450978110588584,0.2298319083277348,0.30644254443697977,0.6128850888739595],\"y\":[0.24383355564261178,0.24383344999702702,0.24383344842608587,0.24383357173142375,0.2438380627484981,0.2438398382488573,0.2438383043471384,0.24383458070547648,0.24383434782405397,0.24383372016489654,0.7745802964167765]},{\"line\":{\"color\":\"rgba(255, 255, 51, 1.0)\",\"dash\":\"solid\",\"shape\":\"linear\",\"width\":1.3},\"mode\":\"lines\",\"name\":\"potatoes\",\"text\":\"\",\"type\":\"scatter\",\"x\":[0.07661063610924494,0.1149159541638674,0.1378991449966409,0.15322127221848988,0.1685433994403389,0.18386552666218786,0.19918765388403686,0.21450978110588584,0.2298319083277348,0.30644254443697977,0.6128850888739595],\"y\":[2.6647207901979415e-08,8.878433633997497e-10,7.64750246317753e-10,2.253951988875875e-08,2.167799029279686e-06,3.109923990578631e-06,2.8955160961716995e-06,7.971754902272597e-07,5.298469480650387e-07,1.1979796561587819e-08,6.716752376129697]}],                        {\"legend\":{\"bgcolor\":\"#F5F6F9\",\"font\":{\"color\":\"#4D5663\"}},\"paper_bgcolor\":\"#F5F6F9\",\"plot_bgcolor\":\"#F5F6F9\",\"template\":{\"data\":{\"bar\":[{\"error_x\":{\"color\":\"#2a3f5f\"},\"error_y\":{\"color\":\"#2a3f5f\"},\"marker\":{\"line\":{\"color\":\"#E5ECF6\",\"width\":0.5},\"pattern\":{\"fillmode\":\"overlay\",\"size\":10,\"solidity\":0.2}},\"type\":\"bar\"}],\"barpolar\":[{\"marker\":{\"line\":{\"color\":\"#E5ECF6\",\"width\":0.5},\"pattern\":{\"fillmode\":\"overlay\",\"size\":10,\"solidity\":0.2}},\"type\":\"barpolar\"}],\"carpet\":[{\"aaxis\":{\"endlinecolor\":\"#2a3f5f\",\"gridcolor\":\"white\",\"linecolor\":\"white\",\"minorgridcolor\":\"white\",\"startlinecolor\":\"#2a3f5f\"},\"baxis\":{\"endlinecolor\":\"#2a3f5f\",\"gridcolor\":\"white\",\"linecolor\":\"white\",\"minorgridcolor\":\"white\",\"startlinecolor\":\"#2a3f5f\"},\"type\":\"carpet\"}],\"choropleth\":[{\"colorbar\":{\"outlinewidth\":0,\"ticks\":\"\"},\"type\":\"choropleth\"}],\"contour\":[{\"colorbar\":{\"outlinewidth\":0,\"ticks\":\"\"},\"colorscale\":[[0.0,\"#0d0887\"],[0.1111111111111111,\"#46039f\"],[0.2222222222222222,\"#7201a8\"],[0.3333333333333333,\"#9c179e\"],[0.4444444444444444,\"#bd3786\"],[0.5555555555555556,\"#d8576b\"],[0.6666666666666666,\"#ed7953\"],[0.7777777777777778,\"#fb9f3a\"],[0.8888888888888888,\"#fdca26\"],[1.0,\"#f0f921\"]],\"type\":\"contour\"}],\"contourcarpet\":[{\"colorbar\":{\"outlinewidth\":0,\"ticks\":\"\"},\"type\":\"contourcarpet\"}],\"heatmap\":[{\"colorbar\":{\"outlinewidth\":0,\"ticks\":\"\"},\"colorscale\":[[0.0,\"#0d0887\"],[0.1111111111111111,\"#46039f\"],[0.2222222222222222,\"#7201a8\"],[0.3333333333333333,\"#9c179e\"],[0.4444444444444444,\"#bd3786\"],[0.5555555555555556,\"#d8576b\"],[0.6666666666666666,\"#ed7953\"],[0.7777777777777778,\"#fb9f3a\"],[0.8888888888888888,\"#fdca26\"],[1.0,\"#f0f921\"]],\"type\":\"heatmap\"}],\"heatmapgl\":[{\"colorbar\":{\"outlinewidth\":0,\"ticks\":\"\"},\"colorscale\":[[0.0,\"#0d0887\"],[0.1111111111111111,\"#46039f\"],[0.2222222222222222,\"#7201a8\"],[0.3333333333333333,\"#9c179e\"],[0.4444444444444444,\"#bd3786\"],[0.5555555555555556,\"#d8576b\"],[0.6666666666666666,\"#ed7953\"],[0.7777777777777778,\"#fb9f3a\"],[0.8888888888888888,\"#fdca26\"],[1.0,\"#f0f921\"]],\"type\":\"heatmapgl\"}],\"histogram\":[{\"marker\":{\"pattern\":{\"fillmode\":\"overlay\",\"size\":10,\"solidity\":0.2}},\"type\":\"histogram\"}],\"histogram2d\":[{\"colorbar\":{\"outlinewidth\":0,\"ticks\":\"\"},\"colorscale\":[[0.0,\"#0d0887\"],[0.1111111111111111,\"#46039f\"],[0.2222222222222222,\"#7201a8\"],[0.3333333333333333,\"#9c179e\"],[0.4444444444444444,\"#bd3786\"],[0.5555555555555556,\"#d8576b\"],[0.6666666666666666,\"#ed7953\"],[0.7777777777777778,\"#fb9f3a\"],[0.8888888888888888,\"#fdca26\"],[1.0,\"#f0f921\"]],\"type\":\"histogram2d\"}],\"histogram2dcontour\":[{\"colorbar\":{\"outlinewidth\":0,\"ticks\":\"\"},\"colorscale\":[[0.0,\"#0d0887\"],[0.1111111111111111,\"#46039f\"],[0.2222222222222222,\"#7201a8\"],[0.3333333333333333,\"#9c179e\"],[0.4444444444444444,\"#bd3786\"],[0.5555555555555556,\"#d8576b\"],[0.6666666666666666,\"#ed7953\"],[0.7777777777777778,\"#fb9f3a\"],[0.8888888888888888,\"#fdca26\"],[1.0,\"#f0f921\"]],\"type\":\"histogram2dcontour\"}],\"mesh3d\":[{\"colorbar\":{\"outlinewidth\":0,\"ticks\":\"\"},\"type\":\"mesh3d\"}],\"parcoords\":[{\"line\":{\"colorbar\":{\"outlinewidth\":0,\"ticks\":\"\"}},\"type\":\"parcoords\"}],\"pie\":[{\"automargin\":true,\"type\":\"pie\"}],\"scatter\":[{\"marker\":{\"colorbar\":{\"outlinewidth\":0,\"ticks\":\"\"}},\"type\":\"scatter\"}],\"scatter3d\":[{\"line\":{\"colorbar\":{\"outlinewidth\":0,\"ticks\":\"\"}},\"marker\":{\"colorbar\":{\"outlinewidth\":0,\"ticks\":\"\"}},\"type\":\"scatter3d\"}],\"scattercarpet\":[{\"marker\":{\"colorbar\":{\"outlinewidth\":0,\"ticks\":\"\"}},\"type\":\"scattercarpet\"}],\"scattergeo\":[{\"marker\":{\"colorbar\":{\"outlinewidth\":0,\"ticks\":\"\"}},\"type\":\"scattergeo\"}],\"scattergl\":[{\"marker\":{\"colorbar\":{\"outlinewidth\":0,\"ticks\":\"\"}},\"type\":\"scattergl\"}],\"scattermapbox\":[{\"marker\":{\"colorbar\":{\"outlinewidth\":0,\"ticks\":\"\"}},\"type\":\"scattermapbox\"}],\"scatterpolar\":[{\"marker\":{\"colorbar\":{\"outlinewidth\":0,\"ticks\":\"\"}},\"type\":\"scatterpolar\"}],\"scatterpolargl\":[{\"marker\":{\"colorbar\":{\"outlinewidth\":0,\"ticks\":\"\"}},\"type\":\"scatterpolargl\"}],\"scatterternary\":[{\"marker\":{\"colorbar\":{\"outlinewidth\":0,\"ticks\":\"\"}},\"type\":\"scatterternary\"}],\"surface\":[{\"colorbar\":{\"outlinewidth\":0,\"ticks\":\"\"},\"colorscale\":[[0.0,\"#0d0887\"],[0.1111111111111111,\"#46039f\"],[0.2222222222222222,\"#7201a8\"],[0.3333333333333333,\"#9c179e\"],[0.4444444444444444,\"#bd3786\"],[0.5555555555555556,\"#d8576b\"],[0.6666666666666666,\"#ed7953\"],[0.7777777777777778,\"#fb9f3a\"],[0.8888888888888888,\"#fdca26\"],[1.0,\"#f0f921\"]],\"type\":\"surface\"}],\"table\":[{\"cells\":{\"fill\":{\"color\":\"#EBF0F8\"},\"line\":{\"color\":\"white\"}},\"header\":{\"fill\":{\"color\":\"#C8D4E3\"},\"line\":{\"color\":\"white\"}},\"type\":\"table\"}]},\"layout\":{\"annotationdefaults\":{\"arrowcolor\":\"#2a3f5f\",\"arrowhead\":0,\"arrowwidth\":1},\"autotypenumbers\":\"strict\",\"coloraxis\":{\"colorbar\":{\"outlinewidth\":0,\"ticks\":\"\"}},\"colorscale\":{\"diverging\":[[0,\"#8e0152\"],[0.1,\"#c51b7d\"],[0.2,\"#de77ae\"],[0.3,\"#f1b6da\"],[0.4,\"#fde0ef\"],[0.5,\"#f7f7f7\"],[0.6,\"#e6f5d0\"],[0.7,\"#b8e186\"],[0.8,\"#7fbc41\"],[0.9,\"#4d9221\"],[1,\"#276419\"]],\"sequential\":[[0.0,\"#0d0887\"],[0.1111111111111111,\"#46039f\"],[0.2222222222222222,\"#7201a8\"],[0.3333333333333333,\"#9c179e\"],[0.4444444444444444,\"#bd3786\"],[0.5555555555555556,\"#d8576b\"],[0.6666666666666666,\"#ed7953\"],[0.7777777777777778,\"#fb9f3a\"],[0.8888888888888888,\"#fdca26\"],[1.0,\"#f0f921\"]],\"sequentialminus\":[[0.0,\"#0d0887\"],[0.1111111111111111,\"#46039f\"],[0.2222222222222222,\"#7201a8\"],[0.3333333333333333,\"#9c179e\"],[0.4444444444444444,\"#bd3786\"],[0.5555555555555556,\"#d8576b\"],[0.6666666666666666,\"#ed7953\"],[0.7777777777777778,\"#fb9f3a\"],[0.8888888888888888,\"#fdca26\"],[1.0,\"#f0f921\"]]},\"colorway\":[\"#636efa\",\"#EF553B\",\"#00cc96\",\"#ab63fa\",\"#FFA15A\",\"#19d3f3\",\"#FF6692\",\"#B6E880\",\"#FF97FF\",\"#FECB52\"],\"font\":{\"color\":\"#2a3f5f\"},\"geo\":{\"bgcolor\":\"white\",\"lakecolor\":\"white\",\"landcolor\":\"#E5ECF6\",\"showlakes\":true,\"showland\":true,\"subunitcolor\":\"white\"},\"hoverlabel\":{\"align\":\"left\"},\"hovermode\":\"closest\",\"mapbox\":{\"style\":\"light\"},\"paper_bgcolor\":\"white\",\"plot_bgcolor\":\"#E5ECF6\",\"polar\":{\"angularaxis\":{\"gridcolor\":\"white\",\"linecolor\":\"white\",\"ticks\":\"\"},\"bgcolor\":\"#E5ECF6\",\"radialaxis\":{\"gridcolor\":\"white\",\"linecolor\":\"white\",\"ticks\":\"\"}},\"scene\":{\"xaxis\":{\"backgroundcolor\":\"#E5ECF6\",\"gridcolor\":\"white\",\"gridwidth\":2,\"linecolor\":\"white\",\"showbackground\":true,\"ticks\":\"\",\"zerolinecolor\":\"white\"},\"yaxis\":{\"backgroundcolor\":\"#E5ECF6\",\"gridcolor\":\"white\",\"gridwidth\":2,\"linecolor\":\"white\",\"showbackground\":true,\"ticks\":\"\",\"zerolinecolor\":\"white\"},\"zaxis\":{\"backgroundcolor\":\"#E5ECF6\",\"gridcolor\":\"white\",\"gridwidth\":2,\"linecolor\":\"white\",\"showbackground\":true,\"ticks\":\"\",\"zerolinecolor\":\"white\"}},\"shapedefaults\":{\"line\":{\"color\":\"#2a3f5f\"}},\"ternary\":{\"aaxis\":{\"gridcolor\":\"white\",\"linecolor\":\"white\",\"ticks\":\"\"},\"baxis\":{\"gridcolor\":\"white\",\"linecolor\":\"white\",\"ticks\":\"\"},\"bgcolor\":\"#E5ECF6\",\"caxis\":{\"gridcolor\":\"white\",\"linecolor\":\"white\",\"ticks\":\"\"}},\"title\":{\"x\":0.05},\"xaxis\":{\"automargin\":true,\"gridcolor\":\"white\",\"linecolor\":\"white\",\"ticks\":\"\",\"title\":{\"standoff\":15},\"zerolinecolor\":\"white\",\"zerolinewidth\":2},\"yaxis\":{\"automargin\":true,\"gridcolor\":\"white\",\"linecolor\":\"white\",\"ticks\":\"\",\"title\":{\"standoff\":15},\"zerolinecolor\":\"white\",\"zerolinewidth\":2}}},\"title\":{\"font\":{\"color\":\"#4D5663\"}},\"xaxis\":{\"gridcolor\":\"#E1E5ED\",\"showgrid\":true,\"tickfont\":{\"color\":\"#4D5663\"},\"title\":{\"font\":{\"color\":\"#4D5663\"},\"text\":\"Banana Price\"},\"zerolinecolor\":\"#E1E5ED\"},\"yaxis\":{\"gridcolor\":\"#E1E5ED\",\"showgrid\":true,\"tickfont\":{\"color\":\"#4D5663\"},\"title\":{\"font\":{\"color\":\"#4D5663\"},\"text\":\"Hectograms\"},\"zerolinecolor\":\"#E1E5ED\"}},                        {\"showLink\": true, \"linkText\": \"Export to plot.ly\", \"plotlyServerURL\": \"https://plot.ly\", \"responsive\": true}                    ).then(function(){\n",
       "                            \n",
       "var gd = document.getElementById('093d4e4b-5b37-41d0-9b87-91c99b65639e');\n",
       "var x = new MutationObserver(function (mutations, observer) {{\n",
       "        var display = window.getComputedStyle(gd).display;\n",
       "        if (!display || display === 'none') {{\n",
       "            console.log([gd, 'removed!']);\n",
       "            Plotly.purge(gd);\n",
       "            observer.disconnect();\n",
       "        }}\n",
       "}});\n",
       "\n",
       "// Listen for the removal of the full notebook cells\n",
       "var notebookContainer = gd.closest('#notebook-container');\n",
       "if (notebookContainer) {{\n",
       "    x.observe(notebookContainer, {childList: true});\n",
       "}}\n",
       "\n",
       "// Listen for the clearing of the current output cell\n",
       "var outputEl = gd.closest('.output');\n",
       "if (outputEl) {{\n",
       "    x.observe(outputEl, {childList: true});\n",
       "}}\n",
       "\n",
       "                        })                };                });            </script>        </div>"
      ]
     },
     "metadata": {},
     "output_type": "display_data"
    }
   ],
   "source": [
    "import cufflinks as cf\n",
    "cf.go_offline()\n",
    "\n",
    "ReferenceGood = 'Banana'\n",
    "\n",
    "scale = [0.5,0.75,0.9,1.,1.1,1.2,1.3,1.4,1.5,2,4]\n",
    "\n",
    "cost0 = solve_subsistence_problem(FoodNutrients,Prices,diet_min[group],diet_max[group],tol=tol).fun\n",
    "\n",
    "my_p = Prices.copy()\n",
    "\n",
    "diet = {}\n",
    "for s in scale:\n",
    "\n",
    "    my_p[ReferenceGood] = Prices[ReferenceGood]*s\n",
    "    result = solve_subsistence_problem(FoodNutrients,my_p,diet_min[group],diet_max[group],tol=tol)\n",
    "    diet[my_p[ReferenceGood]] = result.diet\n",
    "\n",
    "Diet_response = pd.DataFrame(diet).T\n",
    "Diet_response.index.name = '%s Price' % ReferenceGood\n",
    "\n",
    "Diet_response.reset_index(inplace=True)\n",
    "\n",
    "# Get rid of units for index (cufflinks chokes)\n",
    "Diet_response['%s Price' % ReferenceGood] = Diet_response['%s Price' % ReferenceGood].apply(lambda x: x.magnitude)\n",
    "\n",
    "Diet_response = Diet_response.set_index('%s Price' % ReferenceGood)\n",
    "\n",
    "# Just look at goods consumed in quantities greater than error tolerance\n",
    "Diet_response.loc[:,(Diet_response>tol).sum()>0].iplot(xTitle='%s Price' % ReferenceGood,yTitle='Hectograms')"
   ]
  },
  {
   "cell_type": "markdown",
   "metadata": {},
   "source": [
    "## Effects of Price Changes on Subsistence Diet Nutrition\n",
    "\n"
   ]
  },
  {
   "cell_type": "markdown",
   "metadata": {},
   "source": [
    "The code below creates a graph which uses the food price changes\n",
    "  described above, but maps into nutrients.\n",
    "\n"
   ]
  },
  {
   "cell_type": "code",
   "execution_count": null,
   "metadata": {},
   "outputs": [],
   "source": [
    "# Matrix product maps quantities of food into quantities of nutrients\n",
    "NutrientResponse = Diet_response@FoodNutrients.T\n",
    "\n",
    "# Drop columns of missing nutrients\n",
    "NutrientResponse = NutrientResponse.loc[:,NutrientResponse.count()>0]\n",
    "NutrientResponse.iplot(xTitle='%s Price' % ReferenceGood,yTitle='Hectograms')"
   ]
  },
  {
   "cell_type": "markdown",
   "metadata": {},
   "source": [
    "## Adding Constraint on Total Weight\n",
    "\n"
   ]
  },
  {
   "cell_type": "markdown",
   "metadata": {},
   "source": [
    "At least at some prices the minimum cost subistence diet involves\n",
    "eating unreasonable amounts of food (e.g., 10 kilograms of cabbage per\n",
    "day).  We can easily add an additional constraint of the form\n",
    "$$\n",
    "     \\sum x_i \\leq \\text{max weight}\n",
    "$$\n",
    "to our linear programming problem since it&rsquo;s just another linear\n",
    "inequality, and this may give us more realistic results.\n",
    "\n"
   ]
  },
  {
   "cell_type": "markdown",
   "metadata": {},
   "source": [
    "### Price Changes and Subsistence Diet Composition with Weight Constraint\n",
    "\n"
   ]
  },
  {
   "cell_type": "markdown",
   "metadata": {},
   "source": [
    "Re-do our analysis of changing prices, but with a constraint that\n",
    "  total weight of diet must be less that 12 hectograms (1.2 kg).\n",
    "\n"
   ]
  },
  {
   "cell_type": "code",
   "execution_count": 1,
   "metadata": {},
   "outputs": [],
   "source": [
    "import cufflinks as cf\n",
    "cf.go_offline()\n",
    "\n",
    "ReferenceGood = 'Spinach'\n",
    "\n",
    "scale = [0.5,0.75,0.9,1.,1.1,1.2,1.3,1.4,1.5,2,4]\n",
    "\n",
    "cost0 = solve_subsistence_problem(FoodNutrients,Prices,\n",
    "                                  diet_min[group],diet_max[group],max_weight=10,tol=tol).fun\n",
    "\n",
    "my_p = Prices.copy()\n",
    "\n",
    "diet = {}\n",
    "for s in scale:\n",
    "\n",
    "    my_p[ReferenceGood] = Prices[ReferenceGood]*s\n",
    "    result = solve_subsistence_problem(FoodNutrients,my_p,\n",
    "                                       diet_min[group],diet_max[group],max_weight=10,tol=tol)\n",
    "    diet[my_p[ReferenceGood]] = result.diet\n",
    "\n",
    "Diet_response = pd.DataFrame(diet).T\n",
    "Diet_response.index.name = '%s Price' % ReferenceGood\n",
    "\n",
    "Diet_response.reset_index(inplace=True)\n",
    "\n",
    "# Get rid of units for index (cufflinks chokes)\n",
    "Diet_response['%s Price' % ReferenceGood] = Diet_response['%s Price' % ReferenceGood].apply(lambda x: x.magnitude)\n",
    "\n",
    "Diet_response = Diet_response.set_index('%s Price' % ReferenceGood)\n",
    "\n",
    "# Just look at goods consumed in quantities greater than error tolerance\n",
    "Diet_response.loc[:,(Diet_response>tol).sum()>0].iplot(xTitle='%s Price' % ReferenceGood,yTitle='Hectograms')"
   ]
  }
 ],
 "metadata": {
  "kernelspec": {
   "display_name": "Python 3 (ipykernel)",
   "language": "python",
   "name": "python3"
  },
  "language_info": {
   "codemirror_mode": {
    "name": "ipython",
    "version": 3
   },
   "file_extension": ".py",
   "mimetype": "text/x-python",
   "name": "python",
   "nbconvert_exporter": "python",
   "pygments_lexer": "ipython3",
   "version": "3.9.10"
  },
  "org": null
 },
 "nbformat": 4,
 "nbformat_minor": 1
}
