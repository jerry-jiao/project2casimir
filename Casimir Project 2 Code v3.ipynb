{
 "cells": [
  {
   "cell_type": "markdown",
   "metadata": {},
   "source": [
    "## Install Dependencies\n",
    "\n"
   ]
  },
  {
   "cell_type": "code",
   "execution_count": 6,
   "metadata": {},
   "outputs": [
    {
     "name": "stdout",
     "output_type": "stream",
     "text": [
      "Requirement already satisfied: numpy>=1.20.3 in /opt/conda/lib/python3.9/site-packages (from -r requirements.txt (line 4)) (1.21.5)\n",
      "Requirement already satisfied: pandas>=1.2.5 in /opt/conda/lib/python3.9/site-packages (from -r requirements.txt (line 7)) (1.3.5)\n",
      "Requirement already satisfied: pint>=0.18 in /opt/conda/lib/python3.9/site-packages (from -r requirements.txt (line 10)) (0.18)\n",
      "Requirement already satisfied: requests>=2.26.0 in /opt/conda/lib/python3.9/site-packages (from -r requirements.txt (line 13)) (2.26.0)\n",
      "Requirement already satisfied: eep153_tools in /opt/conda/lib/python3.9/site-packages (from -r requirements.txt (line 15)) (0.11)\n",
      "Requirement already satisfied: gnupg in /opt/conda/lib/python3.9/site-packages (from -r requirements.txt (line 17)) (2.3.1)\n",
      "Requirement already satisfied: python-dateutil>=2.7.3 in /opt/conda/lib/python3.9/site-packages (from pandas>=1.2.5->-r requirements.txt (line 7)) (2.8.0)\n",
      "Requirement already satisfied: pytz>=2017.3 in /opt/conda/lib/python3.9/site-packages (from pandas>=1.2.5->-r requirements.txt (line 7)) (2021.1)\n",
      "Requirement already satisfied: packaging in /opt/conda/lib/python3.9/site-packages (from pint>=0.18->-r requirements.txt (line 10)) (21.3)\n",
      "Requirement already satisfied: idna<4,>=2.5; python_version >= \"3\" in /opt/conda/lib/python3.9/site-packages (from requests>=2.26.0->-r requirements.txt (line 13)) (2.8)\n",
      "Requirement already satisfied: certifi>=2017.4.17 in /opt/conda/lib/python3.9/site-packages (from requests>=2.26.0->-r requirements.txt (line 13)) (2019.11.28)\n",
      "Requirement already satisfied: urllib3<1.27,>=1.21.1 in /opt/conda/lib/python3.9/site-packages (from requests>=2.26.0->-r requirements.txt (line 13)) (1.25.7)\n",
      "Requirement already satisfied: charset-normalizer~=2.0.0; python_version >= \"3\" in /opt/conda/lib/python3.9/site-packages (from requests>=2.26.0->-r requirements.txt (line 13)) (2.0.0)\n",
      "Requirement already satisfied: psutil>=1.2.1 in /opt/conda/lib/python3.9/site-packages (from gnupg->-r requirements.txt (line 17)) (5.9.0)\n",
      "Requirement already satisfied: six>=1.5 in /opt/conda/lib/python3.9/site-packages (from python-dateutil>=2.7.3->pandas>=1.2.5->-r requirements.txt (line 7)) (1.16.0)\n",
      "Requirement already satisfied: pyparsing!=3.0.5,>=2.0.2 in /opt/conda/lib/python3.9/site-packages (from packaging->pint>=0.18->-r requirements.txt (line 10)) (3.0.7)\n"
     ]
    }
   ],
   "source": [
    "!pip install -r requirements.txt\n",
    "import fooddatacentral as fdc\n",
    "from  scipy.optimize import linprog as lp\n",
    "import numpy as np\n",
    "import warnings\n",
    "import pandas as pd\n",
    "from eep153_tools.sheets import read_sheets\n",
    "import plotly.express as px\n",
    "import cufflinks as cf"
   ]
  },
  {
   "cell_type": "markdown",
   "metadata": {},
   "source": [
    "## Utilities + Load and Clean Data"
   ]
  },
  {
   "cell_type": "code",
   "execution_count": 7,
   "metadata": {},
   "outputs": [
    {
     "data": {
      "text/html": [
       "<div>\n",
       "<style scoped>\n",
       "    .dataframe tbody tr th:only-of-type {\n",
       "        vertical-align: middle;\n",
       "    }\n",
       "\n",
       "    .dataframe tbody tr th {\n",
       "        vertical-align: top;\n",
       "    }\n",
       "\n",
       "    .dataframe thead th {\n",
       "        text-align: right;\n",
       "    }\n",
       "</style>\n",
       "<table border=\"1\" class=\"dataframe\">\n",
       "  <thead>\n",
       "    <tr style=\"text-align: right;\">\n",
       "      <th></th>\n",
       "      <th>fdcId</th>\n",
       "      <th>description</th>\n",
       "      <th>lowercaseDescription</th>\n",
       "      <th>commonNames</th>\n",
       "      <th>additionalDescriptions</th>\n",
       "      <th>dataType</th>\n",
       "      <th>foodCode</th>\n",
       "      <th>publishedDate</th>\n",
       "      <th>foodCategory</th>\n",
       "      <th>foodCategoryId</th>\n",
       "      <th>allHighlightFields</th>\n",
       "      <th>score</th>\n",
       "      <th>foodNutrients</th>\n",
       "      <th>finalFoodInputFoods</th>\n",
       "      <th>foodMeasures</th>\n",
       "      <th>foodAttributes</th>\n",
       "      <th>foodAttributeTypes</th>\n",
       "      <th>foodVersionIds</th>\n",
       "      <th>ndbNumber</th>\n",
       "      <th>scientificName</th>\n",
       "    </tr>\n",
       "  </thead>\n",
       "  <tbody>\n",
       "    <tr>\n",
       "      <th>0</th>\n",
       "      <td>1103010</td>\n",
       "      <td>Potato patty</td>\n",
       "      <td>potato patty</td>\n",
       "      <td></td>\n",
       "      <td>potato croquettes;potato cake</td>\n",
       "      <td>Survey (FNDDS)</td>\n",
       "      <td>71503010.0</td>\n",
       "      <td>2020-10-30</td>\n",
       "      <td>French fries and other fried white potatoes</td>\n",
       "      <td>998729.0</td>\n",
       "      <td>&lt;b&gt;Includes&lt;/b&gt;: &lt;em&gt;potato&lt;/em&gt; croquettes;&lt;e...</td>\n",
       "      <td>271.13937</td>\n",
       "      <td>[{'nutrientId': 1003, 'nutrientName': 'Protein...</td>\n",
       "      <td>[{'foodDescription': 'Egg, whole, raw, fresh',...</td>\n",
       "      <td>[{'disseminationText': '1 cup', 'gramWeight': ...</td>\n",
       "      <td>[]</td>\n",
       "      <td>[{'name': 'Additional Description', 'descripti...</td>\n",
       "      <td>[]</td>\n",
       "      <td>NaN</td>\n",
       "      <td>NaN</td>\n",
       "    </tr>\n",
       "    <tr>\n",
       "      <th>1</th>\n",
       "      <td>1102089</td>\n",
       "      <td>Knish, potato</td>\n",
       "      <td>knish, potato</td>\n",
       "      <td></td>\n",
       "      <td>pastry filled with potato</td>\n",
       "      <td>Survey (FNDDS)</td>\n",
       "      <td>58122310.0</td>\n",
       "      <td>2020-10-30</td>\n",
       "      <td>Turnovers and other grain-based items</td>\n",
       "      <td>997808.0</td>\n",
       "      <td>&lt;b&gt;Includes&lt;/b&gt;: pastry filled with &lt;em&gt;potato...</td>\n",
       "      <td>268.09576</td>\n",
       "      <td>[{'nutrientId': 1003, 'nutrientName': 'Protein...</td>\n",
       "      <td>[{'foodDescription': 'Margarine, stick', 'gram...</td>\n",
       "      <td>[{'disseminationText': '1 knish', 'gramWeight'...</td>\n",
       "      <td>[]</td>\n",
       "      <td>[{'name': 'Adjustments', 'description': 'Adjus...</td>\n",
       "      <td>[]</td>\n",
       "      <td>NaN</td>\n",
       "      <td>NaN</td>\n",
       "    </tr>\n",
       "    <tr>\n",
       "      <th>2</th>\n",
       "      <td>1103052</td>\n",
       "      <td>Potato pancake</td>\n",
       "      <td>potato pancake</td>\n",
       "      <td></td>\n",
       "      <td>latkes;any source</td>\n",
       "      <td>Survey (FNDDS)</td>\n",
       "      <td>71701000.0</td>\n",
       "      <td>2020-10-30</td>\n",
       "      <td>Mashed potatoes and white potato mixtures</td>\n",
       "      <td>998771.0</td>\n",
       "      <td></td>\n",
       "      <td>259.42587</td>\n",
       "      <td>[{'nutrientId': 1003, 'nutrientName': 'Protein...</td>\n",
       "      <td>[{'foodDescription': 'Salt, table, iodized', '...</td>\n",
       "      <td>[{'disseminationText': '1 surface inch', 'gram...</td>\n",
       "      <td>[]</td>\n",
       "      <td>[{'name': 'Adjustments', 'description': 'Adjus...</td>\n",
       "      <td>[]</td>\n",
       "      <td>NaN</td>\n",
       "      <td>NaN</td>\n",
       "    </tr>\n",
       "    <tr>\n",
       "      <th>3</th>\n",
       "      <td>1103054</td>\n",
       "      <td>Stewed potatoes</td>\n",
       "      <td>stewed potatoes</td>\n",
       "      <td></td>\n",
       "      <td>papas guisadas;with or without fat added;with ...</td>\n",
       "      <td>Survey (FNDDS)</td>\n",
       "      <td>71703990.0</td>\n",
       "      <td>2020-10-30</td>\n",
       "      <td>Mashed potatoes and white potato mixtures</td>\n",
       "      <td>998773.0</td>\n",
       "      <td></td>\n",
       "      <td>259.42587</td>\n",
       "      <td>[{'nutrientId': 1003, 'nutrientName': 'Protein...</td>\n",
       "      <td>[{'foodDescription': 'Vegetable oil, NFS', 'gr...</td>\n",
       "      <td>[{'disseminationText': '1 cup', 'gramWeight': ...</td>\n",
       "      <td>[]</td>\n",
       "      <td>[{'name': 'Additional Description', 'descripti...</td>\n",
       "      <td>[]</td>\n",
       "      <td>NaN</td>\n",
       "      <td>NaN</td>\n",
       "    </tr>\n",
       "    <tr>\n",
       "      <th>4</th>\n",
       "      <td>1102879</td>\n",
       "      <td>Potato, NFS</td>\n",
       "      <td>potato, nfs</td>\n",
       "      <td></td>\n",
       "      <td></td>\n",
       "      <td>Survey (FNDDS)</td>\n",
       "      <td>71000100.0</td>\n",
       "      <td>2020-10-30</td>\n",
       "      <td>White potatoes, baked or boiled</td>\n",
       "      <td>998598.0</td>\n",
       "      <td></td>\n",
       "      <td>257.77097</td>\n",
       "      <td>[{'nutrientId': 1003, 'nutrientName': 'Protein...</td>\n",
       "      <td>[{'foodDescription': 'Potato, boiled, from fre...</td>\n",
       "      <td>[{'disseminationText': '1 cup', 'gramWeight': ...</td>\n",
       "      <td>[]</td>\n",
       "      <td>[{'name': 'Attribute', 'description': 'Generic...</td>\n",
       "      <td>[]</td>\n",
       "      <td>NaN</td>\n",
       "      <td>NaN</td>\n",
       "    </tr>\n",
       "    <tr>\n",
       "      <th>5</th>\n",
       "      <td>167943</td>\n",
       "      <td>Bread, potato</td>\n",
       "      <td>bread, potato</td>\n",
       "      <td></td>\n",
       "      <td></td>\n",
       "      <td>SR Legacy</td>\n",
       "      <td>NaN</td>\n",
       "      <td>2019-04-01</td>\n",
       "      <td>Baked Products</td>\n",
       "      <td>NaN</td>\n",
       "      <td></td>\n",
       "      <td>257.69394</td>\n",
       "      <td>[{'nutrientId': 1057, 'nutrientName': 'Caffein...</td>\n",
       "      <td>[]</td>\n",
       "      <td>[]</td>\n",
       "      <td>[]</td>\n",
       "      <td>[]</td>\n",
       "      <td>[]</td>\n",
       "      <td>18971.0</td>\n",
       "      <td>NaN</td>\n",
       "    </tr>\n",
       "    <tr>\n",
       "      <th>6</th>\n",
       "      <td>1100670</td>\n",
       "      <td>Bread, potato</td>\n",
       "      <td>bread, potato</td>\n",
       "      <td></td>\n",
       "      <td>pre-sliced or not</td>\n",
       "      <td>Survey (FNDDS)</td>\n",
       "      <td>51127010.0</td>\n",
       "      <td>2020-10-30</td>\n",
       "      <td>Yeast breads</td>\n",
       "      <td>996389.0</td>\n",
       "      <td></td>\n",
       "      <td>257.69394</td>\n",
       "      <td>[{'nutrientId': 1003, 'nutrientName': 'Protein...</td>\n",
       "      <td>[{'foodDescription': 'Bread, potato', 'gramWei...</td>\n",
       "      <td>[{'disseminationText': '1 large or thick slice...</td>\n",
       "      <td>[]</td>\n",
       "      <td>[{'name': 'Additional Description', 'descripti...</td>\n",
       "      <td>[]</td>\n",
       "      <td>NaN</td>\n",
       "      <td>NaN</td>\n",
       "    </tr>\n",
       "    <tr>\n",
       "      <th>7</th>\n",
       "      <td>1102087</td>\n",
       "      <td>Gnocchi, potato</td>\n",
       "      <td>gnocchi, potato</td>\n",
       "      <td></td>\n",
       "      <td></td>\n",
       "      <td>Survey (FNDDS)</td>\n",
       "      <td>58122220.0</td>\n",
       "      <td>2020-10-30</td>\n",
       "      <td>Pasta mixed dishes, excludes macaroni and cheese</td>\n",
       "      <td>997806.0</td>\n",
       "      <td></td>\n",
       "      <td>257.69394</td>\n",
       "      <td>[{'nutrientId': 1003, 'nutrientName': 'Protein...</td>\n",
       "      <td>[{'foodDescription': 'Butter, salted', 'gramWe...</td>\n",
       "      <td>[{'disseminationText': '1 cup', 'gramWeight': ...</td>\n",
       "      <td>[]</td>\n",
       "      <td>[{'name': 'Adjustments', 'description': 'Adjus...</td>\n",
       "      <td>[]</td>\n",
       "      <td>NaN</td>\n",
       "      <td>NaN</td>\n",
       "    </tr>\n",
       "    <tr>\n",
       "      <th>8</th>\n",
       "      <td>1103060</td>\n",
       "      <td>Potato chowder</td>\n",
       "      <td>potato chowder</td>\n",
       "      <td></td>\n",
       "      <td>corn chowder</td>\n",
       "      <td>Survey (FNDDS)</td>\n",
       "      <td>71803010.0</td>\n",
       "      <td>2020-10-30</td>\n",
       "      <td>Soups</td>\n",
       "      <td>998779.0</td>\n",
       "      <td></td>\n",
       "      <td>257.69394</td>\n",
       "      <td>[{'nutrientId': 1003, 'nutrientName': 'Protein...</td>\n",
       "      <td>[{'foodDescription': 'Onions, raw', 'gramWeigh...</td>\n",
       "      <td>[{'disseminationText': '1 cup', 'gramWeight': ...</td>\n",
       "      <td>[]</td>\n",
       "      <td>[{'name': 'Adjustments', 'description': 'Adjus...</td>\n",
       "      <td>[]</td>\n",
       "      <td>NaN</td>\n",
       "      <td>NaN</td>\n",
       "    </tr>\n",
       "    <tr>\n",
       "      <th>9</th>\n",
       "      <td>168446</td>\n",
       "      <td>Potato flour</td>\n",
       "      <td>potato flour</td>\n",
       "      <td></td>\n",
       "      <td></td>\n",
       "      <td>SR Legacy</td>\n",
       "      <td>NaN</td>\n",
       "      <td>2019-04-01</td>\n",
       "      <td>Vegetables and Vegetable Products</td>\n",
       "      <td>NaN</td>\n",
       "      <td></td>\n",
       "      <td>257.69394</td>\n",
       "      <td>[{'nutrientId': 1186, 'nutrientName': 'Folic a...</td>\n",
       "      <td>[]</td>\n",
       "      <td>[]</td>\n",
       "      <td>[]</td>\n",
       "      <td>[]</td>\n",
       "      <td>[]</td>\n",
       "      <td>11413.0</td>\n",
       "      <td>NaN</td>\n",
       "    </tr>\n",
       "    <tr>\n",
       "      <th>10</th>\n",
       "      <td>170092</td>\n",
       "      <td>Potato pancakes</td>\n",
       "      <td>potato pancakes</td>\n",
       "      <td></td>\n",
       "      <td></td>\n",
       "      <td>SR Legacy</td>\n",
       "      <td>NaN</td>\n",
       "      <td>2019-04-01</td>\n",
       "      <td>Vegetables and Vegetable Products</td>\n",
       "      <td>NaN</td>\n",
       "      <td></td>\n",
       "      <td>257.69394</td>\n",
       "      <td>[{'nutrientId': 1004, 'nutrientName': 'Total l...</td>\n",
       "      <td>[]</td>\n",
       "      <td>[]</td>\n",
       "      <td>[]</td>\n",
       "      <td>[]</td>\n",
       "      <td>[]</td>\n",
       "      <td>11672.0</td>\n",
       "      <td>NaN</td>\n",
       "    </tr>\n",
       "    <tr>\n",
       "      <th>11</th>\n",
       "      <td>1103011</td>\n",
       "      <td>Potato tots, NFS</td>\n",
       "      <td>potato tots, nfs</td>\n",
       "      <td></td>\n",
       "      <td>tater tots;potato puffs</td>\n",
       "      <td>Survey (FNDDS)</td>\n",
       "      <td>71505000.0</td>\n",
       "      <td>2020-10-30</td>\n",
       "      <td>French fries and other fried white potatoes</td>\n",
       "      <td>998730.0</td>\n",
       "      <td>&lt;b&gt;Includes&lt;/b&gt;: tater tots;&lt;em&gt;potato&lt;/em&gt; puffs</td>\n",
       "      <td>244.68558</td>\n",
       "      <td>[{'nutrientId': 1003, 'nutrientName': 'Protein...</td>\n",
       "      <td>[{'foodDescription': 'Potato tots, frozen, fri...</td>\n",
       "      <td>[{'disseminationText': '1 cup', 'gramWeight': ...</td>\n",
       "      <td>[]</td>\n",
       "      <td>[{'name': 'Additional Description', 'descripti...</td>\n",
       "      <td>[]</td>\n",
       "      <td>NaN</td>\n",
       "      <td>NaN</td>\n",
       "    </tr>\n",
       "    <tr>\n",
       "      <th>12</th>\n",
       "      <td>1103013</td>\n",
       "      <td>Potato tots, school</td>\n",
       "      <td>potato tots, school</td>\n",
       "      <td></td>\n",
       "      <td>potato puffs;tater tots</td>\n",
       "      <td>Survey (FNDDS)</td>\n",
       "      <td>71505020.0</td>\n",
       "      <td>2020-10-30</td>\n",
       "      <td>French fries and other fried white potatoes</td>\n",
       "      <td>998732.0</td>\n",
       "      <td>&lt;b&gt;Includes&lt;/b&gt;: &lt;em&gt;potato&lt;/em&gt; puffs;tater tots</td>\n",
       "      <td>244.68558</td>\n",
       "      <td>[{'nutrientId': 1003, 'nutrientName': 'Protein...</td>\n",
       "      <td>[{'foodDescription': 'Salt, table, iodized', '...</td>\n",
       "      <td>[{'disseminationText': '1 cup', 'gramWeight': ...</td>\n",
       "      <td>[]</td>\n",
       "      <td>[{'name': 'Additional Description', 'descripti...</td>\n",
       "      <td>[]</td>\n",
       "      <td>NaN</td>\n",
       "      <td>NaN</td>\n",
       "    </tr>\n",
       "    <tr>\n",
       "      <th>13</th>\n",
       "      <td>1102882</td>\n",
       "      <td>Potato, boiled, NFS</td>\n",
       "      <td>potato, boiled, nfs</td>\n",
       "      <td></td>\n",
       "      <td>steamed potato NS as to plain or flavored;stea...</td>\n",
       "      <td>Survey (FNDDS)</td>\n",
       "      <td>71102980.0</td>\n",
       "      <td>2020-10-30</td>\n",
       "      <td>White potatoes, baked or boiled</td>\n",
       "      <td>998601.0</td>\n",
       "      <td>&lt;b&gt;Includes&lt;/b&gt;: steamed &lt;em&gt;potato&lt;/em&gt; NS as...</td>\n",
       "      <td>243.34824</td>\n",
       "      <td>[{'nutrientId': 1003, 'nutrientName': 'Protein...</td>\n",
       "      <td>[{'foodDescription': 'Potato, boiled, from fre...</td>\n",
       "      <td>[{'disseminationText': '1 cup', 'gramWeight': ...</td>\n",
       "      <td>[]</td>\n",
       "      <td>[{'name': 'Additional Description', 'descripti...</td>\n",
       "      <td>[]</td>\n",
       "      <td>NaN</td>\n",
       "      <td>NaN</td>\n",
       "    </tr>\n",
       "    <tr>\n",
       "      <th>14</th>\n",
       "      <td>1102918</td>\n",
       "      <td>Potato chips, NFS</td>\n",
       "      <td>potato chips, nfs</td>\n",
       "      <td></td>\n",
       "      <td>chips, NFS</td>\n",
       "      <td>Survey (FNDDS)</td>\n",
       "      <td>71200010.0</td>\n",
       "      <td>2020-10-30</td>\n",
       "      <td>Potato chips</td>\n",
       "      <td>998637.0</td>\n",
       "      <td></td>\n",
       "      <td>237.13692</td>\n",
       "      <td>[{'nutrientId': 1003, 'nutrientName': 'Protein...</td>\n",
       "      <td>[{'foodDescription': 'Potato chips, plain', 'g...</td>\n",
       "      <td>[{'disseminationText': '1 cup', 'gramWeight': ...</td>\n",
       "      <td>[]</td>\n",
       "      <td>[{'name': 'Additional Description', 'descripti...</td>\n",
       "      <td>[]</td>\n",
       "      <td>NaN</td>\n",
       "      <td>NaN</td>\n",
       "    </tr>\n",
       "    <tr>\n",
       "      <th>15</th>\n",
       "      <td>1102919</td>\n",
       "      <td>Potato chips, plain</td>\n",
       "      <td>potato chips, plain</td>\n",
       "      <td></td>\n",
       "      <td>NS as to flavor;original;NS as to regular or r...</td>\n",
       "      <td>Survey (FNDDS)</td>\n",
       "      <td>71200100.0</td>\n",
       "      <td>2020-10-30</td>\n",
       "      <td>Potato chips</td>\n",
       "      <td>998638.0</td>\n",
       "      <td></td>\n",
       "      <td>237.13692</td>\n",
       "      <td>[{'nutrientId': 1003, 'nutrientName': 'Protein...</td>\n",
       "      <td>[{'foodDescription': 'Snacks, potato chips, pl...</td>\n",
       "      <td>[{'disseminationText': '1 cup', 'gramWeight': ...</td>\n",
       "      <td>[]</td>\n",
       "      <td>[{'name': 'Additional Description', 'descripti...</td>\n",
       "      <td>[]</td>\n",
       "      <td>NaN</td>\n",
       "      <td>NaN</td>\n",
       "    </tr>\n",
       "    <tr>\n",
       "      <th>16</th>\n",
       "      <td>1102937</td>\n",
       "      <td>Potato chips, unsalted</td>\n",
       "      <td>potato chips, unsalted</td>\n",
       "      <td></td>\n",
       "      <td>any cut</td>\n",
       "      <td>Survey (FNDDS)</td>\n",
       "      <td>71202000.0</td>\n",
       "      <td>2020-10-30</td>\n",
       "      <td>Potato chips</td>\n",
       "      <td>998656.0</td>\n",
       "      <td></td>\n",
       "      <td>237.13692</td>\n",
       "      <td>[{'nutrientId': 1003, 'nutrientName': 'Protein...</td>\n",
       "      <td>[{'foodDescription': 'Oil, corn, industrial an...</td>\n",
       "      <td>[{'disseminationText': '1 cup', 'gramWeight': ...</td>\n",
       "      <td>[]</td>\n",
       "      <td>[{'name': 'Additional Description', 'descripti...</td>\n",
       "      <td>[]</td>\n",
       "      <td>NaN</td>\n",
       "      <td>NaN</td>\n",
       "    </tr>\n",
       "    <tr>\n",
       "      <th>17</th>\n",
       "      <td>1102945</td>\n",
       "      <td>Potato sticks, flavored</td>\n",
       "      <td>potato sticks, flavored</td>\n",
       "      <td></td>\n",
       "      <td>shoestrings;all flavors</td>\n",
       "      <td>Survey (FNDDS)</td>\n",
       "      <td>71205030.0</td>\n",
       "      <td>2020-10-30</td>\n",
       "      <td>Potato chips</td>\n",
       "      <td>998664.0</td>\n",
       "      <td></td>\n",
       "      <td>237.13692</td>\n",
       "      <td>[{'nutrientId': 1003, 'nutrientName': 'Protein...</td>\n",
       "      <td>[{'foodDescription': 'Snacks, potato sticks', ...</td>\n",
       "      <td>[{'disseminationText': '1 cup', 'gramWeight': ...</td>\n",
       "      <td>[]</td>\n",
       "      <td>[{'name': 'Additional Description', 'descripti...</td>\n",
       "      <td>[]</td>\n",
       "      <td>NaN</td>\n",
       "      <td>NaN</td>\n",
       "    </tr>\n",
       "    <tr>\n",
       "      <th>18</th>\n",
       "      <td>1102944</td>\n",
       "      <td>Potato sticks, plain</td>\n",
       "      <td>potato sticks, plain</td>\n",
       "      <td></td>\n",
       "      <td>shoestrings;original</td>\n",
       "      <td>Survey (FNDDS)</td>\n",
       "      <td>71205020.0</td>\n",
       "      <td>2020-10-30</td>\n",
       "      <td>Potato chips</td>\n",
       "      <td>998663.0</td>\n",
       "      <td></td>\n",
       "      <td>237.13692</td>\n",
       "      <td>[{'nutrientId': 1003, 'nutrientName': 'Protein...</td>\n",
       "      <td>[{'foodDescription': 'Snacks, potato sticks', ...</td>\n",
       "      <td>[{'disseminationText': '1 cup', 'gramWeight': ...</td>\n",
       "      <td>[]</td>\n",
       "      <td>[{'name': 'Additional Description', 'descripti...</td>\n",
       "      <td>[]</td>\n",
       "      <td>NaN</td>\n",
       "      <td>NaN</td>\n",
       "    </tr>\n",
       "    <tr>\n",
       "      <th>19</th>\n",
       "      <td>1102992</td>\n",
       "      <td>Potato, mashed, NFS</td>\n",
       "      <td>potato, mashed, nfs</td>\n",
       "      <td></td>\n",
       "      <td></td>\n",
       "      <td>Survey (FNDDS)</td>\n",
       "      <td>71501000.0</td>\n",
       "      <td>2020-10-30</td>\n",
       "      <td>Mashed potatoes and white potato mixtures</td>\n",
       "      <td>998711.0</td>\n",
       "      <td></td>\n",
       "      <td>237.09836</td>\n",
       "      <td>[{'nutrientId': 1003, 'nutrientName': 'Protein...</td>\n",
       "      <td>[{'foodDescription': 'Potato, mashed, from fre...</td>\n",
       "      <td>[{'disseminationText': '1 cup', 'gramWeight': ...</td>\n",
       "      <td>[]</td>\n",
       "      <td>[{'name': 'Attribute', 'description': 'Generic...</td>\n",
       "      <td>[]</td>\n",
       "      <td>NaN</td>\n",
       "      <td>NaN</td>\n",
       "    </tr>\n",
       "    <tr>\n",
       "      <th>20</th>\n",
       "      <td>1102948</td>\n",
       "      <td>Potato, scalloped, NFS</td>\n",
       "      <td>potato, scalloped, nfs</td>\n",
       "      <td></td>\n",
       "      <td>au gratin;creamed</td>\n",
       "      <td>Survey (FNDDS)</td>\n",
       "      <td>71305015.0</td>\n",
       "      <td>2020-10-30</td>\n",
       "      <td>Mashed potatoes and white potato mixtures</td>\n",
       "      <td>998667.0</td>\n",
       "      <td></td>\n",
       "      <td>237.09836</td>\n",
       "      <td>[{'nutrientId': 1003, 'nutrientName': 'Protein...</td>\n",
       "      <td>[{'foodDescription': 'Potato, scalloped, from ...</td>\n",
       "      <td>[{'disseminationText': '1 cup', 'gramWeight': ...</td>\n",
       "      <td>[]</td>\n",
       "      <td>[{'name': 'Additional Description', 'descripti...</td>\n",
       "      <td>[]</td>\n",
       "      <td>NaN</td>\n",
       "      <td>NaN</td>\n",
       "    </tr>\n",
       "    <tr>\n",
       "      <th>21</th>\n",
       "      <td>1103055</td>\n",
       "      <td>Stewed potatoes with tomatoes</td>\n",
       "      <td>stewed potatoes with tomatoes</td>\n",
       "      <td></td>\n",
       "      <td>papas guisadas con tomate;Mexican style;with o...</td>\n",
       "      <td>Survey (FNDDS)</td>\n",
       "      <td>71704000.0</td>\n",
       "      <td>2020-10-30</td>\n",
       "      <td>Mashed potatoes and white potato mixtures</td>\n",
       "      <td>998774.0</td>\n",
       "      <td></td>\n",
       "      <td>237.09836</td>\n",
       "      <td>[{'nutrientId': 1003, 'nutrientName': 'Protein...</td>\n",
       "      <td>[{'foodDescription': 'Salt, table, iodized', '...</td>\n",
       "      <td>[{'disseminationText': '1 cup', 'gramWeight': ...</td>\n",
       "      <td>[]</td>\n",
       "      <td>[{'name': 'Additional Description', 'descripti...</td>\n",
       "      <td>[]</td>\n",
       "      <td>NaN</td>\n",
       "      <td>NaN</td>\n",
       "    </tr>\n",
       "    <tr>\n",
       "      <th>22</th>\n",
       "      <td>1102880</td>\n",
       "      <td>Potato, baked, NFS</td>\n",
       "      <td>potato, baked, nfs</td>\n",
       "      <td></td>\n",
       "      <td></td>\n",
       "      <td>Survey (FNDDS)</td>\n",
       "      <td>71100100.0</td>\n",
       "      <td>2020-10-30</td>\n",
       "      <td>White potatoes, baked or boiled</td>\n",
       "      <td>998599.0</td>\n",
       "      <td></td>\n",
       "      <td>235.44345</td>\n",
       "      <td>[{'nutrientId': 1003, 'nutrientName': 'Protein...</td>\n",
       "      <td>[{'foodDescription': 'Potato, baked, peel not ...</td>\n",
       "      <td>[{'disseminationText': '1 cup', 'gramWeight': ...</td>\n",
       "      <td>[]</td>\n",
       "      <td>[{'name': 'Attribute', 'description': 'Generic...</td>\n",
       "      <td>[]</td>\n",
       "      <td>NaN</td>\n",
       "      <td>NaN</td>\n",
       "    </tr>\n",
       "    <tr>\n",
       "      <th>23</th>\n",
       "      <td>1102899</td>\n",
       "      <td>Potato, roasted, NFS</td>\n",
       "      <td>potato, roasted, nfs</td>\n",
       "      <td></td>\n",
       "      <td>grilled</td>\n",
       "      <td>Survey (FNDDS)</td>\n",
       "      <td>71104030.0</td>\n",
       "      <td>2020-10-30</td>\n",
       "      <td>White potatoes, baked or boiled</td>\n",
       "      <td>998618.0</td>\n",
       "      <td></td>\n",
       "      <td>235.44345</td>\n",
       "      <td>[{'nutrientId': 1003, 'nutrientName': 'Protein...</td>\n",
       "      <td>[{'foodDescription': 'Potato, roasted, from fr...</td>\n",
       "      <td>[{'disseminationText': '1 cup', 'gramWeight': ...</td>\n",
       "      <td>[]</td>\n",
       "      <td>[{'name': 'Additional Description', 'descripti...</td>\n",
       "      <td>[]</td>\n",
       "      <td>NaN</td>\n",
       "      <td>NaN</td>\n",
       "    </tr>\n",
       "    <tr>\n",
       "      <th>24</th>\n",
       "      <td>173508</td>\n",
       "      <td>Babyfood, potatoes, toddler</td>\n",
       "      <td>babyfood, potatoes, toddler</td>\n",
       "      <td></td>\n",
       "      <td></td>\n",
       "      <td>SR Legacy</td>\n",
       "      <td>NaN</td>\n",
       "      <td>2019-04-01</td>\n",
       "      <td>Baby Foods</td>\n",
       "      <td>NaN</td>\n",
       "      <td></td>\n",
       "      <td>234.91989</td>\n",
       "      <td>[{'nutrientId': 1186, 'nutrientName': 'Folic a...</td>\n",
       "      <td>[]</td>\n",
       "      <td>[]</td>\n",
       "      <td>[]</td>\n",
       "      <td>[]</td>\n",
       "      <td>[]</td>\n",
       "      <td>3112.0</td>\n",
       "      <td>NaN</td>\n",
       "    </tr>\n",
       "    <tr>\n",
       "      <th>25</th>\n",
       "      <td>1099293</td>\n",
       "      <td>Beef and potatoes, no sauce</td>\n",
       "      <td>beef and potatoes, no sauce</td>\n",
       "      <td></td>\n",
       "      <td></td>\n",
       "      <td>Survey (FNDDS)</td>\n",
       "      <td>27211000.0</td>\n",
       "      <td>2020-10-30</td>\n",
       "      <td>Meat mixed dishes</td>\n",
       "      <td>995012.0</td>\n",
       "      <td></td>\n",
       "      <td>234.91989</td>\n",
       "      <td>[{'nutrientId': 1003, 'nutrientName': 'Protein...</td>\n",
       "      <td>[{'foodDescription': 'Salt, table, iodized', '...</td>\n",
       "      <td>[{'disseminationText': '1 cup', 'gramWeight': ...</td>\n",
       "      <td>[]</td>\n",
       "      <td>[{'name': 'Adjustments', 'description': 'Adjus...</td>\n",
       "      <td>[]</td>\n",
       "      <td>NaN</td>\n",
       "      <td>NaN</td>\n",
       "    </tr>\n",
       "    <tr>\n",
       "      <th>26</th>\n",
       "      <td>1099296</td>\n",
       "      <td>Beef goulash with potatoes</td>\n",
       "      <td>beef goulash with potatoes</td>\n",
       "      <td></td>\n",
       "      <td>beef goulash, NFS</td>\n",
       "      <td>Survey (FNDDS)</td>\n",
       "      <td>27211150.0</td>\n",
       "      <td>2020-10-30</td>\n",
       "      <td>Meat mixed dishes</td>\n",
       "      <td>995015.0</td>\n",
       "      <td></td>\n",
       "      <td>234.91989</td>\n",
       "      <td>[{'nutrientId': 1003, 'nutrientName': 'Protein...</td>\n",
       "      <td>[{'foodDescription': 'Wheat flour, white, all-...</td>\n",
       "      <td>[{'disseminationText': '1 cup', 'gramWeight': ...</td>\n",
       "      <td>[]</td>\n",
       "      <td>[{'name': 'Adjustments', 'description': 'Adjus...</td>\n",
       "      <td>[]</td>\n",
       "      <td>NaN</td>\n",
       "      <td>NaN</td>\n",
       "    </tr>\n",
       "    <tr>\n",
       "      <th>27</th>\n",
       "      <td>1100671</td>\n",
       "      <td>Bread, potato, toasted</td>\n",
       "      <td>bread, potato, toasted</td>\n",
       "      <td></td>\n",
       "      <td>pre-sliced or not</td>\n",
       "      <td>Survey (FNDDS)</td>\n",
       "      <td>51127020.0</td>\n",
       "      <td>2020-10-30</td>\n",
       "      <td>Yeast breads</td>\n",
       "      <td>996390.0</td>\n",
       "      <td></td>\n",
       "      <td>234.91989</td>\n",
       "      <td>[{'nutrientId': 1003, 'nutrientName': 'Protein...</td>\n",
       "      <td>[{'foodDescription': 'Bread, potato', 'gramWei...</td>\n",
       "      <td>[{'disseminationText': '1 large or thick slice...</td>\n",
       "      <td>[]</td>\n",
       "      <td>[{'name': 'Adjustments', 'description': 'Adjus...</td>\n",
       "      <td>[]</td>\n",
       "      <td>NaN</td>\n",
       "      <td>NaN</td>\n",
       "    </tr>\n",
       "    <tr>\n",
       "      <th>28</th>\n",
       "      <td>1100678</td>\n",
       "      <td>Bread, sweet potato</td>\n",
       "      <td>bread, sweet potato</td>\n",
       "      <td></td>\n",
       "      <td>pre-sliced or not</td>\n",
       "      <td>Survey (FNDDS)</td>\n",
       "      <td>51134000.0</td>\n",
       "      <td>2020-10-30</td>\n",
       "      <td>Yeast breads</td>\n",
       "      <td>996397.0</td>\n",
       "      <td></td>\n",
       "      <td>234.91989</td>\n",
       "      <td>[{'nutrientId': 1003, 'nutrientName': 'Protein...</td>\n",
       "      <td>[{'foodDescription': 'Shortening, vegetable, h...</td>\n",
       "      <td>[{'disseminationText': '1 large or thick slice...</td>\n",
       "      <td>[]</td>\n",
       "      <td>[{'name': 'Adjustments', 'description': 'Adjus...</td>\n",
       "      <td>[]</td>\n",
       "      <td>NaN</td>\n",
       "      <td>NaN</td>\n",
       "    </tr>\n",
       "    <tr>\n",
       "      <th>29</th>\n",
       "      <td>1101123</td>\n",
       "      <td>Pie, sweet potato</td>\n",
       "      <td>pie, sweet potato</td>\n",
       "      <td></td>\n",
       "      <td></td>\n",
       "      <td>Survey (FNDDS)</td>\n",
       "      <td>53360000.0</td>\n",
       "      <td>2020-10-30</td>\n",
       "      <td>Cakes and pies</td>\n",
       "      <td>996842.0</td>\n",
       "      <td></td>\n",
       "      <td>234.91989</td>\n",
       "      <td>[{'nutrientId': 1003, 'nutrientName': 'Protein...</td>\n",
       "      <td>[{'foodDescription': 'Sweet potato, cooked, bo...</td>\n",
       "      <td>[{'disseminationText': '1 cup', 'gramWeight': ...</td>\n",
       "      <td>[]</td>\n",
       "      <td>[{'name': 'Adjustments', 'description': 'Adjus...</td>\n",
       "      <td>[]</td>\n",
       "      <td>NaN</td>\n",
       "      <td>NaN</td>\n",
       "    </tr>\n",
       "    <tr>\n",
       "      <th>30</th>\n",
       "      <td>1103059</td>\n",
       "      <td>Potato and cheese soup</td>\n",
       "      <td>potato and cheese soup</td>\n",
       "      <td></td>\n",
       "      <td></td>\n",
       "      <td>Survey (FNDDS)</td>\n",
       "      <td>71801100.0</td>\n",
       "      <td>2020-10-30</td>\n",
       "      <td>Soups</td>\n",
       "      <td>998778.0</td>\n",
       "      <td></td>\n",
       "      <td>234.91989</td>\n",
       "      <td>[{'nutrientId': 1003, 'nutrientName': 'Protein...</td>\n",
       "      <td>[{'foodDescription': 'Milk, NFS', 'gramWeight'...</td>\n",
       "      <td>[{'disseminationText': '1 cup', 'gramWeight': ...</td>\n",
       "      <td>[]</td>\n",
       "      <td>[{'name': 'Adjustments', 'description': 'Adjus...</td>\n",
       "      <td>[]</td>\n",
       "      <td>NaN</td>\n",
       "      <td>NaN</td>\n",
       "    </tr>\n",
       "    <tr>\n",
       "      <th>31</th>\n",
       "      <td>173343</td>\n",
       "      <td>Potato salad with egg</td>\n",
       "      <td>potato salad with egg</td>\n",
       "      <td></td>\n",
       "      <td></td>\n",
       "      <td>SR Legacy</td>\n",
       "      <td>NaN</td>\n",
       "      <td>2019-04-01</td>\n",
       "      <td>Meals, Entrees, and Side Dishes</td>\n",
       "      <td>NaN</td>\n",
       "      <td></td>\n",
       "      <td>234.91989</td>\n",
       "      <td>[{'nutrientId': 1004, 'nutrientName': 'Total l...</td>\n",
       "      <td>[]</td>\n",
       "      <td>[]</td>\n",
       "      <td>[]</td>\n",
       "      <td>[]</td>\n",
       "      <td>[]</td>\n",
       "      <td>22971.0</td>\n",
       "      <td>NaN</td>\n",
       "    </tr>\n",
       "    <tr>\n",
       "      <th>32</th>\n",
       "      <td>1102991</td>\n",
       "      <td>Potato skins, NFS</td>\n",
       "      <td>potato skins, nfs</td>\n",
       "      <td></td>\n",
       "      <td></td>\n",
       "      <td>Survey (FNDDS)</td>\n",
       "      <td>71411100.0</td>\n",
       "      <td>2020-10-30</td>\n",
       "      <td>French fries and other fried white potatoes</td>\n",
       "      <td>998710.0</td>\n",
       "      <td></td>\n",
       "      <td>234.91989</td>\n",
       "      <td>[{'nutrientId': 1003, 'nutrientName': 'Protein...</td>\n",
       "      <td>[{'foodDescription': 'Potato skins, with chees...</td>\n",
       "      <td>[{'disseminationText': 'Skin from 1 large', 'g...</td>\n",
       "      <td>[]</td>\n",
       "      <td>[{'name': 'Attribute', 'description': 'Generic...</td>\n",
       "      <td>[]</td>\n",
       "      <td>NaN</td>\n",
       "      <td>NaN</td>\n",
       "    </tr>\n",
       "    <tr>\n",
       "      <th>33</th>\n",
       "      <td>1102989</td>\n",
       "      <td>Potato skins, with cheese</td>\n",
       "      <td>potato skins, with cheese</td>\n",
       "      <td></td>\n",
       "      <td>salsa;sour cream</td>\n",
       "      <td>Survey (FNDDS)</td>\n",
       "      <td>71410500.0</td>\n",
       "      <td>2020-10-30</td>\n",
       "      <td>French fries and other fried white potatoes</td>\n",
       "      <td>998708.0</td>\n",
       "      <td></td>\n",
       "      <td>234.91989</td>\n",
       "      <td>[{'nutrientId': 1003, 'nutrientName': 'Protein...</td>\n",
       "      <td>[{'foodDescription': 'Potatoes, baked, flesh, ...</td>\n",
       "      <td>[{'disseminationText': 'Skin from 1 small', 'g...</td>\n",
       "      <td>[]</td>\n",
       "      <td>[{'name': 'Additional Description', 'descripti...</td>\n",
       "      <td>[]</td>\n",
       "      <td>NaN</td>\n",
       "      <td>NaN</td>\n",
       "    </tr>\n",
       "    <tr>\n",
       "      <th>34</th>\n",
       "      <td>170032</td>\n",
       "      <td>Potatoes, raw, skin</td>\n",
       "      <td>potatoes, raw, skin</td>\n",
       "      <td></td>\n",
       "      <td></td>\n",
       "      <td>SR Legacy</td>\n",
       "      <td>NaN</td>\n",
       "      <td>2019-04-01</td>\n",
       "      <td>Vegetables and Vegetable Products</td>\n",
       "      <td>NaN</td>\n",
       "      <td></td>\n",
       "      <td>234.91989</td>\n",
       "      <td>[{'nutrientId': 1062, 'nutrientName': 'Energy'...</td>\n",
       "      <td>[]</td>\n",
       "      <td>[]</td>\n",
       "      <td>[]</td>\n",
       "      <td>[]</td>\n",
       "      <td>[]</td>\n",
       "      <td>11362.0</td>\n",
       "      <td>Solanum tuberosum</td>\n",
       "    </tr>\n",
       "    <tr>\n",
       "      <th>35</th>\n",
       "      <td>168854</td>\n",
       "      <td>Snacks, potato sticks</td>\n",
       "      <td>snacks, potato sticks</td>\n",
       "      <td></td>\n",
       "      <td></td>\n",
       "      <td>SR Legacy</td>\n",
       "      <td>NaN</td>\n",
       "      <td>2019-04-01</td>\n",
       "      <td>Snacks</td>\n",
       "      <td>NaN</td>\n",
       "      <td></td>\n",
       "      <td>234.91989</td>\n",
       "      <td>[{'nutrientId': 1186, 'nutrientName': 'Folic a...</td>\n",
       "      <td>[]</td>\n",
       "      <td>[]</td>\n",
       "      <td>[]</td>\n",
       "      <td>[]</td>\n",
       "      <td>[]</td>\n",
       "      <td>19415.0</td>\n",
       "      <td>NaN</td>\n",
       "    </tr>\n",
       "    <tr>\n",
       "      <th>36</th>\n",
       "      <td>1103258</td>\n",
       "      <td>Sweet potato chips</td>\n",
       "      <td>sweet potato chips</td>\n",
       "      <td></td>\n",
       "      <td></td>\n",
       "      <td>Survey (FNDDS)</td>\n",
       "      <td>73410210.0</td>\n",
       "      <td>2020-10-30</td>\n",
       "      <td>Tortilla, corn, other chips</td>\n",
       "      <td>998977.0</td>\n",
       "      <td></td>\n",
       "      <td>234.91989</td>\n",
       "      <td>[{'nutrientId': 1003, 'nutrientName': 'Protein...</td>\n",
       "      <td>[{'foodDescription': 'Salt, table, iodized', '...</td>\n",
       "      <td>[{'disseminationText': '1 cup', 'gramWeight': ...</td>\n",
       "      <td>[]</td>\n",
       "      <td>[{'name': 'Attribute', 'description': 'Generic...</td>\n",
       "      <td>[]</td>\n",
       "      <td>NaN</td>\n",
       "      <td>NaN</td>\n",
       "    </tr>\n",
       "    <tr>\n",
       "      <th>37</th>\n",
       "      <td>1103984</td>\n",
       "      <td>Sweet potato paste</td>\n",
       "      <td>sweet potato paste</td>\n",
       "      <td></td>\n",
       "      <td>dulce de calabaza</td>\n",
       "      <td>Survey (FNDDS)</td>\n",
       "      <td>91407120.0</td>\n",
       "      <td>2020-10-30</td>\n",
       "      <td>Jams, syrups, toppings</td>\n",
       "      <td>999703.0</td>\n",
       "      <td></td>\n",
       "      <td>234.91989</td>\n",
       "      <td>[{'nutrientId': 1003, 'nutrientName': 'Protein...</td>\n",
       "      <td>[{'foodDescription': 'Sugars, granulated', 'gr...</td>\n",
       "      <td>[{'disseminationText': '1 tablespoon', 'gramWe...</td>\n",
       "      <td>[]</td>\n",
       "      <td>[{'name': 'Additional Description', 'descripti...</td>\n",
       "      <td>[]</td>\n",
       "      <td>NaN</td>\n",
       "      <td>NaN</td>\n",
       "    </tr>\n",
       "    <tr>\n",
       "      <th>38</th>\n",
       "      <td>1103252</td>\n",
       "      <td>Sweet potato, candied</td>\n",
       "      <td>sweet potato, candied</td>\n",
       "      <td></td>\n",
       "      <td></td>\n",
       "      <td>Survey (FNDDS)</td>\n",
       "      <td>73406000.0</td>\n",
       "      <td>2020-10-30</td>\n",
       "      <td>Other red and orange vegetables</td>\n",
       "      <td>998971.0</td>\n",
       "      <td></td>\n",
       "      <td>234.91989</td>\n",
       "      <td>[{'nutrientId': 1003, 'nutrientName': 'Protein...</td>\n",
       "      <td>[{'foodDescription': 'Sugars, granulated', 'gr...</td>\n",
       "      <td>[{'disseminationText': '1 cup', 'gramWeight': ...</td>\n",
       "      <td>[]</td>\n",
       "      <td>[{'name': 'Attribute', 'description': 'Generic...</td>\n",
       "      <td>[]</td>\n",
       "      <td>NaN</td>\n",
       "      <td>NaN</td>\n",
       "    </tr>\n",
       "    <tr>\n",
       "      <th>39</th>\n",
       "      <td>1103233</td>\n",
       "      <td>Sweet potato, NFS</td>\n",
       "      <td>sweet potato, nfs</td>\n",
       "      <td></td>\n",
       "      <td></td>\n",
       "      <td>Survey (FNDDS)</td>\n",
       "      <td>73401000.0</td>\n",
       "      <td>2020-10-30</td>\n",
       "      <td>Other red and orange vegetables</td>\n",
       "      <td>998952.0</td>\n",
       "      <td></td>\n",
       "      <td>234.91989</td>\n",
       "      <td>[{'nutrientId': 1003, 'nutrientName': 'Protein...</td>\n",
       "      <td>[{'foodDescription': 'Sweet potato, boiled, NS...</td>\n",
       "      <td>[{'disseminationText': '1 cup, mashed', 'gramW...</td>\n",
       "      <td>[]</td>\n",
       "      <td>[{'name': 'Attribute', 'description': 'Generic...</td>\n",
       "      <td>[]</td>\n",
       "      <td>NaN</td>\n",
       "      <td>NaN</td>\n",
       "    </tr>\n",
       "    <tr>\n",
       "      <th>40</th>\n",
       "      <td>168853</td>\n",
       "      <td>Snack, potato chips, made from dried potatoes,...</td>\n",
       "      <td>snack, potato chips, made from dried potatoes,...</td>\n",
       "      <td></td>\n",
       "      <td></td>\n",
       "      <td>SR Legacy</td>\n",
       "      <td>NaN</td>\n",
       "      <td>2019-04-01</td>\n",
       "      <td>Snacks</td>\n",
       "      <td>NaN</td>\n",
       "      <td></td>\n",
       "      <td>233.97700</td>\n",
       "      <td>[{'nutrientId': 1114, 'nutrientName': 'Vitamin...</td>\n",
       "      <td>[]</td>\n",
       "      <td>[]</td>\n",
       "      <td>[]</td>\n",
       "      <td>[]</td>\n",
       "      <td>[]</td>\n",
       "      <td>19410.0</td>\n",
       "      <td>NaN</td>\n",
       "    </tr>\n",
       "    <tr>\n",
       "      <th>41</th>\n",
       "      <td>1102930</td>\n",
       "      <td>Potato chips, restructured, flavored</td>\n",
       "      <td>potato chips, restructured, flavored</td>\n",
       "      <td></td>\n",
       "      <td>potato crisps;potato skin chips;flavored Pring...</td>\n",
       "      <td>Survey (FNDDS)</td>\n",
       "      <td>71200310.0</td>\n",
       "      <td>2020-10-30</td>\n",
       "      <td>Potato chips</td>\n",
       "      <td>998649.0</td>\n",
       "      <td>&lt;b&gt;Includes&lt;/b&gt;: &lt;em&gt;potato&lt;/em&gt; crisps;&lt;em&gt;po...</td>\n",
       "      <td>228.49838</td>\n",
       "      <td>[{'nutrientId': 1003, 'nutrientName': 'Protein...</td>\n",
       "      <td>[{'foodDescription': 'Salt, table, iodized', '...</td>\n",
       "      <td>[{'disseminationText': '1 cup', 'gramWeight': ...</td>\n",
       "      <td>[]</td>\n",
       "      <td>[{'name': 'Additional Description', 'descripti...</td>\n",
       "      <td>[]</td>\n",
       "      <td>NaN</td>\n",
       "      <td>NaN</td>\n",
       "    </tr>\n",
       "    <tr>\n",
       "      <th>42</th>\n",
       "      <td>1102929</td>\n",
       "      <td>Potato chips, restructured, plain</td>\n",
       "      <td>potato chips, restructured, plain</td>\n",
       "      <td></td>\n",
       "      <td>potato crisps;potato skin chips;original;salte...</td>\n",
       "      <td>Survey (FNDDS)</td>\n",
       "      <td>71200300.0</td>\n",
       "      <td>2020-10-30</td>\n",
       "      <td>Potato chips</td>\n",
       "      <td>998648.0</td>\n",
       "      <td>&lt;b&gt;Includes&lt;/b&gt;: &lt;em&gt;potato&lt;/em&gt; crisps;&lt;em&gt;po...</td>\n",
       "      <td>228.49838</td>\n",
       "      <td>[{'nutrientId': 1003, 'nutrientName': 'Protein...</td>\n",
       "      <td>[{'foodDescription': 'Salt, table, iodized', '...</td>\n",
       "      <td>[{'disseminationText': '1 cup', 'gramWeight': ...</td>\n",
       "      <td>[]</td>\n",
       "      <td>[{'name': 'Additional Description', 'descripti...</td>\n",
       "      <td>[]</td>\n",
       "      <td>NaN</td>\n",
       "      <td>NaN</td>\n",
       "    </tr>\n",
       "    <tr>\n",
       "      <th>43</th>\n",
       "      <td>1101358</td>\n",
       "      <td>Potato chips, restructured, multigrain</td>\n",
       "      <td>potato chips, restructured, multigrain</td>\n",
       "      <td></td>\n",
       "      <td>potato crisps;Pringles multigrain</td>\n",
       "      <td>Survey (FNDDS)</td>\n",
       "      <td>54402610.0</td>\n",
       "      <td>2020-10-30</td>\n",
       "      <td>Potato chips</td>\n",
       "      <td>997077.0</td>\n",
       "      <td>&lt;b&gt;Includes&lt;/b&gt;: &lt;em&gt;potato&lt;/em&gt; crisps;Pringl...</td>\n",
       "      <td>228.01662</td>\n",
       "      <td>[{'nutrientId': 1003, 'nutrientName': 'Protein...</td>\n",
       "      <td>[{'foodDescription': 'Snacks, potato chips, ma...</td>\n",
       "      <td>[{'disseminationText': '1 cup', 'gramWeight': ...</td>\n",
       "      <td>[]</td>\n",
       "      <td>[{'name': 'Additional Description', 'descripti...</td>\n",
       "      <td>[]</td>\n",
       "      <td>NaN</td>\n",
       "      <td>NaN</td>\n",
       "    </tr>\n",
       "    <tr>\n",
       "      <th>44</th>\n",
       "      <td>1103266</td>\n",
       "      <td>Sweet potato tots, NFS</td>\n",
       "      <td>sweet potato tots, nfs</td>\n",
       "      <td></td>\n",
       "      <td>sweet potato puffs</td>\n",
       "      <td>Survey (FNDDS)</td>\n",
       "      <td>73420000.0</td>\n",
       "      <td>2020-10-30</td>\n",
       "      <td>Fried vegetables</td>\n",
       "      <td>998985.0</td>\n",
       "      <td>&lt;b&gt;Includes&lt;/b&gt;: sweet &lt;em&gt;potato&lt;/em&gt; puffs</td>\n",
       "      <td>227.07974</td>\n",
       "      <td>[{'nutrientId': 1003, 'nutrientName': 'Protein...</td>\n",
       "      <td>[{'foodDescription': 'Sweet potato tots, from ...</td>\n",
       "      <td>[{'disseminationText': '1 cup', 'gramWeight': ...</td>\n",
       "      <td>[]</td>\n",
       "      <td>[{'name': 'Additional Description', 'descripti...</td>\n",
       "      <td>[]</td>\n",
       "      <td>NaN</td>\n",
       "      <td>NaN</td>\n",
       "    </tr>\n",
       "    <tr>\n",
       "      <th>45</th>\n",
       "      <td>1103271</td>\n",
       "      <td>Sweet potato tots, school</td>\n",
       "      <td>sweet potato tots, school</td>\n",
       "      <td></td>\n",
       "      <td>sweet potato puffs</td>\n",
       "      <td>Survey (FNDDS)</td>\n",
       "      <td>73420200.0</td>\n",
       "      <td>2020-10-30</td>\n",
       "      <td>Fried vegetables</td>\n",
       "      <td>998990.0</td>\n",
       "      <td>&lt;b&gt;Includes&lt;/b&gt;: sweet &lt;em&gt;potato&lt;/em&gt; puffs</td>\n",
       "      <td>227.07974</td>\n",
       "      <td>[{'nutrientId': 1003, 'nutrientName': 'Protein...</td>\n",
       "      <td>[{'foodDescription': 'Sweet Potatoes, french f...</td>\n",
       "      <td>[{'disseminationText': '1 cup', 'gramWeight': ...</td>\n",
       "      <td>[]</td>\n",
       "      <td>[{'name': 'Adjustments', 'description': 'Adjus...</td>\n",
       "      <td>[]</td>\n",
       "      <td>NaN</td>\n",
       "      <td>NaN</td>\n",
       "    </tr>\n",
       "    <tr>\n",
       "      <th>46</th>\n",
       "      <td>1103256</td>\n",
       "      <td>Sweet potato, casserole or mashed</td>\n",
       "      <td>sweet potato, casserole or mashed</td>\n",
       "      <td></td>\n",
       "      <td>sweet potato pudding</td>\n",
       "      <td>Survey (FNDDS)</td>\n",
       "      <td>73409000.0</td>\n",
       "      <td>2020-10-30</td>\n",
       "      <td>Other red and orange vegetables</td>\n",
       "      <td>998975.0</td>\n",
       "      <td>&lt;b&gt;Includes&lt;/b&gt;: sweet &lt;em&gt;potato&lt;/em&gt; pudding</td>\n",
       "      <td>227.07974</td>\n",
       "      <td>[{'nutrientId': 1003, 'nutrientName': 'Protein...</td>\n",
       "      <td>[{'foodDescription': 'Salt, table, iodized', '...</td>\n",
       "      <td>[{'disseminationText': '1 cup', 'gramWeight': ...</td>\n",
       "      <td>[]</td>\n",
       "      <td>[{'name': 'Additional Description', 'descripti...</td>\n",
       "      <td>[]</td>\n",
       "      <td>NaN</td>\n",
       "      <td>NaN</td>\n",
       "    </tr>\n",
       "    <tr>\n",
       "      <th>47</th>\n",
       "      <td>1099356</td>\n",
       "      <td>Chicken or turkey and potatoes with gravy</td>\n",
       "      <td>chicken or turkey and potatoes with gravy</td>\n",
       "      <td></td>\n",
       "      <td>Chicken Helper, Potatoes, and Gravy</td>\n",
       "      <td>Survey (FNDDS)</td>\n",
       "      <td>27241010.0</td>\n",
       "      <td>2020-10-30</td>\n",
       "      <td>Poultry mixed dishes</td>\n",
       "      <td>995075.0</td>\n",
       "      <td>&lt;b&gt;Includes&lt;/b&gt;: Chicken Helper, &lt;em&gt;Potatoes&lt;...</td>\n",
       "      <td>225.99704</td>\n",
       "      <td>[{'nutrientId': 1003, 'nutrientName': 'Protein...</td>\n",
       "      <td>[{'foodDescription': 'Chicken, NS as to part, ...</td>\n",
       "      <td>[{'disseminationText': '1 cup', 'gramWeight': ...</td>\n",
       "      <td>[]</td>\n",
       "      <td>[{'name': 'Adjustments', 'description': 'Adjus...</td>\n",
       "      <td>[]</td>\n",
       "      <td>NaN</td>\n",
       "      <td>NaN</td>\n",
       "    </tr>\n",
       "    <tr>\n",
       "      <th>48</th>\n",
       "      <td>1103782</td>\n",
       "      <td>Potatoes, baby food, toddler</td>\n",
       "      <td>potatoes, baby food, toddler</td>\n",
       "      <td></td>\n",
       "      <td>Gerber Graduates Diced Potatoes</td>\n",
       "      <td>Survey (FNDDS)</td>\n",
       "      <td>76420000.0</td>\n",
       "      <td>2020-10-30</td>\n",
       "      <td>Baby food: vegetable</td>\n",
       "      <td>999501.0</td>\n",
       "      <td>&lt;b&gt;Includes&lt;/b&gt;: Gerber Graduates Diced &lt;em&gt;Po...</td>\n",
       "      <td>225.99704</td>\n",
       "      <td>[{'nutrientId': 1003, 'nutrientName': 'Protein...</td>\n",
       "      <td>[{'foodDescription': 'Babyfood, potatoes, todd...</td>\n",
       "      <td>[{'disseminationText': '1 cup', 'gramWeight': ...</td>\n",
       "      <td>[]</td>\n",
       "      <td>[{'name': 'Additional Description', 'descripti...</td>\n",
       "      <td>[]</td>\n",
       "      <td>NaN</td>\n",
       "      <td>NaN</td>\n",
       "    </tr>\n",
       "    <tr>\n",
       "      <th>49</th>\n",
       "      <td>1102932</td>\n",
       "      <td>Potato chips, baked, flavored</td>\n",
       "      <td>potato chips, baked, flavored</td>\n",
       "      <td></td>\n",
       "      <td>potato crisps;any cut;all flavors;baked kettle...</td>\n",
       "      <td>Survey (FNDDS)</td>\n",
       "      <td>71200410.0</td>\n",
       "      <td>2020-10-30</td>\n",
       "      <td>Potato chips</td>\n",
       "      <td>998651.0</td>\n",
       "      <td>&lt;b&gt;Includes&lt;/b&gt;: &lt;em&gt;potato&lt;/em&gt; crisps;any cu...</td>\n",
       "      <td>225.53215</td>\n",
       "      <td>[{'nutrientId': 1003, 'nutrientName': 'Protein...</td>\n",
       "      <td>[{'foodDescription': 'Snacks, potato chips, wh...</td>\n",
       "      <td>[{'disseminationText': '1 cup', 'gramWeight': ...</td>\n",
       "      <td>[]</td>\n",
       "      <td>[{'name': 'Additional Description', 'descripti...</td>\n",
       "      <td>[]</td>\n",
       "      <td>NaN</td>\n",
       "      <td>NaN</td>\n",
       "    </tr>\n",
       "  </tbody>\n",
       "</table>\n",
       "</div>"
      ],
      "text/plain": [
       "      fdcId                                        description  \\\n",
       "0   1103010                                       Potato patty   \n",
       "1   1102089                                      Knish, potato   \n",
       "2   1103052                                     Potato pancake   \n",
       "3   1103054                                    Stewed potatoes   \n",
       "4   1102879                                        Potato, NFS   \n",
       "5    167943                                      Bread, potato   \n",
       "6   1100670                                      Bread, potato   \n",
       "7   1102087                                    Gnocchi, potato   \n",
       "8   1103060                                     Potato chowder   \n",
       "9    168446                                       Potato flour   \n",
       "10   170092                                    Potato pancakes   \n",
       "11  1103011                                   Potato tots, NFS   \n",
       "12  1103013                                Potato tots, school   \n",
       "13  1102882                                Potato, boiled, NFS   \n",
       "14  1102918                                  Potato chips, NFS   \n",
       "15  1102919                                Potato chips, plain   \n",
       "16  1102937                             Potato chips, unsalted   \n",
       "17  1102945                            Potato sticks, flavored   \n",
       "18  1102944                               Potato sticks, plain   \n",
       "19  1102992                                Potato, mashed, NFS   \n",
       "20  1102948                             Potato, scalloped, NFS   \n",
       "21  1103055                      Stewed potatoes with tomatoes   \n",
       "22  1102880                                 Potato, baked, NFS   \n",
       "23  1102899                               Potato, roasted, NFS   \n",
       "24   173508                        Babyfood, potatoes, toddler   \n",
       "25  1099293                        Beef and potatoes, no sauce   \n",
       "26  1099296                         Beef goulash with potatoes   \n",
       "27  1100671                             Bread, potato, toasted   \n",
       "28  1100678                                Bread, sweet potato   \n",
       "29  1101123                                  Pie, sweet potato   \n",
       "30  1103059                             Potato and cheese soup   \n",
       "31   173343                              Potato salad with egg   \n",
       "32  1102991                                  Potato skins, NFS   \n",
       "33  1102989                          Potato skins, with cheese   \n",
       "34   170032                                Potatoes, raw, skin   \n",
       "35   168854                              Snacks, potato sticks   \n",
       "36  1103258                                 Sweet potato chips   \n",
       "37  1103984                                 Sweet potato paste   \n",
       "38  1103252                              Sweet potato, candied   \n",
       "39  1103233                                  Sweet potato, NFS   \n",
       "40   168853  Snack, potato chips, made from dried potatoes,...   \n",
       "41  1102930               Potato chips, restructured, flavored   \n",
       "42  1102929                  Potato chips, restructured, plain   \n",
       "43  1101358             Potato chips, restructured, multigrain   \n",
       "44  1103266                             Sweet potato tots, NFS   \n",
       "45  1103271                          Sweet potato tots, school   \n",
       "46  1103256                  Sweet potato, casserole or mashed   \n",
       "47  1099356          Chicken or turkey and potatoes with gravy   \n",
       "48  1103782                       Potatoes, baby food, toddler   \n",
       "49  1102932                      Potato chips, baked, flavored   \n",
       "\n",
       "                                 lowercaseDescription commonNames  \\\n",
       "0                                        potato patty               \n",
       "1                                       knish, potato               \n",
       "2                                      potato pancake               \n",
       "3                                     stewed potatoes               \n",
       "4                                         potato, nfs               \n",
       "5                                       bread, potato               \n",
       "6                                       bread, potato               \n",
       "7                                     gnocchi, potato               \n",
       "8                                      potato chowder               \n",
       "9                                        potato flour               \n",
       "10                                    potato pancakes               \n",
       "11                                   potato tots, nfs               \n",
       "12                                potato tots, school               \n",
       "13                                potato, boiled, nfs               \n",
       "14                                  potato chips, nfs               \n",
       "15                                potato chips, plain               \n",
       "16                             potato chips, unsalted               \n",
       "17                            potato sticks, flavored               \n",
       "18                               potato sticks, plain               \n",
       "19                                potato, mashed, nfs               \n",
       "20                             potato, scalloped, nfs               \n",
       "21                      stewed potatoes with tomatoes               \n",
       "22                                 potato, baked, nfs               \n",
       "23                               potato, roasted, nfs               \n",
       "24                        babyfood, potatoes, toddler               \n",
       "25                        beef and potatoes, no sauce               \n",
       "26                         beef goulash with potatoes               \n",
       "27                             bread, potato, toasted               \n",
       "28                                bread, sweet potato               \n",
       "29                                  pie, sweet potato               \n",
       "30                             potato and cheese soup               \n",
       "31                              potato salad with egg               \n",
       "32                                  potato skins, nfs               \n",
       "33                          potato skins, with cheese               \n",
       "34                                potatoes, raw, skin               \n",
       "35                              snacks, potato sticks               \n",
       "36                                 sweet potato chips               \n",
       "37                                 sweet potato paste               \n",
       "38                              sweet potato, candied               \n",
       "39                                  sweet potato, nfs               \n",
       "40  snack, potato chips, made from dried potatoes,...               \n",
       "41               potato chips, restructured, flavored               \n",
       "42                  potato chips, restructured, plain               \n",
       "43             potato chips, restructured, multigrain               \n",
       "44                             sweet potato tots, nfs               \n",
       "45                          sweet potato tots, school               \n",
       "46                  sweet potato, casserole or mashed               \n",
       "47          chicken or turkey and potatoes with gravy               \n",
       "48                       potatoes, baby food, toddler               \n",
       "49                      potato chips, baked, flavored               \n",
       "\n",
       "                               additionalDescriptions        dataType  \\\n",
       "0                       potato croquettes;potato cake  Survey (FNDDS)   \n",
       "1                           pastry filled with potato  Survey (FNDDS)   \n",
       "2                                   latkes;any source  Survey (FNDDS)   \n",
       "3   papas guisadas;with or without fat added;with ...  Survey (FNDDS)   \n",
       "4                                                      Survey (FNDDS)   \n",
       "5                                                           SR Legacy   \n",
       "6                                   pre-sliced or not  Survey (FNDDS)   \n",
       "7                                                      Survey (FNDDS)   \n",
       "8                                        corn chowder  Survey (FNDDS)   \n",
       "9                                                           SR Legacy   \n",
       "10                                                          SR Legacy   \n",
       "11                            tater tots;potato puffs  Survey (FNDDS)   \n",
       "12                            potato puffs;tater tots  Survey (FNDDS)   \n",
       "13  steamed potato NS as to plain or flavored;stea...  Survey (FNDDS)   \n",
       "14                                         chips, NFS  Survey (FNDDS)   \n",
       "15  NS as to flavor;original;NS as to regular or r...  Survey (FNDDS)   \n",
       "16                                            any cut  Survey (FNDDS)   \n",
       "17                            shoestrings;all flavors  Survey (FNDDS)   \n",
       "18                               shoestrings;original  Survey (FNDDS)   \n",
       "19                                                     Survey (FNDDS)   \n",
       "20                                  au gratin;creamed  Survey (FNDDS)   \n",
       "21  papas guisadas con tomate;Mexican style;with o...  Survey (FNDDS)   \n",
       "22                                                     Survey (FNDDS)   \n",
       "23                                            grilled  Survey (FNDDS)   \n",
       "24                                                          SR Legacy   \n",
       "25                                                     Survey (FNDDS)   \n",
       "26                                  beef goulash, NFS  Survey (FNDDS)   \n",
       "27                                  pre-sliced or not  Survey (FNDDS)   \n",
       "28                                  pre-sliced or not  Survey (FNDDS)   \n",
       "29                                                     Survey (FNDDS)   \n",
       "30                                                     Survey (FNDDS)   \n",
       "31                                                          SR Legacy   \n",
       "32                                                     Survey (FNDDS)   \n",
       "33                                   salsa;sour cream  Survey (FNDDS)   \n",
       "34                                                          SR Legacy   \n",
       "35                                                          SR Legacy   \n",
       "36                                                     Survey (FNDDS)   \n",
       "37                                  dulce de calabaza  Survey (FNDDS)   \n",
       "38                                                     Survey (FNDDS)   \n",
       "39                                                     Survey (FNDDS)   \n",
       "40                                                          SR Legacy   \n",
       "41  potato crisps;potato skin chips;flavored Pring...  Survey (FNDDS)   \n",
       "42  potato crisps;potato skin chips;original;salte...  Survey (FNDDS)   \n",
       "43                  potato crisps;Pringles multigrain  Survey (FNDDS)   \n",
       "44                                 sweet potato puffs  Survey (FNDDS)   \n",
       "45                                 sweet potato puffs  Survey (FNDDS)   \n",
       "46                               sweet potato pudding  Survey (FNDDS)   \n",
       "47                Chicken Helper, Potatoes, and Gravy  Survey (FNDDS)   \n",
       "48                    Gerber Graduates Diced Potatoes  Survey (FNDDS)   \n",
       "49  potato crisps;any cut;all flavors;baked kettle...  Survey (FNDDS)   \n",
       "\n",
       "      foodCode publishedDate  \\\n",
       "0   71503010.0    2020-10-30   \n",
       "1   58122310.0    2020-10-30   \n",
       "2   71701000.0    2020-10-30   \n",
       "3   71703990.0    2020-10-30   \n",
       "4   71000100.0    2020-10-30   \n",
       "5          NaN    2019-04-01   \n",
       "6   51127010.0    2020-10-30   \n",
       "7   58122220.0    2020-10-30   \n",
       "8   71803010.0    2020-10-30   \n",
       "9          NaN    2019-04-01   \n",
       "10         NaN    2019-04-01   \n",
       "11  71505000.0    2020-10-30   \n",
       "12  71505020.0    2020-10-30   \n",
       "13  71102980.0    2020-10-30   \n",
       "14  71200010.0    2020-10-30   \n",
       "15  71200100.0    2020-10-30   \n",
       "16  71202000.0    2020-10-30   \n",
       "17  71205030.0    2020-10-30   \n",
       "18  71205020.0    2020-10-30   \n",
       "19  71501000.0    2020-10-30   \n",
       "20  71305015.0    2020-10-30   \n",
       "21  71704000.0    2020-10-30   \n",
       "22  71100100.0    2020-10-30   \n",
       "23  71104030.0    2020-10-30   \n",
       "24         NaN    2019-04-01   \n",
       "25  27211000.0    2020-10-30   \n",
       "26  27211150.0    2020-10-30   \n",
       "27  51127020.0    2020-10-30   \n",
       "28  51134000.0    2020-10-30   \n",
       "29  53360000.0    2020-10-30   \n",
       "30  71801100.0    2020-10-30   \n",
       "31         NaN    2019-04-01   \n",
       "32  71411100.0    2020-10-30   \n",
       "33  71410500.0    2020-10-30   \n",
       "34         NaN    2019-04-01   \n",
       "35         NaN    2019-04-01   \n",
       "36  73410210.0    2020-10-30   \n",
       "37  91407120.0    2020-10-30   \n",
       "38  73406000.0    2020-10-30   \n",
       "39  73401000.0    2020-10-30   \n",
       "40         NaN    2019-04-01   \n",
       "41  71200310.0    2020-10-30   \n",
       "42  71200300.0    2020-10-30   \n",
       "43  54402610.0    2020-10-30   \n",
       "44  73420000.0    2020-10-30   \n",
       "45  73420200.0    2020-10-30   \n",
       "46  73409000.0    2020-10-30   \n",
       "47  27241010.0    2020-10-30   \n",
       "48  76420000.0    2020-10-30   \n",
       "49  71200410.0    2020-10-30   \n",
       "\n",
       "                                        foodCategory  foodCategoryId  \\\n",
       "0        French fries and other fried white potatoes        998729.0   \n",
       "1              Turnovers and other grain-based items        997808.0   \n",
       "2          Mashed potatoes and white potato mixtures        998771.0   \n",
       "3          Mashed potatoes and white potato mixtures        998773.0   \n",
       "4                    White potatoes, baked or boiled        998598.0   \n",
       "5                                     Baked Products             NaN   \n",
       "6                                       Yeast breads        996389.0   \n",
       "7   Pasta mixed dishes, excludes macaroni and cheese        997806.0   \n",
       "8                                              Soups        998779.0   \n",
       "9                  Vegetables and Vegetable Products             NaN   \n",
       "10                 Vegetables and Vegetable Products             NaN   \n",
       "11       French fries and other fried white potatoes        998730.0   \n",
       "12       French fries and other fried white potatoes        998732.0   \n",
       "13                   White potatoes, baked or boiled        998601.0   \n",
       "14                                      Potato chips        998637.0   \n",
       "15                                      Potato chips        998638.0   \n",
       "16                                      Potato chips        998656.0   \n",
       "17                                      Potato chips        998664.0   \n",
       "18                                      Potato chips        998663.0   \n",
       "19         Mashed potatoes and white potato mixtures        998711.0   \n",
       "20         Mashed potatoes and white potato mixtures        998667.0   \n",
       "21         Mashed potatoes and white potato mixtures        998774.0   \n",
       "22                   White potatoes, baked or boiled        998599.0   \n",
       "23                   White potatoes, baked or boiled        998618.0   \n",
       "24                                        Baby Foods             NaN   \n",
       "25                                 Meat mixed dishes        995012.0   \n",
       "26                                 Meat mixed dishes        995015.0   \n",
       "27                                      Yeast breads        996390.0   \n",
       "28                                      Yeast breads        996397.0   \n",
       "29                                    Cakes and pies        996842.0   \n",
       "30                                             Soups        998778.0   \n",
       "31                   Meals, Entrees, and Side Dishes             NaN   \n",
       "32       French fries and other fried white potatoes        998710.0   \n",
       "33       French fries and other fried white potatoes        998708.0   \n",
       "34                 Vegetables and Vegetable Products             NaN   \n",
       "35                                            Snacks             NaN   \n",
       "36                       Tortilla, corn, other chips        998977.0   \n",
       "37                            Jams, syrups, toppings        999703.0   \n",
       "38                   Other red and orange vegetables        998971.0   \n",
       "39                   Other red and orange vegetables        998952.0   \n",
       "40                                            Snacks             NaN   \n",
       "41                                      Potato chips        998649.0   \n",
       "42                                      Potato chips        998648.0   \n",
       "43                                      Potato chips        997077.0   \n",
       "44                                  Fried vegetables        998985.0   \n",
       "45                                  Fried vegetables        998990.0   \n",
       "46                   Other red and orange vegetables        998975.0   \n",
       "47                              Poultry mixed dishes        995075.0   \n",
       "48                              Baby food: vegetable        999501.0   \n",
       "49                                      Potato chips        998651.0   \n",
       "\n",
       "                                   allHighlightFields      score  \\\n",
       "0   <b>Includes</b>: <em>potato</em> croquettes;<e...  271.13937   \n",
       "1   <b>Includes</b>: pastry filled with <em>potato...  268.09576   \n",
       "2                                                      259.42587   \n",
       "3                                                      259.42587   \n",
       "4                                                      257.77097   \n",
       "5                                                      257.69394   \n",
       "6                                                      257.69394   \n",
       "7                                                      257.69394   \n",
       "8                                                      257.69394   \n",
       "9                                                      257.69394   \n",
       "10                                                     257.69394   \n",
       "11  <b>Includes</b>: tater tots;<em>potato</em> puffs  244.68558   \n",
       "12  <b>Includes</b>: <em>potato</em> puffs;tater tots  244.68558   \n",
       "13  <b>Includes</b>: steamed <em>potato</em> NS as...  243.34824   \n",
       "14                                                     237.13692   \n",
       "15                                                     237.13692   \n",
       "16                                                     237.13692   \n",
       "17                                                     237.13692   \n",
       "18                                                     237.13692   \n",
       "19                                                     237.09836   \n",
       "20                                                     237.09836   \n",
       "21                                                     237.09836   \n",
       "22                                                     235.44345   \n",
       "23                                                     235.44345   \n",
       "24                                                     234.91989   \n",
       "25                                                     234.91989   \n",
       "26                                                     234.91989   \n",
       "27                                                     234.91989   \n",
       "28                                                     234.91989   \n",
       "29                                                     234.91989   \n",
       "30                                                     234.91989   \n",
       "31                                                     234.91989   \n",
       "32                                                     234.91989   \n",
       "33                                                     234.91989   \n",
       "34                                                     234.91989   \n",
       "35                                                     234.91989   \n",
       "36                                                     234.91989   \n",
       "37                                                     234.91989   \n",
       "38                                                     234.91989   \n",
       "39                                                     234.91989   \n",
       "40                                                     233.97700   \n",
       "41  <b>Includes</b>: <em>potato</em> crisps;<em>po...  228.49838   \n",
       "42  <b>Includes</b>: <em>potato</em> crisps;<em>po...  228.49838   \n",
       "43  <b>Includes</b>: <em>potato</em> crisps;Pringl...  228.01662   \n",
       "44       <b>Includes</b>: sweet <em>potato</em> puffs  227.07974   \n",
       "45       <b>Includes</b>: sweet <em>potato</em> puffs  227.07974   \n",
       "46     <b>Includes</b>: sweet <em>potato</em> pudding  227.07974   \n",
       "47  <b>Includes</b>: Chicken Helper, <em>Potatoes<...  225.99704   \n",
       "48  <b>Includes</b>: Gerber Graduates Diced <em>Po...  225.99704   \n",
       "49  <b>Includes</b>: <em>potato</em> crisps;any cu...  225.53215   \n",
       "\n",
       "                                        foodNutrients  \\\n",
       "0   [{'nutrientId': 1003, 'nutrientName': 'Protein...   \n",
       "1   [{'nutrientId': 1003, 'nutrientName': 'Protein...   \n",
       "2   [{'nutrientId': 1003, 'nutrientName': 'Protein...   \n",
       "3   [{'nutrientId': 1003, 'nutrientName': 'Protein...   \n",
       "4   [{'nutrientId': 1003, 'nutrientName': 'Protein...   \n",
       "5   [{'nutrientId': 1057, 'nutrientName': 'Caffein...   \n",
       "6   [{'nutrientId': 1003, 'nutrientName': 'Protein...   \n",
       "7   [{'nutrientId': 1003, 'nutrientName': 'Protein...   \n",
       "8   [{'nutrientId': 1003, 'nutrientName': 'Protein...   \n",
       "9   [{'nutrientId': 1186, 'nutrientName': 'Folic a...   \n",
       "10  [{'nutrientId': 1004, 'nutrientName': 'Total l...   \n",
       "11  [{'nutrientId': 1003, 'nutrientName': 'Protein...   \n",
       "12  [{'nutrientId': 1003, 'nutrientName': 'Protein...   \n",
       "13  [{'nutrientId': 1003, 'nutrientName': 'Protein...   \n",
       "14  [{'nutrientId': 1003, 'nutrientName': 'Protein...   \n",
       "15  [{'nutrientId': 1003, 'nutrientName': 'Protein...   \n",
       "16  [{'nutrientId': 1003, 'nutrientName': 'Protein...   \n",
       "17  [{'nutrientId': 1003, 'nutrientName': 'Protein...   \n",
       "18  [{'nutrientId': 1003, 'nutrientName': 'Protein...   \n",
       "19  [{'nutrientId': 1003, 'nutrientName': 'Protein...   \n",
       "20  [{'nutrientId': 1003, 'nutrientName': 'Protein...   \n",
       "21  [{'nutrientId': 1003, 'nutrientName': 'Protein...   \n",
       "22  [{'nutrientId': 1003, 'nutrientName': 'Protein...   \n",
       "23  [{'nutrientId': 1003, 'nutrientName': 'Protein...   \n",
       "24  [{'nutrientId': 1186, 'nutrientName': 'Folic a...   \n",
       "25  [{'nutrientId': 1003, 'nutrientName': 'Protein...   \n",
       "26  [{'nutrientId': 1003, 'nutrientName': 'Protein...   \n",
       "27  [{'nutrientId': 1003, 'nutrientName': 'Protein...   \n",
       "28  [{'nutrientId': 1003, 'nutrientName': 'Protein...   \n",
       "29  [{'nutrientId': 1003, 'nutrientName': 'Protein...   \n",
       "30  [{'nutrientId': 1003, 'nutrientName': 'Protein...   \n",
       "31  [{'nutrientId': 1004, 'nutrientName': 'Total l...   \n",
       "32  [{'nutrientId': 1003, 'nutrientName': 'Protein...   \n",
       "33  [{'nutrientId': 1003, 'nutrientName': 'Protein...   \n",
       "34  [{'nutrientId': 1062, 'nutrientName': 'Energy'...   \n",
       "35  [{'nutrientId': 1186, 'nutrientName': 'Folic a...   \n",
       "36  [{'nutrientId': 1003, 'nutrientName': 'Protein...   \n",
       "37  [{'nutrientId': 1003, 'nutrientName': 'Protein...   \n",
       "38  [{'nutrientId': 1003, 'nutrientName': 'Protein...   \n",
       "39  [{'nutrientId': 1003, 'nutrientName': 'Protein...   \n",
       "40  [{'nutrientId': 1114, 'nutrientName': 'Vitamin...   \n",
       "41  [{'nutrientId': 1003, 'nutrientName': 'Protein...   \n",
       "42  [{'nutrientId': 1003, 'nutrientName': 'Protein...   \n",
       "43  [{'nutrientId': 1003, 'nutrientName': 'Protein...   \n",
       "44  [{'nutrientId': 1003, 'nutrientName': 'Protein...   \n",
       "45  [{'nutrientId': 1003, 'nutrientName': 'Protein...   \n",
       "46  [{'nutrientId': 1003, 'nutrientName': 'Protein...   \n",
       "47  [{'nutrientId': 1003, 'nutrientName': 'Protein...   \n",
       "48  [{'nutrientId': 1003, 'nutrientName': 'Protein...   \n",
       "49  [{'nutrientId': 1003, 'nutrientName': 'Protein...   \n",
       "\n",
       "                                  finalFoodInputFoods  \\\n",
       "0   [{'foodDescription': 'Egg, whole, raw, fresh',...   \n",
       "1   [{'foodDescription': 'Margarine, stick', 'gram...   \n",
       "2   [{'foodDescription': 'Salt, table, iodized', '...   \n",
       "3   [{'foodDescription': 'Vegetable oil, NFS', 'gr...   \n",
       "4   [{'foodDescription': 'Potato, boiled, from fre...   \n",
       "5                                                  []   \n",
       "6   [{'foodDescription': 'Bread, potato', 'gramWei...   \n",
       "7   [{'foodDescription': 'Butter, salted', 'gramWe...   \n",
       "8   [{'foodDescription': 'Onions, raw', 'gramWeigh...   \n",
       "9                                                  []   \n",
       "10                                                 []   \n",
       "11  [{'foodDescription': 'Potato tots, frozen, fri...   \n",
       "12  [{'foodDescription': 'Salt, table, iodized', '...   \n",
       "13  [{'foodDescription': 'Potato, boiled, from fre...   \n",
       "14  [{'foodDescription': 'Potato chips, plain', 'g...   \n",
       "15  [{'foodDescription': 'Snacks, potato chips, pl...   \n",
       "16  [{'foodDescription': 'Oil, corn, industrial an...   \n",
       "17  [{'foodDescription': 'Snacks, potato sticks', ...   \n",
       "18  [{'foodDescription': 'Snacks, potato sticks', ...   \n",
       "19  [{'foodDescription': 'Potato, mashed, from fre...   \n",
       "20  [{'foodDescription': 'Potato, scalloped, from ...   \n",
       "21  [{'foodDescription': 'Salt, table, iodized', '...   \n",
       "22  [{'foodDescription': 'Potato, baked, peel not ...   \n",
       "23  [{'foodDescription': 'Potato, roasted, from fr...   \n",
       "24                                                 []   \n",
       "25  [{'foodDescription': 'Salt, table, iodized', '...   \n",
       "26  [{'foodDescription': 'Wheat flour, white, all-...   \n",
       "27  [{'foodDescription': 'Bread, potato', 'gramWei...   \n",
       "28  [{'foodDescription': 'Shortening, vegetable, h...   \n",
       "29  [{'foodDescription': 'Sweet potato, cooked, bo...   \n",
       "30  [{'foodDescription': 'Milk, NFS', 'gramWeight'...   \n",
       "31                                                 []   \n",
       "32  [{'foodDescription': 'Potato skins, with chees...   \n",
       "33  [{'foodDescription': 'Potatoes, baked, flesh, ...   \n",
       "34                                                 []   \n",
       "35                                                 []   \n",
       "36  [{'foodDescription': 'Salt, table, iodized', '...   \n",
       "37  [{'foodDescription': 'Sugars, granulated', 'gr...   \n",
       "38  [{'foodDescription': 'Sugars, granulated', 'gr...   \n",
       "39  [{'foodDescription': 'Sweet potato, boiled, NS...   \n",
       "40                                                 []   \n",
       "41  [{'foodDescription': 'Salt, table, iodized', '...   \n",
       "42  [{'foodDescription': 'Salt, table, iodized', '...   \n",
       "43  [{'foodDescription': 'Snacks, potato chips, ma...   \n",
       "44  [{'foodDescription': 'Sweet potato tots, from ...   \n",
       "45  [{'foodDescription': 'Sweet Potatoes, french f...   \n",
       "46  [{'foodDescription': 'Salt, table, iodized', '...   \n",
       "47  [{'foodDescription': 'Chicken, NS as to part, ...   \n",
       "48  [{'foodDescription': 'Babyfood, potatoes, todd...   \n",
       "49  [{'foodDescription': 'Snacks, potato chips, wh...   \n",
       "\n",
       "                                         foodMeasures foodAttributes  \\\n",
       "0   [{'disseminationText': '1 cup', 'gramWeight': ...             []   \n",
       "1   [{'disseminationText': '1 knish', 'gramWeight'...             []   \n",
       "2   [{'disseminationText': '1 surface inch', 'gram...             []   \n",
       "3   [{'disseminationText': '1 cup', 'gramWeight': ...             []   \n",
       "4   [{'disseminationText': '1 cup', 'gramWeight': ...             []   \n",
       "5                                                  []             []   \n",
       "6   [{'disseminationText': '1 large or thick slice...             []   \n",
       "7   [{'disseminationText': '1 cup', 'gramWeight': ...             []   \n",
       "8   [{'disseminationText': '1 cup', 'gramWeight': ...             []   \n",
       "9                                                  []             []   \n",
       "10                                                 []             []   \n",
       "11  [{'disseminationText': '1 cup', 'gramWeight': ...             []   \n",
       "12  [{'disseminationText': '1 cup', 'gramWeight': ...             []   \n",
       "13  [{'disseminationText': '1 cup', 'gramWeight': ...             []   \n",
       "14  [{'disseminationText': '1 cup', 'gramWeight': ...             []   \n",
       "15  [{'disseminationText': '1 cup', 'gramWeight': ...             []   \n",
       "16  [{'disseminationText': '1 cup', 'gramWeight': ...             []   \n",
       "17  [{'disseminationText': '1 cup', 'gramWeight': ...             []   \n",
       "18  [{'disseminationText': '1 cup', 'gramWeight': ...             []   \n",
       "19  [{'disseminationText': '1 cup', 'gramWeight': ...             []   \n",
       "20  [{'disseminationText': '1 cup', 'gramWeight': ...             []   \n",
       "21  [{'disseminationText': '1 cup', 'gramWeight': ...             []   \n",
       "22  [{'disseminationText': '1 cup', 'gramWeight': ...             []   \n",
       "23  [{'disseminationText': '1 cup', 'gramWeight': ...             []   \n",
       "24                                                 []             []   \n",
       "25  [{'disseminationText': '1 cup', 'gramWeight': ...             []   \n",
       "26  [{'disseminationText': '1 cup', 'gramWeight': ...             []   \n",
       "27  [{'disseminationText': '1 large or thick slice...             []   \n",
       "28  [{'disseminationText': '1 large or thick slice...             []   \n",
       "29  [{'disseminationText': '1 cup', 'gramWeight': ...             []   \n",
       "30  [{'disseminationText': '1 cup', 'gramWeight': ...             []   \n",
       "31                                                 []             []   \n",
       "32  [{'disseminationText': 'Skin from 1 large', 'g...             []   \n",
       "33  [{'disseminationText': 'Skin from 1 small', 'g...             []   \n",
       "34                                                 []             []   \n",
       "35                                                 []             []   \n",
       "36  [{'disseminationText': '1 cup', 'gramWeight': ...             []   \n",
       "37  [{'disseminationText': '1 tablespoon', 'gramWe...             []   \n",
       "38  [{'disseminationText': '1 cup', 'gramWeight': ...             []   \n",
       "39  [{'disseminationText': '1 cup, mashed', 'gramW...             []   \n",
       "40                                                 []             []   \n",
       "41  [{'disseminationText': '1 cup', 'gramWeight': ...             []   \n",
       "42  [{'disseminationText': '1 cup', 'gramWeight': ...             []   \n",
       "43  [{'disseminationText': '1 cup', 'gramWeight': ...             []   \n",
       "44  [{'disseminationText': '1 cup', 'gramWeight': ...             []   \n",
       "45  [{'disseminationText': '1 cup', 'gramWeight': ...             []   \n",
       "46  [{'disseminationText': '1 cup', 'gramWeight': ...             []   \n",
       "47  [{'disseminationText': '1 cup', 'gramWeight': ...             []   \n",
       "48  [{'disseminationText': '1 cup', 'gramWeight': ...             []   \n",
       "49  [{'disseminationText': '1 cup', 'gramWeight': ...             []   \n",
       "\n",
       "                                   foodAttributeTypes foodVersionIds  \\\n",
       "0   [{'name': 'Additional Description', 'descripti...             []   \n",
       "1   [{'name': 'Adjustments', 'description': 'Adjus...             []   \n",
       "2   [{'name': 'Adjustments', 'description': 'Adjus...             []   \n",
       "3   [{'name': 'Additional Description', 'descripti...             []   \n",
       "4   [{'name': 'Attribute', 'description': 'Generic...             []   \n",
       "5                                                  []             []   \n",
       "6   [{'name': 'Additional Description', 'descripti...             []   \n",
       "7   [{'name': 'Adjustments', 'description': 'Adjus...             []   \n",
       "8   [{'name': 'Adjustments', 'description': 'Adjus...             []   \n",
       "9                                                  []             []   \n",
       "10                                                 []             []   \n",
       "11  [{'name': 'Additional Description', 'descripti...             []   \n",
       "12  [{'name': 'Additional Description', 'descripti...             []   \n",
       "13  [{'name': 'Additional Description', 'descripti...             []   \n",
       "14  [{'name': 'Additional Description', 'descripti...             []   \n",
       "15  [{'name': 'Additional Description', 'descripti...             []   \n",
       "16  [{'name': 'Additional Description', 'descripti...             []   \n",
       "17  [{'name': 'Additional Description', 'descripti...             []   \n",
       "18  [{'name': 'Additional Description', 'descripti...             []   \n",
       "19  [{'name': 'Attribute', 'description': 'Generic...             []   \n",
       "20  [{'name': 'Additional Description', 'descripti...             []   \n",
       "21  [{'name': 'Additional Description', 'descripti...             []   \n",
       "22  [{'name': 'Attribute', 'description': 'Generic...             []   \n",
       "23  [{'name': 'Additional Description', 'descripti...             []   \n",
       "24                                                 []             []   \n",
       "25  [{'name': 'Adjustments', 'description': 'Adjus...             []   \n",
       "26  [{'name': 'Adjustments', 'description': 'Adjus...             []   \n",
       "27  [{'name': 'Adjustments', 'description': 'Adjus...             []   \n",
       "28  [{'name': 'Adjustments', 'description': 'Adjus...             []   \n",
       "29  [{'name': 'Adjustments', 'description': 'Adjus...             []   \n",
       "30  [{'name': 'Adjustments', 'description': 'Adjus...             []   \n",
       "31                                                 []             []   \n",
       "32  [{'name': 'Attribute', 'description': 'Generic...             []   \n",
       "33  [{'name': 'Additional Description', 'descripti...             []   \n",
       "34                                                 []             []   \n",
       "35                                                 []             []   \n",
       "36  [{'name': 'Attribute', 'description': 'Generic...             []   \n",
       "37  [{'name': 'Additional Description', 'descripti...             []   \n",
       "38  [{'name': 'Attribute', 'description': 'Generic...             []   \n",
       "39  [{'name': 'Attribute', 'description': 'Generic...             []   \n",
       "40                                                 []             []   \n",
       "41  [{'name': 'Additional Description', 'descripti...             []   \n",
       "42  [{'name': 'Additional Description', 'descripti...             []   \n",
       "43  [{'name': 'Additional Description', 'descripti...             []   \n",
       "44  [{'name': 'Additional Description', 'descripti...             []   \n",
       "45  [{'name': 'Adjustments', 'description': 'Adjus...             []   \n",
       "46  [{'name': 'Additional Description', 'descripti...             []   \n",
       "47  [{'name': 'Adjustments', 'description': 'Adjus...             []   \n",
       "48  [{'name': 'Additional Description', 'descripti...             []   \n",
       "49  [{'name': 'Additional Description', 'descripti...             []   \n",
       "\n",
       "    ndbNumber     scientificName  \n",
       "0         NaN                NaN  \n",
       "1         NaN                NaN  \n",
       "2         NaN                NaN  \n",
       "3         NaN                NaN  \n",
       "4         NaN                NaN  \n",
       "5     18971.0                NaN  \n",
       "6         NaN                NaN  \n",
       "7         NaN                NaN  \n",
       "8         NaN                NaN  \n",
       "9     11413.0                NaN  \n",
       "10    11672.0                NaN  \n",
       "11        NaN                NaN  \n",
       "12        NaN                NaN  \n",
       "13        NaN                NaN  \n",
       "14        NaN                NaN  \n",
       "15        NaN                NaN  \n",
       "16        NaN                NaN  \n",
       "17        NaN                NaN  \n",
       "18        NaN                NaN  \n",
       "19        NaN                NaN  \n",
       "20        NaN                NaN  \n",
       "21        NaN                NaN  \n",
       "22        NaN                NaN  \n",
       "23        NaN                NaN  \n",
       "24     3112.0                NaN  \n",
       "25        NaN                NaN  \n",
       "26        NaN                NaN  \n",
       "27        NaN                NaN  \n",
       "28        NaN                NaN  \n",
       "29        NaN                NaN  \n",
       "30        NaN                NaN  \n",
       "31    22971.0                NaN  \n",
       "32        NaN                NaN  \n",
       "33        NaN                NaN  \n",
       "34    11362.0  Solanum tuberosum  \n",
       "35    19415.0                NaN  \n",
       "36        NaN                NaN  \n",
       "37        NaN                NaN  \n",
       "38        NaN                NaN  \n",
       "39        NaN                NaN  \n",
       "40    19410.0                NaN  \n",
       "41        NaN                NaN  \n",
       "42        NaN                NaN  \n",
       "43        NaN                NaN  \n",
       "44        NaN                NaN  \n",
       "45        NaN                NaN  \n",
       "46        NaN                NaN  \n",
       "47        NaN                NaN  \n",
       "48        NaN                NaN  \n",
       "49        NaN                NaN  "
      ]
     },
     "execution_count": 7,
     "metadata": {},
     "output_type": "execute_result"
    }
   ],
   "source": [
    "# Search for foods in the FDC database\n",
    "apikey = 'MfcTfizjo11bsqJeJCn9Tb7RdKPQxJRjJSvTKElr' # This is Kaitlin's API key!\n",
    "food_name = \"potato\"\n",
    "fdc.search(apikey,food_name)"
   ]
  },
  {
   "cell_type": "code",
   "execution_count": 8,
   "metadata": {},
   "outputs": [
    {
     "data": {
      "text/html": [
       "<div>\n",
       "<style scoped>\n",
       "    .dataframe tbody tr th:only-of-type {\n",
       "        vertical-align: middle;\n",
       "    }\n",
       "\n",
       "    .dataframe tbody tr th {\n",
       "        vertical-align: top;\n",
       "    }\n",
       "\n",
       "    .dataframe thead th {\n",
       "        text-align: right;\n",
       "    }\n",
       "</style>\n",
       "<table border=\"1\" class=\"dataframe\">\n",
       "  <thead>\n",
       "    <tr style=\"text-align: right;\">\n",
       "      <th></th>\n",
       "      <th>Quantity</th>\n",
       "      <th>Units</th>\n",
       "    </tr>\n",
       "  </thead>\n",
       "  <tbody>\n",
       "    <tr>\n",
       "      <th>Proximates</th>\n",
       "      <td>0.00</td>\n",
       "      <td>g</td>\n",
       "    </tr>\n",
       "    <tr>\n",
       "      <th>Water</th>\n",
       "      <td>72.09</td>\n",
       "      <td>g</td>\n",
       "    </tr>\n",
       "    <tr>\n",
       "      <th>Energy</th>\n",
       "      <td>125.00</td>\n",
       "      <td>kcal</td>\n",
       "    </tr>\n",
       "    <tr>\n",
       "      <th>Protein</th>\n",
       "      <td>1.87</td>\n",
       "      <td>g</td>\n",
       "    </tr>\n",
       "    <tr>\n",
       "      <th>Total lipid (fat)</th>\n",
       "      <td>4.24</td>\n",
       "      <td>g</td>\n",
       "    </tr>\n",
       "    <tr>\n",
       "      <th>...</th>\n",
       "      <td>...</td>\n",
       "      <td>...</td>\n",
       "    </tr>\n",
       "    <tr>\n",
       "      <th>Cholesterol</th>\n",
       "      <td>3.00</td>\n",
       "      <td>mg</td>\n",
       "    </tr>\n",
       "    <tr>\n",
       "      <th>Amino acids</th>\n",
       "      <td>0.00</td>\n",
       "      <td>g</td>\n",
       "    </tr>\n",
       "    <tr>\n",
       "      <th>Alcohol, ethyl</th>\n",
       "      <td>0.00</td>\n",
       "      <td>g</td>\n",
       "    </tr>\n",
       "    <tr>\n",
       "      <th>Caffeine</th>\n",
       "      <td>0.00</td>\n",
       "      <td>mg</td>\n",
       "    </tr>\n",
       "    <tr>\n",
       "      <th>Theobromine</th>\n",
       "      <td>0.00</td>\n",
       "      <td>mg</td>\n",
       "    </tr>\n",
       "  </tbody>\n",
       "</table>\n",
       "<p>71 rows × 2 columns</p>\n",
       "</div>"
      ],
      "text/plain": [
       "                   Quantity Units\n",
       "Proximates             0.00     g\n",
       "Water                 72.09     g\n",
       "Energy               125.00  kcal\n",
       "Protein                1.87     g\n",
       "Total lipid (fat)      4.24     g\n",
       "...                     ...   ...\n",
       "Cholesterol            3.00    mg\n",
       "Amino acids            0.00     g\n",
       "Alcohol, ethyl         0.00     g\n",
       "Caffeine               0.00    mg\n",
       "Theobromine            0.00    mg\n",
       "\n",
       "[71 rows x 2 columns]"
      ]
     },
     "execution_count": 8,
     "metadata": {},
     "output_type": "execute_result"
    }
   ],
   "source": [
    "# Extract food's nutrition info using the FDC ID\n",
    "id =  1102879\n",
    "fdc.nutrients(apikey,fdc_id=id)"
   ]
  },
  {
   "cell_type": "code",
   "execution_count": 9,
   "metadata": {},
   "outputs": [
    {
     "name": "stdout",
     "output_type": "stream",
     "text": [
      "Key available for students@eep153.iam.gserviceaccount.com.\n"
     ]
    }
   ],
   "source": [
    "# Read google spreadsheet with food/price info\n",
    "SHEETs = [(\"https://docs.google.com/spreadsheets/d/1j38SlusoWvBtohgU-PAondBKihr1tCpjfLcgit7Ic_s/edit#gid=0\",\n",
    "           \"Berkeley, Whole\"), \n",
    "         ]\n",
    "df = read_sheets(SHEETs[0][0])[SHEETs[0][1]]\n",
    "df = df.drop(['Name of person', 'Link'], axis=1)"
   ]
  },
  {
   "cell_type": "code",
   "execution_count": 10,
   "metadata": {},
   "outputs": [],
   "source": [
    "# Create a dataframe with selected food nutrition info\n",
    "D = {}\n",
    "count = 0\n",
    "for food in df.Food.tolist():\n",
    "    try:\n",
    "        FDC = df.loc[df.Food==food,:].FDC[count]\n",
    "        count+=1\n",
    "        D[food] = fdc.nutrients(apikey,FDC).Quantity\n",
    "    except AttributeError: \n",
    "        warnings.warn(\"Couldn't find FDC Code %s for food %s.\" % (food,FDC))        \n",
    "\n",
    "FoodNutrients = pd.DataFrame(D,dtype=float)"
   ]
  },
  {
   "cell_type": "code",
   "execution_count": 11,
   "metadata": {},
   "outputs": [
    {
     "name": "stderr",
     "output_type": "stream",
     "text": [
      "/opt/conda/lib/python3.9/site-packages/pandas/core/dtypes/cast.py:1990: UnitStrippedWarning:\n",
      "\n",
      "The unit of the quantity is stripped when downcasting to ndarray.\n",
      "\n"
     ]
    }
   ],
   "source": [
    "# Convert food quantities to FDC units\n",
    "df['FDC Quantity'] = df[['Quantity','Units']].T.apply(lambda x : fdc.units(x['Quantity'],x['Units']))\n",
    "\n",
    "# Now may want to filter df by time or place--need to get a unique set of food names.\n",
    "df['FDC Price'] = df['Price']/df['FDC Quantity']\n",
    "\n",
    "df.dropna(how='any') # Drop food with any missing data\n",
    "\n",
    "# To use minimum price observed\n",
    "Prices = df.groupby('Food',sort=False)['FDC Price'].min()"
   ]
  },
  {
   "cell_type": "markdown",
   "metadata": {},
   "source": [
    "# Deliverable: Dietary Reference Intakes"
   ]
  },
  {
   "cell_type": "code",
   "execution_count": 12,
   "metadata": {},
   "outputs": [],
   "source": [
    "def DRI(age, sex):\n",
    "    '''\n",
    "    Description: Function that retrieves Dietary Reference Intakes or Recommended Daily Allowances for a\n",
    "        population of interest described by the input characteristics\n",
    "\n",
    "    Inputs:\n",
    "        Age: The age of interest, in years (integer)\n",
    "        Sex: The sex of interest, 'M' or 'F' (string)\n",
    "        \n",
    "    Output: Returns a pandas.Series of DRI or RDA of a variety of nutrients for our population of interest\n",
    "    '''\n",
    "    \n",
    "    # Make a combined dataframe with min and max nutrients\n",
    "    nut_min = pd.read_csv('./diet_minimums.csv').set_index('Nutrition').iloc[:, 2:]\n",
    "    nut_max = pd.read_csv('./diet_maximums.csv').set_index('Nutrition').iloc[:, 2:]\n",
    "    nut = pd.concat([nut_min, -nut_max])\n",
    "    \n",
    "    # Case 1: Child\n",
    "    if age in range(1, 4):\n",
    "        return nut.loc[:,'C 1-3']\n",
    "    \n",
    "    # Case 2: Not a child\n",
    "    # Determine the age-range; Filter data by desired age-range and sex\n",
    "    age_ranges = [[1,4], [4,9], [9,14], [14,19], [19,31], [31,51], [51,1000]]\n",
    "    for r in age_ranges:\n",
    "        if age in range(r[0], r[1]):\n",
    "            return nut.filter(regex = sex).filter(regex = ' ' + str(r[0])).iloc[:, 0]\n",
    "        \n",
    "def grouping(age, sex):\n",
    "    # Case 1: Child\n",
    "    if age in range(1, 4):\n",
    "        return 'C 1-3'\n",
    "    \n",
    "    # Case 2: Not a child\n",
    "    # Determine the age-range; Filter data by desired age-range and sex\n",
    "    age_ranges = [[1,4], [4,9], [9,14], [14,19], [19,31], [31,51], [51,1000]]\n",
    "    for r in age_ranges:\n",
    "        if age in range(r[0], r[1]):\n",
    "            return sex + ' ' + str(r[0]) + '-' + str(r[1]-1)"
   ]
  },
  {
   "cell_type": "markdown",
   "metadata": {},
   "source": [
    "# Deliverable: Subsistence Solver"
   ]
  },
  {
   "cell_type": "code",
   "execution_count": 13,
   "metadata": {},
   "outputs": [],
   "source": [
    "def solve_subsistence_problem(FoodNutrients,Prices,diet_min,diet_max,max_weight=23,tol=1e-6):\n",
    "    \"\"\"Solve Stigler's Subsistence Cost Problem.\n",
    "\n",
    "    Inputs:\n",
    "       - FoodNutrients : A pd.DataFrame with rows corresponding to foods, columns to nutrients.\n",
    "       - Prices : A pd.Series of prices for different foods\n",
    "       - diet_min : A pd.Series of DRIs, with index corresponding to columns of FoodNutrients,\n",
    "                    describing minimum intakes.\n",
    "       - diet_max : A pd.Series of DRIs, with index corresponding to columns of FoodNutrients,\n",
    "                    describing maximum intakes.\n",
    "       - max_weight : Maximum weight (in hectograms) allowed for diet.\n",
    "       - tol : Solution values smaller than this in absolute value treated as zeros.\n",
    "       \n",
    "    \"\"\"\n",
    "    p = Prices.apply(lambda x:x.magnitude).dropna()\n",
    "\n",
    "    # Compile list that we have both prices and nutritional info for; drop if either missing\n",
    "    use = p.index.intersection(FoodNutrients.columns)\n",
    "    p = p[use]\n",
    "\n",
    "    # Drop nutritional information for foods we don't know the price of,\n",
    "    # and replace missing nutrients with zeros.\n",
    "    Aall = FoodNutrients[p.index].fillna(0)\n",
    "\n",
    "    # Drop rows of A that we don't have constraints for.\n",
    "    Amin = Aall.loc[Aall.index.intersection(diet_min.index)]\n",
    "\n",
    "    Amax = Aall.loc[Aall.index.intersection(diet_max.index)]\n",
    "\n",
    "    # Minimum requirements involve multiplying constraint by -1 to make <=.\n",
    "    A = pd.concat([Amin,\n",
    "                   -Amax])\n",
    "\n",
    "    b = pd.concat([diet_min,\n",
    "                   -diet_max]) # Note sign change for max constraints\n",
    "\n",
    "    # Make sure order of p, A, b are consistent\n",
    "    A = A.reindex(p.index,axis=1)\n",
    "    A = A.reindex(b.index,axis=0)\n",
    "\n",
    "    if max_weight is not None:\n",
    "        # Add up weights of foods consumed\n",
    "        A.loc['Hectograms'] = -1\n",
    "        b.loc['Hectograms'] = -max_weight\n",
    "        \n",
    "    # Now solve problem!  (Note that the linear program solver we'll use assumes\n",
    "    # \"less-than-or-equal\" constraints.  We can switch back and forth by\n",
    "    # multiplying $A$ and $b$ by $-1$.)\n",
    "\n",
    "    result = lp(p, -A, -b, method='interior-point')\n",
    "\n",
    "    result.A = A\n",
    "    result.b = b\n",
    "    \n",
    "    if result.success:\n",
    "        result.diet = pd.Series(result.x,index=p.index)\n",
    "    else: # No feasible solution?\n",
    "        warnings.warn(result.message)\n",
    "        result.diet = pd.Series(result.x,index=p.index)*np.nan  \n",
    "\n",
    "    return result"
   ]
  },
  {
   "cell_type": "markdown",
   "metadata": {},
   "source": [
    "## Dietary Requirements\n",
    "\n"
   ]
  },
  {
   "cell_type": "code",
   "execution_count": 14,
   "metadata": {},
   "outputs": [
    {
     "name": "stdout",
     "output_type": "stream",
     "text": [
      "Key available for students@eep153.iam.gserviceaccount.com.\n"
     ]
    }
   ],
   "source": [
    "# Read Dietary Requirements sheet from class\n",
    "DRI_url = \"https://docs.google.com/spreadsheets/d/1XJRHTnxNJwrUXperIhwrwDp1HcVxPEVoQobYDmjg9Qw/\"\n",
    "\n",
    "DRIs = read_sheets(DRI_url)\n",
    "\n",
    "# Define *minimums*\n",
    "diet_min = DRIs['diet_minimums'].set_index('Nutrition')\n",
    "\n",
    "# Define *maximums*\n",
    "diet_max = DRIs['diet_maximums'].set_index('Nutrition')\n",
    "\n",
    "# diet max but with forgiving values - basically forces the output to tell us the end values for sugar, chol, salt\n",
    "diet_max_forgiving = DRIs['diet_maximums_forgiving'].set_index('Nutrition')"
   ]
  },
  {
   "cell_type": "markdown",
   "metadata": {},
   "source": [
    "## Solving for the Minimum Cost Diet\n"
   ]
  },
  {
   "cell_type": "code",
   "execution_count": 15,
   "metadata": {},
   "outputs": [
    {
     "name": "stdout",
     "output_type": "stream",
     "text": [
      "Cost of diet for M 19-30 is $3.30 per day.\n",
      "\n",
      "\n",
      "Diet (in 100s of grams or milliliters):\n",
      "egg              0.183548\n",
      "broccoli         0.587432\n",
      "carrots          0.790452\n",
      "peanut butter    0.707015\n",
      "whole milk       3.763467\n",
      "almond milk      0.534842\n",
      "potatoes         1.254121\n",
      "black beans      4.302618\n",
      "oats             2.248025\n",
      "spinach          0.050269\n",
      "dtype: float64\n",
      "\n",
      "\n",
      "With the following nutritional outcomes of interest:\n",
      "                                    Outcome  Recommendation\n",
      "Nutrition                                                  \n",
      "Energy                          2400.000007          2400.0\n",
      "Protein                          103.431080            56.0\n",
      "Fiber, total dietary              75.162112            33.6\n",
      "Folate, DFE                      571.528723           400.0\n",
      "Calcium, Ca                     1000.000007          1000.0\n",
      "Carbohydrate, by difference      327.917661           130.0\n",
      "Iron, Fe                          24.471712             8.0\n",
      "Magnesium, Mg                    755.921109           400.0\n",
      "Niacin                            18.942580            16.0\n",
      "Phosphorus, P                   2404.429865           700.0\n",
      "Potassium, K                    4700.000018          4700.0\n",
      "Riboflavin                         1.970860             1.3\n",
      "Thiamin                            2.423071             1.2\n",
      "Vitamin A, RAE                   900.000048           900.0\n",
      "Vitamin B-12                       2.400000             2.4\n",
      "Vitamin B-6                        1.724125             1.3\n",
      "Vitamin C, total ascorbic acid    90.000002            90.0\n",
      "Vitamin E (alpha-tocopherol)      15.000001            15.0\n",
      "Vitamin K (phylloquinone)        120.000004           120.0\n",
      "Zinc, Zn                          16.048555            11.0\n",
      "Sodium, Na                      2299.999981          2300.0\n",
      "Sugars, total including NLEA      36.000000            36.0\n",
      "Cholesterol                      124.362162           300.0\n",
      "Hectograms                        14.421790            23.0\n",
      "\n",
      "\n",
      "Constraining nutrients are:\n",
      "['Energy', 'Calcium, Ca', 'Potassium, K', 'Vitamin A, RAE', 'Vitamin B-12', 'Vitamin C, total ascorbic acid', 'Vitamin E (alpha-tocopherol)', 'Vitamin K (phylloquinone)', 'Sodium, Na', 'Sugars, total including NLEA']\n"
     ]
    }
   ],
   "source": [
    "# Select a group of people to investigate\n",
    "group = 'M 19-30'\n",
    "tol = 1e-6\n",
    "\n",
    "result = solve_subsistence_problem(FoodNutrients,Prices,diet_min[group],diet_max[group],tol=tol)\n",
    "\n",
    "print(\"Cost of diet for %s is $%4.2f per day.\\n\" % (group,result.fun))\n",
    "\n",
    "# Put back into nice series\n",
    "diet = result.diet\n",
    "\n",
    "print(\"\\nDiet (in 100s of grams or milliliters):\")\n",
    "print(diet[diet >= tol])  # Drop items with quantities less than precision of calculation.\n",
    "print()\n",
    "\n",
    "tab = pd.DataFrame({\"Outcome\":np.abs(result.A).dot(diet),\"Recommendation\":np.abs(result.b)})\n",
    "print(\"\\nWith the following nutritional outcomes of interest:\")\n",
    "print(tab)\n",
    "print()\n",
    "\n",
    "print(\"\\nConstraining nutrients are:\")\n",
    "excess = tab.diff(axis=1).iloc[:,1]\n",
    "print(excess.loc[np.abs(excess) < tol*100].index.tolist())"
   ]
  },
  {
   "cell_type": "markdown",
   "metadata": {},
   "source": [
    "## Effects of Price Changes on Subsistence Diet Cost\n",
    "\n"
   ]
  },
  {
   "cell_type": "markdown",
   "metadata": {},
   "source": [
    "As prices change, we should expect the minimum cost diet to also\n",
    "  change.  The code below creates a graph which changes prices away\n",
    "  from the \\`base&rsquo; case one food at a time, and plots changes in total\n",
    "  diet cost.\n",
    "\n"
   ]
  },
  {
   "cell_type": "code",
   "execution_count": 16,
   "metadata": {},
   "outputs": [
    {
     "data": {
      "text/html": [
       "        <script type=\"text/javascript\">\n",
       "        window.PlotlyConfig = {MathJaxConfig: 'local'};\n",
       "        if (window.MathJax) {MathJax.Hub.Config({SVG: {font: \"STIX-Web\"}});}\n",
       "        if (typeof require !== 'undefined') {\n",
       "        require.undef(\"plotly\");\n",
       "        requirejs.config({\n",
       "            paths: {\n",
       "                'plotly': ['https://cdn.plot.ly/plotly-2.3.1.min']\n",
       "            }\n",
       "        });\n",
       "        require(['plotly'], function(Plotly) {\n",
       "            window._Plotly = Plotly;\n",
       "        });\n",
       "        }\n",
       "        </script>\n",
       "        "
      ]
     },
     "metadata": {},
     "output_type": "display_data"
    },
    {
     "data": {
      "application/vnd.plotly.v1+json": {
       "config": {
        "linkText": "Export to plot.ly",
        "plotlyServerURL": "https://plot.ly",
        "showLink": true
       },
       "data": [
        {
         "line": {
          "color": "rgba(255, 153, 51, 1.0)",
          "dash": "solid",
          "shape": "linear",
          "width": 1.3
         },
         "mode": "lines",
         "name": "egg",
         "text": "",
         "type": "scatter",
         "x": [
          -0.6931471805599453,
          -0.5108256237659907,
          -0.35667494393873245,
          -0.2231435513142097,
          -0.10536051565782628,
          0,
          0.09531017980432493,
          0.1823215567939546,
          0.26236426446749106,
          0.3364722366212129,
          0.4054651081081644
         ],
         "y": [
          -0.04374302457293774,
          -0.03352284773140502,
          -0.0234058474571926,
          -0.013390176489528241,
          -0.0034686007942407353,
          0,
          0.003033415580268101,
          0.00605769568201418,
          0.009072855281785013,
          0.012078984305927423,
          0.012143416392669991
         ]
        },
        {
         "line": {
          "color": "rgba(55, 128, 191, 1.0)",
          "dash": "solid",
          "shape": "linear",
          "width": 1.3
         },
         "mode": "lines",
         "name": "broccoli",
         "text": "",
         "type": "scatter",
         "x": [
          -0.6931471805599453,
          -0.5108256237659907,
          -0.35667494393873245,
          -0.2231435513142097,
          -0.10536051565782628,
          0,
          0.09531017980432493,
          0.1823215567939546,
          0.26236426446749106,
          0.3364722366212129,
          0.4054651081081644
         ],
         "y": [
          -0.04422338466276427,
          -0.03277931568072526,
          -0.02364423266973921,
          -0.01570015221829211,
          -0.007819311451700206,
          0,
          0.0010874902689097072,
          0.0010874683243478765,
          0.0010874694308733739,
          0.001087475177239786,
          0.0010874837919464904
         ]
        },
        {
         "line": {
          "color": "rgba(50, 171, 96, 1.0)",
          "dash": "solid",
          "shape": "linear",
          "width": 1.3
         },
         "mode": "lines",
         "name": "carrots",
         "text": "",
         "type": "scatter",
         "x": [
          -0.6931471805599453,
          -0.5108256237659907,
          -0.35667494393873245,
          -0.2231435513142097,
          -0.10536051565782628,
          0,
          0.09531017980432493,
          0.1823215567939546,
          0.26236426446749106,
          0.3364722366212129,
          0.4054651081081644
         ],
         "y": [
          -0.023756361912519043,
          -0.018959735094459716,
          -0.014186026221099162,
          -0.009434968878633166,
          -0.004706377399223114,
          0,
          0.004684311842888605,
          0.0093467339584787,
          0.013987515425428079,
          0.018606892508792838,
          0.023205289090928467
         ]
        },
        {
         "line": {
          "color": "rgba(128, 0, 128, 1.0)",
          "dash": "solid",
          "shape": "linear",
          "width": 1.3
         },
         "mode": "lines",
         "name": "peanut butter",
         "text": "",
         "type": "scatter",
         "x": [
          -0.6931471805599453,
          -0.5108256237659907,
          -0.35667494393873245,
          -0.2231435513142097,
          -0.10536051565782628,
          0,
          0.09531017980432493,
          0.1823215567939546,
          0.26236426446749106,
          0.3364722366212129,
          0.4054651081081644
         ],
         "y": [
          -0.04467886436859458,
          -0.03558188408460681,
          -0.02656709420818851,
          -0.017632747447552884,
          -0.00877753613981572,
          0,
          0.007790612054096394,
          0.014449127746078186,
          0.02106360177847337,
          0.02764781527107711,
          0.03416273149577499
         ]
        },
        {
         "line": {
          "color": "rgba(219, 64, 82, 1.0)",
          "dash": "solid",
          "shape": "linear",
          "width": 1.3
         },
         "mode": "lines",
         "name": "whole milk",
         "text": "",
         "type": "scatter",
         "x": [
          -0.6931471805599453,
          -0.5108256237659907,
          -0.35667494393873245,
          -0.2231435513142097,
          -0.10536051565782628,
          0,
          0.09531017980432493,
          0.1823215567939546,
          0.26236426446749106,
          0.3364722366212129,
          0.4054651081081644
         ],
         "y": [
          -0.07461503485720258,
          -0.059240700327126326,
          -0.04409830242561479,
          -0.029181723038023813,
          -0.014484461514237865,
          0,
          0.01347603930060901,
          0.02571722237481905,
          0.03780206828827654,
          0.04974751424504055,
          0.0615503510476219
         ]
        },
        {
         "line": {
          "color": "rgba(0, 128, 128, 1.0)",
          "dash": "solid",
          "shape": "linear",
          "width": 1.3
         },
         "mode": "lines",
         "name": "almond milk",
         "text": "",
         "type": "scatter",
         "x": [
          -0.6931471805599453,
          -0.5108256237659907,
          -0.35667494393873245,
          -0.2231435513142097,
          -0.10536051565782628,
          0,
          0.09531017980432493,
          0.1823215567939546,
          0.26236426446749106,
          0.3364722366212129,
          0.4054651081081644
         ],
         "y": [
          -0.050368617697252975,
          -0.0365672652210604,
          -0.022953793370727713,
          -0.012191758280541089,
          -0.005530081513823953,
          0,
          0.0032875134098355793,
          0.006564672338562143,
          0.009830376378905326,
          0.013086490114559798,
          0.016330712140526792
         ]
        },
        {
         "line": {
          "color": "rgba(255, 255, 51, 1.0)",
          "dash": "solid",
          "shape": "linear",
          "width": 1.3
         },
         "mode": "lines",
         "name": "potatoes",
         "text": "",
         "type": "scatter",
         "x": [
          -0.6931471805599453,
          -0.5108256237659907,
          -0.35667494393873245,
          -0.2231435513142097,
          -0.10536051565782628,
          0,
          0.09531017980432493,
          0.1823215567939546,
          0.26236426446749106,
          0.3364722366212129,
          0.4054651081081644
         ],
         "y": [
          -0.11185353875794603,
          -0.08555044520797679,
          -0.06092524615374047,
          -0.03716974938990707,
          -0.01475084323686765,
          0,
          0.005825872478065738,
          0.011616998999057083,
          0.013735365565238002,
          0.014265453308464602,
          0.014708828874349487
         ]
        },
        {
         "line": {
          "color": "rgba(128, 128, 0, 1.0)",
          "dash": "solid",
          "shape": "linear",
          "width": 1.3
         },
         "mode": "lines",
         "name": "black beans",
         "text": "",
         "type": "scatter",
         "x": [
          -0.6931471805599453,
          -0.5108256237659907,
          -0.35667494393873245,
          -0.2231435513142097,
          -0.10536051565782628,
          0,
          0.09531017980432493,
          0.1823215567939546,
          0.26236426446749106,
          0.3364722366212129,
          0.4054651081081644
         ],
         "y": [
          -0.13023039271089262,
          -0.10180368708536265,
          -0.07536466342532643,
          -0.049606894743812004,
          -0.02449350343818425,
          0,
          0.02199399847371675,
          0.03738153629855039,
          0.0514131994308866,
          0.06356011855658013,
          0.07467856143933457
         ]
        },
        {
         "line": {
          "color": "rgba(251, 128, 114, 1.0)",
          "dash": "solid",
          "shape": "linear",
          "width": 1.3
         },
         "mode": "lines",
         "name": "oats",
         "text": "",
         "type": "scatter",
         "x": [
          -0.6931471805599453,
          -0.5108256237659907,
          -0.35667494393873245,
          -0.2231435513142097,
          -0.10536051565782628,
          0,
          0.09531017980432493,
          0.1823215567939546,
          0.26236426446749106,
          0.3364722366212129,
          0.4054651081081644
         ],
         "y": [
          -0.15245443480925253,
          -0.117296013845855,
          -0.08333184022612368,
          -0.054540292829548725,
          -0.026898355961403428,
          0,
          0.02220683060945053,
          0.03782743439693282,
          0.05319484686471434,
          0.0677114287170237,
          0.08193278968864395
         ]
        },
        {
         "line": {
          "color": "rgba(128, 177, 211, 1.0)",
          "dash": "solid",
          "shape": "linear",
          "width": 1.3
         },
         "mode": "lines",
         "name": "spinach",
         "text": "",
         "type": "scatter",
         "x": [
          -0.6931471805599453,
          -0.5108256237659907,
          -0.35667494393873245,
          -0.2231435513142097,
          -0.10536051565782628,
          0,
          0.09531017980432493,
          0.1823215567939546,
          0.26236426446749106,
          0.3364722366212129,
          0.4054651081081644
         ],
         "y": [
          -0.010543176400516581,
          -0.007129003482836901,
          -0.004465368709900066,
          -0.0029745465382319067,
          -0.001486246873760646,
          0,
          0.001158041173108117,
          0.0012286181265789627,
          0.0012996501654052531,
          0.0013698047441601216,
          0.001440311430878499
         ]
        }
       ],
       "layout": {
        "legend": {
         "bgcolor": "#F5F6F9",
         "font": {
          "color": "#4D5663"
         }
        },
        "paper_bgcolor": "#F5F6F9",
        "plot_bgcolor": "#F5F6F9",
        "template": {
         "data": {
          "bar": [
           {
            "error_x": {
             "color": "#2a3f5f"
            },
            "error_y": {
             "color": "#2a3f5f"
            },
            "marker": {
             "line": {
              "color": "#E5ECF6",
              "width": 0.5
             },
             "pattern": {
              "fillmode": "overlay",
              "size": 10,
              "solidity": 0.2
             }
            },
            "type": "bar"
           }
          ],
          "barpolar": [
           {
            "marker": {
             "line": {
              "color": "#E5ECF6",
              "width": 0.5
             },
             "pattern": {
              "fillmode": "overlay",
              "size": 10,
              "solidity": 0.2
             }
            },
            "type": "barpolar"
           }
          ],
          "carpet": [
           {
            "aaxis": {
             "endlinecolor": "#2a3f5f",
             "gridcolor": "white",
             "linecolor": "white",
             "minorgridcolor": "white",
             "startlinecolor": "#2a3f5f"
            },
            "baxis": {
             "endlinecolor": "#2a3f5f",
             "gridcolor": "white",
             "linecolor": "white",
             "minorgridcolor": "white",
             "startlinecolor": "#2a3f5f"
            },
            "type": "carpet"
           }
          ],
          "choropleth": [
           {
            "colorbar": {
             "outlinewidth": 0,
             "ticks": ""
            },
            "type": "choropleth"
           }
          ],
          "contour": [
           {
            "colorbar": {
             "outlinewidth": 0,
             "ticks": ""
            },
            "colorscale": [
             [
              0,
              "#0d0887"
             ],
             [
              0.1111111111111111,
              "#46039f"
             ],
             [
              0.2222222222222222,
              "#7201a8"
             ],
             [
              0.3333333333333333,
              "#9c179e"
             ],
             [
              0.4444444444444444,
              "#bd3786"
             ],
             [
              0.5555555555555556,
              "#d8576b"
             ],
             [
              0.6666666666666666,
              "#ed7953"
             ],
             [
              0.7777777777777778,
              "#fb9f3a"
             ],
             [
              0.8888888888888888,
              "#fdca26"
             ],
             [
              1,
              "#f0f921"
             ]
            ],
            "type": "contour"
           }
          ],
          "contourcarpet": [
           {
            "colorbar": {
             "outlinewidth": 0,
             "ticks": ""
            },
            "type": "contourcarpet"
           }
          ],
          "heatmap": [
           {
            "colorbar": {
             "outlinewidth": 0,
             "ticks": ""
            },
            "colorscale": [
             [
              0,
              "#0d0887"
             ],
             [
              0.1111111111111111,
              "#46039f"
             ],
             [
              0.2222222222222222,
              "#7201a8"
             ],
             [
              0.3333333333333333,
              "#9c179e"
             ],
             [
              0.4444444444444444,
              "#bd3786"
             ],
             [
              0.5555555555555556,
              "#d8576b"
             ],
             [
              0.6666666666666666,
              "#ed7953"
             ],
             [
              0.7777777777777778,
              "#fb9f3a"
             ],
             [
              0.8888888888888888,
              "#fdca26"
             ],
             [
              1,
              "#f0f921"
             ]
            ],
            "type": "heatmap"
           }
          ],
          "heatmapgl": [
           {
            "colorbar": {
             "outlinewidth": 0,
             "ticks": ""
            },
            "colorscale": [
             [
              0,
              "#0d0887"
             ],
             [
              0.1111111111111111,
              "#46039f"
             ],
             [
              0.2222222222222222,
              "#7201a8"
             ],
             [
              0.3333333333333333,
              "#9c179e"
             ],
             [
              0.4444444444444444,
              "#bd3786"
             ],
             [
              0.5555555555555556,
              "#d8576b"
             ],
             [
              0.6666666666666666,
              "#ed7953"
             ],
             [
              0.7777777777777778,
              "#fb9f3a"
             ],
             [
              0.8888888888888888,
              "#fdca26"
             ],
             [
              1,
              "#f0f921"
             ]
            ],
            "type": "heatmapgl"
           }
          ],
          "histogram": [
           {
            "marker": {
             "pattern": {
              "fillmode": "overlay",
              "size": 10,
              "solidity": 0.2
             }
            },
            "type": "histogram"
           }
          ],
          "histogram2d": [
           {
            "colorbar": {
             "outlinewidth": 0,
             "ticks": ""
            },
            "colorscale": [
             [
              0,
              "#0d0887"
             ],
             [
              0.1111111111111111,
              "#46039f"
             ],
             [
              0.2222222222222222,
              "#7201a8"
             ],
             [
              0.3333333333333333,
              "#9c179e"
             ],
             [
              0.4444444444444444,
              "#bd3786"
             ],
             [
              0.5555555555555556,
              "#d8576b"
             ],
             [
              0.6666666666666666,
              "#ed7953"
             ],
             [
              0.7777777777777778,
              "#fb9f3a"
             ],
             [
              0.8888888888888888,
              "#fdca26"
             ],
             [
              1,
              "#f0f921"
             ]
            ],
            "type": "histogram2d"
           }
          ],
          "histogram2dcontour": [
           {
            "colorbar": {
             "outlinewidth": 0,
             "ticks": ""
            },
            "colorscale": [
             [
              0,
              "#0d0887"
             ],
             [
              0.1111111111111111,
              "#46039f"
             ],
             [
              0.2222222222222222,
              "#7201a8"
             ],
             [
              0.3333333333333333,
              "#9c179e"
             ],
             [
              0.4444444444444444,
              "#bd3786"
             ],
             [
              0.5555555555555556,
              "#d8576b"
             ],
             [
              0.6666666666666666,
              "#ed7953"
             ],
             [
              0.7777777777777778,
              "#fb9f3a"
             ],
             [
              0.8888888888888888,
              "#fdca26"
             ],
             [
              1,
              "#f0f921"
             ]
            ],
            "type": "histogram2dcontour"
           }
          ],
          "mesh3d": [
           {
            "colorbar": {
             "outlinewidth": 0,
             "ticks": ""
            },
            "type": "mesh3d"
           }
          ],
          "parcoords": [
           {
            "line": {
             "colorbar": {
              "outlinewidth": 0,
              "ticks": ""
             }
            },
            "type": "parcoords"
           }
          ],
          "pie": [
           {
            "automargin": true,
            "type": "pie"
           }
          ],
          "scatter": [
           {
            "marker": {
             "colorbar": {
              "outlinewidth": 0,
              "ticks": ""
             }
            },
            "type": "scatter"
           }
          ],
          "scatter3d": [
           {
            "line": {
             "colorbar": {
              "outlinewidth": 0,
              "ticks": ""
             }
            },
            "marker": {
             "colorbar": {
              "outlinewidth": 0,
              "ticks": ""
             }
            },
            "type": "scatter3d"
           }
          ],
          "scattercarpet": [
           {
            "marker": {
             "colorbar": {
              "outlinewidth": 0,
              "ticks": ""
             }
            },
            "type": "scattercarpet"
           }
          ],
          "scattergeo": [
           {
            "marker": {
             "colorbar": {
              "outlinewidth": 0,
              "ticks": ""
             }
            },
            "type": "scattergeo"
           }
          ],
          "scattergl": [
           {
            "marker": {
             "colorbar": {
              "outlinewidth": 0,
              "ticks": ""
             }
            },
            "type": "scattergl"
           }
          ],
          "scattermapbox": [
           {
            "marker": {
             "colorbar": {
              "outlinewidth": 0,
              "ticks": ""
             }
            },
            "type": "scattermapbox"
           }
          ],
          "scatterpolar": [
           {
            "marker": {
             "colorbar": {
              "outlinewidth": 0,
              "ticks": ""
             }
            },
            "type": "scatterpolar"
           }
          ],
          "scatterpolargl": [
           {
            "marker": {
             "colorbar": {
              "outlinewidth": 0,
              "ticks": ""
             }
            },
            "type": "scatterpolargl"
           }
          ],
          "scatterternary": [
           {
            "marker": {
             "colorbar": {
              "outlinewidth": 0,
              "ticks": ""
             }
            },
            "type": "scatterternary"
           }
          ],
          "surface": [
           {
            "colorbar": {
             "outlinewidth": 0,
             "ticks": ""
            },
            "colorscale": [
             [
              0,
              "#0d0887"
             ],
             [
              0.1111111111111111,
              "#46039f"
             ],
             [
              0.2222222222222222,
              "#7201a8"
             ],
             [
              0.3333333333333333,
              "#9c179e"
             ],
             [
              0.4444444444444444,
              "#bd3786"
             ],
             [
              0.5555555555555556,
              "#d8576b"
             ],
             [
              0.6666666666666666,
              "#ed7953"
             ],
             [
              0.7777777777777778,
              "#fb9f3a"
             ],
             [
              0.8888888888888888,
              "#fdca26"
             ],
             [
              1,
              "#f0f921"
             ]
            ],
            "type": "surface"
           }
          ],
          "table": [
           {
            "cells": {
             "fill": {
              "color": "#EBF0F8"
             },
             "line": {
              "color": "white"
             }
            },
            "header": {
             "fill": {
              "color": "#C8D4E3"
             },
             "line": {
              "color": "white"
             }
            },
            "type": "table"
           }
          ]
         },
         "layout": {
          "annotationdefaults": {
           "arrowcolor": "#2a3f5f",
           "arrowhead": 0,
           "arrowwidth": 1
          },
          "autotypenumbers": "strict",
          "coloraxis": {
           "colorbar": {
            "outlinewidth": 0,
            "ticks": ""
           }
          },
          "colorscale": {
           "diverging": [
            [
             0,
             "#8e0152"
            ],
            [
             0.1,
             "#c51b7d"
            ],
            [
             0.2,
             "#de77ae"
            ],
            [
             0.3,
             "#f1b6da"
            ],
            [
             0.4,
             "#fde0ef"
            ],
            [
             0.5,
             "#f7f7f7"
            ],
            [
             0.6,
             "#e6f5d0"
            ],
            [
             0.7,
             "#b8e186"
            ],
            [
             0.8,
             "#7fbc41"
            ],
            [
             0.9,
             "#4d9221"
            ],
            [
             1,
             "#276419"
            ]
           ],
           "sequential": [
            [
             0,
             "#0d0887"
            ],
            [
             0.1111111111111111,
             "#46039f"
            ],
            [
             0.2222222222222222,
             "#7201a8"
            ],
            [
             0.3333333333333333,
             "#9c179e"
            ],
            [
             0.4444444444444444,
             "#bd3786"
            ],
            [
             0.5555555555555556,
             "#d8576b"
            ],
            [
             0.6666666666666666,
             "#ed7953"
            ],
            [
             0.7777777777777778,
             "#fb9f3a"
            ],
            [
             0.8888888888888888,
             "#fdca26"
            ],
            [
             1,
             "#f0f921"
            ]
           ],
           "sequentialminus": [
            [
             0,
             "#0d0887"
            ],
            [
             0.1111111111111111,
             "#46039f"
            ],
            [
             0.2222222222222222,
             "#7201a8"
            ],
            [
             0.3333333333333333,
             "#9c179e"
            ],
            [
             0.4444444444444444,
             "#bd3786"
            ],
            [
             0.5555555555555556,
             "#d8576b"
            ],
            [
             0.6666666666666666,
             "#ed7953"
            ],
            [
             0.7777777777777778,
             "#fb9f3a"
            ],
            [
             0.8888888888888888,
             "#fdca26"
            ],
            [
             1,
             "#f0f921"
            ]
           ]
          },
          "colorway": [
           "#636efa",
           "#EF553B",
           "#00cc96",
           "#ab63fa",
           "#FFA15A",
           "#19d3f3",
           "#FF6692",
           "#B6E880",
           "#FF97FF",
           "#FECB52"
          ],
          "font": {
           "color": "#2a3f5f"
          },
          "geo": {
           "bgcolor": "white",
           "lakecolor": "white",
           "landcolor": "#E5ECF6",
           "showlakes": true,
           "showland": true,
           "subunitcolor": "white"
          },
          "hoverlabel": {
           "align": "left"
          },
          "hovermode": "closest",
          "mapbox": {
           "style": "light"
          },
          "paper_bgcolor": "white",
          "plot_bgcolor": "#E5ECF6",
          "polar": {
           "angularaxis": {
            "gridcolor": "white",
            "linecolor": "white",
            "ticks": ""
           },
           "bgcolor": "#E5ECF6",
           "radialaxis": {
            "gridcolor": "white",
            "linecolor": "white",
            "ticks": ""
           }
          },
          "scene": {
           "xaxis": {
            "backgroundcolor": "#E5ECF6",
            "gridcolor": "white",
            "gridwidth": 2,
            "linecolor": "white",
            "showbackground": true,
            "ticks": "",
            "zerolinecolor": "white"
           },
           "yaxis": {
            "backgroundcolor": "#E5ECF6",
            "gridcolor": "white",
            "gridwidth": 2,
            "linecolor": "white",
            "showbackground": true,
            "ticks": "",
            "zerolinecolor": "white"
           },
           "zaxis": {
            "backgroundcolor": "#E5ECF6",
            "gridcolor": "white",
            "gridwidth": 2,
            "linecolor": "white",
            "showbackground": true,
            "ticks": "",
            "zerolinecolor": "white"
           }
          },
          "shapedefaults": {
           "line": {
            "color": "#2a3f5f"
           }
          },
          "ternary": {
           "aaxis": {
            "gridcolor": "white",
            "linecolor": "white",
            "ticks": ""
           },
           "baxis": {
            "gridcolor": "white",
            "linecolor": "white",
            "ticks": ""
           },
           "bgcolor": "#E5ECF6",
           "caxis": {
            "gridcolor": "white",
            "linecolor": "white",
            "ticks": ""
           }
          },
          "title": {
           "x": 0.05
          },
          "xaxis": {
           "automargin": true,
           "gridcolor": "white",
           "linecolor": "white",
           "ticks": "",
           "title": {
            "standoff": 15
           },
           "zerolinecolor": "white",
           "zerolinewidth": 2
          },
          "yaxis": {
           "automargin": true,
           "gridcolor": "white",
           "linecolor": "white",
           "ticks": "",
           "title": {
            "standoff": 15
           },
           "zerolinecolor": "white",
           "zerolinewidth": 2
          }
         }
        },
        "title": {
         "font": {
          "color": "#4D5663"
         }
        },
        "xaxis": {
         "gridcolor": "#E1E5ED",
         "showgrid": true,
         "tickfont": {
          "color": "#4D5663"
         },
         "title": {
          "font": {
           "color": "#4D5663"
          },
          "text": "Change in log Price"
         },
         "zerolinecolor": "#E1E5ED"
        },
        "yaxis": {
         "gridcolor": "#E1E5ED",
         "showgrid": true,
         "tickfont": {
          "color": "#4D5663"
         },
         "title": {
          "font": {
           "color": "#4D5663"
          },
          "text": "Change in log Cost"
         },
         "zerolinecolor": "#E1E5ED"
        }
       }
      },
      "text/html": [
       "<div>                            <div id=\"7def8c16-ec2a-443b-9ee3-64af70495b65\" class=\"plotly-graph-div\" style=\"height:525px; width:100%;\"></div>            <script type=\"text/javascript\">                require([\"plotly\"], function(Plotly) {                    window.PLOTLYENV=window.PLOTLYENV || {};\n",
       "                    window.PLOTLYENV.BASE_URL='https://plot.ly';                                    if (document.getElementById(\"7def8c16-ec2a-443b-9ee3-64af70495b65\")) {                    Plotly.newPlot(                        \"7def8c16-ec2a-443b-9ee3-64af70495b65\",                        [{\"line\":{\"color\":\"rgba(255, 153, 51, 1.0)\",\"dash\":\"solid\",\"shape\":\"linear\",\"width\":1.3},\"mode\":\"lines\",\"name\":\"egg\",\"text\":\"\",\"type\":\"scatter\",\"x\":[-0.6931471805599453,-0.5108256237659907,-0.35667494393873245,-0.2231435513142097,-0.10536051565782628,0.0,0.09531017980432493,0.1823215567939546,0.26236426446749106,0.3364722366212129,0.4054651081081644],\"y\":[-0.04374302457293774,-0.03352284773140502,-0.0234058474571926,-0.013390176489528241,-0.0034686007942407353,0.0,0.003033415580268101,0.00605769568201418,0.009072855281785013,0.012078984305927423,0.012143416392669991]},{\"line\":{\"color\":\"rgba(55, 128, 191, 1.0)\",\"dash\":\"solid\",\"shape\":\"linear\",\"width\":1.3},\"mode\":\"lines\",\"name\":\"broccoli\",\"text\":\"\",\"type\":\"scatter\",\"x\":[-0.6931471805599453,-0.5108256237659907,-0.35667494393873245,-0.2231435513142097,-0.10536051565782628,0.0,0.09531017980432493,0.1823215567939546,0.26236426446749106,0.3364722366212129,0.4054651081081644],\"y\":[-0.04422338466276427,-0.03277931568072526,-0.02364423266973921,-0.01570015221829211,-0.007819311451700206,0.0,0.0010874902689097072,0.0010874683243478765,0.0010874694308733739,0.001087475177239786,0.0010874837919464904]},{\"line\":{\"color\":\"rgba(50, 171, 96, 1.0)\",\"dash\":\"solid\",\"shape\":\"linear\",\"width\":1.3},\"mode\":\"lines\",\"name\":\"carrots\",\"text\":\"\",\"type\":\"scatter\",\"x\":[-0.6931471805599453,-0.5108256237659907,-0.35667494393873245,-0.2231435513142097,-0.10536051565782628,0.0,0.09531017980432493,0.1823215567939546,0.26236426446749106,0.3364722366212129,0.4054651081081644],\"y\":[-0.023756361912519043,-0.018959735094459716,-0.014186026221099162,-0.009434968878633166,-0.004706377399223114,0.0,0.004684311842888605,0.0093467339584787,0.013987515425428079,0.018606892508792838,0.023205289090928467]},{\"line\":{\"color\":\"rgba(128, 0, 128, 1.0)\",\"dash\":\"solid\",\"shape\":\"linear\",\"width\":1.3},\"mode\":\"lines\",\"name\":\"peanut butter\",\"text\":\"\",\"type\":\"scatter\",\"x\":[-0.6931471805599453,-0.5108256237659907,-0.35667494393873245,-0.2231435513142097,-0.10536051565782628,0.0,0.09531017980432493,0.1823215567939546,0.26236426446749106,0.3364722366212129,0.4054651081081644],\"y\":[-0.04467886436859458,-0.03558188408460681,-0.02656709420818851,-0.017632747447552884,-0.00877753613981572,0.0,0.007790612054096394,0.014449127746078186,0.02106360177847337,0.02764781527107711,0.03416273149577499]},{\"line\":{\"color\":\"rgba(219, 64, 82, 1.0)\",\"dash\":\"solid\",\"shape\":\"linear\",\"width\":1.3},\"mode\":\"lines\",\"name\":\"whole milk\",\"text\":\"\",\"type\":\"scatter\",\"x\":[-0.6931471805599453,-0.5108256237659907,-0.35667494393873245,-0.2231435513142097,-0.10536051565782628,0.0,0.09531017980432493,0.1823215567939546,0.26236426446749106,0.3364722366212129,0.4054651081081644],\"y\":[-0.07461503485720258,-0.059240700327126326,-0.04409830242561479,-0.029181723038023813,-0.014484461514237865,0.0,0.01347603930060901,0.02571722237481905,0.03780206828827654,0.04974751424504055,0.0615503510476219]},{\"line\":{\"color\":\"rgba(0, 128, 128, 1.0)\",\"dash\":\"solid\",\"shape\":\"linear\",\"width\":1.3},\"mode\":\"lines\",\"name\":\"almond milk\",\"text\":\"\",\"type\":\"scatter\",\"x\":[-0.6931471805599453,-0.5108256237659907,-0.35667494393873245,-0.2231435513142097,-0.10536051565782628,0.0,0.09531017980432493,0.1823215567939546,0.26236426446749106,0.3364722366212129,0.4054651081081644],\"y\":[-0.050368617697252975,-0.0365672652210604,-0.022953793370727713,-0.012191758280541089,-0.005530081513823953,0.0,0.0032875134098355793,0.006564672338562143,0.009830376378905326,0.013086490114559798,0.016330712140526792]},{\"line\":{\"color\":\"rgba(255, 255, 51, 1.0)\",\"dash\":\"solid\",\"shape\":\"linear\",\"width\":1.3},\"mode\":\"lines\",\"name\":\"potatoes\",\"text\":\"\",\"type\":\"scatter\",\"x\":[-0.6931471805599453,-0.5108256237659907,-0.35667494393873245,-0.2231435513142097,-0.10536051565782628,0.0,0.09531017980432493,0.1823215567939546,0.26236426446749106,0.3364722366212129,0.4054651081081644],\"y\":[-0.11185353875794603,-0.08555044520797679,-0.06092524615374047,-0.03716974938990707,-0.01475084323686765,0.0,0.005825872478065738,0.011616998999057083,0.013735365565238002,0.014265453308464602,0.014708828874349487]},{\"line\":{\"color\":\"rgba(128, 128, 0, 1.0)\",\"dash\":\"solid\",\"shape\":\"linear\",\"width\":1.3},\"mode\":\"lines\",\"name\":\"black beans\",\"text\":\"\",\"type\":\"scatter\",\"x\":[-0.6931471805599453,-0.5108256237659907,-0.35667494393873245,-0.2231435513142097,-0.10536051565782628,0.0,0.09531017980432493,0.1823215567939546,0.26236426446749106,0.3364722366212129,0.4054651081081644],\"y\":[-0.13023039271089262,-0.10180368708536265,-0.07536466342532643,-0.049606894743812004,-0.02449350343818425,0.0,0.02199399847371675,0.03738153629855039,0.0514131994308866,0.06356011855658013,0.07467856143933457]},{\"line\":{\"color\":\"rgba(251, 128, 114, 1.0)\",\"dash\":\"solid\",\"shape\":\"linear\",\"width\":1.3},\"mode\":\"lines\",\"name\":\"oats\",\"text\":\"\",\"type\":\"scatter\",\"x\":[-0.6931471805599453,-0.5108256237659907,-0.35667494393873245,-0.2231435513142097,-0.10536051565782628,0.0,0.09531017980432493,0.1823215567939546,0.26236426446749106,0.3364722366212129,0.4054651081081644],\"y\":[-0.15245443480925253,-0.117296013845855,-0.08333184022612368,-0.054540292829548725,-0.026898355961403428,0.0,0.02220683060945053,0.03782743439693282,0.05319484686471434,0.0677114287170237,0.08193278968864395]},{\"line\":{\"color\":\"rgba(128, 177, 211, 1.0)\",\"dash\":\"solid\",\"shape\":\"linear\",\"width\":1.3},\"mode\":\"lines\",\"name\":\"spinach\",\"text\":\"\",\"type\":\"scatter\",\"x\":[-0.6931471805599453,-0.5108256237659907,-0.35667494393873245,-0.2231435513142097,-0.10536051565782628,0.0,0.09531017980432493,0.1823215567939546,0.26236426446749106,0.3364722366212129,0.4054651081081644],\"y\":[-0.010543176400516581,-0.007129003482836901,-0.004465368709900066,-0.0029745465382319067,-0.001486246873760646,0.0,0.001158041173108117,0.0012286181265789627,0.0012996501654052531,0.0013698047441601216,0.001440311430878499]}],                        {\"legend\":{\"bgcolor\":\"#F5F6F9\",\"font\":{\"color\":\"#4D5663\"}},\"paper_bgcolor\":\"#F5F6F9\",\"plot_bgcolor\":\"#F5F6F9\",\"template\":{\"data\":{\"bar\":[{\"error_x\":{\"color\":\"#2a3f5f\"},\"error_y\":{\"color\":\"#2a3f5f\"},\"marker\":{\"line\":{\"color\":\"#E5ECF6\",\"width\":0.5},\"pattern\":{\"fillmode\":\"overlay\",\"size\":10,\"solidity\":0.2}},\"type\":\"bar\"}],\"barpolar\":[{\"marker\":{\"line\":{\"color\":\"#E5ECF6\",\"width\":0.5},\"pattern\":{\"fillmode\":\"overlay\",\"size\":10,\"solidity\":0.2}},\"type\":\"barpolar\"}],\"carpet\":[{\"aaxis\":{\"endlinecolor\":\"#2a3f5f\",\"gridcolor\":\"white\",\"linecolor\":\"white\",\"minorgridcolor\":\"white\",\"startlinecolor\":\"#2a3f5f\"},\"baxis\":{\"endlinecolor\":\"#2a3f5f\",\"gridcolor\":\"white\",\"linecolor\":\"white\",\"minorgridcolor\":\"white\",\"startlinecolor\":\"#2a3f5f\"},\"type\":\"carpet\"}],\"choropleth\":[{\"colorbar\":{\"outlinewidth\":0,\"ticks\":\"\"},\"type\":\"choropleth\"}],\"contour\":[{\"colorbar\":{\"outlinewidth\":0,\"ticks\":\"\"},\"colorscale\":[[0.0,\"#0d0887\"],[0.1111111111111111,\"#46039f\"],[0.2222222222222222,\"#7201a8\"],[0.3333333333333333,\"#9c179e\"],[0.4444444444444444,\"#bd3786\"],[0.5555555555555556,\"#d8576b\"],[0.6666666666666666,\"#ed7953\"],[0.7777777777777778,\"#fb9f3a\"],[0.8888888888888888,\"#fdca26\"],[1.0,\"#f0f921\"]],\"type\":\"contour\"}],\"contourcarpet\":[{\"colorbar\":{\"outlinewidth\":0,\"ticks\":\"\"},\"type\":\"contourcarpet\"}],\"heatmap\":[{\"colorbar\":{\"outlinewidth\":0,\"ticks\":\"\"},\"colorscale\":[[0.0,\"#0d0887\"],[0.1111111111111111,\"#46039f\"],[0.2222222222222222,\"#7201a8\"],[0.3333333333333333,\"#9c179e\"],[0.4444444444444444,\"#bd3786\"],[0.5555555555555556,\"#d8576b\"],[0.6666666666666666,\"#ed7953\"],[0.7777777777777778,\"#fb9f3a\"],[0.8888888888888888,\"#fdca26\"],[1.0,\"#f0f921\"]],\"type\":\"heatmap\"}],\"heatmapgl\":[{\"colorbar\":{\"outlinewidth\":0,\"ticks\":\"\"},\"colorscale\":[[0.0,\"#0d0887\"],[0.1111111111111111,\"#46039f\"],[0.2222222222222222,\"#7201a8\"],[0.3333333333333333,\"#9c179e\"],[0.4444444444444444,\"#bd3786\"],[0.5555555555555556,\"#d8576b\"],[0.6666666666666666,\"#ed7953\"],[0.7777777777777778,\"#fb9f3a\"],[0.8888888888888888,\"#fdca26\"],[1.0,\"#f0f921\"]],\"type\":\"heatmapgl\"}],\"histogram\":[{\"marker\":{\"pattern\":{\"fillmode\":\"overlay\",\"size\":10,\"solidity\":0.2}},\"type\":\"histogram\"}],\"histogram2d\":[{\"colorbar\":{\"outlinewidth\":0,\"ticks\":\"\"},\"colorscale\":[[0.0,\"#0d0887\"],[0.1111111111111111,\"#46039f\"],[0.2222222222222222,\"#7201a8\"],[0.3333333333333333,\"#9c179e\"],[0.4444444444444444,\"#bd3786\"],[0.5555555555555556,\"#d8576b\"],[0.6666666666666666,\"#ed7953\"],[0.7777777777777778,\"#fb9f3a\"],[0.8888888888888888,\"#fdca26\"],[1.0,\"#f0f921\"]],\"type\":\"histogram2d\"}],\"histogram2dcontour\":[{\"colorbar\":{\"outlinewidth\":0,\"ticks\":\"\"},\"colorscale\":[[0.0,\"#0d0887\"],[0.1111111111111111,\"#46039f\"],[0.2222222222222222,\"#7201a8\"],[0.3333333333333333,\"#9c179e\"],[0.4444444444444444,\"#bd3786\"],[0.5555555555555556,\"#d8576b\"],[0.6666666666666666,\"#ed7953\"],[0.7777777777777778,\"#fb9f3a\"],[0.8888888888888888,\"#fdca26\"],[1.0,\"#f0f921\"]],\"type\":\"histogram2dcontour\"}],\"mesh3d\":[{\"colorbar\":{\"outlinewidth\":0,\"ticks\":\"\"},\"type\":\"mesh3d\"}],\"parcoords\":[{\"line\":{\"colorbar\":{\"outlinewidth\":0,\"ticks\":\"\"}},\"type\":\"parcoords\"}],\"pie\":[{\"automargin\":true,\"type\":\"pie\"}],\"scatter\":[{\"marker\":{\"colorbar\":{\"outlinewidth\":0,\"ticks\":\"\"}},\"type\":\"scatter\"}],\"scatter3d\":[{\"line\":{\"colorbar\":{\"outlinewidth\":0,\"ticks\":\"\"}},\"marker\":{\"colorbar\":{\"outlinewidth\":0,\"ticks\":\"\"}},\"type\":\"scatter3d\"}],\"scattercarpet\":[{\"marker\":{\"colorbar\":{\"outlinewidth\":0,\"ticks\":\"\"}},\"type\":\"scattercarpet\"}],\"scattergeo\":[{\"marker\":{\"colorbar\":{\"outlinewidth\":0,\"ticks\":\"\"}},\"type\":\"scattergeo\"}],\"scattergl\":[{\"marker\":{\"colorbar\":{\"outlinewidth\":0,\"ticks\":\"\"}},\"type\":\"scattergl\"}],\"scattermapbox\":[{\"marker\":{\"colorbar\":{\"outlinewidth\":0,\"ticks\":\"\"}},\"type\":\"scattermapbox\"}],\"scatterpolar\":[{\"marker\":{\"colorbar\":{\"outlinewidth\":0,\"ticks\":\"\"}},\"type\":\"scatterpolar\"}],\"scatterpolargl\":[{\"marker\":{\"colorbar\":{\"outlinewidth\":0,\"ticks\":\"\"}},\"type\":\"scatterpolargl\"}],\"scatterternary\":[{\"marker\":{\"colorbar\":{\"outlinewidth\":0,\"ticks\":\"\"}},\"type\":\"scatterternary\"}],\"surface\":[{\"colorbar\":{\"outlinewidth\":0,\"ticks\":\"\"},\"colorscale\":[[0.0,\"#0d0887\"],[0.1111111111111111,\"#46039f\"],[0.2222222222222222,\"#7201a8\"],[0.3333333333333333,\"#9c179e\"],[0.4444444444444444,\"#bd3786\"],[0.5555555555555556,\"#d8576b\"],[0.6666666666666666,\"#ed7953\"],[0.7777777777777778,\"#fb9f3a\"],[0.8888888888888888,\"#fdca26\"],[1.0,\"#f0f921\"]],\"type\":\"surface\"}],\"table\":[{\"cells\":{\"fill\":{\"color\":\"#EBF0F8\"},\"line\":{\"color\":\"white\"}},\"header\":{\"fill\":{\"color\":\"#C8D4E3\"},\"line\":{\"color\":\"white\"}},\"type\":\"table\"}]},\"layout\":{\"annotationdefaults\":{\"arrowcolor\":\"#2a3f5f\",\"arrowhead\":0,\"arrowwidth\":1},\"autotypenumbers\":\"strict\",\"coloraxis\":{\"colorbar\":{\"outlinewidth\":0,\"ticks\":\"\"}},\"colorscale\":{\"diverging\":[[0,\"#8e0152\"],[0.1,\"#c51b7d\"],[0.2,\"#de77ae\"],[0.3,\"#f1b6da\"],[0.4,\"#fde0ef\"],[0.5,\"#f7f7f7\"],[0.6,\"#e6f5d0\"],[0.7,\"#b8e186\"],[0.8,\"#7fbc41\"],[0.9,\"#4d9221\"],[1,\"#276419\"]],\"sequential\":[[0.0,\"#0d0887\"],[0.1111111111111111,\"#46039f\"],[0.2222222222222222,\"#7201a8\"],[0.3333333333333333,\"#9c179e\"],[0.4444444444444444,\"#bd3786\"],[0.5555555555555556,\"#d8576b\"],[0.6666666666666666,\"#ed7953\"],[0.7777777777777778,\"#fb9f3a\"],[0.8888888888888888,\"#fdca26\"],[1.0,\"#f0f921\"]],\"sequentialminus\":[[0.0,\"#0d0887\"],[0.1111111111111111,\"#46039f\"],[0.2222222222222222,\"#7201a8\"],[0.3333333333333333,\"#9c179e\"],[0.4444444444444444,\"#bd3786\"],[0.5555555555555556,\"#d8576b\"],[0.6666666666666666,\"#ed7953\"],[0.7777777777777778,\"#fb9f3a\"],[0.8888888888888888,\"#fdca26\"],[1.0,\"#f0f921\"]]},\"colorway\":[\"#636efa\",\"#EF553B\",\"#00cc96\",\"#ab63fa\",\"#FFA15A\",\"#19d3f3\",\"#FF6692\",\"#B6E880\",\"#FF97FF\",\"#FECB52\"],\"font\":{\"color\":\"#2a3f5f\"},\"geo\":{\"bgcolor\":\"white\",\"lakecolor\":\"white\",\"landcolor\":\"#E5ECF6\",\"showlakes\":true,\"showland\":true,\"subunitcolor\":\"white\"},\"hoverlabel\":{\"align\":\"left\"},\"hovermode\":\"closest\",\"mapbox\":{\"style\":\"light\"},\"paper_bgcolor\":\"white\",\"plot_bgcolor\":\"#E5ECF6\",\"polar\":{\"angularaxis\":{\"gridcolor\":\"white\",\"linecolor\":\"white\",\"ticks\":\"\"},\"bgcolor\":\"#E5ECF6\",\"radialaxis\":{\"gridcolor\":\"white\",\"linecolor\":\"white\",\"ticks\":\"\"}},\"scene\":{\"xaxis\":{\"backgroundcolor\":\"#E5ECF6\",\"gridcolor\":\"white\",\"gridwidth\":2,\"linecolor\":\"white\",\"showbackground\":true,\"ticks\":\"\",\"zerolinecolor\":\"white\"},\"yaxis\":{\"backgroundcolor\":\"#E5ECF6\",\"gridcolor\":\"white\",\"gridwidth\":2,\"linecolor\":\"white\",\"showbackground\":true,\"ticks\":\"\",\"zerolinecolor\":\"white\"},\"zaxis\":{\"backgroundcolor\":\"#E5ECF6\",\"gridcolor\":\"white\",\"gridwidth\":2,\"linecolor\":\"white\",\"showbackground\":true,\"ticks\":\"\",\"zerolinecolor\":\"white\"}},\"shapedefaults\":{\"line\":{\"color\":\"#2a3f5f\"}},\"ternary\":{\"aaxis\":{\"gridcolor\":\"white\",\"linecolor\":\"white\",\"ticks\":\"\"},\"baxis\":{\"gridcolor\":\"white\",\"linecolor\":\"white\",\"ticks\":\"\"},\"bgcolor\":\"#E5ECF6\",\"caxis\":{\"gridcolor\":\"white\",\"linecolor\":\"white\",\"ticks\":\"\"}},\"title\":{\"x\":0.05},\"xaxis\":{\"automargin\":true,\"gridcolor\":\"white\",\"linecolor\":\"white\",\"ticks\":\"\",\"title\":{\"standoff\":15},\"zerolinecolor\":\"white\",\"zerolinewidth\":2},\"yaxis\":{\"automargin\":true,\"gridcolor\":\"white\",\"linecolor\":\"white\",\"ticks\":\"\",\"title\":{\"standoff\":15},\"zerolinecolor\":\"white\",\"zerolinewidth\":2}}},\"title\":{\"font\":{\"color\":\"#4D5663\"}},\"xaxis\":{\"gridcolor\":\"#E1E5ED\",\"showgrid\":true,\"tickfont\":{\"color\":\"#4D5663\"},\"title\":{\"font\":{\"color\":\"#4D5663\"},\"text\":\"Change in log Price\"},\"zerolinecolor\":\"#E1E5ED\"},\"yaxis\":{\"gridcolor\":\"#E1E5ED\",\"showgrid\":true,\"tickfont\":{\"color\":\"#4D5663\"},\"title\":{\"font\":{\"color\":\"#4D5663\"},\"text\":\"Change in log Cost\"},\"zerolinecolor\":\"#E1E5ED\"}},                        {\"showLink\": true, \"linkText\": \"Export to plot.ly\", \"plotlyServerURL\": \"https://plot.ly\", \"responsive\": true}                    ).then(function(){\n",
       "                            \n",
       "var gd = document.getElementById('7def8c16-ec2a-443b-9ee3-64af70495b65');\n",
       "var x = new MutationObserver(function (mutations, observer) {{\n",
       "        var display = window.getComputedStyle(gd).display;\n",
       "        if (!display || display === 'none') {{\n",
       "            console.log([gd, 'removed!']);\n",
       "            Plotly.purge(gd);\n",
       "            observer.disconnect();\n",
       "        }}\n",
       "}});\n",
       "\n",
       "// Listen for the removal of the full notebook cells\n",
       "var notebookContainer = gd.closest('#notebook-container');\n",
       "if (notebookContainer) {{\n",
       "    x.observe(notebookContainer, {childList: true});\n",
       "}}\n",
       "\n",
       "// Listen for the clearing of the current output cell\n",
       "var outputEl = gd.closest('.output');\n",
       "if (outputEl) {{\n",
       "    x.observe(outputEl, {childList: true});\n",
       "}}\n",
       "\n",
       "                        })                };                });            </script>        </div>"
      ]
     },
     "metadata": {},
     "output_type": "display_data"
    }
   ],
   "source": [
    "cf.go_offline()\n",
    "\n",
    "scale = [.5,.6,.7,.8,.9,1.,1.1,1.2,1.3,1.4,1.5]\n",
    "\n",
    "cost0 = solve_subsistence_problem(FoodNutrients,Prices,diet_min[group],diet_max[group],tol=tol).fun\n",
    "\n",
    "# Find the diet cost response to price\n",
    "Price_response={}\n",
    "for s in scale:\n",
    "    cost = {}\n",
    "    for i,p in enumerate(Prices):\n",
    "        my_p = Prices.copy()\n",
    "        my_p[i] = p*s\n",
    "        result = solve_subsistence_problem(FoodNutrients,my_p,diet_min[group],diet_max[group],tol=tol)\n",
    "        cost[Prices.index[i]] = np.log(result.fun/cost0)\n",
    "    Price_response[np.log(s)] = cost\n",
    "\n",
    "\n",
    "# Get list of foods in the min cost diet, just plot these foods\n",
    "Diet_foods = list(diet[diet >= tol].index)\n",
    "\n",
    "# Make the line plot\n",
    "Price_response = pd.DataFrame(Price_response).T\n",
    "Price_response[Diet_foods].iplot(xTitle='Change in log Price',yTitle='Change in log Cost')"
   ]
  },
  {
   "cell_type": "markdown",
   "metadata": {},
   "source": [
    "## Effects of Price Changes on Subsistence Diet Composition\n",
    "\n"
   ]
  },
  {
   "cell_type": "markdown",
   "metadata": {},
   "source": [
    "The code below creates a graph which changes prices just for *one* food,\n",
    "  and traces out the effects of this change on all the foods consumed.\n",
    "\n"
   ]
  },
  {
   "cell_type": "code",
   "execution_count": 17,
   "metadata": {},
   "outputs": [
    {
     "data": {
      "text/html": [
       "        <script type=\"text/javascript\">\n",
       "        window.PlotlyConfig = {MathJaxConfig: 'local'};\n",
       "        if (window.MathJax) {MathJax.Hub.Config({SVG: {font: \"STIX-Web\"}});}\n",
       "        if (typeof require !== 'undefined') {\n",
       "        require.undef(\"plotly\");\n",
       "        requirejs.config({\n",
       "            paths: {\n",
       "                'plotly': ['https://cdn.plot.ly/plotly-2.3.1.min']\n",
       "            }\n",
       "        });\n",
       "        require(['plotly'], function(Plotly) {\n",
       "            window._Plotly = Plotly;\n",
       "        });\n",
       "        }\n",
       "        </script>\n",
       "        "
      ]
     },
     "metadata": {},
     "output_type": "display_data"
    },
    {
     "name": "stderr",
     "output_type": "stream",
     "text": [
      "/opt/conda/lib/python3.9/site-packages/pandas/core/dtypes/cast.py:1990: UnitStrippedWarning:\n",
      "\n",
      "The unit of the quantity is stripped when downcasting to ndarray.\n",
      "\n"
     ]
    },
    {
     "data": {
      "application/vnd.plotly.v1+json": {
       "config": {
        "linkText": "Export to plot.ly",
        "plotlyServerURL": "https://plot.ly",
        "showLink": true
       },
       "data": [
        {
         "line": {
          "color": "rgba(255, 153, 51, 1.0)",
          "dash": "solid",
          "shape": "linear",
          "width": 1.3
         },
         "mode": "lines",
         "name": "egg",
         "text": "",
         "type": "scatter",
         "x": [
          0.10168821843277477,
          0.15253232764916216,
          0.1830387931789946,
          0.20337643686554954,
          0.2237140805521045,
          0.24405172423865945,
          0.2643893679252144,
          0.28472701161176933,
          0.3050646552983243,
          0.4067528737310991,
          0.8135057474621982
         ],
         "y": [
          0.2921814520356364,
          0.2921808797580515,
          0.26903473375643355,
          0.18354791330337686,
          0.18354760670042625,
          0.18354900320539308,
          0.18354760662886715,
          0.18354469845048263,
          0.18354759224516862,
          6.132400084399082e-08,
          5.138407230263972e-10
         ]
        },
        {
         "line": {
          "color": "rgba(55, 128, 191, 1.0)",
          "dash": "solid",
          "shape": "linear",
          "width": 1.3
         },
         "mode": "lines",
         "name": "broccoli",
         "text": "",
         "type": "scatter",
         "x": [
          0.10168821843277477,
          0.15253232764916216,
          0.1830387931789946,
          0.20337643686554954,
          0.2237140805521045,
          0.24405172423865945,
          0.2643893679252144,
          0.28472701161176933,
          0.3050646552983243,
          0.4067528737310991,
          0.8135057474621982
         ],
         "y": [
          1.3565157504443084e-09,
          1.6585794157463949e-07,
          2.162323567009573e-07,
          0.5874318974411021,
          0.5874326606229393,
          0.5874306003922528,
          0.5874326607689279,
          0.5874346847825529,
          0.5874326724723655,
          0.7244958873038996,
          0.7387770869148191
         ]
        },
        {
         "line": {
          "color": "rgba(50, 171, 96, 1.0)",
          "dash": "solid",
          "shape": "linear",
          "width": 1.3
         },
         "mode": "lines",
         "name": "carrots",
         "text": "",
         "type": "scatter",
         "x": [
          0.10168821843277477,
          0.15253232764916216,
          0.1830387931789946,
          0.20337643686554954,
          0.2237140805521045,
          0.24405172423865945,
          0.2643893679252144,
          0.28472701161176933,
          0.3050646552983243,
          0.4067528737310991,
          0.8135057474621982
         ],
         "y": [
          0.6403795578437538,
          0.6403844681393784,
          0.7756989241397555,
          0.7904518202759186,
          0.790451916768408,
          0.7904516695522211,
          0.7904519169560454,
          0.7904543750428998,
          0.7904519340957384,
          0.8736336331702365,
          0.8783462380956236
         ]
        },
        {
         "line": {
          "color": "rgba(128, 0, 128, 1.0)",
          "dash": "solid",
          "shape": "linear",
          "width": 1.3
         },
         "mode": "lines",
         "name": "peanut butter",
         "text": "",
         "type": "scatter",
         "x": [
          0.10168821843277477,
          0.15253232764916216,
          0.1830387931789946,
          0.20337643686554954,
          0.2237140805521045,
          0.24405172423865945,
          0.2643893679252144,
          0.28472701161176933,
          0.3050646552983243,
          0.4067528737310991,
          0.8135057474621982
         ],
         "y": [
          0.866504752134723,
          0.8664926128795389,
          0.5447166867222645,
          0.7070153495357725,
          0.7070156227969183,
          0.7070145939216731,
          0.7070156227032712,
          0.7070161059707967,
          0.7070156259893385,
          0.7759910131094915,
          0.7849371824542988
         ]
        },
        {
         "line": {
          "color": "rgba(219, 64, 82, 1.0)",
          "dash": "solid",
          "shape": "linear",
          "width": 1.3
         },
         "mode": "lines",
         "name": "whole milk",
         "text": "",
         "type": "scatter",
         "x": [
          0.10168821843277477,
          0.15253232764916216,
          0.1830387931789946,
          0.20337643686554954,
          0.2237140805521045,
          0.24405172423865945,
          0.2643893679252144,
          0.28472701161176933,
          0.3050646552983243,
          0.4067528737310991,
          0.8135057474621982
         ],
         "y": [
          2.5511257653365957,
          2.5511527158493,
          3.2659928311248354,
          3.763466955036673,
          3.7634677074263885,
          3.7634656990321744,
          3.763467707175753,
          3.7634646094586732,
          3.763467693772052,
          3.7594775977629773,
          3.758250205672156
         ]
        },
        {
         "line": {
          "color": "rgba(0, 128, 128, 1.0)",
          "dash": "solid",
          "shape": "linear",
          "width": 1.3
         },
         "mode": "lines",
         "name": "almond milk",
         "text": "",
         "type": "scatter",
         "x": [
          0.10168821843277477,
          0.15253232764916216,
          0.1830387931789946,
          0.20337643686554954,
          0.2237140805521045,
          0.24405172423865945,
          0.2643893679252144,
          0.28472701161176933,
          0.3050646552983243,
          0.4067528737310991,
          0.8135057474621982
         ],
         "y": [
          2.146272609412241,
          2.1462327060526247,
          1.072439976764927,
          0.534842244847649,
          0.5348411243670158,
          0.5348450850144577,
          0.5348411243974256,
          0.5348398906398375,
          0.5348411136211543,
          0.3064599853748066,
          0.28007565329295586
         ]
        },
        {
         "line": {
          "color": "rgba(255, 255, 51, 1.0)",
          "dash": "solid",
          "shape": "linear",
          "width": 1.3
         },
         "mode": "lines",
         "name": "potatoes",
         "text": "",
         "type": "scatter",
         "x": [
          0.10168821843277477,
          0.15253232764916216,
          0.1830387931789946,
          0.20337643686554954,
          0.2237140805521045,
          0.24405172423865945,
          0.2643893679252144,
          0.28472701161176933,
          0.3050646552983243,
          0.4067528737310991,
          0.8135057474621982
         ],
         "y": [
          5.058029966486814,
          5.0579433225752926,
          2.6992247353396746,
          1.254121427290047,
          1.2541181164614714,
          1.254129941786476,
          1.254118115513256,
          1.2540998901060325,
          1.2541179979103714,
          0.11539252820233634,
          1.1520280091976199e-08
         ]
        },
        {
         "line": {
          "color": "rgba(128, 128, 0, 1.0)",
          "dash": "solid",
          "shape": "linear",
          "width": 1.3
         },
         "mode": "lines",
         "name": "black beans",
         "text": "",
         "type": "scatter",
         "x": [
          0.10168821843277477,
          0.15253232764916216,
          0.1830387931789946,
          0.20337643686554954,
          0.2237140805521045,
          0.24405172423865945,
          0.2643893679252144,
          0.28472701161176933,
          0.3050646552983243,
          0.4067528737310991,
          0.8135057474621982
         ],
         "y": [
          2.163555181010539,
          2.1636140115708806,
          3.7605015978213148,
          4.302617604081026,
          4.302619145558948,
          4.302612992184352,
          4.302619145851564,
          4.302625962336801,
          4.302619189493617,
          4.776753341248446,
          4.8210689608777635
         ]
        },
        {
         "line": {
          "color": "rgba(251, 128, 114, 1.0)",
          "dash": "solid",
          "shape": "linear",
          "width": 1.3
         },
         "mode": "lines",
         "name": "oats",
         "text": "",
         "type": "scatter",
         "x": [
          0.10168821843277477,
          0.15253232764916216,
          0.1830387931789946,
          0.20337643686554954,
          0.2237140805521045,
          0.24405172423865945,
          0.2643893679252144,
          0.28472701161176933,
          0.3050646552983243,
          0.4067528737310991,
          0.8135057474621982
         ],
         "y": [
          1.4763708959378694,
          1.476387502935902,
          1.9303423097599652,
          2.248024574854979,
          2.248025281483233,
          2.2480226686199725,
          2.2480252818704,
          2.2480317455103775,
          2.2480253195627093,
          2.60243345944042,
          2.6399804791341754
         ]
        },
        {
         "line": {
          "color": "rgba(128, 177, 211, 1.0)",
          "dash": "solid",
          "shape": "linear",
          "width": 1.3
         },
         "mode": "lines",
         "name": "spinach",
         "text": "",
         "type": "scatter",
         "x": [
          0.10168821843277477,
          0.15253232764916216,
          0.1830387931789946,
          0.20337643686554954,
          0.2237140805521045,
          0.24405172423865945,
          0.2643893679252144,
          0.28472701161176933,
          0.3050646552983243,
          0.4067528737310991,
          0.8135057474621982
         ],
         "y": [
          0.10503743629825396,
          0.10503370938513083,
          0.0023916718861422552,
          0.05026899537255949,
          0.05026898207047198,
          0.050269179331513765,
          0.05026898204355197,
          0.05026857942048873,
          0.05026897901247853,
          0.023936509232229734,
          0.02130885764801175
         ]
        }
       ],
       "layout": {
        "legend": {
         "bgcolor": "#F5F6F9",
         "font": {
          "color": "#4D5663"
         }
        },
        "paper_bgcolor": "#F5F6F9",
        "plot_bgcolor": "#F5F6F9",
        "template": {
         "data": {
          "bar": [
           {
            "error_x": {
             "color": "#2a3f5f"
            },
            "error_y": {
             "color": "#2a3f5f"
            },
            "marker": {
             "line": {
              "color": "#E5ECF6",
              "width": 0.5
             },
             "pattern": {
              "fillmode": "overlay",
              "size": 10,
              "solidity": 0.2
             }
            },
            "type": "bar"
           }
          ],
          "barpolar": [
           {
            "marker": {
             "line": {
              "color": "#E5ECF6",
              "width": 0.5
             },
             "pattern": {
              "fillmode": "overlay",
              "size": 10,
              "solidity": 0.2
             }
            },
            "type": "barpolar"
           }
          ],
          "carpet": [
           {
            "aaxis": {
             "endlinecolor": "#2a3f5f",
             "gridcolor": "white",
             "linecolor": "white",
             "minorgridcolor": "white",
             "startlinecolor": "#2a3f5f"
            },
            "baxis": {
             "endlinecolor": "#2a3f5f",
             "gridcolor": "white",
             "linecolor": "white",
             "minorgridcolor": "white",
             "startlinecolor": "#2a3f5f"
            },
            "type": "carpet"
           }
          ],
          "choropleth": [
           {
            "colorbar": {
             "outlinewidth": 0,
             "ticks": ""
            },
            "type": "choropleth"
           }
          ],
          "contour": [
           {
            "colorbar": {
             "outlinewidth": 0,
             "ticks": ""
            },
            "colorscale": [
             [
              0,
              "#0d0887"
             ],
             [
              0.1111111111111111,
              "#46039f"
             ],
             [
              0.2222222222222222,
              "#7201a8"
             ],
             [
              0.3333333333333333,
              "#9c179e"
             ],
             [
              0.4444444444444444,
              "#bd3786"
             ],
             [
              0.5555555555555556,
              "#d8576b"
             ],
             [
              0.6666666666666666,
              "#ed7953"
             ],
             [
              0.7777777777777778,
              "#fb9f3a"
             ],
             [
              0.8888888888888888,
              "#fdca26"
             ],
             [
              1,
              "#f0f921"
             ]
            ],
            "type": "contour"
           }
          ],
          "contourcarpet": [
           {
            "colorbar": {
             "outlinewidth": 0,
             "ticks": ""
            },
            "type": "contourcarpet"
           }
          ],
          "heatmap": [
           {
            "colorbar": {
             "outlinewidth": 0,
             "ticks": ""
            },
            "colorscale": [
             [
              0,
              "#0d0887"
             ],
             [
              0.1111111111111111,
              "#46039f"
             ],
             [
              0.2222222222222222,
              "#7201a8"
             ],
             [
              0.3333333333333333,
              "#9c179e"
             ],
             [
              0.4444444444444444,
              "#bd3786"
             ],
             [
              0.5555555555555556,
              "#d8576b"
             ],
             [
              0.6666666666666666,
              "#ed7953"
             ],
             [
              0.7777777777777778,
              "#fb9f3a"
             ],
             [
              0.8888888888888888,
              "#fdca26"
             ],
             [
              1,
              "#f0f921"
             ]
            ],
            "type": "heatmap"
           }
          ],
          "heatmapgl": [
           {
            "colorbar": {
             "outlinewidth": 0,
             "ticks": ""
            },
            "colorscale": [
             [
              0,
              "#0d0887"
             ],
             [
              0.1111111111111111,
              "#46039f"
             ],
             [
              0.2222222222222222,
              "#7201a8"
             ],
             [
              0.3333333333333333,
              "#9c179e"
             ],
             [
              0.4444444444444444,
              "#bd3786"
             ],
             [
              0.5555555555555556,
              "#d8576b"
             ],
             [
              0.6666666666666666,
              "#ed7953"
             ],
             [
              0.7777777777777778,
              "#fb9f3a"
             ],
             [
              0.8888888888888888,
              "#fdca26"
             ],
             [
              1,
              "#f0f921"
             ]
            ],
            "type": "heatmapgl"
           }
          ],
          "histogram": [
           {
            "marker": {
             "pattern": {
              "fillmode": "overlay",
              "size": 10,
              "solidity": 0.2
             }
            },
            "type": "histogram"
           }
          ],
          "histogram2d": [
           {
            "colorbar": {
             "outlinewidth": 0,
             "ticks": ""
            },
            "colorscale": [
             [
              0,
              "#0d0887"
             ],
             [
              0.1111111111111111,
              "#46039f"
             ],
             [
              0.2222222222222222,
              "#7201a8"
             ],
             [
              0.3333333333333333,
              "#9c179e"
             ],
             [
              0.4444444444444444,
              "#bd3786"
             ],
             [
              0.5555555555555556,
              "#d8576b"
             ],
             [
              0.6666666666666666,
              "#ed7953"
             ],
             [
              0.7777777777777778,
              "#fb9f3a"
             ],
             [
              0.8888888888888888,
              "#fdca26"
             ],
             [
              1,
              "#f0f921"
             ]
            ],
            "type": "histogram2d"
           }
          ],
          "histogram2dcontour": [
           {
            "colorbar": {
             "outlinewidth": 0,
             "ticks": ""
            },
            "colorscale": [
             [
              0,
              "#0d0887"
             ],
             [
              0.1111111111111111,
              "#46039f"
             ],
             [
              0.2222222222222222,
              "#7201a8"
             ],
             [
              0.3333333333333333,
              "#9c179e"
             ],
             [
              0.4444444444444444,
              "#bd3786"
             ],
             [
              0.5555555555555556,
              "#d8576b"
             ],
             [
              0.6666666666666666,
              "#ed7953"
             ],
             [
              0.7777777777777778,
              "#fb9f3a"
             ],
             [
              0.8888888888888888,
              "#fdca26"
             ],
             [
              1,
              "#f0f921"
             ]
            ],
            "type": "histogram2dcontour"
           }
          ],
          "mesh3d": [
           {
            "colorbar": {
             "outlinewidth": 0,
             "ticks": ""
            },
            "type": "mesh3d"
           }
          ],
          "parcoords": [
           {
            "line": {
             "colorbar": {
              "outlinewidth": 0,
              "ticks": ""
             }
            },
            "type": "parcoords"
           }
          ],
          "pie": [
           {
            "automargin": true,
            "type": "pie"
           }
          ],
          "scatter": [
           {
            "marker": {
             "colorbar": {
              "outlinewidth": 0,
              "ticks": ""
             }
            },
            "type": "scatter"
           }
          ],
          "scatter3d": [
           {
            "line": {
             "colorbar": {
              "outlinewidth": 0,
              "ticks": ""
             }
            },
            "marker": {
             "colorbar": {
              "outlinewidth": 0,
              "ticks": ""
             }
            },
            "type": "scatter3d"
           }
          ],
          "scattercarpet": [
           {
            "marker": {
             "colorbar": {
              "outlinewidth": 0,
              "ticks": ""
             }
            },
            "type": "scattercarpet"
           }
          ],
          "scattergeo": [
           {
            "marker": {
             "colorbar": {
              "outlinewidth": 0,
              "ticks": ""
             }
            },
            "type": "scattergeo"
           }
          ],
          "scattergl": [
           {
            "marker": {
             "colorbar": {
              "outlinewidth": 0,
              "ticks": ""
             }
            },
            "type": "scattergl"
           }
          ],
          "scattermapbox": [
           {
            "marker": {
             "colorbar": {
              "outlinewidth": 0,
              "ticks": ""
             }
            },
            "type": "scattermapbox"
           }
          ],
          "scatterpolar": [
           {
            "marker": {
             "colorbar": {
              "outlinewidth": 0,
              "ticks": ""
             }
            },
            "type": "scatterpolar"
           }
          ],
          "scatterpolargl": [
           {
            "marker": {
             "colorbar": {
              "outlinewidth": 0,
              "ticks": ""
             }
            },
            "type": "scatterpolargl"
           }
          ],
          "scatterternary": [
           {
            "marker": {
             "colorbar": {
              "outlinewidth": 0,
              "ticks": ""
             }
            },
            "type": "scatterternary"
           }
          ],
          "surface": [
           {
            "colorbar": {
             "outlinewidth": 0,
             "ticks": ""
            },
            "colorscale": [
             [
              0,
              "#0d0887"
             ],
             [
              0.1111111111111111,
              "#46039f"
             ],
             [
              0.2222222222222222,
              "#7201a8"
             ],
             [
              0.3333333333333333,
              "#9c179e"
             ],
             [
              0.4444444444444444,
              "#bd3786"
             ],
             [
              0.5555555555555556,
              "#d8576b"
             ],
             [
              0.6666666666666666,
              "#ed7953"
             ],
             [
              0.7777777777777778,
              "#fb9f3a"
             ],
             [
              0.8888888888888888,
              "#fdca26"
             ],
             [
              1,
              "#f0f921"
             ]
            ],
            "type": "surface"
           }
          ],
          "table": [
           {
            "cells": {
             "fill": {
              "color": "#EBF0F8"
             },
             "line": {
              "color": "white"
             }
            },
            "header": {
             "fill": {
              "color": "#C8D4E3"
             },
             "line": {
              "color": "white"
             }
            },
            "type": "table"
           }
          ]
         },
         "layout": {
          "annotationdefaults": {
           "arrowcolor": "#2a3f5f",
           "arrowhead": 0,
           "arrowwidth": 1
          },
          "autotypenumbers": "strict",
          "coloraxis": {
           "colorbar": {
            "outlinewidth": 0,
            "ticks": ""
           }
          },
          "colorscale": {
           "diverging": [
            [
             0,
             "#8e0152"
            ],
            [
             0.1,
             "#c51b7d"
            ],
            [
             0.2,
             "#de77ae"
            ],
            [
             0.3,
             "#f1b6da"
            ],
            [
             0.4,
             "#fde0ef"
            ],
            [
             0.5,
             "#f7f7f7"
            ],
            [
             0.6,
             "#e6f5d0"
            ],
            [
             0.7,
             "#b8e186"
            ],
            [
             0.8,
             "#7fbc41"
            ],
            [
             0.9,
             "#4d9221"
            ],
            [
             1,
             "#276419"
            ]
           ],
           "sequential": [
            [
             0,
             "#0d0887"
            ],
            [
             0.1111111111111111,
             "#46039f"
            ],
            [
             0.2222222222222222,
             "#7201a8"
            ],
            [
             0.3333333333333333,
             "#9c179e"
            ],
            [
             0.4444444444444444,
             "#bd3786"
            ],
            [
             0.5555555555555556,
             "#d8576b"
            ],
            [
             0.6666666666666666,
             "#ed7953"
            ],
            [
             0.7777777777777778,
             "#fb9f3a"
            ],
            [
             0.8888888888888888,
             "#fdca26"
            ],
            [
             1,
             "#f0f921"
            ]
           ],
           "sequentialminus": [
            [
             0,
             "#0d0887"
            ],
            [
             0.1111111111111111,
             "#46039f"
            ],
            [
             0.2222222222222222,
             "#7201a8"
            ],
            [
             0.3333333333333333,
             "#9c179e"
            ],
            [
             0.4444444444444444,
             "#bd3786"
            ],
            [
             0.5555555555555556,
             "#d8576b"
            ],
            [
             0.6666666666666666,
             "#ed7953"
            ],
            [
             0.7777777777777778,
             "#fb9f3a"
            ],
            [
             0.8888888888888888,
             "#fdca26"
            ],
            [
             1,
             "#f0f921"
            ]
           ]
          },
          "colorway": [
           "#636efa",
           "#EF553B",
           "#00cc96",
           "#ab63fa",
           "#FFA15A",
           "#19d3f3",
           "#FF6692",
           "#B6E880",
           "#FF97FF",
           "#FECB52"
          ],
          "font": {
           "color": "#2a3f5f"
          },
          "geo": {
           "bgcolor": "white",
           "lakecolor": "white",
           "landcolor": "#E5ECF6",
           "showlakes": true,
           "showland": true,
           "subunitcolor": "white"
          },
          "hoverlabel": {
           "align": "left"
          },
          "hovermode": "closest",
          "mapbox": {
           "style": "light"
          },
          "paper_bgcolor": "white",
          "plot_bgcolor": "#E5ECF6",
          "polar": {
           "angularaxis": {
            "gridcolor": "white",
            "linecolor": "white",
            "ticks": ""
           },
           "bgcolor": "#E5ECF6",
           "radialaxis": {
            "gridcolor": "white",
            "linecolor": "white",
            "ticks": ""
           }
          },
          "scene": {
           "xaxis": {
            "backgroundcolor": "#E5ECF6",
            "gridcolor": "white",
            "gridwidth": 2,
            "linecolor": "white",
            "showbackground": true,
            "ticks": "",
            "zerolinecolor": "white"
           },
           "yaxis": {
            "backgroundcolor": "#E5ECF6",
            "gridcolor": "white",
            "gridwidth": 2,
            "linecolor": "white",
            "showbackground": true,
            "ticks": "",
            "zerolinecolor": "white"
           },
           "zaxis": {
            "backgroundcolor": "#E5ECF6",
            "gridcolor": "white",
            "gridwidth": 2,
            "linecolor": "white",
            "showbackground": true,
            "ticks": "",
            "zerolinecolor": "white"
           }
          },
          "shapedefaults": {
           "line": {
            "color": "#2a3f5f"
           }
          },
          "ternary": {
           "aaxis": {
            "gridcolor": "white",
            "linecolor": "white",
            "ticks": ""
           },
           "baxis": {
            "gridcolor": "white",
            "linecolor": "white",
            "ticks": ""
           },
           "bgcolor": "#E5ECF6",
           "caxis": {
            "gridcolor": "white",
            "linecolor": "white",
            "ticks": ""
           }
          },
          "title": {
           "x": 0.05
          },
          "xaxis": {
           "automargin": true,
           "gridcolor": "white",
           "linecolor": "white",
           "ticks": "",
           "title": {
            "standoff": 15
           },
           "zerolinecolor": "white",
           "zerolinewidth": 2
          },
          "yaxis": {
           "automargin": true,
           "gridcolor": "white",
           "linecolor": "white",
           "ticks": "",
           "title": {
            "standoff": 15
           },
           "zerolinecolor": "white",
           "zerolinewidth": 2
          }
         }
        },
        "title": {
         "font": {
          "color": "#4D5663"
         }
        },
        "xaxis": {
         "gridcolor": "#E1E5ED",
         "showgrid": true,
         "tickfont": {
          "color": "#4D5663"
         },
         "title": {
          "font": {
           "color": "#4D5663"
          },
          "text": "Almond Milk Price"
         },
         "zerolinecolor": "#E1E5ED"
        },
        "yaxis": {
         "gridcolor": "#E1E5ED",
         "showgrid": true,
         "tickfont": {
          "color": "#4D5663"
         },
         "title": {
          "font": {
           "color": "#4D5663"
          },
          "text": "Hectograms"
         },
         "zerolinecolor": "#E1E5ED"
        }
       }
      },
      "text/html": [
       "<div>                            <div id=\"e611d998-9271-4325-a6cf-e3370f35d5d0\" class=\"plotly-graph-div\" style=\"height:525px; width:100%;\"></div>            <script type=\"text/javascript\">                require([\"plotly\"], function(Plotly) {                    window.PLOTLYENV=window.PLOTLYENV || {};\n",
       "                    window.PLOTLYENV.BASE_URL='https://plot.ly';                                    if (document.getElementById(\"e611d998-9271-4325-a6cf-e3370f35d5d0\")) {                    Plotly.newPlot(                        \"e611d998-9271-4325-a6cf-e3370f35d5d0\",                        [{\"line\":{\"color\":\"rgba(255, 153, 51, 1.0)\",\"dash\":\"solid\",\"shape\":\"linear\",\"width\":1.3},\"mode\":\"lines\",\"name\":\"egg\",\"text\":\"\",\"type\":\"scatter\",\"x\":[0.10168821843277477,0.15253232764916216,0.1830387931789946,0.20337643686554954,0.2237140805521045,0.24405172423865945,0.2643893679252144,0.28472701161176933,0.3050646552983243,0.4067528737310991,0.8135057474621982],\"y\":[0.2921814520356364,0.2921808797580515,0.26903473375643355,0.18354791330337686,0.18354760670042625,0.18354900320539308,0.18354760662886715,0.18354469845048263,0.18354759224516862,6.132400084399082e-08,5.138407230263972e-10]},{\"line\":{\"color\":\"rgba(55, 128, 191, 1.0)\",\"dash\":\"solid\",\"shape\":\"linear\",\"width\":1.3},\"mode\":\"lines\",\"name\":\"broccoli\",\"text\":\"\",\"type\":\"scatter\",\"x\":[0.10168821843277477,0.15253232764916216,0.1830387931789946,0.20337643686554954,0.2237140805521045,0.24405172423865945,0.2643893679252144,0.28472701161176933,0.3050646552983243,0.4067528737310991,0.8135057474621982],\"y\":[1.3565157504443084e-09,1.6585794157463949e-07,2.162323567009573e-07,0.5874318974411021,0.5874326606229393,0.5874306003922528,0.5874326607689279,0.5874346847825529,0.5874326724723655,0.7244958873038996,0.7387770869148191]},{\"line\":{\"color\":\"rgba(50, 171, 96, 1.0)\",\"dash\":\"solid\",\"shape\":\"linear\",\"width\":1.3},\"mode\":\"lines\",\"name\":\"carrots\",\"text\":\"\",\"type\":\"scatter\",\"x\":[0.10168821843277477,0.15253232764916216,0.1830387931789946,0.20337643686554954,0.2237140805521045,0.24405172423865945,0.2643893679252144,0.28472701161176933,0.3050646552983243,0.4067528737310991,0.8135057474621982],\"y\":[0.6403795578437538,0.6403844681393784,0.7756989241397555,0.7904518202759186,0.790451916768408,0.7904516695522211,0.7904519169560454,0.7904543750428998,0.7904519340957384,0.8736336331702365,0.8783462380956236]},{\"line\":{\"color\":\"rgba(128, 0, 128, 1.0)\",\"dash\":\"solid\",\"shape\":\"linear\",\"width\":1.3},\"mode\":\"lines\",\"name\":\"peanut butter\",\"text\":\"\",\"type\":\"scatter\",\"x\":[0.10168821843277477,0.15253232764916216,0.1830387931789946,0.20337643686554954,0.2237140805521045,0.24405172423865945,0.2643893679252144,0.28472701161176933,0.3050646552983243,0.4067528737310991,0.8135057474621982],\"y\":[0.866504752134723,0.8664926128795389,0.5447166867222645,0.7070153495357725,0.7070156227969183,0.7070145939216731,0.7070156227032712,0.7070161059707967,0.7070156259893385,0.7759910131094915,0.7849371824542988]},{\"line\":{\"color\":\"rgba(219, 64, 82, 1.0)\",\"dash\":\"solid\",\"shape\":\"linear\",\"width\":1.3},\"mode\":\"lines\",\"name\":\"whole milk\",\"text\":\"\",\"type\":\"scatter\",\"x\":[0.10168821843277477,0.15253232764916216,0.1830387931789946,0.20337643686554954,0.2237140805521045,0.24405172423865945,0.2643893679252144,0.28472701161176933,0.3050646552983243,0.4067528737310991,0.8135057474621982],\"y\":[2.5511257653365957,2.5511527158493,3.2659928311248354,3.763466955036673,3.7634677074263885,3.7634656990321744,3.763467707175753,3.7634646094586732,3.763467693772052,3.7594775977629773,3.758250205672156]},{\"line\":{\"color\":\"rgba(0, 128, 128, 1.0)\",\"dash\":\"solid\",\"shape\":\"linear\",\"width\":1.3},\"mode\":\"lines\",\"name\":\"almond milk\",\"text\":\"\",\"type\":\"scatter\",\"x\":[0.10168821843277477,0.15253232764916216,0.1830387931789946,0.20337643686554954,0.2237140805521045,0.24405172423865945,0.2643893679252144,0.28472701161176933,0.3050646552983243,0.4067528737310991,0.8135057474621982],\"y\":[2.146272609412241,2.1462327060526247,1.072439976764927,0.534842244847649,0.5348411243670158,0.5348450850144577,0.5348411243974256,0.5348398906398375,0.5348411136211543,0.3064599853748066,0.28007565329295586]},{\"line\":{\"color\":\"rgba(255, 255, 51, 1.0)\",\"dash\":\"solid\",\"shape\":\"linear\",\"width\":1.3},\"mode\":\"lines\",\"name\":\"potatoes\",\"text\":\"\",\"type\":\"scatter\",\"x\":[0.10168821843277477,0.15253232764916216,0.1830387931789946,0.20337643686554954,0.2237140805521045,0.24405172423865945,0.2643893679252144,0.28472701161176933,0.3050646552983243,0.4067528737310991,0.8135057474621982],\"y\":[5.058029966486814,5.0579433225752926,2.6992247353396746,1.254121427290047,1.2541181164614714,1.254129941786476,1.254118115513256,1.2540998901060325,1.2541179979103714,0.11539252820233634,1.1520280091976199e-08]},{\"line\":{\"color\":\"rgba(128, 128, 0, 1.0)\",\"dash\":\"solid\",\"shape\":\"linear\",\"width\":1.3},\"mode\":\"lines\",\"name\":\"black beans\",\"text\":\"\",\"type\":\"scatter\",\"x\":[0.10168821843277477,0.15253232764916216,0.1830387931789946,0.20337643686554954,0.2237140805521045,0.24405172423865945,0.2643893679252144,0.28472701161176933,0.3050646552983243,0.4067528737310991,0.8135057474621982],\"y\":[2.163555181010539,2.1636140115708806,3.7605015978213148,4.302617604081026,4.302619145558948,4.302612992184352,4.302619145851564,4.302625962336801,4.302619189493617,4.776753341248446,4.8210689608777635]},{\"line\":{\"color\":\"rgba(251, 128, 114, 1.0)\",\"dash\":\"solid\",\"shape\":\"linear\",\"width\":1.3},\"mode\":\"lines\",\"name\":\"oats\",\"text\":\"\",\"type\":\"scatter\",\"x\":[0.10168821843277477,0.15253232764916216,0.1830387931789946,0.20337643686554954,0.2237140805521045,0.24405172423865945,0.2643893679252144,0.28472701161176933,0.3050646552983243,0.4067528737310991,0.8135057474621982],\"y\":[1.4763708959378694,1.476387502935902,1.9303423097599652,2.248024574854979,2.248025281483233,2.2480226686199725,2.2480252818704,2.2480317455103775,2.2480253195627093,2.60243345944042,2.6399804791341754]},{\"line\":{\"color\":\"rgba(128, 177, 211, 1.0)\",\"dash\":\"solid\",\"shape\":\"linear\",\"width\":1.3},\"mode\":\"lines\",\"name\":\"spinach\",\"text\":\"\",\"type\":\"scatter\",\"x\":[0.10168821843277477,0.15253232764916216,0.1830387931789946,0.20337643686554954,0.2237140805521045,0.24405172423865945,0.2643893679252144,0.28472701161176933,0.3050646552983243,0.4067528737310991,0.8135057474621982],\"y\":[0.10503743629825396,0.10503370938513083,0.0023916718861422552,0.05026899537255949,0.05026898207047198,0.050269179331513765,0.05026898204355197,0.05026857942048873,0.05026897901247853,0.023936509232229734,0.02130885764801175]}],                        {\"legend\":{\"bgcolor\":\"#F5F6F9\",\"font\":{\"color\":\"#4D5663\"}},\"paper_bgcolor\":\"#F5F6F9\",\"plot_bgcolor\":\"#F5F6F9\",\"template\":{\"data\":{\"bar\":[{\"error_x\":{\"color\":\"#2a3f5f\"},\"error_y\":{\"color\":\"#2a3f5f\"},\"marker\":{\"line\":{\"color\":\"#E5ECF6\",\"width\":0.5},\"pattern\":{\"fillmode\":\"overlay\",\"size\":10,\"solidity\":0.2}},\"type\":\"bar\"}],\"barpolar\":[{\"marker\":{\"line\":{\"color\":\"#E5ECF6\",\"width\":0.5},\"pattern\":{\"fillmode\":\"overlay\",\"size\":10,\"solidity\":0.2}},\"type\":\"barpolar\"}],\"carpet\":[{\"aaxis\":{\"endlinecolor\":\"#2a3f5f\",\"gridcolor\":\"white\",\"linecolor\":\"white\",\"minorgridcolor\":\"white\",\"startlinecolor\":\"#2a3f5f\"},\"baxis\":{\"endlinecolor\":\"#2a3f5f\",\"gridcolor\":\"white\",\"linecolor\":\"white\",\"minorgridcolor\":\"white\",\"startlinecolor\":\"#2a3f5f\"},\"type\":\"carpet\"}],\"choropleth\":[{\"colorbar\":{\"outlinewidth\":0,\"ticks\":\"\"},\"type\":\"choropleth\"}],\"contour\":[{\"colorbar\":{\"outlinewidth\":0,\"ticks\":\"\"},\"colorscale\":[[0.0,\"#0d0887\"],[0.1111111111111111,\"#46039f\"],[0.2222222222222222,\"#7201a8\"],[0.3333333333333333,\"#9c179e\"],[0.4444444444444444,\"#bd3786\"],[0.5555555555555556,\"#d8576b\"],[0.6666666666666666,\"#ed7953\"],[0.7777777777777778,\"#fb9f3a\"],[0.8888888888888888,\"#fdca26\"],[1.0,\"#f0f921\"]],\"type\":\"contour\"}],\"contourcarpet\":[{\"colorbar\":{\"outlinewidth\":0,\"ticks\":\"\"},\"type\":\"contourcarpet\"}],\"heatmap\":[{\"colorbar\":{\"outlinewidth\":0,\"ticks\":\"\"},\"colorscale\":[[0.0,\"#0d0887\"],[0.1111111111111111,\"#46039f\"],[0.2222222222222222,\"#7201a8\"],[0.3333333333333333,\"#9c179e\"],[0.4444444444444444,\"#bd3786\"],[0.5555555555555556,\"#d8576b\"],[0.6666666666666666,\"#ed7953\"],[0.7777777777777778,\"#fb9f3a\"],[0.8888888888888888,\"#fdca26\"],[1.0,\"#f0f921\"]],\"type\":\"heatmap\"}],\"heatmapgl\":[{\"colorbar\":{\"outlinewidth\":0,\"ticks\":\"\"},\"colorscale\":[[0.0,\"#0d0887\"],[0.1111111111111111,\"#46039f\"],[0.2222222222222222,\"#7201a8\"],[0.3333333333333333,\"#9c179e\"],[0.4444444444444444,\"#bd3786\"],[0.5555555555555556,\"#d8576b\"],[0.6666666666666666,\"#ed7953\"],[0.7777777777777778,\"#fb9f3a\"],[0.8888888888888888,\"#fdca26\"],[1.0,\"#f0f921\"]],\"type\":\"heatmapgl\"}],\"histogram\":[{\"marker\":{\"pattern\":{\"fillmode\":\"overlay\",\"size\":10,\"solidity\":0.2}},\"type\":\"histogram\"}],\"histogram2d\":[{\"colorbar\":{\"outlinewidth\":0,\"ticks\":\"\"},\"colorscale\":[[0.0,\"#0d0887\"],[0.1111111111111111,\"#46039f\"],[0.2222222222222222,\"#7201a8\"],[0.3333333333333333,\"#9c179e\"],[0.4444444444444444,\"#bd3786\"],[0.5555555555555556,\"#d8576b\"],[0.6666666666666666,\"#ed7953\"],[0.7777777777777778,\"#fb9f3a\"],[0.8888888888888888,\"#fdca26\"],[1.0,\"#f0f921\"]],\"type\":\"histogram2d\"}],\"histogram2dcontour\":[{\"colorbar\":{\"outlinewidth\":0,\"ticks\":\"\"},\"colorscale\":[[0.0,\"#0d0887\"],[0.1111111111111111,\"#46039f\"],[0.2222222222222222,\"#7201a8\"],[0.3333333333333333,\"#9c179e\"],[0.4444444444444444,\"#bd3786\"],[0.5555555555555556,\"#d8576b\"],[0.6666666666666666,\"#ed7953\"],[0.7777777777777778,\"#fb9f3a\"],[0.8888888888888888,\"#fdca26\"],[1.0,\"#f0f921\"]],\"type\":\"histogram2dcontour\"}],\"mesh3d\":[{\"colorbar\":{\"outlinewidth\":0,\"ticks\":\"\"},\"type\":\"mesh3d\"}],\"parcoords\":[{\"line\":{\"colorbar\":{\"outlinewidth\":0,\"ticks\":\"\"}},\"type\":\"parcoords\"}],\"pie\":[{\"automargin\":true,\"type\":\"pie\"}],\"scatter\":[{\"marker\":{\"colorbar\":{\"outlinewidth\":0,\"ticks\":\"\"}},\"type\":\"scatter\"}],\"scatter3d\":[{\"line\":{\"colorbar\":{\"outlinewidth\":0,\"ticks\":\"\"}},\"marker\":{\"colorbar\":{\"outlinewidth\":0,\"ticks\":\"\"}},\"type\":\"scatter3d\"}],\"scattercarpet\":[{\"marker\":{\"colorbar\":{\"outlinewidth\":0,\"ticks\":\"\"}},\"type\":\"scattercarpet\"}],\"scattergeo\":[{\"marker\":{\"colorbar\":{\"outlinewidth\":0,\"ticks\":\"\"}},\"type\":\"scattergeo\"}],\"scattergl\":[{\"marker\":{\"colorbar\":{\"outlinewidth\":0,\"ticks\":\"\"}},\"type\":\"scattergl\"}],\"scattermapbox\":[{\"marker\":{\"colorbar\":{\"outlinewidth\":0,\"ticks\":\"\"}},\"type\":\"scattermapbox\"}],\"scatterpolar\":[{\"marker\":{\"colorbar\":{\"outlinewidth\":0,\"ticks\":\"\"}},\"type\":\"scatterpolar\"}],\"scatterpolargl\":[{\"marker\":{\"colorbar\":{\"outlinewidth\":0,\"ticks\":\"\"}},\"type\":\"scatterpolargl\"}],\"scatterternary\":[{\"marker\":{\"colorbar\":{\"outlinewidth\":0,\"ticks\":\"\"}},\"type\":\"scatterternary\"}],\"surface\":[{\"colorbar\":{\"outlinewidth\":0,\"ticks\":\"\"},\"colorscale\":[[0.0,\"#0d0887\"],[0.1111111111111111,\"#46039f\"],[0.2222222222222222,\"#7201a8\"],[0.3333333333333333,\"#9c179e\"],[0.4444444444444444,\"#bd3786\"],[0.5555555555555556,\"#d8576b\"],[0.6666666666666666,\"#ed7953\"],[0.7777777777777778,\"#fb9f3a\"],[0.8888888888888888,\"#fdca26\"],[1.0,\"#f0f921\"]],\"type\":\"surface\"}],\"table\":[{\"cells\":{\"fill\":{\"color\":\"#EBF0F8\"},\"line\":{\"color\":\"white\"}},\"header\":{\"fill\":{\"color\":\"#C8D4E3\"},\"line\":{\"color\":\"white\"}},\"type\":\"table\"}]},\"layout\":{\"annotationdefaults\":{\"arrowcolor\":\"#2a3f5f\",\"arrowhead\":0,\"arrowwidth\":1},\"autotypenumbers\":\"strict\",\"coloraxis\":{\"colorbar\":{\"outlinewidth\":0,\"ticks\":\"\"}},\"colorscale\":{\"diverging\":[[0,\"#8e0152\"],[0.1,\"#c51b7d\"],[0.2,\"#de77ae\"],[0.3,\"#f1b6da\"],[0.4,\"#fde0ef\"],[0.5,\"#f7f7f7\"],[0.6,\"#e6f5d0\"],[0.7,\"#b8e186\"],[0.8,\"#7fbc41\"],[0.9,\"#4d9221\"],[1,\"#276419\"]],\"sequential\":[[0.0,\"#0d0887\"],[0.1111111111111111,\"#46039f\"],[0.2222222222222222,\"#7201a8\"],[0.3333333333333333,\"#9c179e\"],[0.4444444444444444,\"#bd3786\"],[0.5555555555555556,\"#d8576b\"],[0.6666666666666666,\"#ed7953\"],[0.7777777777777778,\"#fb9f3a\"],[0.8888888888888888,\"#fdca26\"],[1.0,\"#f0f921\"]],\"sequentialminus\":[[0.0,\"#0d0887\"],[0.1111111111111111,\"#46039f\"],[0.2222222222222222,\"#7201a8\"],[0.3333333333333333,\"#9c179e\"],[0.4444444444444444,\"#bd3786\"],[0.5555555555555556,\"#d8576b\"],[0.6666666666666666,\"#ed7953\"],[0.7777777777777778,\"#fb9f3a\"],[0.8888888888888888,\"#fdca26\"],[1.0,\"#f0f921\"]]},\"colorway\":[\"#636efa\",\"#EF553B\",\"#00cc96\",\"#ab63fa\",\"#FFA15A\",\"#19d3f3\",\"#FF6692\",\"#B6E880\",\"#FF97FF\",\"#FECB52\"],\"font\":{\"color\":\"#2a3f5f\"},\"geo\":{\"bgcolor\":\"white\",\"lakecolor\":\"white\",\"landcolor\":\"#E5ECF6\",\"showlakes\":true,\"showland\":true,\"subunitcolor\":\"white\"},\"hoverlabel\":{\"align\":\"left\"},\"hovermode\":\"closest\",\"mapbox\":{\"style\":\"light\"},\"paper_bgcolor\":\"white\",\"plot_bgcolor\":\"#E5ECF6\",\"polar\":{\"angularaxis\":{\"gridcolor\":\"white\",\"linecolor\":\"white\",\"ticks\":\"\"},\"bgcolor\":\"#E5ECF6\",\"radialaxis\":{\"gridcolor\":\"white\",\"linecolor\":\"white\",\"ticks\":\"\"}},\"scene\":{\"xaxis\":{\"backgroundcolor\":\"#E5ECF6\",\"gridcolor\":\"white\",\"gridwidth\":2,\"linecolor\":\"white\",\"showbackground\":true,\"ticks\":\"\",\"zerolinecolor\":\"white\"},\"yaxis\":{\"backgroundcolor\":\"#E5ECF6\",\"gridcolor\":\"white\",\"gridwidth\":2,\"linecolor\":\"white\",\"showbackground\":true,\"ticks\":\"\",\"zerolinecolor\":\"white\"},\"zaxis\":{\"backgroundcolor\":\"#E5ECF6\",\"gridcolor\":\"white\",\"gridwidth\":2,\"linecolor\":\"white\",\"showbackground\":true,\"ticks\":\"\",\"zerolinecolor\":\"white\"}},\"shapedefaults\":{\"line\":{\"color\":\"#2a3f5f\"}},\"ternary\":{\"aaxis\":{\"gridcolor\":\"white\",\"linecolor\":\"white\",\"ticks\":\"\"},\"baxis\":{\"gridcolor\":\"white\",\"linecolor\":\"white\",\"ticks\":\"\"},\"bgcolor\":\"#E5ECF6\",\"caxis\":{\"gridcolor\":\"white\",\"linecolor\":\"white\",\"ticks\":\"\"}},\"title\":{\"x\":0.05},\"xaxis\":{\"automargin\":true,\"gridcolor\":\"white\",\"linecolor\":\"white\",\"ticks\":\"\",\"title\":{\"standoff\":15},\"zerolinecolor\":\"white\",\"zerolinewidth\":2},\"yaxis\":{\"automargin\":true,\"gridcolor\":\"white\",\"linecolor\":\"white\",\"ticks\":\"\",\"title\":{\"standoff\":15},\"zerolinecolor\":\"white\",\"zerolinewidth\":2}}},\"title\":{\"font\":{\"color\":\"#4D5663\"}},\"xaxis\":{\"gridcolor\":\"#E1E5ED\",\"showgrid\":true,\"tickfont\":{\"color\":\"#4D5663\"},\"title\":{\"font\":{\"color\":\"#4D5663\"},\"text\":\"Almond Milk Price\"},\"zerolinecolor\":\"#E1E5ED\"},\"yaxis\":{\"gridcolor\":\"#E1E5ED\",\"showgrid\":true,\"tickfont\":{\"color\":\"#4D5663\"},\"title\":{\"font\":{\"color\":\"#4D5663\"},\"text\":\"Hectograms\"},\"zerolinecolor\":\"#E1E5ED\"}},                        {\"showLink\": true, \"linkText\": \"Export to plot.ly\", \"plotlyServerURL\": \"https://plot.ly\", \"responsive\": true}                    ).then(function(){\n",
       "                            \n",
       "var gd = document.getElementById('e611d998-9271-4325-a6cf-e3370f35d5d0');\n",
       "var x = new MutationObserver(function (mutations, observer) {{\n",
       "        var display = window.getComputedStyle(gd).display;\n",
       "        if (!display || display === 'none') {{\n",
       "            console.log([gd, 'removed!']);\n",
       "            Plotly.purge(gd);\n",
       "            observer.disconnect();\n",
       "        }}\n",
       "}});\n",
       "\n",
       "// Listen for the removal of the full notebook cells\n",
       "var notebookContainer = gd.closest('#notebook-container');\n",
       "if (notebookContainer) {{\n",
       "    x.observe(notebookContainer, {childList: true});\n",
       "}}\n",
       "\n",
       "// Listen for the clearing of the current output cell\n",
       "var outputEl = gd.closest('.output');\n",
       "if (outputEl) {{\n",
       "    x.observe(outputEl, {childList: true});\n",
       "}}\n",
       "\n",
       "                        })                };                });            </script>        </div>"
      ]
     },
     "metadata": {},
     "output_type": "display_data"
    }
   ],
   "source": [
    "cf.go_offline()\n",
    "\n",
    "# Specify the reference good\n",
    "ReferenceGood = 'almond milk'\n",
    "\n",
    "scale = [0.5,0.75,0.9,1.,1.1,1.2,1.3,1.4,1.5,2,4]\n",
    "\n",
    "cost0 = solve_subsistence_problem(FoodNutrients,Prices,diet_min[group],diet_max[group],tol=tol).fun\n",
    "\n",
    "my_p = Prices.copy()\n",
    "\n",
    "# Find the diet composition response to price\n",
    "diet = {}\n",
    "for s in scale:\n",
    "\n",
    "    my_p[ReferenceGood] = Prices[ReferenceGood]*s\n",
    "    result = solve_subsistence_problem(FoodNutrients,my_p,diet_min[group],diet_max[group],tol=tol)\n",
    "    diet[my_p[ReferenceGood]] = result.diet\n",
    "\n",
    "Diet_response = pd.DataFrame(diet).T\n",
    "Diet_response.index.name = '%s Price' % ReferenceGood\n",
    "\n",
    "Diet_response.reset_index(inplace=True)\n",
    "\n",
    "# Get rid of units for index (cufflinks chokes)\n",
    "Diet_response['%s Price' % ReferenceGood] = Diet_response['%s Price' % ReferenceGood].apply(lambda x: x.magnitude)\n",
    "\n",
    "Diet_response = Diet_response.set_index('%s Price' % ReferenceGood)\n",
    "\n",
    "# Just look at goods consumed in quantities greater than error tolerance\n",
    "Diet_response.loc[:,(Diet_response>tol).sum()>0][Diet_foods].iplot(xTitle='%s Price' % ReferenceGood.title(),yTitle='Hectograms')"
   ]
  },
  {
   "cell_type": "markdown",
   "metadata": {},
   "source": [
    "## Effects of Price Changes on Subsistence Diet Nutrition\n",
    "\n"
   ]
  },
  {
   "cell_type": "markdown",
   "metadata": {},
   "source": [
    "The code below creates a graph which uses the food price changes\n",
    "  described above, but maps into nutrients.\n",
    "\n"
   ]
  },
  {
   "cell_type": "code",
   "execution_count": 18,
   "metadata": {},
   "outputs": [
    {
     "data": {
      "application/vnd.plotly.v1+json": {
       "config": {
        "linkText": "Export to plot.ly",
        "plotlyServerURL": "https://plot.ly",
        "showLink": true
       },
       "data": [
        {
         "line": {
          "color": "rgba(255, 153, 51, 1.0)",
          "dash": "solid",
          "shape": "linear",
          "width": 1.3
         },
         "mode": "lines",
         "name": "Calcium, Ca",
         "text": "",
         "type": "scatter",
         "x": [
          0.10168821843277477,
          0.15253232764916216,
          0.1830387931789946,
          0.20337643686554954,
          0.2237140805521045,
          0.24405172423865945,
          0.2643893679252144,
          0.28472701161176933,
          0.3050646552983243,
          0.4067528737310991,
          0.8135057474621982
         ],
         "y": [
          1000.0000001930044,
          1000.0000058515458,
          1000.0000104629728,
          1000.0000071489133,
          1000.0000000106597,
          1000.0000792041163,
          1000.0000000316375,
          1000.0001415178799,
          1000.0000012314739,
          1000.0000006549323,
          1000.0000000785085
         ]
        },
        {
         "line": {
          "color": "rgba(55, 128, 191, 1.0)",
          "dash": "solid",
          "shape": "linear",
          "width": 1.3
         },
         "mode": "lines",
         "name": "Carbohydrate, by difference",
         "text": "",
         "type": "scatter",
         "x": [
          0.10168821843277477,
          0.15253232764916216,
          0.1830387931789946,
          0.20337643686554954,
          0.2237140805521045,
          0.24405172423865945,
          0.2643893679252144,
          0.28472701161176933,
          0.3050646552983243,
          0.4067528737310991,
          0.8135057474621982
         ],
         "y": [
          296.99918035940186,
          296.99998425034136,
          318.95912357301296,
          327.91766136705587,
          327.9176855910437,
          327.91757972759336,
          327.91768560962976,
          327.91798301753744,
          327.91768720477756,
          343.0506172143258,
          344.6270218819269
         ]
        },
        {
         "line": {
          "color": "rgba(50, 171, 96, 1.0)",
          "dash": "solid",
          "shape": "linear",
          "width": 1.3
         },
         "mode": "lines",
         "name": "Carbohydrates",
         "text": "",
         "type": "scatter",
         "x": [
          0.10168821843277477,
          0.15253232764916216,
          0.1830387931789946,
          0.20337643686554954,
          0.2237140805521045,
          0.24405172423865945,
          0.2643893679252144,
          0.28472701161176933,
          0.3050646552983243,
          0.4067528737310991,
          0.8135057474621982
         ],
         "y": [
          0,
          0,
          0,
          0,
          0,
          0,
          0,
          0,
          0,
          0,
          0
         ]
        },
        {
         "line": {
          "color": "rgba(128, 0, 128, 1.0)",
          "dash": "solid",
          "shape": "linear",
          "width": 1.3
         },
         "mode": "lines",
         "name": "Copper, Cu",
         "text": "",
         "type": "scatter",
         "x": [
          0.10168821843277477,
          0.15253232764916216,
          0.1830387931789946,
          0.20337643686554954,
          0.2237140805521045,
          0.24405172423865945,
          0.2643893679252144,
          0.28472701161176933,
          0.3050646552983243,
          0.4067528737310991,
          0.8135057474621982
         ],
         "y": [
          2.6809946115797585,
          2.6809943200995123,
          2.6758689565409215,
          2.7311267001731214,
          2.731126835763351,
          2.73112618995838,
          2.731126835809523,
          2.731128161411088,
          2.7311268423298127,
          2.8072291341563176,
          2.8148111269561746
         ]
        },
        {
         "line": {
          "color": "rgba(219, 64, 82, 1.0)",
          "dash": "solid",
          "shape": "linear",
          "width": 1.3
         },
         "mode": "lines",
         "name": "Fatty acids, total monounsaturated",
         "text": "",
         "type": "scatter",
         "x": [
          0.10168821843277477,
          0.15253232764916216,
          0.1830387931789946,
          0.20337643686554954,
          0.2237140805521045,
          0.24405172423865945,
          0.2643893679252144,
          0.28472701161176933,
          0.3050646552983243,
          0.4067528737310991,
          0.8135057474621982
         ],
         "y": [
          37.116087345818066,
          37.11566996340722,
          25.943003152517374,
          28.153292258111943,
          28.153294126156773,
          28.153287844705833,
          28.153294122842524,
          28.153280063063576,
          28.153294038879167,
          28.07045853088424,
          28.178639627083076
         ]
        },
        {
         "line": {
          "color": "rgba(0, 128, 128, 1.0)",
          "dash": "solid",
          "shape": "linear",
          "width": 1.3
         },
         "mode": "lines",
         "name": "Fatty acids, total polyunsaturated",
         "text": "",
         "type": "scatter",
         "x": [
          0.10168821843277477,
          0.15253232764916216,
          0.1830387931789946,
          0.20337643686554954,
          0.2237140805521045,
          0.24405172423865945,
          0.2643893679252144,
          0.28472701161176933,
          0.3050646552983243,
          0.4067528737310991,
          0.8135057474621982
         ],
         "y": [
          22.551989122921015,
          22.55176681179218,
          16.59566186599127,
          17.34056512362748,
          17.340565303687402,
          17.340564671122642,
          17.3405653022553,
          17.340559273102077,
          17.34056526138103,
          17.251781887564224,
          17.30070212555296
         ]
        },
        {
         "line": {
          "color": "rgba(255, 255, 51, 1.0)",
          "dash": "solid",
          "shape": "linear",
          "width": 1.3
         },
         "mode": "lines",
         "name": "Fatty acids, total saturated",
         "text": "",
         "type": "scatter",
         "x": [
          0.10168821843277477,
          0.15253232764916216,
          0.1830387931789946,
          0.20337643686554954,
          0.2237140805521045,
          0.24405172423865945,
          0.2643893679252144,
          0.28472701161176933,
          0.3050646552983243,
          0.4067528737310991,
          0.8135057474621982
         ],
         "y": [
          22.6510428561449,
          22.650886056556743,
          18.410069416608867,
          19.355251454728727,
          19.35525145133227,
          19.355253529560727,
          19.35525144922346,
          19.355229570025482,
          19.35525132438366,
          18.550074767723235,
          18.545706558110606
         ]
        },
        {
         "line": {
          "color": "rgba(128, 128, 0, 1.0)",
          "dash": "solid",
          "shape": "linear",
          "width": 1.3
         },
         "mode": "lines",
         "name": "Fiber, total dietary",
         "text": "",
         "type": "scatter",
         "x": [
          0.10168821843277477,
          0.15253232764916216,
          0.1830387931789946,
          0.20337643686554954,
          0.2237140805521045,
          0.24405172423865945,
          0.2643893679252144,
          0.28472701161176933,
          0.3050646552983243,
          0.4067528737310991,
          0.8135057474621982
         ],
         "y": [
          50.97366492843186,
          50.97431418850072,
          68.67163300247928,
          75.16211217030657,
          75.16213111131776,
          75.16205448106743,
          75.16213111802982,
          75.16225965264772,
          75.16213189998008,
          82.79861694346344,
          83.55136722391623
         ]
        },
        {
         "line": {
          "color": "rgba(251, 128, 114, 1.0)",
          "dash": "solid",
          "shape": "linear",
          "width": 1.3
         },
         "mode": "lines",
         "name": "Folate, total",
         "text": "",
         "type": "scatter",
         "x": [
          0.10168821843277477,
          0.15253232764916216,
          0.1830387931789946,
          0.20337643686554954,
          0.2237140805521045,
          0.24405172423865945,
          0.2643893679252144,
          0.28472701161176933,
          0.3050646552983243,
          0.4067528737310991,
          0.8135057474621982
         ],
         "y": [
          420.74488344169794,
          420.74898041895415,
          531.9773639261459,
          584.560623558582,
          584.5607496351422,
          584.5602731983937,
          584.5607496741136,
          584.5614306856157,
          584.5607540246265,
          624.3763436718589,
          629.5698905119123
         ]
        },
        {
         "line": {
          "color": "rgba(128, 177, 211, 1.0)",
          "dash": "solid",
          "shape": "linear",
          "width": 1.3
         },
         "mode": "lines",
         "name": "Iron, Fe",
         "text": "",
         "type": "scatter",
         "x": [
          0.10168821843277477,
          0.15253232764916216,
          0.1830387931789946,
          0.20337643686554954,
          0.2237140805521045,
          0.24405172423865945,
          0.2643893679252144,
          0.28472701161176933,
          0.3050646552983243,
          0.4067528737310991,
          0.8135057474621982
         ],
         "y": [
          17.294402160918786,
          17.29457692606701,
          22.048417371917772,
          24.471711591509745,
          24.471717353546392,
          24.471696324663487,
          24.47171735611747,
          24.47175949649064,
          24.47171761602518,
          26.887006658611796,
          27.14975173317876
         ]
        },
        {
         "line": {
          "color": "rgba(128, 177, 211, 0.8999999999999999)",
          "dash": "solid",
          "shape": "linear",
          "width": 1.3
         },
         "mode": "lines",
         "name": "Lipids",
         "text": "",
         "type": "scatter",
         "x": [
          0.10168821843277477,
          0.15253232764916216,
          0.1830387931789946,
          0.20337643686554954,
          0.2237140805521045,
          0.24405172423865945,
          0.2643893679252144,
          0.28472701161176933,
          0.3050646552983243,
          0.4067528737310991,
          0.8135057474621982
         ],
         "y": [
          0,
          0,
          0,
          0,
          0,
          0,
          0,
          0,
          0,
          0,
          0
         ]
        },
        {
         "line": {
          "color": "rgba(255, 153, 51, 0.8999999999999999)",
          "dash": "solid",
          "shape": "linear",
          "width": 1.3
         },
         "mode": "lines",
         "name": "Magnesium, Mg",
         "text": "",
         "type": "scatter",
         "x": [
          0.10168821843277477,
          0.15253232764916216,
          0.1830387931789946,
          0.20337643686554954,
          0.2237140805521045,
          0.24405172423865945,
          0.2643893679252144,
          0.28472701161176933,
          0.3050646552983243,
          0.4067528737310991,
          0.8135057474621982
         ],
         "y": [
          650.9417177856167,
          650.9429880001235,
          686.6360963383506,
          755.9211094090584,
          755.9212510140841,
          755.9207293297703,
          755.9212510556572,
          755.9221968927351,
          755.9212566271235,
          813.8287925131809,
          820.0536086783504
         ]
        },
        {
         "line": {
          "color": "rgba(55, 128, 191, 0.8999999999999999)",
          "dash": "solid",
          "shape": "linear",
          "width": 1.3
         },
         "mode": "lines",
         "name": "Minerals",
         "text": "",
         "type": "scatter",
         "x": [
          0.10168821843277477,
          0.15253232764916216,
          0.1830387931789946,
          0.20337643686554954,
          0.2237140805521045,
          0.24405172423865945,
          0.2643893679252144,
          0.28472701161176933,
          0.3050646552983243,
          0.4067528737310991,
          0.8135057474621982
         ],
         "y": [
          0,
          0,
          0,
          0,
          0,
          0,
          0,
          0,
          0,
          0,
          0
         ]
        },
        {
         "line": {
          "color": "rgba(50, 171, 96, 0.8999999999999999)",
          "dash": "solid",
          "shape": "linear",
          "width": 1.3
         },
         "mode": "lines",
         "name": "Niacin",
         "text": "",
         "type": "scatter",
         "x": [
          0.10168821843277477,
          0.15253232764916216,
          0.1830387931789946,
          0.20337643686554954,
          0.2237140805521045,
          0.24405172423865945,
          0.2643893679252144,
          0.28472701161176933,
          0.3050646552983243,
          0.4067528737310991,
          0.8135057474621982
         ],
         "y": [
          22.977476136659178,
          22.97727778948446,
          17.679220795593622,
          18.942579617053497,
          18.94258083142799,
          18.942581960845665,
          18.942580832549623,
          18.942602635331887,
          18.942580979596052,
          20.322953836984905,
          20.41647036706545
         ]
        },
        {
         "line": {
          "color": "rgba(128, 0, 128, 0.8999999999999999)",
          "dash": "solid",
          "shape": "linear",
          "width": 1.3
         },
         "mode": "lines",
         "name": "Phosphorus, P",
         "text": "",
         "type": "scatter",
         "x": [
          0.10168821843277477,
          0.15253232764916216,
          0.1830387931789946,
          0.20337643686554954,
          0.2237140805521045,
          0.24405172423865945,
          0.2643893679252144,
          0.28472701161176933,
          0.3050646552983243,
          0.4067528737310991,
          0.8135057474621982
         ],
         "y": [
          1898.7356737529549,
          1898.7456328085655,
          2169.511216078183,
          2404.4298648480803,
          2404.430333748186,
          2404.4287454167493,
          2404.4303339045664,
          2404.4331176444107,
          2404.4303513952495,
          2577.7270201880287,
          2598.2386084619084
         ]
        },
        {
         "line": {
          "color": "rgba(219, 64, 82, 0.8999999999999999)",
          "dash": "solid",
          "shape": "linear",
          "width": 1.3
         },
         "mode": "lines",
         "name": "Potassium, K",
         "text": "",
         "type": "scatter",
         "x": [
          0.10168821843277477,
          0.15253232764916216,
          0.1830387931789946,
          0.20337643686554954,
          0.2237140805521045,
          0.24405172423865945,
          0.2643893679252144,
          0.28472701161176933,
          0.3050646552983243,
          0.4067528737310991,
          0.8135057474621982
         ],
         "y": [
          4700.000001010793,
          4700.000026025445,
          4700.000002692167,
          4700.000018117152,
          4700.000000016784,
          4700.00007278841,
          4700.000000042618,
          4700.0001971086895,
          4700.00000054083,
          4700.000001144236,
          4700.00000024402
         ]
        },
        {
         "line": {
          "color": "rgba(0, 128, 128, 0.8999999999999999)",
          "dash": "solid",
          "shape": "linear",
          "width": 1.3
         },
         "mode": "lines",
         "name": "Protein",
         "text": "",
         "type": "scatter",
         "x": [
          0.10168821843277477,
          0.15253232764916216,
          0.1830387931789946,
          0.20337643686554954,
          0.2237140805521045,
          0.24405172423865945,
          0.2643893679252144,
          0.28472701161176933,
          0.3050646552983243,
          0.4067528737310991,
          0.8135057474621982
         ],
         "y": [
          82.12134832343435,
          82.12173903108501,
          92.75807223075361,
          103.43107965298627,
          103.43110042928954,
          103.43103768519126,
          103.43110043745496,
          103.43123196465038,
          103.43110130667753,
          111.6623540091117,
          112.62389352520336
         ]
        }
       ],
       "layout": {
        "legend": {
         "bgcolor": "#F5F6F9",
         "font": {
          "color": "#4D5663"
         }
        },
        "paper_bgcolor": "#F5F6F9",
        "plot_bgcolor": "#F5F6F9",
        "template": {
         "data": {
          "bar": [
           {
            "error_x": {
             "color": "#2a3f5f"
            },
            "error_y": {
             "color": "#2a3f5f"
            },
            "marker": {
             "line": {
              "color": "#E5ECF6",
              "width": 0.5
             },
             "pattern": {
              "fillmode": "overlay",
              "size": 10,
              "solidity": 0.2
             }
            },
            "type": "bar"
           }
          ],
          "barpolar": [
           {
            "marker": {
             "line": {
              "color": "#E5ECF6",
              "width": 0.5
             },
             "pattern": {
              "fillmode": "overlay",
              "size": 10,
              "solidity": 0.2
             }
            },
            "type": "barpolar"
           }
          ],
          "carpet": [
           {
            "aaxis": {
             "endlinecolor": "#2a3f5f",
             "gridcolor": "white",
             "linecolor": "white",
             "minorgridcolor": "white",
             "startlinecolor": "#2a3f5f"
            },
            "baxis": {
             "endlinecolor": "#2a3f5f",
             "gridcolor": "white",
             "linecolor": "white",
             "minorgridcolor": "white",
             "startlinecolor": "#2a3f5f"
            },
            "type": "carpet"
           }
          ],
          "choropleth": [
           {
            "colorbar": {
             "outlinewidth": 0,
             "ticks": ""
            },
            "type": "choropleth"
           }
          ],
          "contour": [
           {
            "colorbar": {
             "outlinewidth": 0,
             "ticks": ""
            },
            "colorscale": [
             [
              0,
              "#0d0887"
             ],
             [
              0.1111111111111111,
              "#46039f"
             ],
             [
              0.2222222222222222,
              "#7201a8"
             ],
             [
              0.3333333333333333,
              "#9c179e"
             ],
             [
              0.4444444444444444,
              "#bd3786"
             ],
             [
              0.5555555555555556,
              "#d8576b"
             ],
             [
              0.6666666666666666,
              "#ed7953"
             ],
             [
              0.7777777777777778,
              "#fb9f3a"
             ],
             [
              0.8888888888888888,
              "#fdca26"
             ],
             [
              1,
              "#f0f921"
             ]
            ],
            "type": "contour"
           }
          ],
          "contourcarpet": [
           {
            "colorbar": {
             "outlinewidth": 0,
             "ticks": ""
            },
            "type": "contourcarpet"
           }
          ],
          "heatmap": [
           {
            "colorbar": {
             "outlinewidth": 0,
             "ticks": ""
            },
            "colorscale": [
             [
              0,
              "#0d0887"
             ],
             [
              0.1111111111111111,
              "#46039f"
             ],
             [
              0.2222222222222222,
              "#7201a8"
             ],
             [
              0.3333333333333333,
              "#9c179e"
             ],
             [
              0.4444444444444444,
              "#bd3786"
             ],
             [
              0.5555555555555556,
              "#d8576b"
             ],
             [
              0.6666666666666666,
              "#ed7953"
             ],
             [
              0.7777777777777778,
              "#fb9f3a"
             ],
             [
              0.8888888888888888,
              "#fdca26"
             ],
             [
              1,
              "#f0f921"
             ]
            ],
            "type": "heatmap"
           }
          ],
          "heatmapgl": [
           {
            "colorbar": {
             "outlinewidth": 0,
             "ticks": ""
            },
            "colorscale": [
             [
              0,
              "#0d0887"
             ],
             [
              0.1111111111111111,
              "#46039f"
             ],
             [
              0.2222222222222222,
              "#7201a8"
             ],
             [
              0.3333333333333333,
              "#9c179e"
             ],
             [
              0.4444444444444444,
              "#bd3786"
             ],
             [
              0.5555555555555556,
              "#d8576b"
             ],
             [
              0.6666666666666666,
              "#ed7953"
             ],
             [
              0.7777777777777778,
              "#fb9f3a"
             ],
             [
              0.8888888888888888,
              "#fdca26"
             ],
             [
              1,
              "#f0f921"
             ]
            ],
            "type": "heatmapgl"
           }
          ],
          "histogram": [
           {
            "marker": {
             "pattern": {
              "fillmode": "overlay",
              "size": 10,
              "solidity": 0.2
             }
            },
            "type": "histogram"
           }
          ],
          "histogram2d": [
           {
            "colorbar": {
             "outlinewidth": 0,
             "ticks": ""
            },
            "colorscale": [
             [
              0,
              "#0d0887"
             ],
             [
              0.1111111111111111,
              "#46039f"
             ],
             [
              0.2222222222222222,
              "#7201a8"
             ],
             [
              0.3333333333333333,
              "#9c179e"
             ],
             [
              0.4444444444444444,
              "#bd3786"
             ],
             [
              0.5555555555555556,
              "#d8576b"
             ],
             [
              0.6666666666666666,
              "#ed7953"
             ],
             [
              0.7777777777777778,
              "#fb9f3a"
             ],
             [
              0.8888888888888888,
              "#fdca26"
             ],
             [
              1,
              "#f0f921"
             ]
            ],
            "type": "histogram2d"
           }
          ],
          "histogram2dcontour": [
           {
            "colorbar": {
             "outlinewidth": 0,
             "ticks": ""
            },
            "colorscale": [
             [
              0,
              "#0d0887"
             ],
             [
              0.1111111111111111,
              "#46039f"
             ],
             [
              0.2222222222222222,
              "#7201a8"
             ],
             [
              0.3333333333333333,
              "#9c179e"
             ],
             [
              0.4444444444444444,
              "#bd3786"
             ],
             [
              0.5555555555555556,
              "#d8576b"
             ],
             [
              0.6666666666666666,
              "#ed7953"
             ],
             [
              0.7777777777777778,
              "#fb9f3a"
             ],
             [
              0.8888888888888888,
              "#fdca26"
             ],
             [
              1,
              "#f0f921"
             ]
            ],
            "type": "histogram2dcontour"
           }
          ],
          "mesh3d": [
           {
            "colorbar": {
             "outlinewidth": 0,
             "ticks": ""
            },
            "type": "mesh3d"
           }
          ],
          "parcoords": [
           {
            "line": {
             "colorbar": {
              "outlinewidth": 0,
              "ticks": ""
             }
            },
            "type": "parcoords"
           }
          ],
          "pie": [
           {
            "automargin": true,
            "type": "pie"
           }
          ],
          "scatter": [
           {
            "marker": {
             "colorbar": {
              "outlinewidth": 0,
              "ticks": ""
             }
            },
            "type": "scatter"
           }
          ],
          "scatter3d": [
           {
            "line": {
             "colorbar": {
              "outlinewidth": 0,
              "ticks": ""
             }
            },
            "marker": {
             "colorbar": {
              "outlinewidth": 0,
              "ticks": ""
             }
            },
            "type": "scatter3d"
           }
          ],
          "scattercarpet": [
           {
            "marker": {
             "colorbar": {
              "outlinewidth": 0,
              "ticks": ""
             }
            },
            "type": "scattercarpet"
           }
          ],
          "scattergeo": [
           {
            "marker": {
             "colorbar": {
              "outlinewidth": 0,
              "ticks": ""
             }
            },
            "type": "scattergeo"
           }
          ],
          "scattergl": [
           {
            "marker": {
             "colorbar": {
              "outlinewidth": 0,
              "ticks": ""
             }
            },
            "type": "scattergl"
           }
          ],
          "scattermapbox": [
           {
            "marker": {
             "colorbar": {
              "outlinewidth": 0,
              "ticks": ""
             }
            },
            "type": "scattermapbox"
           }
          ],
          "scatterpolar": [
           {
            "marker": {
             "colorbar": {
              "outlinewidth": 0,
              "ticks": ""
             }
            },
            "type": "scatterpolar"
           }
          ],
          "scatterpolargl": [
           {
            "marker": {
             "colorbar": {
              "outlinewidth": 0,
              "ticks": ""
             }
            },
            "type": "scatterpolargl"
           }
          ],
          "scatterternary": [
           {
            "marker": {
             "colorbar": {
              "outlinewidth": 0,
              "ticks": ""
             }
            },
            "type": "scatterternary"
           }
          ],
          "surface": [
           {
            "colorbar": {
             "outlinewidth": 0,
             "ticks": ""
            },
            "colorscale": [
             [
              0,
              "#0d0887"
             ],
             [
              0.1111111111111111,
              "#46039f"
             ],
             [
              0.2222222222222222,
              "#7201a8"
             ],
             [
              0.3333333333333333,
              "#9c179e"
             ],
             [
              0.4444444444444444,
              "#bd3786"
             ],
             [
              0.5555555555555556,
              "#d8576b"
             ],
             [
              0.6666666666666666,
              "#ed7953"
             ],
             [
              0.7777777777777778,
              "#fb9f3a"
             ],
             [
              0.8888888888888888,
              "#fdca26"
             ],
             [
              1,
              "#f0f921"
             ]
            ],
            "type": "surface"
           }
          ],
          "table": [
           {
            "cells": {
             "fill": {
              "color": "#EBF0F8"
             },
             "line": {
              "color": "white"
             }
            },
            "header": {
             "fill": {
              "color": "#C8D4E3"
             },
             "line": {
              "color": "white"
             }
            },
            "type": "table"
           }
          ]
         },
         "layout": {
          "annotationdefaults": {
           "arrowcolor": "#2a3f5f",
           "arrowhead": 0,
           "arrowwidth": 1
          },
          "autotypenumbers": "strict",
          "coloraxis": {
           "colorbar": {
            "outlinewidth": 0,
            "ticks": ""
           }
          },
          "colorscale": {
           "diverging": [
            [
             0,
             "#8e0152"
            ],
            [
             0.1,
             "#c51b7d"
            ],
            [
             0.2,
             "#de77ae"
            ],
            [
             0.3,
             "#f1b6da"
            ],
            [
             0.4,
             "#fde0ef"
            ],
            [
             0.5,
             "#f7f7f7"
            ],
            [
             0.6,
             "#e6f5d0"
            ],
            [
             0.7,
             "#b8e186"
            ],
            [
             0.8,
             "#7fbc41"
            ],
            [
             0.9,
             "#4d9221"
            ],
            [
             1,
             "#276419"
            ]
           ],
           "sequential": [
            [
             0,
             "#0d0887"
            ],
            [
             0.1111111111111111,
             "#46039f"
            ],
            [
             0.2222222222222222,
             "#7201a8"
            ],
            [
             0.3333333333333333,
             "#9c179e"
            ],
            [
             0.4444444444444444,
             "#bd3786"
            ],
            [
             0.5555555555555556,
             "#d8576b"
            ],
            [
             0.6666666666666666,
             "#ed7953"
            ],
            [
             0.7777777777777778,
             "#fb9f3a"
            ],
            [
             0.8888888888888888,
             "#fdca26"
            ],
            [
             1,
             "#f0f921"
            ]
           ],
           "sequentialminus": [
            [
             0,
             "#0d0887"
            ],
            [
             0.1111111111111111,
             "#46039f"
            ],
            [
             0.2222222222222222,
             "#7201a8"
            ],
            [
             0.3333333333333333,
             "#9c179e"
            ],
            [
             0.4444444444444444,
             "#bd3786"
            ],
            [
             0.5555555555555556,
             "#d8576b"
            ],
            [
             0.6666666666666666,
             "#ed7953"
            ],
            [
             0.7777777777777778,
             "#fb9f3a"
            ],
            [
             0.8888888888888888,
             "#fdca26"
            ],
            [
             1,
             "#f0f921"
            ]
           ]
          },
          "colorway": [
           "#636efa",
           "#EF553B",
           "#00cc96",
           "#ab63fa",
           "#FFA15A",
           "#19d3f3",
           "#FF6692",
           "#B6E880",
           "#FF97FF",
           "#FECB52"
          ],
          "font": {
           "color": "#2a3f5f"
          },
          "geo": {
           "bgcolor": "white",
           "lakecolor": "white",
           "landcolor": "#E5ECF6",
           "showlakes": true,
           "showland": true,
           "subunitcolor": "white"
          },
          "hoverlabel": {
           "align": "left"
          },
          "hovermode": "closest",
          "mapbox": {
           "style": "light"
          },
          "paper_bgcolor": "white",
          "plot_bgcolor": "#E5ECF6",
          "polar": {
           "angularaxis": {
            "gridcolor": "white",
            "linecolor": "white",
            "ticks": ""
           },
           "bgcolor": "#E5ECF6",
           "radialaxis": {
            "gridcolor": "white",
            "linecolor": "white",
            "ticks": ""
           }
          },
          "scene": {
           "xaxis": {
            "backgroundcolor": "#E5ECF6",
            "gridcolor": "white",
            "gridwidth": 2,
            "linecolor": "white",
            "showbackground": true,
            "ticks": "",
            "zerolinecolor": "white"
           },
           "yaxis": {
            "backgroundcolor": "#E5ECF6",
            "gridcolor": "white",
            "gridwidth": 2,
            "linecolor": "white",
            "showbackground": true,
            "ticks": "",
            "zerolinecolor": "white"
           },
           "zaxis": {
            "backgroundcolor": "#E5ECF6",
            "gridcolor": "white",
            "gridwidth": 2,
            "linecolor": "white",
            "showbackground": true,
            "ticks": "",
            "zerolinecolor": "white"
           }
          },
          "shapedefaults": {
           "line": {
            "color": "#2a3f5f"
           }
          },
          "ternary": {
           "aaxis": {
            "gridcolor": "white",
            "linecolor": "white",
            "ticks": ""
           },
           "baxis": {
            "gridcolor": "white",
            "linecolor": "white",
            "ticks": ""
           },
           "bgcolor": "#E5ECF6",
           "caxis": {
            "gridcolor": "white",
            "linecolor": "white",
            "ticks": ""
           }
          },
          "title": {
           "x": 0.05
          },
          "xaxis": {
           "automargin": true,
           "gridcolor": "white",
           "linecolor": "white",
           "ticks": "",
           "title": {
            "standoff": 15
           },
           "zerolinecolor": "white",
           "zerolinewidth": 2
          },
          "yaxis": {
           "automargin": true,
           "gridcolor": "white",
           "linecolor": "white",
           "ticks": "",
           "title": {
            "standoff": 15
           },
           "zerolinecolor": "white",
           "zerolinewidth": 2
          }
         }
        },
        "title": {
         "font": {
          "color": "#4D5663"
         }
        },
        "xaxis": {
         "gridcolor": "#E1E5ED",
         "showgrid": true,
         "tickfont": {
          "color": "#4D5663"
         },
         "title": {
          "font": {
           "color": "#4D5663"
          },
          "text": "Almond Milk Price"
         },
         "zerolinecolor": "#E1E5ED"
        },
        "yaxis": {
         "gridcolor": "#E1E5ED",
         "showgrid": true,
         "tickfont": {
          "color": "#4D5663"
         },
         "title": {
          "font": {
           "color": "#4D5663"
          },
          "text": "Hectograms"
         },
         "zerolinecolor": "#E1E5ED"
        }
       }
      },
      "text/html": [
       "<div>                            <div id=\"9e3f44ab-9825-4f25-8cb0-953570d9ed6d\" class=\"plotly-graph-div\" style=\"height:525px; width:100%;\"></div>            <script type=\"text/javascript\">                require([\"plotly\"], function(Plotly) {                    window.PLOTLYENV=window.PLOTLYENV || {};\n",
       "                    window.PLOTLYENV.BASE_URL='https://plot.ly';                                    if (document.getElementById(\"9e3f44ab-9825-4f25-8cb0-953570d9ed6d\")) {                    Plotly.newPlot(                        \"9e3f44ab-9825-4f25-8cb0-953570d9ed6d\",                        [{\"line\":{\"color\":\"rgba(255, 153, 51, 1.0)\",\"dash\":\"solid\",\"shape\":\"linear\",\"width\":1.3},\"mode\":\"lines\",\"name\":\"Calcium, Ca\",\"text\":\"\",\"type\":\"scatter\",\"x\":[0.10168821843277477,0.15253232764916216,0.1830387931789946,0.20337643686554954,0.2237140805521045,0.24405172423865945,0.2643893679252144,0.28472701161176933,0.3050646552983243,0.4067528737310991,0.8135057474621982],\"y\":[1000.0000001930044,1000.0000058515458,1000.0000104629728,1000.0000071489133,1000.0000000106597,1000.0000792041163,1000.0000000316375,1000.0001415178799,1000.0000012314739,1000.0000006549323,1000.0000000785085]},{\"line\":{\"color\":\"rgba(55, 128, 191, 1.0)\",\"dash\":\"solid\",\"shape\":\"linear\",\"width\":1.3},\"mode\":\"lines\",\"name\":\"Carbohydrate, by difference\",\"text\":\"\",\"type\":\"scatter\",\"x\":[0.10168821843277477,0.15253232764916216,0.1830387931789946,0.20337643686554954,0.2237140805521045,0.24405172423865945,0.2643893679252144,0.28472701161176933,0.3050646552983243,0.4067528737310991,0.8135057474621982],\"y\":[296.99918035940186,296.99998425034136,318.95912357301296,327.91766136705587,327.9176855910437,327.91757972759336,327.91768560962976,327.91798301753744,327.91768720477756,343.0506172143258,344.6270218819269]},{\"line\":{\"color\":\"rgba(50, 171, 96, 1.0)\",\"dash\":\"solid\",\"shape\":\"linear\",\"width\":1.3},\"mode\":\"lines\",\"name\":\"Carbohydrates\",\"text\":\"\",\"type\":\"scatter\",\"x\":[0.10168821843277477,0.15253232764916216,0.1830387931789946,0.20337643686554954,0.2237140805521045,0.24405172423865945,0.2643893679252144,0.28472701161176933,0.3050646552983243,0.4067528737310991,0.8135057474621982],\"y\":[0.0,0.0,0.0,0.0,0.0,0.0,0.0,0.0,0.0,0.0,0.0]},{\"line\":{\"color\":\"rgba(128, 0, 128, 1.0)\",\"dash\":\"solid\",\"shape\":\"linear\",\"width\":1.3},\"mode\":\"lines\",\"name\":\"Copper, Cu\",\"text\":\"\",\"type\":\"scatter\",\"x\":[0.10168821843277477,0.15253232764916216,0.1830387931789946,0.20337643686554954,0.2237140805521045,0.24405172423865945,0.2643893679252144,0.28472701161176933,0.3050646552983243,0.4067528737310991,0.8135057474621982],\"y\":[2.6809946115797585,2.6809943200995123,2.6758689565409215,2.7311267001731214,2.731126835763351,2.73112618995838,2.731126835809523,2.731128161411088,2.7311268423298127,2.8072291341563176,2.8148111269561746]},{\"line\":{\"color\":\"rgba(219, 64, 82, 1.0)\",\"dash\":\"solid\",\"shape\":\"linear\",\"width\":1.3},\"mode\":\"lines\",\"name\":\"Fatty acids, total monounsaturated\",\"text\":\"\",\"type\":\"scatter\",\"x\":[0.10168821843277477,0.15253232764916216,0.1830387931789946,0.20337643686554954,0.2237140805521045,0.24405172423865945,0.2643893679252144,0.28472701161176933,0.3050646552983243,0.4067528737310991,0.8135057474621982],\"y\":[37.116087345818066,37.11566996340722,25.943003152517374,28.153292258111943,28.153294126156773,28.153287844705833,28.153294122842524,28.153280063063576,28.153294038879167,28.07045853088424,28.178639627083076]},{\"line\":{\"color\":\"rgba(0, 128, 128, 1.0)\",\"dash\":\"solid\",\"shape\":\"linear\",\"width\":1.3},\"mode\":\"lines\",\"name\":\"Fatty acids, total polyunsaturated\",\"text\":\"\",\"type\":\"scatter\",\"x\":[0.10168821843277477,0.15253232764916216,0.1830387931789946,0.20337643686554954,0.2237140805521045,0.24405172423865945,0.2643893679252144,0.28472701161176933,0.3050646552983243,0.4067528737310991,0.8135057474621982],\"y\":[22.551989122921015,22.55176681179218,16.59566186599127,17.34056512362748,17.340565303687402,17.340564671122642,17.3405653022553,17.340559273102077,17.34056526138103,17.251781887564224,17.30070212555296]},{\"line\":{\"color\":\"rgba(255, 255, 51, 1.0)\",\"dash\":\"solid\",\"shape\":\"linear\",\"width\":1.3},\"mode\":\"lines\",\"name\":\"Fatty acids, total saturated\",\"text\":\"\",\"type\":\"scatter\",\"x\":[0.10168821843277477,0.15253232764916216,0.1830387931789946,0.20337643686554954,0.2237140805521045,0.24405172423865945,0.2643893679252144,0.28472701161176933,0.3050646552983243,0.4067528737310991,0.8135057474621982],\"y\":[22.6510428561449,22.650886056556743,18.410069416608867,19.355251454728727,19.35525145133227,19.355253529560727,19.35525144922346,19.355229570025482,19.35525132438366,18.550074767723235,18.545706558110606]},{\"line\":{\"color\":\"rgba(128, 128, 0, 1.0)\",\"dash\":\"solid\",\"shape\":\"linear\",\"width\":1.3},\"mode\":\"lines\",\"name\":\"Fiber, total dietary\",\"text\":\"\",\"type\":\"scatter\",\"x\":[0.10168821843277477,0.15253232764916216,0.1830387931789946,0.20337643686554954,0.2237140805521045,0.24405172423865945,0.2643893679252144,0.28472701161176933,0.3050646552983243,0.4067528737310991,0.8135057474621982],\"y\":[50.97366492843186,50.97431418850072,68.67163300247928,75.16211217030657,75.16213111131776,75.16205448106743,75.16213111802982,75.16225965264772,75.16213189998008,82.79861694346344,83.55136722391623]},{\"line\":{\"color\":\"rgba(251, 128, 114, 1.0)\",\"dash\":\"solid\",\"shape\":\"linear\",\"width\":1.3},\"mode\":\"lines\",\"name\":\"Folate, total\",\"text\":\"\",\"type\":\"scatter\",\"x\":[0.10168821843277477,0.15253232764916216,0.1830387931789946,0.20337643686554954,0.2237140805521045,0.24405172423865945,0.2643893679252144,0.28472701161176933,0.3050646552983243,0.4067528737310991,0.8135057474621982],\"y\":[420.74488344169794,420.74898041895415,531.9773639261459,584.560623558582,584.5607496351422,584.5602731983937,584.5607496741136,584.5614306856157,584.5607540246265,624.3763436718589,629.5698905119123]},{\"line\":{\"color\":\"rgba(128, 177, 211, 1.0)\",\"dash\":\"solid\",\"shape\":\"linear\",\"width\":1.3},\"mode\":\"lines\",\"name\":\"Iron, Fe\",\"text\":\"\",\"type\":\"scatter\",\"x\":[0.10168821843277477,0.15253232764916216,0.1830387931789946,0.20337643686554954,0.2237140805521045,0.24405172423865945,0.2643893679252144,0.28472701161176933,0.3050646552983243,0.4067528737310991,0.8135057474621982],\"y\":[17.294402160918786,17.29457692606701,22.048417371917772,24.471711591509745,24.471717353546392,24.471696324663487,24.47171735611747,24.47175949649064,24.47171761602518,26.887006658611796,27.14975173317876]},{\"line\":{\"color\":\"rgba(128, 177, 211, 0.8999999999999999)\",\"dash\":\"solid\",\"shape\":\"linear\",\"width\":1.3},\"mode\":\"lines\",\"name\":\"Lipids\",\"text\":\"\",\"type\":\"scatter\",\"x\":[0.10168821843277477,0.15253232764916216,0.1830387931789946,0.20337643686554954,0.2237140805521045,0.24405172423865945,0.2643893679252144,0.28472701161176933,0.3050646552983243,0.4067528737310991,0.8135057474621982],\"y\":[0.0,0.0,0.0,0.0,0.0,0.0,0.0,0.0,0.0,0.0,0.0]},{\"line\":{\"color\":\"rgba(255, 153, 51, 0.8999999999999999)\",\"dash\":\"solid\",\"shape\":\"linear\",\"width\":1.3},\"mode\":\"lines\",\"name\":\"Magnesium, Mg\",\"text\":\"\",\"type\":\"scatter\",\"x\":[0.10168821843277477,0.15253232764916216,0.1830387931789946,0.20337643686554954,0.2237140805521045,0.24405172423865945,0.2643893679252144,0.28472701161176933,0.3050646552983243,0.4067528737310991,0.8135057474621982],\"y\":[650.9417177856167,650.9429880001235,686.6360963383506,755.9211094090584,755.9212510140841,755.9207293297703,755.9212510556572,755.9221968927351,755.9212566271235,813.8287925131809,820.0536086783504]},{\"line\":{\"color\":\"rgba(55, 128, 191, 0.8999999999999999)\",\"dash\":\"solid\",\"shape\":\"linear\",\"width\":1.3},\"mode\":\"lines\",\"name\":\"Minerals\",\"text\":\"\",\"type\":\"scatter\",\"x\":[0.10168821843277477,0.15253232764916216,0.1830387931789946,0.20337643686554954,0.2237140805521045,0.24405172423865945,0.2643893679252144,0.28472701161176933,0.3050646552983243,0.4067528737310991,0.8135057474621982],\"y\":[0.0,0.0,0.0,0.0,0.0,0.0,0.0,0.0,0.0,0.0,0.0]},{\"line\":{\"color\":\"rgba(50, 171, 96, 0.8999999999999999)\",\"dash\":\"solid\",\"shape\":\"linear\",\"width\":1.3},\"mode\":\"lines\",\"name\":\"Niacin\",\"text\":\"\",\"type\":\"scatter\",\"x\":[0.10168821843277477,0.15253232764916216,0.1830387931789946,0.20337643686554954,0.2237140805521045,0.24405172423865945,0.2643893679252144,0.28472701161176933,0.3050646552983243,0.4067528737310991,0.8135057474621982],\"y\":[22.977476136659178,22.97727778948446,17.679220795593622,18.942579617053497,18.94258083142799,18.942581960845665,18.942580832549623,18.942602635331887,18.942580979596052,20.322953836984905,20.41647036706545]},{\"line\":{\"color\":\"rgba(128, 0, 128, 0.8999999999999999)\",\"dash\":\"solid\",\"shape\":\"linear\",\"width\":1.3},\"mode\":\"lines\",\"name\":\"Phosphorus, P\",\"text\":\"\",\"type\":\"scatter\",\"x\":[0.10168821843277477,0.15253232764916216,0.1830387931789946,0.20337643686554954,0.2237140805521045,0.24405172423865945,0.2643893679252144,0.28472701161176933,0.3050646552983243,0.4067528737310991,0.8135057474621982],\"y\":[1898.7356737529549,1898.7456328085655,2169.511216078183,2404.4298648480803,2404.430333748186,2404.4287454167493,2404.4303339045664,2404.4331176444107,2404.4303513952495,2577.7270201880287,2598.2386084619084]},{\"line\":{\"color\":\"rgba(219, 64, 82, 0.8999999999999999)\",\"dash\":\"solid\",\"shape\":\"linear\",\"width\":1.3},\"mode\":\"lines\",\"name\":\"Potassium, K\",\"text\":\"\",\"type\":\"scatter\",\"x\":[0.10168821843277477,0.15253232764916216,0.1830387931789946,0.20337643686554954,0.2237140805521045,0.24405172423865945,0.2643893679252144,0.28472701161176933,0.3050646552983243,0.4067528737310991,0.8135057474621982],\"y\":[4700.000001010793,4700.000026025445,4700.000002692167,4700.000018117152,4700.000000016784,4700.00007278841,4700.000000042618,4700.0001971086895,4700.00000054083,4700.000001144236,4700.00000024402]},{\"line\":{\"color\":\"rgba(0, 128, 128, 0.8999999999999999)\",\"dash\":\"solid\",\"shape\":\"linear\",\"width\":1.3},\"mode\":\"lines\",\"name\":\"Protein\",\"text\":\"\",\"type\":\"scatter\",\"x\":[0.10168821843277477,0.15253232764916216,0.1830387931789946,0.20337643686554954,0.2237140805521045,0.24405172423865945,0.2643893679252144,0.28472701161176933,0.3050646552983243,0.4067528737310991,0.8135057474621982],\"y\":[82.12134832343435,82.12173903108501,92.75807223075361,103.43107965298627,103.43110042928954,103.43103768519126,103.43110043745496,103.43123196465038,103.43110130667753,111.6623540091117,112.62389352520336]}],                        {\"legend\":{\"bgcolor\":\"#F5F6F9\",\"font\":{\"color\":\"#4D5663\"}},\"paper_bgcolor\":\"#F5F6F9\",\"plot_bgcolor\":\"#F5F6F9\",\"template\":{\"data\":{\"bar\":[{\"error_x\":{\"color\":\"#2a3f5f\"},\"error_y\":{\"color\":\"#2a3f5f\"},\"marker\":{\"line\":{\"color\":\"#E5ECF6\",\"width\":0.5},\"pattern\":{\"fillmode\":\"overlay\",\"size\":10,\"solidity\":0.2}},\"type\":\"bar\"}],\"barpolar\":[{\"marker\":{\"line\":{\"color\":\"#E5ECF6\",\"width\":0.5},\"pattern\":{\"fillmode\":\"overlay\",\"size\":10,\"solidity\":0.2}},\"type\":\"barpolar\"}],\"carpet\":[{\"aaxis\":{\"endlinecolor\":\"#2a3f5f\",\"gridcolor\":\"white\",\"linecolor\":\"white\",\"minorgridcolor\":\"white\",\"startlinecolor\":\"#2a3f5f\"},\"baxis\":{\"endlinecolor\":\"#2a3f5f\",\"gridcolor\":\"white\",\"linecolor\":\"white\",\"minorgridcolor\":\"white\",\"startlinecolor\":\"#2a3f5f\"},\"type\":\"carpet\"}],\"choropleth\":[{\"colorbar\":{\"outlinewidth\":0,\"ticks\":\"\"},\"type\":\"choropleth\"}],\"contour\":[{\"colorbar\":{\"outlinewidth\":0,\"ticks\":\"\"},\"colorscale\":[[0.0,\"#0d0887\"],[0.1111111111111111,\"#46039f\"],[0.2222222222222222,\"#7201a8\"],[0.3333333333333333,\"#9c179e\"],[0.4444444444444444,\"#bd3786\"],[0.5555555555555556,\"#d8576b\"],[0.6666666666666666,\"#ed7953\"],[0.7777777777777778,\"#fb9f3a\"],[0.8888888888888888,\"#fdca26\"],[1.0,\"#f0f921\"]],\"type\":\"contour\"}],\"contourcarpet\":[{\"colorbar\":{\"outlinewidth\":0,\"ticks\":\"\"},\"type\":\"contourcarpet\"}],\"heatmap\":[{\"colorbar\":{\"outlinewidth\":0,\"ticks\":\"\"},\"colorscale\":[[0.0,\"#0d0887\"],[0.1111111111111111,\"#46039f\"],[0.2222222222222222,\"#7201a8\"],[0.3333333333333333,\"#9c179e\"],[0.4444444444444444,\"#bd3786\"],[0.5555555555555556,\"#d8576b\"],[0.6666666666666666,\"#ed7953\"],[0.7777777777777778,\"#fb9f3a\"],[0.8888888888888888,\"#fdca26\"],[1.0,\"#f0f921\"]],\"type\":\"heatmap\"}],\"heatmapgl\":[{\"colorbar\":{\"outlinewidth\":0,\"ticks\":\"\"},\"colorscale\":[[0.0,\"#0d0887\"],[0.1111111111111111,\"#46039f\"],[0.2222222222222222,\"#7201a8\"],[0.3333333333333333,\"#9c179e\"],[0.4444444444444444,\"#bd3786\"],[0.5555555555555556,\"#d8576b\"],[0.6666666666666666,\"#ed7953\"],[0.7777777777777778,\"#fb9f3a\"],[0.8888888888888888,\"#fdca26\"],[1.0,\"#f0f921\"]],\"type\":\"heatmapgl\"}],\"histogram\":[{\"marker\":{\"pattern\":{\"fillmode\":\"overlay\",\"size\":10,\"solidity\":0.2}},\"type\":\"histogram\"}],\"histogram2d\":[{\"colorbar\":{\"outlinewidth\":0,\"ticks\":\"\"},\"colorscale\":[[0.0,\"#0d0887\"],[0.1111111111111111,\"#46039f\"],[0.2222222222222222,\"#7201a8\"],[0.3333333333333333,\"#9c179e\"],[0.4444444444444444,\"#bd3786\"],[0.5555555555555556,\"#d8576b\"],[0.6666666666666666,\"#ed7953\"],[0.7777777777777778,\"#fb9f3a\"],[0.8888888888888888,\"#fdca26\"],[1.0,\"#f0f921\"]],\"type\":\"histogram2d\"}],\"histogram2dcontour\":[{\"colorbar\":{\"outlinewidth\":0,\"ticks\":\"\"},\"colorscale\":[[0.0,\"#0d0887\"],[0.1111111111111111,\"#46039f\"],[0.2222222222222222,\"#7201a8\"],[0.3333333333333333,\"#9c179e\"],[0.4444444444444444,\"#bd3786\"],[0.5555555555555556,\"#d8576b\"],[0.6666666666666666,\"#ed7953\"],[0.7777777777777778,\"#fb9f3a\"],[0.8888888888888888,\"#fdca26\"],[1.0,\"#f0f921\"]],\"type\":\"histogram2dcontour\"}],\"mesh3d\":[{\"colorbar\":{\"outlinewidth\":0,\"ticks\":\"\"},\"type\":\"mesh3d\"}],\"parcoords\":[{\"line\":{\"colorbar\":{\"outlinewidth\":0,\"ticks\":\"\"}},\"type\":\"parcoords\"}],\"pie\":[{\"automargin\":true,\"type\":\"pie\"}],\"scatter\":[{\"marker\":{\"colorbar\":{\"outlinewidth\":0,\"ticks\":\"\"}},\"type\":\"scatter\"}],\"scatter3d\":[{\"line\":{\"colorbar\":{\"outlinewidth\":0,\"ticks\":\"\"}},\"marker\":{\"colorbar\":{\"outlinewidth\":0,\"ticks\":\"\"}},\"type\":\"scatter3d\"}],\"scattercarpet\":[{\"marker\":{\"colorbar\":{\"outlinewidth\":0,\"ticks\":\"\"}},\"type\":\"scattercarpet\"}],\"scattergeo\":[{\"marker\":{\"colorbar\":{\"outlinewidth\":0,\"ticks\":\"\"}},\"type\":\"scattergeo\"}],\"scattergl\":[{\"marker\":{\"colorbar\":{\"outlinewidth\":0,\"ticks\":\"\"}},\"type\":\"scattergl\"}],\"scattermapbox\":[{\"marker\":{\"colorbar\":{\"outlinewidth\":0,\"ticks\":\"\"}},\"type\":\"scattermapbox\"}],\"scatterpolar\":[{\"marker\":{\"colorbar\":{\"outlinewidth\":0,\"ticks\":\"\"}},\"type\":\"scatterpolar\"}],\"scatterpolargl\":[{\"marker\":{\"colorbar\":{\"outlinewidth\":0,\"ticks\":\"\"}},\"type\":\"scatterpolargl\"}],\"scatterternary\":[{\"marker\":{\"colorbar\":{\"outlinewidth\":0,\"ticks\":\"\"}},\"type\":\"scatterternary\"}],\"surface\":[{\"colorbar\":{\"outlinewidth\":0,\"ticks\":\"\"},\"colorscale\":[[0.0,\"#0d0887\"],[0.1111111111111111,\"#46039f\"],[0.2222222222222222,\"#7201a8\"],[0.3333333333333333,\"#9c179e\"],[0.4444444444444444,\"#bd3786\"],[0.5555555555555556,\"#d8576b\"],[0.6666666666666666,\"#ed7953\"],[0.7777777777777778,\"#fb9f3a\"],[0.8888888888888888,\"#fdca26\"],[1.0,\"#f0f921\"]],\"type\":\"surface\"}],\"table\":[{\"cells\":{\"fill\":{\"color\":\"#EBF0F8\"},\"line\":{\"color\":\"white\"}},\"header\":{\"fill\":{\"color\":\"#C8D4E3\"},\"line\":{\"color\":\"white\"}},\"type\":\"table\"}]},\"layout\":{\"annotationdefaults\":{\"arrowcolor\":\"#2a3f5f\",\"arrowhead\":0,\"arrowwidth\":1},\"autotypenumbers\":\"strict\",\"coloraxis\":{\"colorbar\":{\"outlinewidth\":0,\"ticks\":\"\"}},\"colorscale\":{\"diverging\":[[0,\"#8e0152\"],[0.1,\"#c51b7d\"],[0.2,\"#de77ae\"],[0.3,\"#f1b6da\"],[0.4,\"#fde0ef\"],[0.5,\"#f7f7f7\"],[0.6,\"#e6f5d0\"],[0.7,\"#b8e186\"],[0.8,\"#7fbc41\"],[0.9,\"#4d9221\"],[1,\"#276419\"]],\"sequential\":[[0.0,\"#0d0887\"],[0.1111111111111111,\"#46039f\"],[0.2222222222222222,\"#7201a8\"],[0.3333333333333333,\"#9c179e\"],[0.4444444444444444,\"#bd3786\"],[0.5555555555555556,\"#d8576b\"],[0.6666666666666666,\"#ed7953\"],[0.7777777777777778,\"#fb9f3a\"],[0.8888888888888888,\"#fdca26\"],[1.0,\"#f0f921\"]],\"sequentialminus\":[[0.0,\"#0d0887\"],[0.1111111111111111,\"#46039f\"],[0.2222222222222222,\"#7201a8\"],[0.3333333333333333,\"#9c179e\"],[0.4444444444444444,\"#bd3786\"],[0.5555555555555556,\"#d8576b\"],[0.6666666666666666,\"#ed7953\"],[0.7777777777777778,\"#fb9f3a\"],[0.8888888888888888,\"#fdca26\"],[1.0,\"#f0f921\"]]},\"colorway\":[\"#636efa\",\"#EF553B\",\"#00cc96\",\"#ab63fa\",\"#FFA15A\",\"#19d3f3\",\"#FF6692\",\"#B6E880\",\"#FF97FF\",\"#FECB52\"],\"font\":{\"color\":\"#2a3f5f\"},\"geo\":{\"bgcolor\":\"white\",\"lakecolor\":\"white\",\"landcolor\":\"#E5ECF6\",\"showlakes\":true,\"showland\":true,\"subunitcolor\":\"white\"},\"hoverlabel\":{\"align\":\"left\"},\"hovermode\":\"closest\",\"mapbox\":{\"style\":\"light\"},\"paper_bgcolor\":\"white\",\"plot_bgcolor\":\"#E5ECF6\",\"polar\":{\"angularaxis\":{\"gridcolor\":\"white\",\"linecolor\":\"white\",\"ticks\":\"\"},\"bgcolor\":\"#E5ECF6\",\"radialaxis\":{\"gridcolor\":\"white\",\"linecolor\":\"white\",\"ticks\":\"\"}},\"scene\":{\"xaxis\":{\"backgroundcolor\":\"#E5ECF6\",\"gridcolor\":\"white\",\"gridwidth\":2,\"linecolor\":\"white\",\"showbackground\":true,\"ticks\":\"\",\"zerolinecolor\":\"white\"},\"yaxis\":{\"backgroundcolor\":\"#E5ECF6\",\"gridcolor\":\"white\",\"gridwidth\":2,\"linecolor\":\"white\",\"showbackground\":true,\"ticks\":\"\",\"zerolinecolor\":\"white\"},\"zaxis\":{\"backgroundcolor\":\"#E5ECF6\",\"gridcolor\":\"white\",\"gridwidth\":2,\"linecolor\":\"white\",\"showbackground\":true,\"ticks\":\"\",\"zerolinecolor\":\"white\"}},\"shapedefaults\":{\"line\":{\"color\":\"#2a3f5f\"}},\"ternary\":{\"aaxis\":{\"gridcolor\":\"white\",\"linecolor\":\"white\",\"ticks\":\"\"},\"baxis\":{\"gridcolor\":\"white\",\"linecolor\":\"white\",\"ticks\":\"\"},\"bgcolor\":\"#E5ECF6\",\"caxis\":{\"gridcolor\":\"white\",\"linecolor\":\"white\",\"ticks\":\"\"}},\"title\":{\"x\":0.05},\"xaxis\":{\"automargin\":true,\"gridcolor\":\"white\",\"linecolor\":\"white\",\"ticks\":\"\",\"title\":{\"standoff\":15},\"zerolinecolor\":\"white\",\"zerolinewidth\":2},\"yaxis\":{\"automargin\":true,\"gridcolor\":\"white\",\"linecolor\":\"white\",\"ticks\":\"\",\"title\":{\"standoff\":15},\"zerolinecolor\":\"white\",\"zerolinewidth\":2}}},\"title\":{\"font\":{\"color\":\"#4D5663\"}},\"xaxis\":{\"gridcolor\":\"#E1E5ED\",\"showgrid\":true,\"tickfont\":{\"color\":\"#4D5663\"},\"title\":{\"font\":{\"color\":\"#4D5663\"},\"text\":\"Almond Milk Price\"},\"zerolinecolor\":\"#E1E5ED\"},\"yaxis\":{\"gridcolor\":\"#E1E5ED\",\"showgrid\":true,\"tickfont\":{\"color\":\"#4D5663\"},\"title\":{\"font\":{\"color\":\"#4D5663\"},\"text\":\"Hectograms\"},\"zerolinecolor\":\"#E1E5ED\"}},                        {\"showLink\": true, \"linkText\": \"Export to plot.ly\", \"plotlyServerURL\": \"https://plot.ly\", \"responsive\": true}                    ).then(function(){\n",
       "                            \n",
       "var gd = document.getElementById('9e3f44ab-9825-4f25-8cb0-953570d9ed6d');\n",
       "var x = new MutationObserver(function (mutations, observer) {{\n",
       "        var display = window.getComputedStyle(gd).display;\n",
       "        if (!display || display === 'none') {{\n",
       "            console.log([gd, 'removed!']);\n",
       "            Plotly.purge(gd);\n",
       "            observer.disconnect();\n",
       "        }}\n",
       "}});\n",
       "\n",
       "// Listen for the removal of the full notebook cells\n",
       "var notebookContainer = gd.closest('#notebook-container');\n",
       "if (notebookContainer) {{\n",
       "    x.observe(notebookContainer, {childList: true});\n",
       "}}\n",
       "\n",
       "// Listen for the clearing of the current output cell\n",
       "var outputEl = gd.closest('.output');\n",
       "if (outputEl) {{\n",
       "    x.observe(outputEl, {childList: true});\n",
       "}}\n",
       "\n",
       "                        })                };                });            </script>        </div>"
      ]
     },
     "metadata": {},
     "output_type": "display_data"
    }
   ],
   "source": [
    "# Matrix product maps quantities of food into quantities of nutrients\n",
    "NutrientResponse = Diet_response@FoodNutrients.T\n",
    "\n",
    "# Drop columns of missing nutrients, plot first half of nutrients (avoid display issues)\n",
    "NutrientResponse = NutrientResponse.loc[:,NutrientResponse.count()>0]\n",
    "NutrientResponse.iloc[:,0:17].iplot(xTitle='%s Price' % ReferenceGood.title(),yTitle='Hectograms')"
   ]
  },
  {
   "cell_type": "code",
   "execution_count": 19,
   "metadata": {},
   "outputs": [
    {
     "data": {
      "application/vnd.plotly.v1+json": {
       "config": {
        "linkText": "Export to plot.ly",
        "plotlyServerURL": "https://plot.ly",
        "showLink": true
       },
       "data": [
        {
         "line": {
          "color": "rgba(255, 153, 51, 1.0)",
          "dash": "solid",
          "shape": "linear",
          "width": 1.3
         },
         "mode": "lines",
         "name": "Proximates",
         "text": "",
         "type": "scatter",
         "x": [
          0.10168821843277477,
          0.15253232764916216,
          0.1830387931789946,
          0.20337643686554954,
          0.2237140805521045,
          0.24405172423865945,
          0.2643893679252144,
          0.28472701161176933,
          0.3050646552983243,
          0.4067528737310991,
          0.8135057474621982
         ],
         "y": [
          0,
          0,
          0,
          0,
          0,
          0,
          0,
          0,
          0,
          0,
          0
         ]
        },
        {
         "line": {
          "color": "rgba(55, 128, 191, 1.0)",
          "dash": "solid",
          "shape": "linear",
          "width": 1.3
         },
         "mode": "lines",
         "name": "Retinol",
         "text": "",
         "type": "scatter",
         "x": [
          0.10168821843277477,
          0.15253232764916216,
          0.1830387931789946,
          0.20337643686554954,
          0.2237140805521045,
          0.24405172423865945,
          0.2643893679252144,
          0.28472701161176933,
          0.3050646552983243,
          0.4067528737310991,
          0.8135057474621982
         ],
         "y": [
          306.27049956131054,
          306.26810780478917,
          239.71028074218208,
          192.9957833569219,
          192.9956478826715,
          192.9962177975383,
          192.99564785233702,
          192.9947119832855,
          192.9956427077871,
          132.96158377122202,
          129.93229923444608
         ]
        },
        {
         "line": {
          "color": "rgba(50, 171, 96, 1.0)",
          "dash": "solid",
          "shape": "linear",
          "width": 1.3
         },
         "mode": "lines",
         "name": "Riboflavin",
         "text": "",
         "type": "scatter",
         "x": [
          0.10168821843277477,
          0.15253232764916216,
          0.1830387931789946,
          0.20337643686554954,
          0.2237140805521045,
          0.24405172423865945,
          0.2643893679252144,
          0.28472701161176933,
          0.3050646552983243,
          0.4067528737310991,
          0.8135057474621982
         ],
         "y": [
          1.4823061394048278,
          1.482317190544412,
          1.7783492361757218,
          1.9708600760537114,
          1.9708604055582393,
          1.9708594382715086,
          1.9708604056311156,
          1.9708612486102246,
          1.9708604126057496,
          2.034012253419522,
          2.0472650351295947
         ]
        },
        {
         "line": {
          "color": "rgba(128, 0, 128, 1.0)",
          "dash": "solid",
          "shape": "linear",
          "width": 1.3
         },
         "mode": "lines",
         "name": "SFA 14:0",
         "text": "",
         "type": "scatter",
         "x": [
          0.10168821843277477,
          0.15253232764916216,
          0.1830387931789946,
          0.20337643686554954,
          0.2237140805521045,
          0.24405172423865945,
          0.2643893679252144,
          0.28472701161176933,
          0.3050646552983243,
          0.4067528737310991,
          0.8135057474621982
         ],
         "y": [
          1.3677162303954966,
          1.3677148087782847,
          1.3230346542487166,
          1.321924514722013,
          1.321924379060102,
          1.321925117221272,
          1.3219243788950232,
          1.3219215772111927,
          1.3219243625957189,
          1.1974609085754784,
          1.185170527773371
         ]
        },
        {
         "line": {
          "color": "rgba(219, 64, 82, 1.0)",
          "dash": "solid",
          "shape": "linear",
          "width": 1.3
         },
         "mode": "lines",
         "name": "SFA 16:0",
         "text": "",
         "type": "scatter",
         "x": [
          0.10168821843277477,
          0.15253232764916216,
          0.1830387931789946,
          0.20337643686554954,
          0.2237140805521045,
          0.24405172423865945,
          0.2643893679252144,
          0.28472701161176933,
          0.3050646552983243,
          0.4067528737310991,
          0.8135057474621982
         ],
         "y": [
          11.935967353761605,
          11.935897100930228,
          10.031104849625924,
          10.461704549673826,
          10.461704437101636,
          10.461706024149255,
          10.461704436213926,
          10.461694227117633,
          10.461704378675318,
          10.04375959070802,
          10.053059960135132
         ]
        },
        {
         "line": {
          "color": "rgba(0, 128, 128, 1.0)",
          "dash": "solid",
          "shape": "linear",
          "width": 1.3
         },
         "mode": "lines",
         "name": "SFA 18:0",
         "text": "",
         "type": "scatter",
         "x": [
          0.10168821843277477,
          0.15253232764916216,
          0.1830387931789946,
          0.20337643686554954,
          0.2237140805521045,
          0.24405172423865945,
          0.2643893679252144,
          0.28472701161176933,
          0.3050646552983243,
          0.4067528737310991,
          0.8135057474621982
         ],
         "y": [
          4.413334577500555,
          4.413293338899302,
          3.2968520879199756,
          3.3626381830185124,
          3.3626378820222596,
          3.3626394284004277,
          3.3626378814944586,
          3.362631643844063,
          3.362637844852834,
          3.080355628466231,
          3.0704898935581246
         ]
        },
        {
         "line": {
          "color": "rgba(255, 255, 51, 1.0)",
          "dash": "solid",
          "shape": "linear",
          "width": 1.3
         },
         "mode": "lines",
         "name": "Selenium, Se",
         "text": "",
         "type": "scatter",
         "x": [
          0.10168821843277477,
          0.15253232764916216,
          0.1830387931789946,
          0.20337643686554954,
          0.2237140805521045,
          0.24405172423865945,
          0.2643893679252144,
          0.28472701161176933,
          0.3050646552983243,
          0.4067528737310991,
          0.8135057474621982
         ],
         "y": [
          66.06450594364584,
          66.06506185028408,
          80.94208372145059,
          90.87470741746274,
          90.87472154268833,
          90.87472220515859,
          90.87472156868898,
          90.8749757660171,
          90.87472332104008,
          103.59723907925411,
          105.05222675685864
         ]
        },
        {
         "line": {
          "color": "rgba(128, 128, 0, 1.0)",
          "dash": "solid",
          "shape": "linear",
          "width": 1.3
         },
         "mode": "lines",
         "name": "Sodium, Na",
         "text": "",
         "type": "scatter",
         "x": [
          0.10168821843277477,
          0.15253232764916216,
          0.1830387931789946,
          0.20337643686554954,
          0.2237140805521045,
          0.24405172423865945,
          0.2643893679252144,
          0.28472701161176933,
          0.3050646552983243,
          0.4067528737310991,
          0.8135057474621982
         ],
         "y": [
          2299.999999054214,
          2299.9999744537577,
          2299.99999398614,
          2299.9999814977136,
          2299.999999979705,
          2299.9999188103216,
          2299.9999999618813,
          2299.999841073507,
          2299.999999540413,
          2299.9999990330816,
          2299.9999998398994
         ]
        },
        {
         "line": {
          "color": "rgba(251, 128, 114, 1.0)",
          "dash": "solid",
          "shape": "linear",
          "width": 1.3
         },
         "mode": "lines",
         "name": "Thiamin",
         "text": "",
         "type": "scatter",
         "x": [
          0.10168821843277477,
          0.15253232764916216,
          0.1830387931789946,
          0.20337643686554954,
          0.2237140805521045,
          0.24405172423865945,
          0.2643893679252144,
          0.28472701161176933,
          0.3050646552983243,
          0.4067528737310991,
          0.8135057474621982
         ],
         "y": [
          1.967464626465045,
          1.967476476677176,
          2.2891125261485348,
          2.4230705037815214,
          2.423070832983473,
          2.4230695806537046,
          2.423070833162172,
          2.423073734271487,
          2.423070849504256,
          2.5765962198574117,
          2.5934120127667026
         ]
        },
        {
         "line": {
          "color": "rgba(128, 177, 211, 1.0)",
          "dash": "solid",
          "shape": "linear",
          "width": 1.3
         },
         "mode": "lines",
         "name": "Total lipid (fat)",
         "text": "",
         "type": "scatter",
         "x": [
          0.10168821843277477,
          0.15253232764916216,
          0.1830387931789946,
          0.20337643686554954,
          0.2237140805521045,
          0.24405172423865945,
          0.2643893679252144,
          0.28472701161176933,
          0.3050646552983243,
          0.4067528737310991,
          0.8135057474621982
         ],
         "y": [
          90.20752319427928,
          90.20670348699892,
          68.21482961945289,
          72.90414239200851,
          72.9041454938469,
          72.90413772269251,
          72.9041454869081,
          72.90410553072357,
          72.90414525302455,
          72.1533196479573,
          72.35781306316059
         ]
        },
        {
         "line": {
          "color": "rgba(128, 177, 211, 0.8999999999999999)",
          "dash": "solid",
          "shape": "linear",
          "width": 1.3
         },
         "mode": "lines",
         "name": "Vitamin A, RAE",
         "text": "",
         "type": "scatter",
         "x": [
          0.10168821843277477,
          0.15253232764916216,
          0.1830387931789946,
          0.20337643686554954,
          0.2237140805521045,
          0.24405172423865945,
          0.2643893679252144,
          0.28472701161176933,
          0.3050646552983243,
          0.4067528737310991,
          0.8135057474621982
         ],
         "y": [
          900.0000031099163,
          900.0000342123376,
          900.0000606071007,
          900.0000482502245,
          900.0000000667297,
          900.0004298739007,
          900.0000001883445,
          900.0010025835552,
          900.0000083181527,
          900.0000041398432,
          900.0000007400429
         ]
        },
        {
         "line": {
          "color": "rgba(255, 153, 51, 0.8999999999999999)",
          "dash": "solid",
          "shape": "linear",
          "width": 1.3
         },
         "mode": "lines",
         "name": "Vitamin B-12",
         "text": "",
         "type": "scatter",
         "x": [
          0.10168821843277477,
          0.15253232764916216,
          0.1830387931789946,
          0.20337643686554954,
          0.2237140805521045,
          0.24405172423865945,
          0.2643893679252144,
          0.28472701161176933,
          0.3050646552983243,
          0.4067528737310991,
          0.8135057474621982
         ],
         "y": [
          2.4000000005108304,
          2.4000005398175146,
          2.4000001358861023,
          2.4000003609434666,
          2.4000000004697135,
          2.4000034913636963,
          2.400000000875928,
          2.400000080287238,
          2.4000000137544557,
          2.4000000034884197,
          2.4000000019083814
         ]
        },
        {
         "line": {
          "color": "rgba(55, 128, 191, 0.8999999999999999)",
          "dash": "solid",
          "shape": "linear",
          "width": 1.3
         },
         "mode": "lines",
         "name": "Vitamin B-6",
         "text": "",
         "type": "scatter",
         "x": [
          0.10168821843277477,
          0.15253232764916216,
          0.1830387931789946,
          0.20337643686554954,
          0.2237140805521045,
          0.24405172423865945,
          0.2643893679252144,
          0.28472701161176933,
          0.3050646552983243,
          0.4067528737310991,
          0.8135057474621982
         ],
         "y": [
          2.6068568434232757,
          2.6068352409475493,
          2.0204102634283454,
          1.7241252556569897,
          1.7241245522787025,
          1.72412725388814,
          1.724124552159532,
          1.7241216469947318,
          1.7241245331658182,
          1.5231166910896843,
          1.5020069010524342
         ]
        },
        {
         "line": {
          "color": "rgba(50, 171, 96, 0.8999999999999999)",
          "dash": "solid",
          "shape": "linear",
          "width": 1.3
         },
         "mode": "lines",
         "name": "Vitamin D (D2 + D3)",
         "text": "",
         "type": "scatter",
         "x": [
          0.10168821843277477,
          0.15253232764916216,
          0.1830387931789946,
          0.20337643686554954,
          0.2237140805521045,
          0.24405172423865945,
          0.2643893679252144,
          0.28472701161176933,
          0.3050646552983243,
          0.4067528737310991,
          0.8135057474621982
         ],
         "y": [
          5.514599423143413,
          5.5145906971940155,
          5.248569463019414,
          5.087140318481326,
          5.087139313020694,
          5.087145102785349,
          5.08713931288479,
          5.087130147301502,
          5.087139270783284,
          4.543927204151724,
          4.522585991991449
         ]
        },
        {
         "line": {
          "color": "rgba(128, 0, 128, 0.8999999999999999)",
          "dash": "solid",
          "shape": "linear",
          "width": 1.3
         },
         "mode": "lines",
         "name": "Vitamins and Other Components",
         "text": "",
         "type": "scatter",
         "x": [
          0.10168821843277477,
          0.15253232764916216,
          0.1830387931789946,
          0.20337643686554954,
          0.2237140805521045,
          0.24405172423865945,
          0.2643893679252144,
          0.28472701161176933,
          0.3050646552983243,
          0.4067528737310991,
          0.8135057474621982
         ],
         "y": [
          0,
          0,
          0,
          0,
          0,
          0,
          0,
          0,
          0,
          0,
          0
         ]
        },
        {
         "line": {
          "color": "rgba(219, 64, 82, 0.8999999999999999)",
          "dash": "solid",
          "shape": "linear",
          "width": 1.3
         },
         "mode": "lines",
         "name": "Water",
         "text": "",
         "type": "scatter",
         "x": [
          0.10168821843277477,
          0.15253232764916216,
          0.1830387931789946,
          0.20337643686554954,
          0.2237140805521045,
          0.24405172423865945,
          0.2643893679252144,
          0.28472701161176933,
          0.3050646552983243,
          0.4067528737310991,
          0.8135057474621982
         ],
         "y": [
          1077.4783059505203,
          1077.4768027254404,
          1035.5189451447516,
          916.1638296254023,
          916.1636047053756,
          916.1644495702577,
          916.1636047132715,
          916.1629708022074,
          916.1636011079676,
          857.2848454699217,
          851.2952877284761
         ]
        },
        {
         "line": {
          "color": "rgba(0, 128, 128, 0.8999999999999999)",
          "dash": "solid",
          "shape": "linear",
          "width": 1.3
         },
         "mode": "lines",
         "name": "Zinc, Zn",
         "text": "",
         "type": "scatter",
         "x": [
          0.10168821843277477,
          0.15253232764916216,
          0.1830387931789946,
          0.20337643686554954,
          0.2237140805521045,
          0.24405172423865945,
          0.2643893679252144,
          0.28472701161176933,
          0.3050646552983243,
          0.4067528737310991,
          0.8135057474621982
         ],
         "y": [
          12.75482397019755,
          12.75488302957239,
          14.36982655871969,
          16.048555459900427,
          16.048558813156383,
          16.0485472063135,
          16.048558814491795,
          16.04858265828634,
          16.048558958350327,
          17.431684784882123,
          17.596793199909968
         ]
        }
       ],
       "layout": {
        "legend": {
         "bgcolor": "#F5F6F9",
         "font": {
          "color": "#4D5663"
         }
        },
        "paper_bgcolor": "#F5F6F9",
        "plot_bgcolor": "#F5F6F9",
        "template": {
         "data": {
          "bar": [
           {
            "error_x": {
             "color": "#2a3f5f"
            },
            "error_y": {
             "color": "#2a3f5f"
            },
            "marker": {
             "line": {
              "color": "#E5ECF6",
              "width": 0.5
             },
             "pattern": {
              "fillmode": "overlay",
              "size": 10,
              "solidity": 0.2
             }
            },
            "type": "bar"
           }
          ],
          "barpolar": [
           {
            "marker": {
             "line": {
              "color": "#E5ECF6",
              "width": 0.5
             },
             "pattern": {
              "fillmode": "overlay",
              "size": 10,
              "solidity": 0.2
             }
            },
            "type": "barpolar"
           }
          ],
          "carpet": [
           {
            "aaxis": {
             "endlinecolor": "#2a3f5f",
             "gridcolor": "white",
             "linecolor": "white",
             "minorgridcolor": "white",
             "startlinecolor": "#2a3f5f"
            },
            "baxis": {
             "endlinecolor": "#2a3f5f",
             "gridcolor": "white",
             "linecolor": "white",
             "minorgridcolor": "white",
             "startlinecolor": "#2a3f5f"
            },
            "type": "carpet"
           }
          ],
          "choropleth": [
           {
            "colorbar": {
             "outlinewidth": 0,
             "ticks": ""
            },
            "type": "choropleth"
           }
          ],
          "contour": [
           {
            "colorbar": {
             "outlinewidth": 0,
             "ticks": ""
            },
            "colorscale": [
             [
              0,
              "#0d0887"
             ],
             [
              0.1111111111111111,
              "#46039f"
             ],
             [
              0.2222222222222222,
              "#7201a8"
             ],
             [
              0.3333333333333333,
              "#9c179e"
             ],
             [
              0.4444444444444444,
              "#bd3786"
             ],
             [
              0.5555555555555556,
              "#d8576b"
             ],
             [
              0.6666666666666666,
              "#ed7953"
             ],
             [
              0.7777777777777778,
              "#fb9f3a"
             ],
             [
              0.8888888888888888,
              "#fdca26"
             ],
             [
              1,
              "#f0f921"
             ]
            ],
            "type": "contour"
           }
          ],
          "contourcarpet": [
           {
            "colorbar": {
             "outlinewidth": 0,
             "ticks": ""
            },
            "type": "contourcarpet"
           }
          ],
          "heatmap": [
           {
            "colorbar": {
             "outlinewidth": 0,
             "ticks": ""
            },
            "colorscale": [
             [
              0,
              "#0d0887"
             ],
             [
              0.1111111111111111,
              "#46039f"
             ],
             [
              0.2222222222222222,
              "#7201a8"
             ],
             [
              0.3333333333333333,
              "#9c179e"
             ],
             [
              0.4444444444444444,
              "#bd3786"
             ],
             [
              0.5555555555555556,
              "#d8576b"
             ],
             [
              0.6666666666666666,
              "#ed7953"
             ],
             [
              0.7777777777777778,
              "#fb9f3a"
             ],
             [
              0.8888888888888888,
              "#fdca26"
             ],
             [
              1,
              "#f0f921"
             ]
            ],
            "type": "heatmap"
           }
          ],
          "heatmapgl": [
           {
            "colorbar": {
             "outlinewidth": 0,
             "ticks": ""
            },
            "colorscale": [
             [
              0,
              "#0d0887"
             ],
             [
              0.1111111111111111,
              "#46039f"
             ],
             [
              0.2222222222222222,
              "#7201a8"
             ],
             [
              0.3333333333333333,
              "#9c179e"
             ],
             [
              0.4444444444444444,
              "#bd3786"
             ],
             [
              0.5555555555555556,
              "#d8576b"
             ],
             [
              0.6666666666666666,
              "#ed7953"
             ],
             [
              0.7777777777777778,
              "#fb9f3a"
             ],
             [
              0.8888888888888888,
              "#fdca26"
             ],
             [
              1,
              "#f0f921"
             ]
            ],
            "type": "heatmapgl"
           }
          ],
          "histogram": [
           {
            "marker": {
             "pattern": {
              "fillmode": "overlay",
              "size": 10,
              "solidity": 0.2
             }
            },
            "type": "histogram"
           }
          ],
          "histogram2d": [
           {
            "colorbar": {
             "outlinewidth": 0,
             "ticks": ""
            },
            "colorscale": [
             [
              0,
              "#0d0887"
             ],
             [
              0.1111111111111111,
              "#46039f"
             ],
             [
              0.2222222222222222,
              "#7201a8"
             ],
             [
              0.3333333333333333,
              "#9c179e"
             ],
             [
              0.4444444444444444,
              "#bd3786"
             ],
             [
              0.5555555555555556,
              "#d8576b"
             ],
             [
              0.6666666666666666,
              "#ed7953"
             ],
             [
              0.7777777777777778,
              "#fb9f3a"
             ],
             [
              0.8888888888888888,
              "#fdca26"
             ],
             [
              1,
              "#f0f921"
             ]
            ],
            "type": "histogram2d"
           }
          ],
          "histogram2dcontour": [
           {
            "colorbar": {
             "outlinewidth": 0,
             "ticks": ""
            },
            "colorscale": [
             [
              0,
              "#0d0887"
             ],
             [
              0.1111111111111111,
              "#46039f"
             ],
             [
              0.2222222222222222,
              "#7201a8"
             ],
             [
              0.3333333333333333,
              "#9c179e"
             ],
             [
              0.4444444444444444,
              "#bd3786"
             ],
             [
              0.5555555555555556,
              "#d8576b"
             ],
             [
              0.6666666666666666,
              "#ed7953"
             ],
             [
              0.7777777777777778,
              "#fb9f3a"
             ],
             [
              0.8888888888888888,
              "#fdca26"
             ],
             [
              1,
              "#f0f921"
             ]
            ],
            "type": "histogram2dcontour"
           }
          ],
          "mesh3d": [
           {
            "colorbar": {
             "outlinewidth": 0,
             "ticks": ""
            },
            "type": "mesh3d"
           }
          ],
          "parcoords": [
           {
            "line": {
             "colorbar": {
              "outlinewidth": 0,
              "ticks": ""
             }
            },
            "type": "parcoords"
           }
          ],
          "pie": [
           {
            "automargin": true,
            "type": "pie"
           }
          ],
          "scatter": [
           {
            "marker": {
             "colorbar": {
              "outlinewidth": 0,
              "ticks": ""
             }
            },
            "type": "scatter"
           }
          ],
          "scatter3d": [
           {
            "line": {
             "colorbar": {
              "outlinewidth": 0,
              "ticks": ""
             }
            },
            "marker": {
             "colorbar": {
              "outlinewidth": 0,
              "ticks": ""
             }
            },
            "type": "scatter3d"
           }
          ],
          "scattercarpet": [
           {
            "marker": {
             "colorbar": {
              "outlinewidth": 0,
              "ticks": ""
             }
            },
            "type": "scattercarpet"
           }
          ],
          "scattergeo": [
           {
            "marker": {
             "colorbar": {
              "outlinewidth": 0,
              "ticks": ""
             }
            },
            "type": "scattergeo"
           }
          ],
          "scattergl": [
           {
            "marker": {
             "colorbar": {
              "outlinewidth": 0,
              "ticks": ""
             }
            },
            "type": "scattergl"
           }
          ],
          "scattermapbox": [
           {
            "marker": {
             "colorbar": {
              "outlinewidth": 0,
              "ticks": ""
             }
            },
            "type": "scattermapbox"
           }
          ],
          "scatterpolar": [
           {
            "marker": {
             "colorbar": {
              "outlinewidth": 0,
              "ticks": ""
             }
            },
            "type": "scatterpolar"
           }
          ],
          "scatterpolargl": [
           {
            "marker": {
             "colorbar": {
              "outlinewidth": 0,
              "ticks": ""
             }
            },
            "type": "scatterpolargl"
           }
          ],
          "scatterternary": [
           {
            "marker": {
             "colorbar": {
              "outlinewidth": 0,
              "ticks": ""
             }
            },
            "type": "scatterternary"
           }
          ],
          "surface": [
           {
            "colorbar": {
             "outlinewidth": 0,
             "ticks": ""
            },
            "colorscale": [
             [
              0,
              "#0d0887"
             ],
             [
              0.1111111111111111,
              "#46039f"
             ],
             [
              0.2222222222222222,
              "#7201a8"
             ],
             [
              0.3333333333333333,
              "#9c179e"
             ],
             [
              0.4444444444444444,
              "#bd3786"
             ],
             [
              0.5555555555555556,
              "#d8576b"
             ],
             [
              0.6666666666666666,
              "#ed7953"
             ],
             [
              0.7777777777777778,
              "#fb9f3a"
             ],
             [
              0.8888888888888888,
              "#fdca26"
             ],
             [
              1,
              "#f0f921"
             ]
            ],
            "type": "surface"
           }
          ],
          "table": [
           {
            "cells": {
             "fill": {
              "color": "#EBF0F8"
             },
             "line": {
              "color": "white"
             }
            },
            "header": {
             "fill": {
              "color": "#C8D4E3"
             },
             "line": {
              "color": "white"
             }
            },
            "type": "table"
           }
          ]
         },
         "layout": {
          "annotationdefaults": {
           "arrowcolor": "#2a3f5f",
           "arrowhead": 0,
           "arrowwidth": 1
          },
          "autotypenumbers": "strict",
          "coloraxis": {
           "colorbar": {
            "outlinewidth": 0,
            "ticks": ""
           }
          },
          "colorscale": {
           "diverging": [
            [
             0,
             "#8e0152"
            ],
            [
             0.1,
             "#c51b7d"
            ],
            [
             0.2,
             "#de77ae"
            ],
            [
             0.3,
             "#f1b6da"
            ],
            [
             0.4,
             "#fde0ef"
            ],
            [
             0.5,
             "#f7f7f7"
            ],
            [
             0.6,
             "#e6f5d0"
            ],
            [
             0.7,
             "#b8e186"
            ],
            [
             0.8,
             "#7fbc41"
            ],
            [
             0.9,
             "#4d9221"
            ],
            [
             1,
             "#276419"
            ]
           ],
           "sequential": [
            [
             0,
             "#0d0887"
            ],
            [
             0.1111111111111111,
             "#46039f"
            ],
            [
             0.2222222222222222,
             "#7201a8"
            ],
            [
             0.3333333333333333,
             "#9c179e"
            ],
            [
             0.4444444444444444,
             "#bd3786"
            ],
            [
             0.5555555555555556,
             "#d8576b"
            ],
            [
             0.6666666666666666,
             "#ed7953"
            ],
            [
             0.7777777777777778,
             "#fb9f3a"
            ],
            [
             0.8888888888888888,
             "#fdca26"
            ],
            [
             1,
             "#f0f921"
            ]
           ],
           "sequentialminus": [
            [
             0,
             "#0d0887"
            ],
            [
             0.1111111111111111,
             "#46039f"
            ],
            [
             0.2222222222222222,
             "#7201a8"
            ],
            [
             0.3333333333333333,
             "#9c179e"
            ],
            [
             0.4444444444444444,
             "#bd3786"
            ],
            [
             0.5555555555555556,
             "#d8576b"
            ],
            [
             0.6666666666666666,
             "#ed7953"
            ],
            [
             0.7777777777777778,
             "#fb9f3a"
            ],
            [
             0.8888888888888888,
             "#fdca26"
            ],
            [
             1,
             "#f0f921"
            ]
           ]
          },
          "colorway": [
           "#636efa",
           "#EF553B",
           "#00cc96",
           "#ab63fa",
           "#FFA15A",
           "#19d3f3",
           "#FF6692",
           "#B6E880",
           "#FF97FF",
           "#FECB52"
          ],
          "font": {
           "color": "#2a3f5f"
          },
          "geo": {
           "bgcolor": "white",
           "lakecolor": "white",
           "landcolor": "#E5ECF6",
           "showlakes": true,
           "showland": true,
           "subunitcolor": "white"
          },
          "hoverlabel": {
           "align": "left"
          },
          "hovermode": "closest",
          "mapbox": {
           "style": "light"
          },
          "paper_bgcolor": "white",
          "plot_bgcolor": "#E5ECF6",
          "polar": {
           "angularaxis": {
            "gridcolor": "white",
            "linecolor": "white",
            "ticks": ""
           },
           "bgcolor": "#E5ECF6",
           "radialaxis": {
            "gridcolor": "white",
            "linecolor": "white",
            "ticks": ""
           }
          },
          "scene": {
           "xaxis": {
            "backgroundcolor": "#E5ECF6",
            "gridcolor": "white",
            "gridwidth": 2,
            "linecolor": "white",
            "showbackground": true,
            "ticks": "",
            "zerolinecolor": "white"
           },
           "yaxis": {
            "backgroundcolor": "#E5ECF6",
            "gridcolor": "white",
            "gridwidth": 2,
            "linecolor": "white",
            "showbackground": true,
            "ticks": "",
            "zerolinecolor": "white"
           },
           "zaxis": {
            "backgroundcolor": "#E5ECF6",
            "gridcolor": "white",
            "gridwidth": 2,
            "linecolor": "white",
            "showbackground": true,
            "ticks": "",
            "zerolinecolor": "white"
           }
          },
          "shapedefaults": {
           "line": {
            "color": "#2a3f5f"
           }
          },
          "ternary": {
           "aaxis": {
            "gridcolor": "white",
            "linecolor": "white",
            "ticks": ""
           },
           "baxis": {
            "gridcolor": "white",
            "linecolor": "white",
            "ticks": ""
           },
           "bgcolor": "#E5ECF6",
           "caxis": {
            "gridcolor": "white",
            "linecolor": "white",
            "ticks": ""
           }
          },
          "title": {
           "x": 0.05
          },
          "xaxis": {
           "automargin": true,
           "gridcolor": "white",
           "linecolor": "white",
           "ticks": "",
           "title": {
            "standoff": 15
           },
           "zerolinecolor": "white",
           "zerolinewidth": 2
          },
          "yaxis": {
           "automargin": true,
           "gridcolor": "white",
           "linecolor": "white",
           "ticks": "",
           "title": {
            "standoff": 15
           },
           "zerolinecolor": "white",
           "zerolinewidth": 2
          }
         }
        },
        "title": {
         "font": {
          "color": "#4D5663"
         }
        },
        "xaxis": {
         "gridcolor": "#E1E5ED",
         "showgrid": true,
         "tickfont": {
          "color": "#4D5663"
         },
         "title": {
          "font": {
           "color": "#4D5663"
          },
          "text": "Almond Milk Price"
         },
         "zerolinecolor": "#E1E5ED"
        },
        "yaxis": {
         "gridcolor": "#E1E5ED",
         "showgrid": true,
         "tickfont": {
          "color": "#4D5663"
         },
         "title": {
          "font": {
           "color": "#4D5663"
          },
          "text": "Hectograms"
         },
         "zerolinecolor": "#E1E5ED"
        }
       }
      },
      "text/html": [
       "<div>                            <div id=\"30e57d9e-0cc5-4c5e-9710-97b45d36b7e7\" class=\"plotly-graph-div\" style=\"height:525px; width:100%;\"></div>            <script type=\"text/javascript\">                require([\"plotly\"], function(Plotly) {                    window.PLOTLYENV=window.PLOTLYENV || {};\n",
       "                    window.PLOTLYENV.BASE_URL='https://plot.ly';                                    if (document.getElementById(\"30e57d9e-0cc5-4c5e-9710-97b45d36b7e7\")) {                    Plotly.newPlot(                        \"30e57d9e-0cc5-4c5e-9710-97b45d36b7e7\",                        [{\"line\":{\"color\":\"rgba(255, 153, 51, 1.0)\",\"dash\":\"solid\",\"shape\":\"linear\",\"width\":1.3},\"mode\":\"lines\",\"name\":\"Proximates\",\"text\":\"\",\"type\":\"scatter\",\"x\":[0.10168821843277477,0.15253232764916216,0.1830387931789946,0.20337643686554954,0.2237140805521045,0.24405172423865945,0.2643893679252144,0.28472701161176933,0.3050646552983243,0.4067528737310991,0.8135057474621982],\"y\":[0.0,0.0,0.0,0.0,0.0,0.0,0.0,0.0,0.0,0.0,0.0]},{\"line\":{\"color\":\"rgba(55, 128, 191, 1.0)\",\"dash\":\"solid\",\"shape\":\"linear\",\"width\":1.3},\"mode\":\"lines\",\"name\":\"Retinol\",\"text\":\"\",\"type\":\"scatter\",\"x\":[0.10168821843277477,0.15253232764916216,0.1830387931789946,0.20337643686554954,0.2237140805521045,0.24405172423865945,0.2643893679252144,0.28472701161176933,0.3050646552983243,0.4067528737310991,0.8135057474621982],\"y\":[306.27049956131054,306.26810780478917,239.71028074218208,192.9957833569219,192.9956478826715,192.9962177975383,192.99564785233702,192.9947119832855,192.9956427077871,132.96158377122202,129.93229923444608]},{\"line\":{\"color\":\"rgba(50, 171, 96, 1.0)\",\"dash\":\"solid\",\"shape\":\"linear\",\"width\":1.3},\"mode\":\"lines\",\"name\":\"Riboflavin\",\"text\":\"\",\"type\":\"scatter\",\"x\":[0.10168821843277477,0.15253232764916216,0.1830387931789946,0.20337643686554954,0.2237140805521045,0.24405172423865945,0.2643893679252144,0.28472701161176933,0.3050646552983243,0.4067528737310991,0.8135057474621982],\"y\":[1.4823061394048278,1.482317190544412,1.7783492361757218,1.9708600760537114,1.9708604055582393,1.9708594382715086,1.9708604056311156,1.9708612486102246,1.9708604126057496,2.034012253419522,2.0472650351295947]},{\"line\":{\"color\":\"rgba(128, 0, 128, 1.0)\",\"dash\":\"solid\",\"shape\":\"linear\",\"width\":1.3},\"mode\":\"lines\",\"name\":\"SFA 14:0\",\"text\":\"\",\"type\":\"scatter\",\"x\":[0.10168821843277477,0.15253232764916216,0.1830387931789946,0.20337643686554954,0.2237140805521045,0.24405172423865945,0.2643893679252144,0.28472701161176933,0.3050646552983243,0.4067528737310991,0.8135057474621982],\"y\":[1.3677162303954966,1.3677148087782847,1.3230346542487166,1.321924514722013,1.321924379060102,1.321925117221272,1.3219243788950232,1.3219215772111927,1.3219243625957189,1.1974609085754784,1.185170527773371]},{\"line\":{\"color\":\"rgba(219, 64, 82, 1.0)\",\"dash\":\"solid\",\"shape\":\"linear\",\"width\":1.3},\"mode\":\"lines\",\"name\":\"SFA 16:0\",\"text\":\"\",\"type\":\"scatter\",\"x\":[0.10168821843277477,0.15253232764916216,0.1830387931789946,0.20337643686554954,0.2237140805521045,0.24405172423865945,0.2643893679252144,0.28472701161176933,0.3050646552983243,0.4067528737310991,0.8135057474621982],\"y\":[11.935967353761605,11.935897100930228,10.031104849625924,10.461704549673826,10.461704437101636,10.461706024149255,10.461704436213926,10.461694227117633,10.461704378675318,10.04375959070802,10.053059960135132]},{\"line\":{\"color\":\"rgba(0, 128, 128, 1.0)\",\"dash\":\"solid\",\"shape\":\"linear\",\"width\":1.3},\"mode\":\"lines\",\"name\":\"SFA 18:0\",\"text\":\"\",\"type\":\"scatter\",\"x\":[0.10168821843277477,0.15253232764916216,0.1830387931789946,0.20337643686554954,0.2237140805521045,0.24405172423865945,0.2643893679252144,0.28472701161176933,0.3050646552983243,0.4067528737310991,0.8135057474621982],\"y\":[4.413334577500555,4.413293338899302,3.2968520879199756,3.3626381830185124,3.3626378820222596,3.3626394284004277,3.3626378814944586,3.362631643844063,3.362637844852834,3.080355628466231,3.0704898935581246]},{\"line\":{\"color\":\"rgba(255, 255, 51, 1.0)\",\"dash\":\"solid\",\"shape\":\"linear\",\"width\":1.3},\"mode\":\"lines\",\"name\":\"Selenium, Se\",\"text\":\"\",\"type\":\"scatter\",\"x\":[0.10168821843277477,0.15253232764916216,0.1830387931789946,0.20337643686554954,0.2237140805521045,0.24405172423865945,0.2643893679252144,0.28472701161176933,0.3050646552983243,0.4067528737310991,0.8135057474621982],\"y\":[66.06450594364584,66.06506185028408,80.94208372145059,90.87470741746274,90.87472154268833,90.87472220515859,90.87472156868898,90.8749757660171,90.87472332104008,103.59723907925411,105.05222675685864]},{\"line\":{\"color\":\"rgba(128, 128, 0, 1.0)\",\"dash\":\"solid\",\"shape\":\"linear\",\"width\":1.3},\"mode\":\"lines\",\"name\":\"Sodium, Na\",\"text\":\"\",\"type\":\"scatter\",\"x\":[0.10168821843277477,0.15253232764916216,0.1830387931789946,0.20337643686554954,0.2237140805521045,0.24405172423865945,0.2643893679252144,0.28472701161176933,0.3050646552983243,0.4067528737310991,0.8135057474621982],\"y\":[2299.999999054214,2299.9999744537577,2299.99999398614,2299.9999814977136,2299.999999979705,2299.9999188103216,2299.9999999618813,2299.999841073507,2299.999999540413,2299.9999990330816,2299.9999998398994]},{\"line\":{\"color\":\"rgba(251, 128, 114, 1.0)\",\"dash\":\"solid\",\"shape\":\"linear\",\"width\":1.3},\"mode\":\"lines\",\"name\":\"Thiamin\",\"text\":\"\",\"type\":\"scatter\",\"x\":[0.10168821843277477,0.15253232764916216,0.1830387931789946,0.20337643686554954,0.2237140805521045,0.24405172423865945,0.2643893679252144,0.28472701161176933,0.3050646552983243,0.4067528737310991,0.8135057474621982],\"y\":[1.967464626465045,1.967476476677176,2.2891125261485348,2.4230705037815214,2.423070832983473,2.4230695806537046,2.423070833162172,2.423073734271487,2.423070849504256,2.5765962198574117,2.5934120127667026]},{\"line\":{\"color\":\"rgba(128, 177, 211, 1.0)\",\"dash\":\"solid\",\"shape\":\"linear\",\"width\":1.3},\"mode\":\"lines\",\"name\":\"Total lipid (fat)\",\"text\":\"\",\"type\":\"scatter\",\"x\":[0.10168821843277477,0.15253232764916216,0.1830387931789946,0.20337643686554954,0.2237140805521045,0.24405172423865945,0.2643893679252144,0.28472701161176933,0.3050646552983243,0.4067528737310991,0.8135057474621982],\"y\":[90.20752319427928,90.20670348699892,68.21482961945289,72.90414239200851,72.9041454938469,72.90413772269251,72.9041454869081,72.90410553072357,72.90414525302455,72.1533196479573,72.35781306316059]},{\"line\":{\"color\":\"rgba(128, 177, 211, 0.8999999999999999)\",\"dash\":\"solid\",\"shape\":\"linear\",\"width\":1.3},\"mode\":\"lines\",\"name\":\"Vitamin A, RAE\",\"text\":\"\",\"type\":\"scatter\",\"x\":[0.10168821843277477,0.15253232764916216,0.1830387931789946,0.20337643686554954,0.2237140805521045,0.24405172423865945,0.2643893679252144,0.28472701161176933,0.3050646552983243,0.4067528737310991,0.8135057474621982],\"y\":[900.0000031099163,900.0000342123376,900.0000606071007,900.0000482502245,900.0000000667297,900.0004298739007,900.0000001883445,900.0010025835552,900.0000083181527,900.0000041398432,900.0000007400429]},{\"line\":{\"color\":\"rgba(255, 153, 51, 0.8999999999999999)\",\"dash\":\"solid\",\"shape\":\"linear\",\"width\":1.3},\"mode\":\"lines\",\"name\":\"Vitamin B-12\",\"text\":\"\",\"type\":\"scatter\",\"x\":[0.10168821843277477,0.15253232764916216,0.1830387931789946,0.20337643686554954,0.2237140805521045,0.24405172423865945,0.2643893679252144,0.28472701161176933,0.3050646552983243,0.4067528737310991,0.8135057474621982],\"y\":[2.4000000005108304,2.4000005398175146,2.4000001358861023,2.4000003609434666,2.4000000004697135,2.4000034913636963,2.400000000875928,2.400000080287238,2.4000000137544557,2.4000000034884197,2.4000000019083814]},{\"line\":{\"color\":\"rgba(55, 128, 191, 0.8999999999999999)\",\"dash\":\"solid\",\"shape\":\"linear\",\"width\":1.3},\"mode\":\"lines\",\"name\":\"Vitamin B-6\",\"text\":\"\",\"type\":\"scatter\",\"x\":[0.10168821843277477,0.15253232764916216,0.1830387931789946,0.20337643686554954,0.2237140805521045,0.24405172423865945,0.2643893679252144,0.28472701161176933,0.3050646552983243,0.4067528737310991,0.8135057474621982],\"y\":[2.6068568434232757,2.6068352409475493,2.0204102634283454,1.7241252556569897,1.7241245522787025,1.72412725388814,1.724124552159532,1.7241216469947318,1.7241245331658182,1.5231166910896843,1.5020069010524342]},{\"line\":{\"color\":\"rgba(50, 171, 96, 0.8999999999999999)\",\"dash\":\"solid\",\"shape\":\"linear\",\"width\":1.3},\"mode\":\"lines\",\"name\":\"Vitamin D (D2 + D3)\",\"text\":\"\",\"type\":\"scatter\",\"x\":[0.10168821843277477,0.15253232764916216,0.1830387931789946,0.20337643686554954,0.2237140805521045,0.24405172423865945,0.2643893679252144,0.28472701161176933,0.3050646552983243,0.4067528737310991,0.8135057474621982],\"y\":[5.514599423143413,5.5145906971940155,5.248569463019414,5.087140318481326,5.087139313020694,5.087145102785349,5.08713931288479,5.087130147301502,5.087139270783284,4.543927204151724,4.522585991991449]},{\"line\":{\"color\":\"rgba(128, 0, 128, 0.8999999999999999)\",\"dash\":\"solid\",\"shape\":\"linear\",\"width\":1.3},\"mode\":\"lines\",\"name\":\"Vitamins and Other Components\",\"text\":\"\",\"type\":\"scatter\",\"x\":[0.10168821843277477,0.15253232764916216,0.1830387931789946,0.20337643686554954,0.2237140805521045,0.24405172423865945,0.2643893679252144,0.28472701161176933,0.3050646552983243,0.4067528737310991,0.8135057474621982],\"y\":[0.0,0.0,0.0,0.0,0.0,0.0,0.0,0.0,0.0,0.0,0.0]},{\"line\":{\"color\":\"rgba(219, 64, 82, 0.8999999999999999)\",\"dash\":\"solid\",\"shape\":\"linear\",\"width\":1.3},\"mode\":\"lines\",\"name\":\"Water\",\"text\":\"\",\"type\":\"scatter\",\"x\":[0.10168821843277477,0.15253232764916216,0.1830387931789946,0.20337643686554954,0.2237140805521045,0.24405172423865945,0.2643893679252144,0.28472701161176933,0.3050646552983243,0.4067528737310991,0.8135057474621982],\"y\":[1077.4783059505203,1077.4768027254404,1035.5189451447516,916.1638296254023,916.1636047053756,916.1644495702577,916.1636047132715,916.1629708022074,916.1636011079676,857.2848454699217,851.2952877284761]},{\"line\":{\"color\":\"rgba(0, 128, 128, 0.8999999999999999)\",\"dash\":\"solid\",\"shape\":\"linear\",\"width\":1.3},\"mode\":\"lines\",\"name\":\"Zinc, Zn\",\"text\":\"\",\"type\":\"scatter\",\"x\":[0.10168821843277477,0.15253232764916216,0.1830387931789946,0.20337643686554954,0.2237140805521045,0.24405172423865945,0.2643893679252144,0.28472701161176933,0.3050646552983243,0.4067528737310991,0.8135057474621982],\"y\":[12.75482397019755,12.75488302957239,14.36982655871969,16.048555459900427,16.048558813156383,16.0485472063135,16.048558814491795,16.04858265828634,16.048558958350327,17.431684784882123,17.596793199909968]}],                        {\"legend\":{\"bgcolor\":\"#F5F6F9\",\"font\":{\"color\":\"#4D5663\"}},\"paper_bgcolor\":\"#F5F6F9\",\"plot_bgcolor\":\"#F5F6F9\",\"template\":{\"data\":{\"bar\":[{\"error_x\":{\"color\":\"#2a3f5f\"},\"error_y\":{\"color\":\"#2a3f5f\"},\"marker\":{\"line\":{\"color\":\"#E5ECF6\",\"width\":0.5},\"pattern\":{\"fillmode\":\"overlay\",\"size\":10,\"solidity\":0.2}},\"type\":\"bar\"}],\"barpolar\":[{\"marker\":{\"line\":{\"color\":\"#E5ECF6\",\"width\":0.5},\"pattern\":{\"fillmode\":\"overlay\",\"size\":10,\"solidity\":0.2}},\"type\":\"barpolar\"}],\"carpet\":[{\"aaxis\":{\"endlinecolor\":\"#2a3f5f\",\"gridcolor\":\"white\",\"linecolor\":\"white\",\"minorgridcolor\":\"white\",\"startlinecolor\":\"#2a3f5f\"},\"baxis\":{\"endlinecolor\":\"#2a3f5f\",\"gridcolor\":\"white\",\"linecolor\":\"white\",\"minorgridcolor\":\"white\",\"startlinecolor\":\"#2a3f5f\"},\"type\":\"carpet\"}],\"choropleth\":[{\"colorbar\":{\"outlinewidth\":0,\"ticks\":\"\"},\"type\":\"choropleth\"}],\"contour\":[{\"colorbar\":{\"outlinewidth\":0,\"ticks\":\"\"},\"colorscale\":[[0.0,\"#0d0887\"],[0.1111111111111111,\"#46039f\"],[0.2222222222222222,\"#7201a8\"],[0.3333333333333333,\"#9c179e\"],[0.4444444444444444,\"#bd3786\"],[0.5555555555555556,\"#d8576b\"],[0.6666666666666666,\"#ed7953\"],[0.7777777777777778,\"#fb9f3a\"],[0.8888888888888888,\"#fdca26\"],[1.0,\"#f0f921\"]],\"type\":\"contour\"}],\"contourcarpet\":[{\"colorbar\":{\"outlinewidth\":0,\"ticks\":\"\"},\"type\":\"contourcarpet\"}],\"heatmap\":[{\"colorbar\":{\"outlinewidth\":0,\"ticks\":\"\"},\"colorscale\":[[0.0,\"#0d0887\"],[0.1111111111111111,\"#46039f\"],[0.2222222222222222,\"#7201a8\"],[0.3333333333333333,\"#9c179e\"],[0.4444444444444444,\"#bd3786\"],[0.5555555555555556,\"#d8576b\"],[0.6666666666666666,\"#ed7953\"],[0.7777777777777778,\"#fb9f3a\"],[0.8888888888888888,\"#fdca26\"],[1.0,\"#f0f921\"]],\"type\":\"heatmap\"}],\"heatmapgl\":[{\"colorbar\":{\"outlinewidth\":0,\"ticks\":\"\"},\"colorscale\":[[0.0,\"#0d0887\"],[0.1111111111111111,\"#46039f\"],[0.2222222222222222,\"#7201a8\"],[0.3333333333333333,\"#9c179e\"],[0.4444444444444444,\"#bd3786\"],[0.5555555555555556,\"#d8576b\"],[0.6666666666666666,\"#ed7953\"],[0.7777777777777778,\"#fb9f3a\"],[0.8888888888888888,\"#fdca26\"],[1.0,\"#f0f921\"]],\"type\":\"heatmapgl\"}],\"histogram\":[{\"marker\":{\"pattern\":{\"fillmode\":\"overlay\",\"size\":10,\"solidity\":0.2}},\"type\":\"histogram\"}],\"histogram2d\":[{\"colorbar\":{\"outlinewidth\":0,\"ticks\":\"\"},\"colorscale\":[[0.0,\"#0d0887\"],[0.1111111111111111,\"#46039f\"],[0.2222222222222222,\"#7201a8\"],[0.3333333333333333,\"#9c179e\"],[0.4444444444444444,\"#bd3786\"],[0.5555555555555556,\"#d8576b\"],[0.6666666666666666,\"#ed7953\"],[0.7777777777777778,\"#fb9f3a\"],[0.8888888888888888,\"#fdca26\"],[1.0,\"#f0f921\"]],\"type\":\"histogram2d\"}],\"histogram2dcontour\":[{\"colorbar\":{\"outlinewidth\":0,\"ticks\":\"\"},\"colorscale\":[[0.0,\"#0d0887\"],[0.1111111111111111,\"#46039f\"],[0.2222222222222222,\"#7201a8\"],[0.3333333333333333,\"#9c179e\"],[0.4444444444444444,\"#bd3786\"],[0.5555555555555556,\"#d8576b\"],[0.6666666666666666,\"#ed7953\"],[0.7777777777777778,\"#fb9f3a\"],[0.8888888888888888,\"#fdca26\"],[1.0,\"#f0f921\"]],\"type\":\"histogram2dcontour\"}],\"mesh3d\":[{\"colorbar\":{\"outlinewidth\":0,\"ticks\":\"\"},\"type\":\"mesh3d\"}],\"parcoords\":[{\"line\":{\"colorbar\":{\"outlinewidth\":0,\"ticks\":\"\"}},\"type\":\"parcoords\"}],\"pie\":[{\"automargin\":true,\"type\":\"pie\"}],\"scatter\":[{\"marker\":{\"colorbar\":{\"outlinewidth\":0,\"ticks\":\"\"}},\"type\":\"scatter\"}],\"scatter3d\":[{\"line\":{\"colorbar\":{\"outlinewidth\":0,\"ticks\":\"\"}},\"marker\":{\"colorbar\":{\"outlinewidth\":0,\"ticks\":\"\"}},\"type\":\"scatter3d\"}],\"scattercarpet\":[{\"marker\":{\"colorbar\":{\"outlinewidth\":0,\"ticks\":\"\"}},\"type\":\"scattercarpet\"}],\"scattergeo\":[{\"marker\":{\"colorbar\":{\"outlinewidth\":0,\"ticks\":\"\"}},\"type\":\"scattergeo\"}],\"scattergl\":[{\"marker\":{\"colorbar\":{\"outlinewidth\":0,\"ticks\":\"\"}},\"type\":\"scattergl\"}],\"scattermapbox\":[{\"marker\":{\"colorbar\":{\"outlinewidth\":0,\"ticks\":\"\"}},\"type\":\"scattermapbox\"}],\"scatterpolar\":[{\"marker\":{\"colorbar\":{\"outlinewidth\":0,\"ticks\":\"\"}},\"type\":\"scatterpolar\"}],\"scatterpolargl\":[{\"marker\":{\"colorbar\":{\"outlinewidth\":0,\"ticks\":\"\"}},\"type\":\"scatterpolargl\"}],\"scatterternary\":[{\"marker\":{\"colorbar\":{\"outlinewidth\":0,\"ticks\":\"\"}},\"type\":\"scatterternary\"}],\"surface\":[{\"colorbar\":{\"outlinewidth\":0,\"ticks\":\"\"},\"colorscale\":[[0.0,\"#0d0887\"],[0.1111111111111111,\"#46039f\"],[0.2222222222222222,\"#7201a8\"],[0.3333333333333333,\"#9c179e\"],[0.4444444444444444,\"#bd3786\"],[0.5555555555555556,\"#d8576b\"],[0.6666666666666666,\"#ed7953\"],[0.7777777777777778,\"#fb9f3a\"],[0.8888888888888888,\"#fdca26\"],[1.0,\"#f0f921\"]],\"type\":\"surface\"}],\"table\":[{\"cells\":{\"fill\":{\"color\":\"#EBF0F8\"},\"line\":{\"color\":\"white\"}},\"header\":{\"fill\":{\"color\":\"#C8D4E3\"},\"line\":{\"color\":\"white\"}},\"type\":\"table\"}]},\"layout\":{\"annotationdefaults\":{\"arrowcolor\":\"#2a3f5f\",\"arrowhead\":0,\"arrowwidth\":1},\"autotypenumbers\":\"strict\",\"coloraxis\":{\"colorbar\":{\"outlinewidth\":0,\"ticks\":\"\"}},\"colorscale\":{\"diverging\":[[0,\"#8e0152\"],[0.1,\"#c51b7d\"],[0.2,\"#de77ae\"],[0.3,\"#f1b6da\"],[0.4,\"#fde0ef\"],[0.5,\"#f7f7f7\"],[0.6,\"#e6f5d0\"],[0.7,\"#b8e186\"],[0.8,\"#7fbc41\"],[0.9,\"#4d9221\"],[1,\"#276419\"]],\"sequential\":[[0.0,\"#0d0887\"],[0.1111111111111111,\"#46039f\"],[0.2222222222222222,\"#7201a8\"],[0.3333333333333333,\"#9c179e\"],[0.4444444444444444,\"#bd3786\"],[0.5555555555555556,\"#d8576b\"],[0.6666666666666666,\"#ed7953\"],[0.7777777777777778,\"#fb9f3a\"],[0.8888888888888888,\"#fdca26\"],[1.0,\"#f0f921\"]],\"sequentialminus\":[[0.0,\"#0d0887\"],[0.1111111111111111,\"#46039f\"],[0.2222222222222222,\"#7201a8\"],[0.3333333333333333,\"#9c179e\"],[0.4444444444444444,\"#bd3786\"],[0.5555555555555556,\"#d8576b\"],[0.6666666666666666,\"#ed7953\"],[0.7777777777777778,\"#fb9f3a\"],[0.8888888888888888,\"#fdca26\"],[1.0,\"#f0f921\"]]},\"colorway\":[\"#636efa\",\"#EF553B\",\"#00cc96\",\"#ab63fa\",\"#FFA15A\",\"#19d3f3\",\"#FF6692\",\"#B6E880\",\"#FF97FF\",\"#FECB52\"],\"font\":{\"color\":\"#2a3f5f\"},\"geo\":{\"bgcolor\":\"white\",\"lakecolor\":\"white\",\"landcolor\":\"#E5ECF6\",\"showlakes\":true,\"showland\":true,\"subunitcolor\":\"white\"},\"hoverlabel\":{\"align\":\"left\"},\"hovermode\":\"closest\",\"mapbox\":{\"style\":\"light\"},\"paper_bgcolor\":\"white\",\"plot_bgcolor\":\"#E5ECF6\",\"polar\":{\"angularaxis\":{\"gridcolor\":\"white\",\"linecolor\":\"white\",\"ticks\":\"\"},\"bgcolor\":\"#E5ECF6\",\"radialaxis\":{\"gridcolor\":\"white\",\"linecolor\":\"white\",\"ticks\":\"\"}},\"scene\":{\"xaxis\":{\"backgroundcolor\":\"#E5ECF6\",\"gridcolor\":\"white\",\"gridwidth\":2,\"linecolor\":\"white\",\"showbackground\":true,\"ticks\":\"\",\"zerolinecolor\":\"white\"},\"yaxis\":{\"backgroundcolor\":\"#E5ECF6\",\"gridcolor\":\"white\",\"gridwidth\":2,\"linecolor\":\"white\",\"showbackground\":true,\"ticks\":\"\",\"zerolinecolor\":\"white\"},\"zaxis\":{\"backgroundcolor\":\"#E5ECF6\",\"gridcolor\":\"white\",\"gridwidth\":2,\"linecolor\":\"white\",\"showbackground\":true,\"ticks\":\"\",\"zerolinecolor\":\"white\"}},\"shapedefaults\":{\"line\":{\"color\":\"#2a3f5f\"}},\"ternary\":{\"aaxis\":{\"gridcolor\":\"white\",\"linecolor\":\"white\",\"ticks\":\"\"},\"baxis\":{\"gridcolor\":\"white\",\"linecolor\":\"white\",\"ticks\":\"\"},\"bgcolor\":\"#E5ECF6\",\"caxis\":{\"gridcolor\":\"white\",\"linecolor\":\"white\",\"ticks\":\"\"}},\"title\":{\"x\":0.05},\"xaxis\":{\"automargin\":true,\"gridcolor\":\"white\",\"linecolor\":\"white\",\"ticks\":\"\",\"title\":{\"standoff\":15},\"zerolinecolor\":\"white\",\"zerolinewidth\":2},\"yaxis\":{\"automargin\":true,\"gridcolor\":\"white\",\"linecolor\":\"white\",\"ticks\":\"\",\"title\":{\"standoff\":15},\"zerolinecolor\":\"white\",\"zerolinewidth\":2}}},\"title\":{\"font\":{\"color\":\"#4D5663\"}},\"xaxis\":{\"gridcolor\":\"#E1E5ED\",\"showgrid\":true,\"tickfont\":{\"color\":\"#4D5663\"},\"title\":{\"font\":{\"color\":\"#4D5663\"},\"text\":\"Almond Milk Price\"},\"zerolinecolor\":\"#E1E5ED\"},\"yaxis\":{\"gridcolor\":\"#E1E5ED\",\"showgrid\":true,\"tickfont\":{\"color\":\"#4D5663\"},\"title\":{\"font\":{\"color\":\"#4D5663\"},\"text\":\"Hectograms\"},\"zerolinecolor\":\"#E1E5ED\"}},                        {\"showLink\": true, \"linkText\": \"Export to plot.ly\", \"plotlyServerURL\": \"https://plot.ly\", \"responsive\": true}                    ).then(function(){\n",
       "                            \n",
       "var gd = document.getElementById('30e57d9e-0cc5-4c5e-9710-97b45d36b7e7');\n",
       "var x = new MutationObserver(function (mutations, observer) {{\n",
       "        var display = window.getComputedStyle(gd).display;\n",
       "        if (!display || display === 'none') {{\n",
       "            console.log([gd, 'removed!']);\n",
       "            Plotly.purge(gd);\n",
       "            observer.disconnect();\n",
       "        }}\n",
       "}});\n",
       "\n",
       "// Listen for the removal of the full notebook cells\n",
       "var notebookContainer = gd.closest('#notebook-container');\n",
       "if (notebookContainer) {{\n",
       "    x.observe(notebookContainer, {childList: true});\n",
       "}}\n",
       "\n",
       "// Listen for the clearing of the current output cell\n",
       "var outputEl = gd.closest('.output');\n",
       "if (outputEl) {{\n",
       "    x.observe(outputEl, {childList: true});\n",
       "}}\n",
       "\n",
       "                        })                };                });            </script>        </div>"
      ]
     },
     "metadata": {},
     "output_type": "display_data"
    }
   ],
   "source": [
    "# Matrix product maps quantities of food into quantities of nutrients\n",
    "NutrientResponse = Diet_response@FoodNutrients.T\n",
    "\n",
    "# Drop columns of missing nutrients, plot second half of nutrients (avoid display issues)\n",
    "NutrientResponse = NutrientResponse.loc[:,NutrientResponse.count()>0]\n",
    "NutrientResponse.iloc[:,17:34].iplot(xTitle='%s Price' % ReferenceGood.title(),yTitle='Hectograms')"
   ]
  },
  {
   "cell_type": "markdown",
   "metadata": {},
   "source": [
    "## Investigate Nutrient Profile of Specific Foods ##"
   ]
  },
  {
   "cell_type": "code",
   "execution_count": 20,
   "metadata": {},
   "outputs": [
    {
     "data": {
      "text/html": [
       "<div>\n",
       "<style scoped>\n",
       "    .dataframe tbody tr th:only-of-type {\n",
       "        vertical-align: middle;\n",
       "    }\n",
       "\n",
       "    .dataframe tbody tr th {\n",
       "        vertical-align: top;\n",
       "    }\n",
       "\n",
       "    .dataframe thead th {\n",
       "        text-align: right;\n",
       "    }\n",
       "</style>\n",
       "<table border=\"1\" class=\"dataframe\">\n",
       "  <thead>\n",
       "    <tr style=\"text-align: right;\">\n",
       "      <th></th>\n",
       "      <th>potatoes</th>\n",
       "      <th>almond milk</th>\n",
       "      <th>black beans</th>\n",
       "      <th>oats</th>\n",
       "      <th>whole milk</th>\n",
       "    </tr>\n",
       "  </thead>\n",
       "  <tbody>\n",
       "    <tr>\n",
       "      <th>Calcium, Ca</th>\n",
       "      <td>0.012385</td>\n",
       "      <td>0.427793</td>\n",
       "      <td>0.126331</td>\n",
       "      <td>0.128809</td>\n",
       "      <td>0.304682</td>\n",
       "    </tr>\n",
       "    <tr>\n",
       "      <th>Carbohydrate, by difference</th>\n",
       "      <td>0.174047</td>\n",
       "      <td>0.002869</td>\n",
       "      <td>0.207154</td>\n",
       "      <td>0.576184</td>\n",
       "      <td>0.039746</td>\n",
       "    </tr>\n",
       "    <tr>\n",
       "      <th>Copper, Cu</th>\n",
       "      <td>0.226853</td>\n",
       "      <td>0.023642</td>\n",
       "      <td>0.313591</td>\n",
       "      <td>0.434802</td>\n",
       "      <td>0.001112</td>\n",
       "    </tr>\n",
       "    <tr>\n",
       "      <th>Fatty acids, total monounsaturated</th>\n",
       "      <td>0.307394</td>\n",
       "      <td>0.147001</td>\n",
       "      <td>0.007463</td>\n",
       "      <td>0.399371</td>\n",
       "      <td>0.138771</td>\n",
       "    </tr>\n",
       "    <tr>\n",
       "      <th>Fatty acids, total polyunsaturated</th>\n",
       "      <td>0.313031</td>\n",
       "      <td>0.066175</td>\n",
       "      <td>0.044069</td>\n",
       "      <td>0.550859</td>\n",
       "      <td>0.025866</td>\n",
       "    </tr>\n",
       "    <tr>\n",
       "      <th>Fatty acids, total saturated</th>\n",
       "      <td>0.274066</td>\n",
       "      <td>0.023667</td>\n",
       "      <td>0.025081</td>\n",
       "      <td>0.253090</td>\n",
       "      <td>0.424096</td>\n",
       "    </tr>\n",
       "    <tr>\n",
       "      <th>Magnesium, Mg</th>\n",
       "      <td>0.103544</td>\n",
       "      <td>0.029273</td>\n",
       "      <td>0.220031</td>\n",
       "      <td>0.595379</td>\n",
       "      <td>0.051772</td>\n",
       "    </tr>\n",
       "    <tr>\n",
       "      <th>Niacin</th>\n",
       "      <td>0.378894</td>\n",
       "      <td>0.021286</td>\n",
       "      <td>0.247827</td>\n",
       "      <td>0.321946</td>\n",
       "      <td>0.030048</td>\n",
       "    </tr>\n",
       "    <tr>\n",
       "      <th>Phosphorus, P</th>\n",
       "      <td>0.064184</td>\n",
       "      <td>0.039914</td>\n",
       "      <td>0.212609</td>\n",
       "      <td>0.548238</td>\n",
       "      <td>0.135054</td>\n",
       "    </tr>\n",
       "    <tr>\n",
       "      <th>Potassium, K</th>\n",
       "      <td>0.271972</td>\n",
       "      <td>0.022511</td>\n",
       "      <td>0.331191</td>\n",
       "      <td>0.264661</td>\n",
       "      <td>0.109666</td>\n",
       "    </tr>\n",
       "    <tr>\n",
       "      <th>Protein</th>\n",
       "      <td>0.067449</td>\n",
       "      <td>0.020007</td>\n",
       "      <td>0.319931</td>\n",
       "      <td>0.474307</td>\n",
       "      <td>0.118306</td>\n",
       "    </tr>\n",
       "    <tr>\n",
       "      <th>Riboflavin</th>\n",
       "      <td>0.040746</td>\n",
       "      <td>0.064786</td>\n",
       "      <td>0.325967</td>\n",
       "      <td>0.300743</td>\n",
       "      <td>0.267758</td>\n",
       "    </tr>\n",
       "    <tr>\n",
       "      <th>SFA 16:0</th>\n",
       "      <td>0.238956</td>\n",
       "      <td>0.029941</td>\n",
       "      <td>0.039634</td>\n",
       "      <td>0.361704</td>\n",
       "      <td>0.329766</td>\n",
       "    </tr>\n",
       "    <tr>\n",
       "      <th>SFA 18:0</th>\n",
       "      <td>0.407213</td>\n",
       "      <td>0.029301</td>\n",
       "      <td>0.009016</td>\n",
       "      <td>0.090158</td>\n",
       "      <td>0.464313</td>\n",
       "    </tr>\n",
       "    <tr>\n",
       "      <th>Sodium, Na</th>\n",
       "      <td>0.269973</td>\n",
       "      <td>0.096317</td>\n",
       "      <td>0.562579</td>\n",
       "      <td>0.009700</td>\n",
       "      <td>0.061431</td>\n",
       "    </tr>\n",
       "    <tr>\n",
       "      <th>Total lipid (fat)</th>\n",
       "      <td>0.271603</td>\n",
       "      <td>0.078214</td>\n",
       "      <td>0.027545</td>\n",
       "      <td>0.417654</td>\n",
       "      <td>0.204984</td>\n",
       "    </tr>\n",
       "    <tr>\n",
       "      <th>Vitamin E (alpha-tocopherol)</th>\n",
       "      <td>0.099560</td>\n",
       "      <td>0.636224</td>\n",
       "      <td>0.174229</td>\n",
       "      <td>0.080414</td>\n",
       "      <td>0.009573</td>\n",
       "    </tr>\n",
       "    <tr>\n",
       "      <th>Water</th>\n",
       "      <td>0.216740</td>\n",
       "      <td>0.292835</td>\n",
       "      <td>0.192959</td>\n",
       "      <td>0.032591</td>\n",
       "      <td>0.264875</td>\n",
       "    </tr>\n",
       "    <tr>\n",
       "      <th>Zinc, Zn</th>\n",
       "      <td>0.052912</td>\n",
       "      <td>0.032465</td>\n",
       "      <td>0.149288</td>\n",
       "      <td>0.687857</td>\n",
       "      <td>0.077478</td>\n",
       "    </tr>\n",
       "  </tbody>\n",
       "</table>\n",
       "</div>"
      ],
      "text/plain": [
       "                                    potatoes  almond milk  black beans  \\\n",
       "Calcium, Ca                         0.012385     0.427793     0.126331   \n",
       "Carbohydrate, by difference         0.174047     0.002869     0.207154   \n",
       "Copper, Cu                          0.226853     0.023642     0.313591   \n",
       "Fatty acids, total monounsaturated  0.307394     0.147001     0.007463   \n",
       "Fatty acids, total polyunsaturated  0.313031     0.066175     0.044069   \n",
       "Fatty acids, total saturated        0.274066     0.023667     0.025081   \n",
       "Magnesium, Mg                       0.103544     0.029273     0.220031   \n",
       "Niacin                              0.378894     0.021286     0.247827   \n",
       "Phosphorus, P                       0.064184     0.039914     0.212609   \n",
       "Potassium, K                        0.271972     0.022511     0.331191   \n",
       "Protein                             0.067449     0.020007     0.319931   \n",
       "Riboflavin                          0.040746     0.064786     0.325967   \n",
       "SFA 16:0                            0.238956     0.029941     0.039634   \n",
       "SFA 18:0                            0.407213     0.029301     0.009016   \n",
       "Sodium, Na                          0.269973     0.096317     0.562579   \n",
       "Total lipid (fat)                   0.271603     0.078214     0.027545   \n",
       "Vitamin E (alpha-tocopherol)        0.099560     0.636224     0.174229   \n",
       "Water                               0.216740     0.292835     0.192959   \n",
       "Zinc, Zn                            0.052912     0.032465     0.149288   \n",
       "\n",
       "                                        oats  whole milk  \n",
       "Calcium, Ca                         0.128809    0.304682  \n",
       "Carbohydrate, by difference         0.576184    0.039746  \n",
       "Copper, Cu                          0.434802    0.001112  \n",
       "Fatty acids, total monounsaturated  0.399371    0.138771  \n",
       "Fatty acids, total polyunsaturated  0.550859    0.025866  \n",
       "Fatty acids, total saturated        0.253090    0.424096  \n",
       "Magnesium, Mg                       0.595379    0.051772  \n",
       "Niacin                              0.321946    0.030048  \n",
       "Phosphorus, P                       0.548238    0.135054  \n",
       "Potassium, K                        0.264661    0.109666  \n",
       "Protein                             0.474307    0.118306  \n",
       "Riboflavin                          0.300743    0.267758  \n",
       "SFA 16:0                            0.361704    0.329766  \n",
       "SFA 18:0                            0.090158    0.464313  \n",
       "Sodium, Na                          0.009700    0.061431  \n",
       "Total lipid (fat)                   0.417654    0.204984  \n",
       "Vitamin E (alpha-tocopherol)        0.080414    0.009573  \n",
       "Water                               0.032591    0.264875  \n",
       "Zinc, Zn                            0.687857    0.077478  "
      ]
     },
     "execution_count": 20,
     "metadata": {},
     "output_type": "execute_result"
    }
   ],
   "source": [
    "# Specify foods of interest\n",
    "ref_foods = ['potatoes','almond milk','black beans','oats','whole milk']\n",
    "\n",
    "# Eliminate rows with all zeroes | any Nans\n",
    "ref_nutrients = FoodNutrients[ref_foods]\n",
    "ref_nutrients = ref_nutrients.loc[(ref_nutrients != 0).all(axis=1), :]\n",
    "ref_nutrients = ref_nutrients.loc[np.isnan(ref_nutrients).any(axis=1) == False, :]\n",
    "\n",
    "# Normalize each row (nutrient amounts sum to 1)\n",
    "ref_nutrients = ref_nutrients.transpose()\n",
    "column_sums = ref_nutrients.sum()\n",
    "norm_nutrients = ref_nutrients/column_sums\n",
    "norm_nutrients = norm_nutrients.transpose()\n",
    "norm_nutrients"
   ]
  },
  {
   "cell_type": "code",
   "execution_count": 21,
   "metadata": {},
   "outputs": [
    {
     "data": {
      "application/vnd.plotly.v1+json": {
       "config": {
        "plotlyServerURL": "https://plot.ly"
       },
       "data": [
        {
         "alignmentgroup": "True",
         "hovertemplate": "variable=potatoes<br>Nutrients=%{x}<br>Normalized Amount=%{y}<extra></extra>",
         "legendgroup": "potatoes",
         "marker": {
          "color": "gold",
          "pattern": {
           "shape": ""
          }
         },
         "name": "potatoes",
         "offsetgroup": "potatoes",
         "orientation": "v",
         "showlegend": true,
         "textposition": "auto",
         "type": "bar",
         "x": [
          "Calcium, Ca",
          "Carbohydrate, by difference",
          "Copper, Cu",
          "Fatty acids, total monounsaturated",
          "Fatty acids, total polyunsaturated",
          "Fatty acids, total saturated",
          "Magnesium, Mg",
          "Niacin",
          "Phosphorus, P",
          "Potassium, K",
          "Protein",
          "Riboflavin",
          "SFA 16:0",
          "SFA 18:0",
          "Sodium, Na",
          "Total lipid (fat)",
          "Vitamin E (alpha-tocopherol)",
          "Water",
          "Zinc, Zn"
         ],
         "xaxis": "x",
         "y": [
          0.01238543472875898,
          0.17404683029976586,
          0.22685319040099639,
          0.30739440881035945,
          0.3130313989413935,
          0.27406630489306394,
          0.10354423280195009,
          0.37889410997086753,
          0.0641839941164672,
          0.2719715745838177,
          0.06744891173254883,
          0.04074584295387959,
          0.23895552195043113,
          0.40721262208865516,
          0.2699731643441431,
          0.27160335660752033,
          0.09955964005360904,
          0.21674032650852348,
          0.05291205260969802
         ],
         "yaxis": "y"
        },
        {
         "alignmentgroup": "True",
         "hovertemplate": "variable=almond milk<br>Nutrients=%{x}<br>Normalized Amount=%{y}<extra></extra>",
         "legendgroup": "almond milk",
         "marker": {
          "color": "teal",
          "pattern": {
           "shape": ""
          }
         },
         "name": "almond milk",
         "offsetgroup": "almond milk",
         "orientation": "v",
         "showlegend": true,
         "textposition": "auto",
         "type": "bar",
         "x": [
          "Calcium, Ca",
          "Carbohydrate, by difference",
          "Copper, Cu",
          "Fatty acids, total monounsaturated",
          "Fatty acids, total polyunsaturated",
          "Fatty acids, total saturated",
          "Magnesium, Mg",
          "Niacin",
          "Phosphorus, P",
          "Potassium, K",
          "Protein",
          "Riboflavin",
          "SFA 16:0",
          "SFA 18:0",
          "Sodium, Na",
          "Total lipid (fat)",
          "Vitamin E (alpha-tocopherol)",
          "Water",
          "Zinc, Zn"
         ],
         "xaxis": "x",
         "y": [
          0.42779291553133514,
          0.002869113060118818,
          0.02364166092120188,
          0.14700068578805117,
          0.06617488563696022,
          0.023667289890099866,
          0.029272817481717974,
          0.02128560717494949,
          0.03991442134117804,
          0.022510765541493942,
          0.020006988356496353,
          0.06478589029666855,
          0.02994062667143808,
          0.029301277235161533,
          0.09631737204565295,
          0.0782140798155147,
          0.6362243921118131,
          0.29283545293286434,
          0.032465323708379
         ],
         "yaxis": "y"
        },
        {
         "alignmentgroup": "True",
         "hovertemplate": "variable=black beans<br>Nutrients=%{x}<br>Normalized Amount=%{y}<extra></extra>",
         "legendgroup": "black beans",
         "marker": {
          "color": "olive",
          "pattern": {
           "shape": ""
          }
         },
         "name": "black beans",
         "offsetgroup": "black beans",
         "orientation": "v",
         "showlegend": true,
         "textposition": "auto",
         "type": "bar",
         "x": [
          "Calcium, Ca",
          "Carbohydrate, by difference",
          "Copper, Cu",
          "Fatty acids, total monounsaturated",
          "Fatty acids, total polyunsaturated",
          "Fatty acids, total saturated",
          "Magnesium, Mg",
          "Niacin",
          "Phosphorus, P",
          "Potassium, K",
          "Protein",
          "Riboflavin",
          "SFA 16:0",
          "SFA 18:0",
          "Sodium, Na",
          "Total lipid (fat)",
          "Vitamin E (alpha-tocopherol)",
          "Water",
          "Zinc, Zn"
         ],
         "xaxis": "x",
         "y": [
          0.1263314342333416,
          0.2071540268702348,
          0.3135911749660832,
          0.007462987615474605,
          0.04406868967499342,
          0.02508094304345843,
          0.22003149470414393,
          0.2478265099960508,
          0.21260948051079762,
          0.33119119163029415,
          0.3199314690201647,
          0.3259667436310367,
          0.039633524574709186,
          0.009015777610818933,
          0.5625788095315077,
          0.027544680033309843,
          0.17422937009381584,
          0.1929587204233186,
          0.1492875770059337
         ],
         "yaxis": "y"
        },
        {
         "alignmentgroup": "True",
         "hovertemplate": "variable=oats<br>Nutrients=%{x}<br>Normalized Amount=%{y}<extra></extra>",
         "legendgroup": "oats",
         "marker": {
          "color": "coral",
          "pattern": {
           "shape": ""
          }
         },
         "name": "oats",
         "offsetgroup": "oats",
         "orientation": "v",
         "showlegend": true,
         "textposition": "auto",
         "type": "bar",
         "x": [
          "Calcium, Ca",
          "Carbohydrate, by difference",
          "Copper, Cu",
          "Fatty acids, total monounsaturated",
          "Fatty acids, total polyunsaturated",
          "Fatty acids, total saturated",
          "Magnesium, Mg",
          "Niacin",
          "Phosphorus, P",
          "Potassium, K",
          "Protein",
          "Riboflavin",
          "SFA 16:0",
          "SFA 18:0",
          "Sodium, Na",
          "Total lipid (fat)",
          "Vitamin E (alpha-tocopherol)",
          "Water",
          "Zinc, Zn"
         ],
         "xaxis": "x",
         "y": [
          0.1288085211790934,
          0.576184372190423,
          0.43480194826857643,
          0.3993706886118843,
          0.5508586209374178,
          0.2530895161658078,
          0.595379338611213,
          0.3219455239556087,
          0.5482382830781574,
          0.2646605107509194,
          0.47430651833316423,
          0.3007431265643493,
          0.361704010681812,
          0.09015777610818933,
          0.009699634647094961,
          0.4176542181794888,
          0.08041355542791499,
          0.03259072186645019,
          0.6878566839260742
         ],
         "yaxis": "y"
        },
        {
         "alignmentgroup": "True",
         "hovertemplate": "variable=whole milk<br>Nutrients=%{x}<br>Normalized Amount=%{y}<extra></extra>",
         "legendgroup": "whole milk",
         "marker": {
          "color": "crimson",
          "pattern": {
           "shape": ""
          }
         },
         "name": "whole milk",
         "offsetgroup": "whole milk",
         "orientation": "v",
         "showlegend": true,
         "textposition": "auto",
         "type": "bar",
         "x": [
          "Calcium, Ca",
          "Carbohydrate, by difference",
          "Copper, Cu",
          "Fatty acids, total monounsaturated",
          "Fatty acids, total polyunsaturated",
          "Fatty acids, total saturated",
          "Magnesium, Mg",
          "Niacin",
          "Phosphorus, P",
          "Potassium, K",
          "Protein",
          "Riboflavin",
          "SFA 16:0",
          "SFA 18:0",
          "Sodium, Na",
          "Total lipid (fat)",
          "Vitamin E (alpha-tocopherol)",
          "Water",
          "Zinc, Zn"
         ],
         "xaxis": "x",
         "y": [
          0.3046816943274709,
          0.039745657579457534,
          0.001112025443142139,
          0.13877122917423051,
          0.025866404809235268,
          0.42409594600756984,
          0.051772116400975045,
          0.03004824890252348,
          0.13505382095339974,
          0.10966595749347488,
          0.11830611255762574,
          0.26775839655406586,
          0.32976631612160945,
          0.46431254695717505,
          0.06143101943160142,
          0.2049836653641663,
          0.009573042312847023,
          0.26487477826884337,
          0.07747836274991496
         ],
         "yaxis": "y"
        }
       ],
       "layout": {
        "barmode": "relative",
        "legend": {
         "title": {
          "text": "variable"
         },
         "tracegroupgap": 0
        },
        "margin": {
         "t": 60
        },
        "template": {
         "data": {
          "bar": [
           {
            "error_x": {
             "color": "#2a3f5f"
            },
            "error_y": {
             "color": "#2a3f5f"
            },
            "marker": {
             "line": {
              "color": "#E5ECF6",
              "width": 0.5
             },
             "pattern": {
              "fillmode": "overlay",
              "size": 10,
              "solidity": 0.2
             }
            },
            "type": "bar"
           }
          ],
          "barpolar": [
           {
            "marker": {
             "line": {
              "color": "#E5ECF6",
              "width": 0.5
             },
             "pattern": {
              "fillmode": "overlay",
              "size": 10,
              "solidity": 0.2
             }
            },
            "type": "barpolar"
           }
          ],
          "carpet": [
           {
            "aaxis": {
             "endlinecolor": "#2a3f5f",
             "gridcolor": "white",
             "linecolor": "white",
             "minorgridcolor": "white",
             "startlinecolor": "#2a3f5f"
            },
            "baxis": {
             "endlinecolor": "#2a3f5f",
             "gridcolor": "white",
             "linecolor": "white",
             "minorgridcolor": "white",
             "startlinecolor": "#2a3f5f"
            },
            "type": "carpet"
           }
          ],
          "choropleth": [
           {
            "colorbar": {
             "outlinewidth": 0,
             "ticks": ""
            },
            "type": "choropleth"
           }
          ],
          "contour": [
           {
            "colorbar": {
             "outlinewidth": 0,
             "ticks": ""
            },
            "colorscale": [
             [
              0,
              "#0d0887"
             ],
             [
              0.1111111111111111,
              "#46039f"
             ],
             [
              0.2222222222222222,
              "#7201a8"
             ],
             [
              0.3333333333333333,
              "#9c179e"
             ],
             [
              0.4444444444444444,
              "#bd3786"
             ],
             [
              0.5555555555555556,
              "#d8576b"
             ],
             [
              0.6666666666666666,
              "#ed7953"
             ],
             [
              0.7777777777777778,
              "#fb9f3a"
             ],
             [
              0.8888888888888888,
              "#fdca26"
             ],
             [
              1,
              "#f0f921"
             ]
            ],
            "type": "contour"
           }
          ],
          "contourcarpet": [
           {
            "colorbar": {
             "outlinewidth": 0,
             "ticks": ""
            },
            "type": "contourcarpet"
           }
          ],
          "heatmap": [
           {
            "colorbar": {
             "outlinewidth": 0,
             "ticks": ""
            },
            "colorscale": [
             [
              0,
              "#0d0887"
             ],
             [
              0.1111111111111111,
              "#46039f"
             ],
             [
              0.2222222222222222,
              "#7201a8"
             ],
             [
              0.3333333333333333,
              "#9c179e"
             ],
             [
              0.4444444444444444,
              "#bd3786"
             ],
             [
              0.5555555555555556,
              "#d8576b"
             ],
             [
              0.6666666666666666,
              "#ed7953"
             ],
             [
              0.7777777777777778,
              "#fb9f3a"
             ],
             [
              0.8888888888888888,
              "#fdca26"
             ],
             [
              1,
              "#f0f921"
             ]
            ],
            "type": "heatmap"
           }
          ],
          "heatmapgl": [
           {
            "colorbar": {
             "outlinewidth": 0,
             "ticks": ""
            },
            "colorscale": [
             [
              0,
              "#0d0887"
             ],
             [
              0.1111111111111111,
              "#46039f"
             ],
             [
              0.2222222222222222,
              "#7201a8"
             ],
             [
              0.3333333333333333,
              "#9c179e"
             ],
             [
              0.4444444444444444,
              "#bd3786"
             ],
             [
              0.5555555555555556,
              "#d8576b"
             ],
             [
              0.6666666666666666,
              "#ed7953"
             ],
             [
              0.7777777777777778,
              "#fb9f3a"
             ],
             [
              0.8888888888888888,
              "#fdca26"
             ],
             [
              1,
              "#f0f921"
             ]
            ],
            "type": "heatmapgl"
           }
          ],
          "histogram": [
           {
            "marker": {
             "pattern": {
              "fillmode": "overlay",
              "size": 10,
              "solidity": 0.2
             }
            },
            "type": "histogram"
           }
          ],
          "histogram2d": [
           {
            "colorbar": {
             "outlinewidth": 0,
             "ticks": ""
            },
            "colorscale": [
             [
              0,
              "#0d0887"
             ],
             [
              0.1111111111111111,
              "#46039f"
             ],
             [
              0.2222222222222222,
              "#7201a8"
             ],
             [
              0.3333333333333333,
              "#9c179e"
             ],
             [
              0.4444444444444444,
              "#bd3786"
             ],
             [
              0.5555555555555556,
              "#d8576b"
             ],
             [
              0.6666666666666666,
              "#ed7953"
             ],
             [
              0.7777777777777778,
              "#fb9f3a"
             ],
             [
              0.8888888888888888,
              "#fdca26"
             ],
             [
              1,
              "#f0f921"
             ]
            ],
            "type": "histogram2d"
           }
          ],
          "histogram2dcontour": [
           {
            "colorbar": {
             "outlinewidth": 0,
             "ticks": ""
            },
            "colorscale": [
             [
              0,
              "#0d0887"
             ],
             [
              0.1111111111111111,
              "#46039f"
             ],
             [
              0.2222222222222222,
              "#7201a8"
             ],
             [
              0.3333333333333333,
              "#9c179e"
             ],
             [
              0.4444444444444444,
              "#bd3786"
             ],
             [
              0.5555555555555556,
              "#d8576b"
             ],
             [
              0.6666666666666666,
              "#ed7953"
             ],
             [
              0.7777777777777778,
              "#fb9f3a"
             ],
             [
              0.8888888888888888,
              "#fdca26"
             ],
             [
              1,
              "#f0f921"
             ]
            ],
            "type": "histogram2dcontour"
           }
          ],
          "mesh3d": [
           {
            "colorbar": {
             "outlinewidth": 0,
             "ticks": ""
            },
            "type": "mesh3d"
           }
          ],
          "parcoords": [
           {
            "line": {
             "colorbar": {
              "outlinewidth": 0,
              "ticks": ""
             }
            },
            "type": "parcoords"
           }
          ],
          "pie": [
           {
            "automargin": true,
            "type": "pie"
           }
          ],
          "scatter": [
           {
            "marker": {
             "colorbar": {
              "outlinewidth": 0,
              "ticks": ""
             }
            },
            "type": "scatter"
           }
          ],
          "scatter3d": [
           {
            "line": {
             "colorbar": {
              "outlinewidth": 0,
              "ticks": ""
             }
            },
            "marker": {
             "colorbar": {
              "outlinewidth": 0,
              "ticks": ""
             }
            },
            "type": "scatter3d"
           }
          ],
          "scattercarpet": [
           {
            "marker": {
             "colorbar": {
              "outlinewidth": 0,
              "ticks": ""
             }
            },
            "type": "scattercarpet"
           }
          ],
          "scattergeo": [
           {
            "marker": {
             "colorbar": {
              "outlinewidth": 0,
              "ticks": ""
             }
            },
            "type": "scattergeo"
           }
          ],
          "scattergl": [
           {
            "marker": {
             "colorbar": {
              "outlinewidth": 0,
              "ticks": ""
             }
            },
            "type": "scattergl"
           }
          ],
          "scattermapbox": [
           {
            "marker": {
             "colorbar": {
              "outlinewidth": 0,
              "ticks": ""
             }
            },
            "type": "scattermapbox"
           }
          ],
          "scatterpolar": [
           {
            "marker": {
             "colorbar": {
              "outlinewidth": 0,
              "ticks": ""
             }
            },
            "type": "scatterpolar"
           }
          ],
          "scatterpolargl": [
           {
            "marker": {
             "colorbar": {
              "outlinewidth": 0,
              "ticks": ""
             }
            },
            "type": "scatterpolargl"
           }
          ],
          "scatterternary": [
           {
            "marker": {
             "colorbar": {
              "outlinewidth": 0,
              "ticks": ""
             }
            },
            "type": "scatterternary"
           }
          ],
          "surface": [
           {
            "colorbar": {
             "outlinewidth": 0,
             "ticks": ""
            },
            "colorscale": [
             [
              0,
              "#0d0887"
             ],
             [
              0.1111111111111111,
              "#46039f"
             ],
             [
              0.2222222222222222,
              "#7201a8"
             ],
             [
              0.3333333333333333,
              "#9c179e"
             ],
             [
              0.4444444444444444,
              "#bd3786"
             ],
             [
              0.5555555555555556,
              "#d8576b"
             ],
             [
              0.6666666666666666,
              "#ed7953"
             ],
             [
              0.7777777777777778,
              "#fb9f3a"
             ],
             [
              0.8888888888888888,
              "#fdca26"
             ],
             [
              1,
              "#f0f921"
             ]
            ],
            "type": "surface"
           }
          ],
          "table": [
           {
            "cells": {
             "fill": {
              "color": "#EBF0F8"
             },
             "line": {
              "color": "white"
             }
            },
            "header": {
             "fill": {
              "color": "#C8D4E3"
             },
             "line": {
              "color": "white"
             }
            },
            "type": "table"
           }
          ]
         },
         "layout": {
          "annotationdefaults": {
           "arrowcolor": "#2a3f5f",
           "arrowhead": 0,
           "arrowwidth": 1
          },
          "autotypenumbers": "strict",
          "coloraxis": {
           "colorbar": {
            "outlinewidth": 0,
            "ticks": ""
           }
          },
          "colorscale": {
           "diverging": [
            [
             0,
             "#8e0152"
            ],
            [
             0.1,
             "#c51b7d"
            ],
            [
             0.2,
             "#de77ae"
            ],
            [
             0.3,
             "#f1b6da"
            ],
            [
             0.4,
             "#fde0ef"
            ],
            [
             0.5,
             "#f7f7f7"
            ],
            [
             0.6,
             "#e6f5d0"
            ],
            [
             0.7,
             "#b8e186"
            ],
            [
             0.8,
             "#7fbc41"
            ],
            [
             0.9,
             "#4d9221"
            ],
            [
             1,
             "#276419"
            ]
           ],
           "sequential": [
            [
             0,
             "#0d0887"
            ],
            [
             0.1111111111111111,
             "#46039f"
            ],
            [
             0.2222222222222222,
             "#7201a8"
            ],
            [
             0.3333333333333333,
             "#9c179e"
            ],
            [
             0.4444444444444444,
             "#bd3786"
            ],
            [
             0.5555555555555556,
             "#d8576b"
            ],
            [
             0.6666666666666666,
             "#ed7953"
            ],
            [
             0.7777777777777778,
             "#fb9f3a"
            ],
            [
             0.8888888888888888,
             "#fdca26"
            ],
            [
             1,
             "#f0f921"
            ]
           ],
           "sequentialminus": [
            [
             0,
             "#0d0887"
            ],
            [
             0.1111111111111111,
             "#46039f"
            ],
            [
             0.2222222222222222,
             "#7201a8"
            ],
            [
             0.3333333333333333,
             "#9c179e"
            ],
            [
             0.4444444444444444,
             "#bd3786"
            ],
            [
             0.5555555555555556,
             "#d8576b"
            ],
            [
             0.6666666666666666,
             "#ed7953"
            ],
            [
             0.7777777777777778,
             "#fb9f3a"
            ],
            [
             0.8888888888888888,
             "#fdca26"
            ],
            [
             1,
             "#f0f921"
            ]
           ]
          },
          "colorway": [
           "#636efa",
           "#EF553B",
           "#00cc96",
           "#ab63fa",
           "#FFA15A",
           "#19d3f3",
           "#FF6692",
           "#B6E880",
           "#FF97FF",
           "#FECB52"
          ],
          "font": {
           "color": "#2a3f5f"
          },
          "geo": {
           "bgcolor": "white",
           "lakecolor": "white",
           "landcolor": "#E5ECF6",
           "showlakes": true,
           "showland": true,
           "subunitcolor": "white"
          },
          "hoverlabel": {
           "align": "left"
          },
          "hovermode": "closest",
          "mapbox": {
           "style": "light"
          },
          "paper_bgcolor": "white",
          "plot_bgcolor": "#E5ECF6",
          "polar": {
           "angularaxis": {
            "gridcolor": "white",
            "linecolor": "white",
            "ticks": ""
           },
           "bgcolor": "#E5ECF6",
           "radialaxis": {
            "gridcolor": "white",
            "linecolor": "white",
            "ticks": ""
           }
          },
          "scene": {
           "xaxis": {
            "backgroundcolor": "#E5ECF6",
            "gridcolor": "white",
            "gridwidth": 2,
            "linecolor": "white",
            "showbackground": true,
            "ticks": "",
            "zerolinecolor": "white"
           },
           "yaxis": {
            "backgroundcolor": "#E5ECF6",
            "gridcolor": "white",
            "gridwidth": 2,
            "linecolor": "white",
            "showbackground": true,
            "ticks": "",
            "zerolinecolor": "white"
           },
           "zaxis": {
            "backgroundcolor": "#E5ECF6",
            "gridcolor": "white",
            "gridwidth": 2,
            "linecolor": "white",
            "showbackground": true,
            "ticks": "",
            "zerolinecolor": "white"
           }
          },
          "shapedefaults": {
           "line": {
            "color": "#2a3f5f"
           }
          },
          "ternary": {
           "aaxis": {
            "gridcolor": "white",
            "linecolor": "white",
            "ticks": ""
           },
           "baxis": {
            "gridcolor": "white",
            "linecolor": "white",
            "ticks": ""
           },
           "bgcolor": "#E5ECF6",
           "caxis": {
            "gridcolor": "white",
            "linecolor": "white",
            "ticks": ""
           }
          },
          "title": {
           "x": 0.05
          },
          "xaxis": {
           "automargin": true,
           "gridcolor": "white",
           "linecolor": "white",
           "ticks": "",
           "title": {
            "standoff": 15
           },
           "zerolinecolor": "white",
           "zerolinewidth": 2
          },
          "yaxis": {
           "automargin": true,
           "gridcolor": "white",
           "linecolor": "white",
           "ticks": "",
           "title": {
            "standoff": 15
           },
           "zerolinecolor": "white",
           "zerolinewidth": 2
          }
         }
        },
        "xaxis": {
         "anchor": "y",
         "domain": [
          0,
          1
         ],
         "title": {
          "text": "Nutrients"
         }
        },
        "yaxis": {
         "anchor": "x",
         "domain": [
          0,
          1
         ],
         "title": {
          "text": "Normalized Amount"
         }
        }
       }
      },
      "text/html": [
       "<div>                            <div id=\"6243037c-3e65-4300-9958-df87cfb27449\" class=\"plotly-graph-div\" style=\"height:525px; width:100%;\"></div>            <script type=\"text/javascript\">                require([\"plotly\"], function(Plotly) {                    window.PLOTLYENV=window.PLOTLYENV || {};                                    if (document.getElementById(\"6243037c-3e65-4300-9958-df87cfb27449\")) {                    Plotly.newPlot(                        \"6243037c-3e65-4300-9958-df87cfb27449\",                        [{\"alignmentgroup\":\"True\",\"hovertemplate\":\"variable=potatoes<br>Nutrients=%{x}<br>Normalized Amount=%{y}<extra></extra>\",\"legendgroup\":\"potatoes\",\"marker\":{\"color\":\"gold\",\"pattern\":{\"shape\":\"\"}},\"name\":\"potatoes\",\"offsetgroup\":\"potatoes\",\"orientation\":\"v\",\"showlegend\":true,\"textposition\":\"auto\",\"type\":\"bar\",\"x\":[\"Calcium, Ca\",\"Carbohydrate, by difference\",\"Copper, Cu\",\"Fatty acids, total monounsaturated\",\"Fatty acids, total polyunsaturated\",\"Fatty acids, total saturated\",\"Magnesium, Mg\",\"Niacin\",\"Phosphorus, P\",\"Potassium, K\",\"Protein\",\"Riboflavin\",\"SFA 16:0\",\"SFA 18:0\",\"Sodium, Na\",\"Total lipid (fat)\",\"Vitamin E (alpha-tocopherol)\",\"Water\",\"Zinc, Zn\"],\"xaxis\":\"x\",\"y\":[0.01238543472875898,0.17404683029976586,0.22685319040099639,0.30739440881035945,0.3130313989413935,0.27406630489306394,0.10354423280195009,0.37889410997086753,0.0641839941164672,0.2719715745838177,0.06744891173254883,0.04074584295387959,0.23895552195043113,0.40721262208865516,0.2699731643441431,0.27160335660752033,0.09955964005360904,0.21674032650852348,0.05291205260969802],\"yaxis\":\"y\"},{\"alignmentgroup\":\"True\",\"hovertemplate\":\"variable=almond milk<br>Nutrients=%{x}<br>Normalized Amount=%{y}<extra></extra>\",\"legendgroup\":\"almond milk\",\"marker\":{\"color\":\"teal\",\"pattern\":{\"shape\":\"\"}},\"name\":\"almond milk\",\"offsetgroup\":\"almond milk\",\"orientation\":\"v\",\"showlegend\":true,\"textposition\":\"auto\",\"type\":\"bar\",\"x\":[\"Calcium, Ca\",\"Carbohydrate, by difference\",\"Copper, Cu\",\"Fatty acids, total monounsaturated\",\"Fatty acids, total polyunsaturated\",\"Fatty acids, total saturated\",\"Magnesium, Mg\",\"Niacin\",\"Phosphorus, P\",\"Potassium, K\",\"Protein\",\"Riboflavin\",\"SFA 16:0\",\"SFA 18:0\",\"Sodium, Na\",\"Total lipid (fat)\",\"Vitamin E (alpha-tocopherol)\",\"Water\",\"Zinc, Zn\"],\"xaxis\":\"x\",\"y\":[0.42779291553133514,0.002869113060118818,0.02364166092120188,0.14700068578805117,0.06617488563696022,0.023667289890099866,0.029272817481717974,0.02128560717494949,0.03991442134117804,0.022510765541493942,0.020006988356496353,0.06478589029666855,0.02994062667143808,0.029301277235161533,0.09631737204565295,0.0782140798155147,0.6362243921118131,0.29283545293286434,0.032465323708379],\"yaxis\":\"y\"},{\"alignmentgroup\":\"True\",\"hovertemplate\":\"variable=black beans<br>Nutrients=%{x}<br>Normalized Amount=%{y}<extra></extra>\",\"legendgroup\":\"black beans\",\"marker\":{\"color\":\"olive\",\"pattern\":{\"shape\":\"\"}},\"name\":\"black beans\",\"offsetgroup\":\"black beans\",\"orientation\":\"v\",\"showlegend\":true,\"textposition\":\"auto\",\"type\":\"bar\",\"x\":[\"Calcium, Ca\",\"Carbohydrate, by difference\",\"Copper, Cu\",\"Fatty acids, total monounsaturated\",\"Fatty acids, total polyunsaturated\",\"Fatty acids, total saturated\",\"Magnesium, Mg\",\"Niacin\",\"Phosphorus, P\",\"Potassium, K\",\"Protein\",\"Riboflavin\",\"SFA 16:0\",\"SFA 18:0\",\"Sodium, Na\",\"Total lipid (fat)\",\"Vitamin E (alpha-tocopherol)\",\"Water\",\"Zinc, Zn\"],\"xaxis\":\"x\",\"y\":[0.1263314342333416,0.2071540268702348,0.3135911749660832,0.007462987615474605,0.04406868967499342,0.02508094304345843,0.22003149470414393,0.2478265099960508,0.21260948051079762,0.33119119163029415,0.3199314690201647,0.3259667436310367,0.039633524574709186,0.009015777610818933,0.5625788095315077,0.027544680033309843,0.17422937009381584,0.1929587204233186,0.1492875770059337],\"yaxis\":\"y\"},{\"alignmentgroup\":\"True\",\"hovertemplate\":\"variable=oats<br>Nutrients=%{x}<br>Normalized Amount=%{y}<extra></extra>\",\"legendgroup\":\"oats\",\"marker\":{\"color\":\"coral\",\"pattern\":{\"shape\":\"\"}},\"name\":\"oats\",\"offsetgroup\":\"oats\",\"orientation\":\"v\",\"showlegend\":true,\"textposition\":\"auto\",\"type\":\"bar\",\"x\":[\"Calcium, Ca\",\"Carbohydrate, by difference\",\"Copper, Cu\",\"Fatty acids, total monounsaturated\",\"Fatty acids, total polyunsaturated\",\"Fatty acids, total saturated\",\"Magnesium, Mg\",\"Niacin\",\"Phosphorus, P\",\"Potassium, K\",\"Protein\",\"Riboflavin\",\"SFA 16:0\",\"SFA 18:0\",\"Sodium, Na\",\"Total lipid (fat)\",\"Vitamin E (alpha-tocopherol)\",\"Water\",\"Zinc, Zn\"],\"xaxis\":\"x\",\"y\":[0.1288085211790934,0.576184372190423,0.43480194826857643,0.3993706886118843,0.5508586209374178,0.2530895161658078,0.595379338611213,0.3219455239556087,0.5482382830781574,0.2646605107509194,0.47430651833316423,0.3007431265643493,0.361704010681812,0.09015777610818933,0.009699634647094961,0.4176542181794888,0.08041355542791499,0.03259072186645019,0.6878566839260742],\"yaxis\":\"y\"},{\"alignmentgroup\":\"True\",\"hovertemplate\":\"variable=whole milk<br>Nutrients=%{x}<br>Normalized Amount=%{y}<extra></extra>\",\"legendgroup\":\"whole milk\",\"marker\":{\"color\":\"crimson\",\"pattern\":{\"shape\":\"\"}},\"name\":\"whole milk\",\"offsetgroup\":\"whole milk\",\"orientation\":\"v\",\"showlegend\":true,\"textposition\":\"auto\",\"type\":\"bar\",\"x\":[\"Calcium, Ca\",\"Carbohydrate, by difference\",\"Copper, Cu\",\"Fatty acids, total monounsaturated\",\"Fatty acids, total polyunsaturated\",\"Fatty acids, total saturated\",\"Magnesium, Mg\",\"Niacin\",\"Phosphorus, P\",\"Potassium, K\",\"Protein\",\"Riboflavin\",\"SFA 16:0\",\"SFA 18:0\",\"Sodium, Na\",\"Total lipid (fat)\",\"Vitamin E (alpha-tocopherol)\",\"Water\",\"Zinc, Zn\"],\"xaxis\":\"x\",\"y\":[0.3046816943274709,0.039745657579457534,0.001112025443142139,0.13877122917423051,0.025866404809235268,0.42409594600756984,0.051772116400975045,0.03004824890252348,0.13505382095339974,0.10966595749347488,0.11830611255762574,0.26775839655406586,0.32976631612160945,0.46431254695717505,0.06143101943160142,0.2049836653641663,0.009573042312847023,0.26487477826884337,0.07747836274991496],\"yaxis\":\"y\"}],                        {\"barmode\":\"relative\",\"legend\":{\"title\":{\"text\":\"variable\"},\"tracegroupgap\":0},\"margin\":{\"t\":60},\"template\":{\"data\":{\"bar\":[{\"error_x\":{\"color\":\"#2a3f5f\"},\"error_y\":{\"color\":\"#2a3f5f\"},\"marker\":{\"line\":{\"color\":\"#E5ECF6\",\"width\":0.5},\"pattern\":{\"fillmode\":\"overlay\",\"size\":10,\"solidity\":0.2}},\"type\":\"bar\"}],\"barpolar\":[{\"marker\":{\"line\":{\"color\":\"#E5ECF6\",\"width\":0.5},\"pattern\":{\"fillmode\":\"overlay\",\"size\":10,\"solidity\":0.2}},\"type\":\"barpolar\"}],\"carpet\":[{\"aaxis\":{\"endlinecolor\":\"#2a3f5f\",\"gridcolor\":\"white\",\"linecolor\":\"white\",\"minorgridcolor\":\"white\",\"startlinecolor\":\"#2a3f5f\"},\"baxis\":{\"endlinecolor\":\"#2a3f5f\",\"gridcolor\":\"white\",\"linecolor\":\"white\",\"minorgridcolor\":\"white\",\"startlinecolor\":\"#2a3f5f\"},\"type\":\"carpet\"}],\"choropleth\":[{\"colorbar\":{\"outlinewidth\":0,\"ticks\":\"\"},\"type\":\"choropleth\"}],\"contour\":[{\"colorbar\":{\"outlinewidth\":0,\"ticks\":\"\"},\"colorscale\":[[0.0,\"#0d0887\"],[0.1111111111111111,\"#46039f\"],[0.2222222222222222,\"#7201a8\"],[0.3333333333333333,\"#9c179e\"],[0.4444444444444444,\"#bd3786\"],[0.5555555555555556,\"#d8576b\"],[0.6666666666666666,\"#ed7953\"],[0.7777777777777778,\"#fb9f3a\"],[0.8888888888888888,\"#fdca26\"],[1.0,\"#f0f921\"]],\"type\":\"contour\"}],\"contourcarpet\":[{\"colorbar\":{\"outlinewidth\":0,\"ticks\":\"\"},\"type\":\"contourcarpet\"}],\"heatmap\":[{\"colorbar\":{\"outlinewidth\":0,\"ticks\":\"\"},\"colorscale\":[[0.0,\"#0d0887\"],[0.1111111111111111,\"#46039f\"],[0.2222222222222222,\"#7201a8\"],[0.3333333333333333,\"#9c179e\"],[0.4444444444444444,\"#bd3786\"],[0.5555555555555556,\"#d8576b\"],[0.6666666666666666,\"#ed7953\"],[0.7777777777777778,\"#fb9f3a\"],[0.8888888888888888,\"#fdca26\"],[1.0,\"#f0f921\"]],\"type\":\"heatmap\"}],\"heatmapgl\":[{\"colorbar\":{\"outlinewidth\":0,\"ticks\":\"\"},\"colorscale\":[[0.0,\"#0d0887\"],[0.1111111111111111,\"#46039f\"],[0.2222222222222222,\"#7201a8\"],[0.3333333333333333,\"#9c179e\"],[0.4444444444444444,\"#bd3786\"],[0.5555555555555556,\"#d8576b\"],[0.6666666666666666,\"#ed7953\"],[0.7777777777777778,\"#fb9f3a\"],[0.8888888888888888,\"#fdca26\"],[1.0,\"#f0f921\"]],\"type\":\"heatmapgl\"}],\"histogram\":[{\"marker\":{\"pattern\":{\"fillmode\":\"overlay\",\"size\":10,\"solidity\":0.2}},\"type\":\"histogram\"}],\"histogram2d\":[{\"colorbar\":{\"outlinewidth\":0,\"ticks\":\"\"},\"colorscale\":[[0.0,\"#0d0887\"],[0.1111111111111111,\"#46039f\"],[0.2222222222222222,\"#7201a8\"],[0.3333333333333333,\"#9c179e\"],[0.4444444444444444,\"#bd3786\"],[0.5555555555555556,\"#d8576b\"],[0.6666666666666666,\"#ed7953\"],[0.7777777777777778,\"#fb9f3a\"],[0.8888888888888888,\"#fdca26\"],[1.0,\"#f0f921\"]],\"type\":\"histogram2d\"}],\"histogram2dcontour\":[{\"colorbar\":{\"outlinewidth\":0,\"ticks\":\"\"},\"colorscale\":[[0.0,\"#0d0887\"],[0.1111111111111111,\"#46039f\"],[0.2222222222222222,\"#7201a8\"],[0.3333333333333333,\"#9c179e\"],[0.4444444444444444,\"#bd3786\"],[0.5555555555555556,\"#d8576b\"],[0.6666666666666666,\"#ed7953\"],[0.7777777777777778,\"#fb9f3a\"],[0.8888888888888888,\"#fdca26\"],[1.0,\"#f0f921\"]],\"type\":\"histogram2dcontour\"}],\"mesh3d\":[{\"colorbar\":{\"outlinewidth\":0,\"ticks\":\"\"},\"type\":\"mesh3d\"}],\"parcoords\":[{\"line\":{\"colorbar\":{\"outlinewidth\":0,\"ticks\":\"\"}},\"type\":\"parcoords\"}],\"pie\":[{\"automargin\":true,\"type\":\"pie\"}],\"scatter\":[{\"marker\":{\"colorbar\":{\"outlinewidth\":0,\"ticks\":\"\"}},\"type\":\"scatter\"}],\"scatter3d\":[{\"line\":{\"colorbar\":{\"outlinewidth\":0,\"ticks\":\"\"}},\"marker\":{\"colorbar\":{\"outlinewidth\":0,\"ticks\":\"\"}},\"type\":\"scatter3d\"}],\"scattercarpet\":[{\"marker\":{\"colorbar\":{\"outlinewidth\":0,\"ticks\":\"\"}},\"type\":\"scattercarpet\"}],\"scattergeo\":[{\"marker\":{\"colorbar\":{\"outlinewidth\":0,\"ticks\":\"\"}},\"type\":\"scattergeo\"}],\"scattergl\":[{\"marker\":{\"colorbar\":{\"outlinewidth\":0,\"ticks\":\"\"}},\"type\":\"scattergl\"}],\"scattermapbox\":[{\"marker\":{\"colorbar\":{\"outlinewidth\":0,\"ticks\":\"\"}},\"type\":\"scattermapbox\"}],\"scatterpolar\":[{\"marker\":{\"colorbar\":{\"outlinewidth\":0,\"ticks\":\"\"}},\"type\":\"scatterpolar\"}],\"scatterpolargl\":[{\"marker\":{\"colorbar\":{\"outlinewidth\":0,\"ticks\":\"\"}},\"type\":\"scatterpolargl\"}],\"scatterternary\":[{\"marker\":{\"colorbar\":{\"outlinewidth\":0,\"ticks\":\"\"}},\"type\":\"scatterternary\"}],\"surface\":[{\"colorbar\":{\"outlinewidth\":0,\"ticks\":\"\"},\"colorscale\":[[0.0,\"#0d0887\"],[0.1111111111111111,\"#46039f\"],[0.2222222222222222,\"#7201a8\"],[0.3333333333333333,\"#9c179e\"],[0.4444444444444444,\"#bd3786\"],[0.5555555555555556,\"#d8576b\"],[0.6666666666666666,\"#ed7953\"],[0.7777777777777778,\"#fb9f3a\"],[0.8888888888888888,\"#fdca26\"],[1.0,\"#f0f921\"]],\"type\":\"surface\"}],\"table\":[{\"cells\":{\"fill\":{\"color\":\"#EBF0F8\"},\"line\":{\"color\":\"white\"}},\"header\":{\"fill\":{\"color\":\"#C8D4E3\"},\"line\":{\"color\":\"white\"}},\"type\":\"table\"}]},\"layout\":{\"annotationdefaults\":{\"arrowcolor\":\"#2a3f5f\",\"arrowhead\":0,\"arrowwidth\":1},\"autotypenumbers\":\"strict\",\"coloraxis\":{\"colorbar\":{\"outlinewidth\":0,\"ticks\":\"\"}},\"colorscale\":{\"diverging\":[[0,\"#8e0152\"],[0.1,\"#c51b7d\"],[0.2,\"#de77ae\"],[0.3,\"#f1b6da\"],[0.4,\"#fde0ef\"],[0.5,\"#f7f7f7\"],[0.6,\"#e6f5d0\"],[0.7,\"#b8e186\"],[0.8,\"#7fbc41\"],[0.9,\"#4d9221\"],[1,\"#276419\"]],\"sequential\":[[0.0,\"#0d0887\"],[0.1111111111111111,\"#46039f\"],[0.2222222222222222,\"#7201a8\"],[0.3333333333333333,\"#9c179e\"],[0.4444444444444444,\"#bd3786\"],[0.5555555555555556,\"#d8576b\"],[0.6666666666666666,\"#ed7953\"],[0.7777777777777778,\"#fb9f3a\"],[0.8888888888888888,\"#fdca26\"],[1.0,\"#f0f921\"]],\"sequentialminus\":[[0.0,\"#0d0887\"],[0.1111111111111111,\"#46039f\"],[0.2222222222222222,\"#7201a8\"],[0.3333333333333333,\"#9c179e\"],[0.4444444444444444,\"#bd3786\"],[0.5555555555555556,\"#d8576b\"],[0.6666666666666666,\"#ed7953\"],[0.7777777777777778,\"#fb9f3a\"],[0.8888888888888888,\"#fdca26\"],[1.0,\"#f0f921\"]]},\"colorway\":[\"#636efa\",\"#EF553B\",\"#00cc96\",\"#ab63fa\",\"#FFA15A\",\"#19d3f3\",\"#FF6692\",\"#B6E880\",\"#FF97FF\",\"#FECB52\"],\"font\":{\"color\":\"#2a3f5f\"},\"geo\":{\"bgcolor\":\"white\",\"lakecolor\":\"white\",\"landcolor\":\"#E5ECF6\",\"showlakes\":true,\"showland\":true,\"subunitcolor\":\"white\"},\"hoverlabel\":{\"align\":\"left\"},\"hovermode\":\"closest\",\"mapbox\":{\"style\":\"light\"},\"paper_bgcolor\":\"white\",\"plot_bgcolor\":\"#E5ECF6\",\"polar\":{\"angularaxis\":{\"gridcolor\":\"white\",\"linecolor\":\"white\",\"ticks\":\"\"},\"bgcolor\":\"#E5ECF6\",\"radialaxis\":{\"gridcolor\":\"white\",\"linecolor\":\"white\",\"ticks\":\"\"}},\"scene\":{\"xaxis\":{\"backgroundcolor\":\"#E5ECF6\",\"gridcolor\":\"white\",\"gridwidth\":2,\"linecolor\":\"white\",\"showbackground\":true,\"ticks\":\"\",\"zerolinecolor\":\"white\"},\"yaxis\":{\"backgroundcolor\":\"#E5ECF6\",\"gridcolor\":\"white\",\"gridwidth\":2,\"linecolor\":\"white\",\"showbackground\":true,\"ticks\":\"\",\"zerolinecolor\":\"white\"},\"zaxis\":{\"backgroundcolor\":\"#E5ECF6\",\"gridcolor\":\"white\",\"gridwidth\":2,\"linecolor\":\"white\",\"showbackground\":true,\"ticks\":\"\",\"zerolinecolor\":\"white\"}},\"shapedefaults\":{\"line\":{\"color\":\"#2a3f5f\"}},\"ternary\":{\"aaxis\":{\"gridcolor\":\"white\",\"linecolor\":\"white\",\"ticks\":\"\"},\"baxis\":{\"gridcolor\":\"white\",\"linecolor\":\"white\",\"ticks\":\"\"},\"bgcolor\":\"#E5ECF6\",\"caxis\":{\"gridcolor\":\"white\",\"linecolor\":\"white\",\"ticks\":\"\"}},\"title\":{\"x\":0.05},\"xaxis\":{\"automargin\":true,\"gridcolor\":\"white\",\"linecolor\":\"white\",\"ticks\":\"\",\"title\":{\"standoff\":15},\"zerolinecolor\":\"white\",\"zerolinewidth\":2},\"yaxis\":{\"automargin\":true,\"gridcolor\":\"white\",\"linecolor\":\"white\",\"ticks\":\"\",\"title\":{\"standoff\":15},\"zerolinecolor\":\"white\",\"zerolinewidth\":2}}},\"xaxis\":{\"anchor\":\"y\",\"domain\":[0.0,1.0],\"title\":{\"text\":\"Nutrients\"}},\"yaxis\":{\"anchor\":\"x\",\"domain\":[0.0,1.0],\"title\":{\"text\":\"Normalized Amount\"}}},                        {\"responsive\": true}                    ).then(function(){\n",
       "                            \n",
       "var gd = document.getElementById('6243037c-3e65-4300-9958-df87cfb27449');\n",
       "var x = new MutationObserver(function (mutations, observer) {{\n",
       "        var display = window.getComputedStyle(gd).display;\n",
       "        if (!display || display === 'none') {{\n",
       "            console.log([gd, 'removed!']);\n",
       "            Plotly.purge(gd);\n",
       "            observer.disconnect();\n",
       "        }}\n",
       "}});\n",
       "\n",
       "// Listen for the removal of the full notebook cells\n",
       "var notebookContainer = gd.closest('#notebook-container');\n",
       "if (notebookContainer) {{\n",
       "    x.observe(notebookContainer, {childList: true});\n",
       "}}\n",
       "\n",
       "// Listen for the clearing of the current output cell\n",
       "var outputEl = gd.closest('.output');\n",
       "if (outputEl) {{\n",
       "    x.observe(outputEl, {childList: true});\n",
       "}}\n",
       "\n",
       "                        })                };                });            </script>        </div>"
      ]
     },
     "metadata": {},
     "output_type": "display_data"
    }
   ],
   "source": [
    "# Customize colors to match the previous line graphs\n",
    "C = [0]*5\n",
    "C[0] = 'gold'\n",
    "C[1] = 'teal'\n",
    "C[2] = 'olive'\n",
    "C[3] = 'coral'\n",
    "C[4] = 'crimson'\n",
    "\n",
    "# Make the bar graph\n",
    "px.bar(norm_nutrients, labels={'index':'Nutrients', 'value':'Normalized Amount'}, color_discrete_sequence=C)"
   ]
  },
  {
   "cell_type": "markdown",
   "metadata": {},
   "source": [
    "## Adding Constraint on Total Weight\n",
    "\n"
   ]
  },
  {
   "cell_type": "markdown",
   "metadata": {},
   "source": [
    "At least at some prices the minimum cost subistence diet involves\n",
    "eating unreasonable amounts of food (e.g., 10 kilograms of cabbage per\n",
    "day).  We can easily add an additional constraint of the form\n",
    "$$\n",
    "     \\sum x_i \\leq \\text{max weight}\n",
    "$$\n",
    "to our linear programming problem since it&rsquo;s just another linear\n",
    "inequality, and this may give us more realistic results.\n",
    "\n"
   ]
  },
  {
   "cell_type": "markdown",
   "metadata": {},
   "source": [
    "### Price Changes and Subsistence Diet Composition with Weight Constraint\n",
    "\n"
   ]
  },
  {
   "cell_type": "markdown",
   "metadata": {},
   "source": [
    "Re-do our analysis of changing prices, but with a constraint that\n",
    "  total weight of diet must be less that 12 hectograms (1.2 kg).\n",
    "\n"
   ]
  },
  {
   "cell_type": "code",
   "execution_count": 22,
   "metadata": {},
   "outputs": [
    {
     "data": {
      "text/html": [
       "        <script type=\"text/javascript\">\n",
       "        window.PlotlyConfig = {MathJaxConfig: 'local'};\n",
       "        if (window.MathJax) {MathJax.Hub.Config({SVG: {font: \"STIX-Web\"}});}\n",
       "        if (typeof require !== 'undefined') {\n",
       "        require.undef(\"plotly\");\n",
       "        requirejs.config({\n",
       "            paths: {\n",
       "                'plotly': ['https://cdn.plot.ly/plotly-2.3.1.min']\n",
       "            }\n",
       "        });\n",
       "        require(['plotly'], function(Plotly) {\n",
       "            window._Plotly = Plotly;\n",
       "        });\n",
       "        }\n",
       "        </script>\n",
       "        "
      ]
     },
     "metadata": {},
     "output_type": "display_data"
    },
    {
     "name": "stderr",
     "output_type": "stream",
     "text": [
      "/opt/conda/lib/python3.9/site-packages/pandas/core/dtypes/cast.py:1990: UnitStrippedWarning:\n",
      "\n",
      "The unit of the quantity is stripped when downcasting to ndarray.\n",
      "\n"
     ]
    },
    {
     "data": {
      "application/vnd.plotly.v1+json": {
       "config": {
        "linkText": "Export to plot.ly",
        "plotlyServerURL": "https://plot.ly",
        "showLink": true
       },
       "data": [
        {
         "line": {
          "color": "rgba(255, 153, 51, 1.0)",
          "dash": "solid",
          "shape": "linear",
          "width": 1.3
         },
         "mode": "lines",
         "name": "cheddar cheese",
         "text": "",
         "type": "scatter",
         "x": [
          0.10168821843277477,
          0.15253232764916216,
          0.1830387931789946,
          0.20337643686554954,
          0.2237140805521045,
          0.24405172423865945,
          0.2643893679252144,
          0.28472701161176933,
          0.3050646552983243,
          0.4067528737310991,
          0.8135057474621982
         ],
         "y": [
          0.42361905312906806,
          0.4236190531317465,
          0.42361905311535836,
          0.42361905310150116,
          0.4236194135097114,
          0.4236194257822153,
          0.42361943697268023,
          0.42361944722579986,
          0.4236194566596063,
          0.4236194944865922,
          0.4236190531025761
         ]
        },
        {
         "line": {
          "color": "rgba(55, 128, 191, 1.0)",
          "dash": "solid",
          "shape": "linear",
          "width": 1.3
         },
         "mode": "lines",
         "name": "peanut butter",
         "text": "",
         "type": "scatter",
         "x": [
          0.10168821843277477,
          0.15253232764916216,
          0.1830387931789946,
          0.20337643686554954,
          0.2237140805521045,
          0.24405172423865945,
          0.2643893679252144,
          0.28472701161176933,
          0.3050646552983243,
          0.4067528737310991,
          0.8135057474621982
         ],
         "y": [
          2.8879068091471938,
          2.887906809136559,
          2.8879068092995213,
          2.887906809434395,
          2.8879030411100963,
          2.887902965776993,
          2.8879028988410926,
          2.8879028389120416,
          2.887902784873162,
          2.887902576356501,
          2.887906809450668
         ]
        },
        {
         "line": {
          "color": "rgba(50, 171, 96, 1.0)",
          "dash": "solid",
          "shape": "linear",
          "width": 1.3
         },
         "mode": "lines",
         "name": "whole milk",
         "text": "",
         "type": "scatter",
         "x": [
          0.10168821843277477,
          0.15253232764916216,
          0.1830387931789946,
          0.20337643686554954,
          0.2237140805521045,
          0.24405172423865945,
          0.2643893679252144,
          0.28472701161176933,
          0.3050646552983243,
          0.4067528737310991,
          0.8135057474621982
         ],
         "y": [
          0.6262323380934097,
          0.6262323380842773,
          0.6262323382468366,
          0.6262323383784812,
          0.6262289290275075,
          0.6262288422866276,
          0.6262287643981204,
          0.6262286940039155,
          0.6262286300121144,
          0.6262283801455327,
          0.6262323383912128
         ]
        },
        {
         "line": {
          "color": "rgba(128, 0, 128, 1.0)",
          "dash": "solid",
          "shape": "linear",
          "width": 1.3
         },
         "mode": "lines",
         "name": "black beans",
         "text": "",
         "type": "scatter",
         "x": [
          0.10168821843277477,
          0.15253232764916216,
          0.1830387931789946,
          0.20337643686554954,
          0.2237140805521045,
          0.24405172423865945,
          0.2643893679252144,
          0.28472701161176933,
          0.3050646552983243,
          0.4067528737310991,
          0.8135057474621982
         ],
         "y": [
          0.86769232534576,
          0.867692325350283,
          0.8676923252218909,
          0.867692325113805,
          0.8676954214512375,
          0.8676954665230899,
          0.8676955056559363,
          0.8676955399469338,
          0.867695570268777,
          0.8676956828867826,
          0.8676923250924762
         ]
        },
        {
         "line": {
          "color": "rgba(219, 64, 82, 1.0)",
          "dash": "solid",
          "shape": "linear",
          "width": 1.3
         },
         "mode": "lines",
         "name": "oats",
         "text": "",
         "type": "scatter",
         "x": [
          0.10168821843277477,
          0.15253232764916216,
          0.1830387931789946,
          0.20337643686554954,
          0.2237140805521045,
          0.24405172423865945,
          0.2643893679252144,
          0.28472701161176933,
          0.3050646552983243,
          0.4067528737310991,
          0.8135057474621982
         ],
         "y": [
          0.5471064025206935,
          0.5471064025213673,
          0.547106402527341,
          0.547106402533069,
          0.5471061782169255,
          0.5471061799051692,
          0.5471061817219889,
          0.5471061836064669,
          0.5471061855112459,
          0.5471061942883152,
          0.5471064025364697
         ]
        },
        {
         "line": {
          "color": "rgba(0, 128, 128, 1.0)",
          "dash": "solid",
          "shape": "linear",
          "width": 1.3
         },
         "mode": "lines",
         "name": "spinach",
         "text": "",
         "type": "scatter",
         "x": [
          0.10168821843277477,
          0.15253232764916216,
          0.1830387931789946,
          0.20337643686554954,
          0.2237140805521045,
          0.24405172423865945,
          0.2643893679252144,
          0.28472701161176933,
          0.3050646552983243,
          0.4067528737310991,
          0.8135057474621982
         ],
         "y": [
          4.01989507879864,
          4.019895078803907,
          4.019895078741907,
          4.019895078693894,
          4.019896417623263,
          4.019896446326465,
          4.01989647189423,
          4.019896494838795,
          4.019896515570666,
          4.0198965956855,
          4.019895078687168
         ]
        },
        {
         "line": {
          "color": "rgba(255, 255, 51, 1.0)",
          "dash": "solid",
          "shape": "linear",
          "width": 1.3
         },
         "mode": "lines",
         "name": "tuna",
         "text": "",
         "type": "scatter",
         "x": [
          0.10168821843277477,
          0.15253232764916216,
          0.1830387931789946,
          0.20337643686554954,
          0.2237140805521045,
          0.24405172423865945,
          0.2643893679252144,
          0.28472701161176933,
          0.3050646552983243,
          0.4067528737310991,
          0.8135057474621982
         ],
         "y": [
          0.6275479926430731,
          0.6275479926446293,
          0.6275479926196487,
          0.6275479925994703,
          0.6275485208910553,
          0.627548534127854,
          0.6275485460093401,
          0.6275485567442134,
          0.6275485665007424,
          0.6275486045980053,
          0.627547992597542
         ]
        }
       ],
       "layout": {
        "legend": {
         "bgcolor": "#F5F6F9",
         "font": {
          "color": "#4D5663"
         }
        },
        "paper_bgcolor": "#F5F6F9",
        "plot_bgcolor": "#F5F6F9",
        "template": {
         "data": {
          "bar": [
           {
            "error_x": {
             "color": "#2a3f5f"
            },
            "error_y": {
             "color": "#2a3f5f"
            },
            "marker": {
             "line": {
              "color": "#E5ECF6",
              "width": 0.5
             },
             "pattern": {
              "fillmode": "overlay",
              "size": 10,
              "solidity": 0.2
             }
            },
            "type": "bar"
           }
          ],
          "barpolar": [
           {
            "marker": {
             "line": {
              "color": "#E5ECF6",
              "width": 0.5
             },
             "pattern": {
              "fillmode": "overlay",
              "size": 10,
              "solidity": 0.2
             }
            },
            "type": "barpolar"
           }
          ],
          "carpet": [
           {
            "aaxis": {
             "endlinecolor": "#2a3f5f",
             "gridcolor": "white",
             "linecolor": "white",
             "minorgridcolor": "white",
             "startlinecolor": "#2a3f5f"
            },
            "baxis": {
             "endlinecolor": "#2a3f5f",
             "gridcolor": "white",
             "linecolor": "white",
             "minorgridcolor": "white",
             "startlinecolor": "#2a3f5f"
            },
            "type": "carpet"
           }
          ],
          "choropleth": [
           {
            "colorbar": {
             "outlinewidth": 0,
             "ticks": ""
            },
            "type": "choropleth"
           }
          ],
          "contour": [
           {
            "colorbar": {
             "outlinewidth": 0,
             "ticks": ""
            },
            "colorscale": [
             [
              0,
              "#0d0887"
             ],
             [
              0.1111111111111111,
              "#46039f"
             ],
             [
              0.2222222222222222,
              "#7201a8"
             ],
             [
              0.3333333333333333,
              "#9c179e"
             ],
             [
              0.4444444444444444,
              "#bd3786"
             ],
             [
              0.5555555555555556,
              "#d8576b"
             ],
             [
              0.6666666666666666,
              "#ed7953"
             ],
             [
              0.7777777777777778,
              "#fb9f3a"
             ],
             [
              0.8888888888888888,
              "#fdca26"
             ],
             [
              1,
              "#f0f921"
             ]
            ],
            "type": "contour"
           }
          ],
          "contourcarpet": [
           {
            "colorbar": {
             "outlinewidth": 0,
             "ticks": ""
            },
            "type": "contourcarpet"
           }
          ],
          "heatmap": [
           {
            "colorbar": {
             "outlinewidth": 0,
             "ticks": ""
            },
            "colorscale": [
             [
              0,
              "#0d0887"
             ],
             [
              0.1111111111111111,
              "#46039f"
             ],
             [
              0.2222222222222222,
              "#7201a8"
             ],
             [
              0.3333333333333333,
              "#9c179e"
             ],
             [
              0.4444444444444444,
              "#bd3786"
             ],
             [
              0.5555555555555556,
              "#d8576b"
             ],
             [
              0.6666666666666666,
              "#ed7953"
             ],
             [
              0.7777777777777778,
              "#fb9f3a"
             ],
             [
              0.8888888888888888,
              "#fdca26"
             ],
             [
              1,
              "#f0f921"
             ]
            ],
            "type": "heatmap"
           }
          ],
          "heatmapgl": [
           {
            "colorbar": {
             "outlinewidth": 0,
             "ticks": ""
            },
            "colorscale": [
             [
              0,
              "#0d0887"
             ],
             [
              0.1111111111111111,
              "#46039f"
             ],
             [
              0.2222222222222222,
              "#7201a8"
             ],
             [
              0.3333333333333333,
              "#9c179e"
             ],
             [
              0.4444444444444444,
              "#bd3786"
             ],
             [
              0.5555555555555556,
              "#d8576b"
             ],
             [
              0.6666666666666666,
              "#ed7953"
             ],
             [
              0.7777777777777778,
              "#fb9f3a"
             ],
             [
              0.8888888888888888,
              "#fdca26"
             ],
             [
              1,
              "#f0f921"
             ]
            ],
            "type": "heatmapgl"
           }
          ],
          "histogram": [
           {
            "marker": {
             "pattern": {
              "fillmode": "overlay",
              "size": 10,
              "solidity": 0.2
             }
            },
            "type": "histogram"
           }
          ],
          "histogram2d": [
           {
            "colorbar": {
             "outlinewidth": 0,
             "ticks": ""
            },
            "colorscale": [
             [
              0,
              "#0d0887"
             ],
             [
              0.1111111111111111,
              "#46039f"
             ],
             [
              0.2222222222222222,
              "#7201a8"
             ],
             [
              0.3333333333333333,
              "#9c179e"
             ],
             [
              0.4444444444444444,
              "#bd3786"
             ],
             [
              0.5555555555555556,
              "#d8576b"
             ],
             [
              0.6666666666666666,
              "#ed7953"
             ],
             [
              0.7777777777777778,
              "#fb9f3a"
             ],
             [
              0.8888888888888888,
              "#fdca26"
             ],
             [
              1,
              "#f0f921"
             ]
            ],
            "type": "histogram2d"
           }
          ],
          "histogram2dcontour": [
           {
            "colorbar": {
             "outlinewidth": 0,
             "ticks": ""
            },
            "colorscale": [
             [
              0,
              "#0d0887"
             ],
             [
              0.1111111111111111,
              "#46039f"
             ],
             [
              0.2222222222222222,
              "#7201a8"
             ],
             [
              0.3333333333333333,
              "#9c179e"
             ],
             [
              0.4444444444444444,
              "#bd3786"
             ],
             [
              0.5555555555555556,
              "#d8576b"
             ],
             [
              0.6666666666666666,
              "#ed7953"
             ],
             [
              0.7777777777777778,
              "#fb9f3a"
             ],
             [
              0.8888888888888888,
              "#fdca26"
             ],
             [
              1,
              "#f0f921"
             ]
            ],
            "type": "histogram2dcontour"
           }
          ],
          "mesh3d": [
           {
            "colorbar": {
             "outlinewidth": 0,
             "ticks": ""
            },
            "type": "mesh3d"
           }
          ],
          "parcoords": [
           {
            "line": {
             "colorbar": {
              "outlinewidth": 0,
              "ticks": ""
             }
            },
            "type": "parcoords"
           }
          ],
          "pie": [
           {
            "automargin": true,
            "type": "pie"
           }
          ],
          "scatter": [
           {
            "marker": {
             "colorbar": {
              "outlinewidth": 0,
              "ticks": ""
             }
            },
            "type": "scatter"
           }
          ],
          "scatter3d": [
           {
            "line": {
             "colorbar": {
              "outlinewidth": 0,
              "ticks": ""
             }
            },
            "marker": {
             "colorbar": {
              "outlinewidth": 0,
              "ticks": ""
             }
            },
            "type": "scatter3d"
           }
          ],
          "scattercarpet": [
           {
            "marker": {
             "colorbar": {
              "outlinewidth": 0,
              "ticks": ""
             }
            },
            "type": "scattercarpet"
           }
          ],
          "scattergeo": [
           {
            "marker": {
             "colorbar": {
              "outlinewidth": 0,
              "ticks": ""
             }
            },
            "type": "scattergeo"
           }
          ],
          "scattergl": [
           {
            "marker": {
             "colorbar": {
              "outlinewidth": 0,
              "ticks": ""
             }
            },
            "type": "scattergl"
           }
          ],
          "scattermapbox": [
           {
            "marker": {
             "colorbar": {
              "outlinewidth": 0,
              "ticks": ""
             }
            },
            "type": "scattermapbox"
           }
          ],
          "scatterpolar": [
           {
            "marker": {
             "colorbar": {
              "outlinewidth": 0,
              "ticks": ""
             }
            },
            "type": "scatterpolar"
           }
          ],
          "scatterpolargl": [
           {
            "marker": {
             "colorbar": {
              "outlinewidth": 0,
              "ticks": ""
             }
            },
            "type": "scatterpolargl"
           }
          ],
          "scatterternary": [
           {
            "marker": {
             "colorbar": {
              "outlinewidth": 0,
              "ticks": ""
             }
            },
            "type": "scatterternary"
           }
          ],
          "surface": [
           {
            "colorbar": {
             "outlinewidth": 0,
             "ticks": ""
            },
            "colorscale": [
             [
              0,
              "#0d0887"
             ],
             [
              0.1111111111111111,
              "#46039f"
             ],
             [
              0.2222222222222222,
              "#7201a8"
             ],
             [
              0.3333333333333333,
              "#9c179e"
             ],
             [
              0.4444444444444444,
              "#bd3786"
             ],
             [
              0.5555555555555556,
              "#d8576b"
             ],
             [
              0.6666666666666666,
              "#ed7953"
             ],
             [
              0.7777777777777778,
              "#fb9f3a"
             ],
             [
              0.8888888888888888,
              "#fdca26"
             ],
             [
              1,
              "#f0f921"
             ]
            ],
            "type": "surface"
           }
          ],
          "table": [
           {
            "cells": {
             "fill": {
              "color": "#EBF0F8"
             },
             "line": {
              "color": "white"
             }
            },
            "header": {
             "fill": {
              "color": "#C8D4E3"
             },
             "line": {
              "color": "white"
             }
            },
            "type": "table"
           }
          ]
         },
         "layout": {
          "annotationdefaults": {
           "arrowcolor": "#2a3f5f",
           "arrowhead": 0,
           "arrowwidth": 1
          },
          "autotypenumbers": "strict",
          "coloraxis": {
           "colorbar": {
            "outlinewidth": 0,
            "ticks": ""
           }
          },
          "colorscale": {
           "diverging": [
            [
             0,
             "#8e0152"
            ],
            [
             0.1,
             "#c51b7d"
            ],
            [
             0.2,
             "#de77ae"
            ],
            [
             0.3,
             "#f1b6da"
            ],
            [
             0.4,
             "#fde0ef"
            ],
            [
             0.5,
             "#f7f7f7"
            ],
            [
             0.6,
             "#e6f5d0"
            ],
            [
             0.7,
             "#b8e186"
            ],
            [
             0.8,
             "#7fbc41"
            ],
            [
             0.9,
             "#4d9221"
            ],
            [
             1,
             "#276419"
            ]
           ],
           "sequential": [
            [
             0,
             "#0d0887"
            ],
            [
             0.1111111111111111,
             "#46039f"
            ],
            [
             0.2222222222222222,
             "#7201a8"
            ],
            [
             0.3333333333333333,
             "#9c179e"
            ],
            [
             0.4444444444444444,
             "#bd3786"
            ],
            [
             0.5555555555555556,
             "#d8576b"
            ],
            [
             0.6666666666666666,
             "#ed7953"
            ],
            [
             0.7777777777777778,
             "#fb9f3a"
            ],
            [
             0.8888888888888888,
             "#fdca26"
            ],
            [
             1,
             "#f0f921"
            ]
           ],
           "sequentialminus": [
            [
             0,
             "#0d0887"
            ],
            [
             0.1111111111111111,
             "#46039f"
            ],
            [
             0.2222222222222222,
             "#7201a8"
            ],
            [
             0.3333333333333333,
             "#9c179e"
            ],
            [
             0.4444444444444444,
             "#bd3786"
            ],
            [
             0.5555555555555556,
             "#d8576b"
            ],
            [
             0.6666666666666666,
             "#ed7953"
            ],
            [
             0.7777777777777778,
             "#fb9f3a"
            ],
            [
             0.8888888888888888,
             "#fdca26"
            ],
            [
             1,
             "#f0f921"
            ]
           ]
          },
          "colorway": [
           "#636efa",
           "#EF553B",
           "#00cc96",
           "#ab63fa",
           "#FFA15A",
           "#19d3f3",
           "#FF6692",
           "#B6E880",
           "#FF97FF",
           "#FECB52"
          ],
          "font": {
           "color": "#2a3f5f"
          },
          "geo": {
           "bgcolor": "white",
           "lakecolor": "white",
           "landcolor": "#E5ECF6",
           "showlakes": true,
           "showland": true,
           "subunitcolor": "white"
          },
          "hoverlabel": {
           "align": "left"
          },
          "hovermode": "closest",
          "mapbox": {
           "style": "light"
          },
          "paper_bgcolor": "white",
          "plot_bgcolor": "#E5ECF6",
          "polar": {
           "angularaxis": {
            "gridcolor": "white",
            "linecolor": "white",
            "ticks": ""
           },
           "bgcolor": "#E5ECF6",
           "radialaxis": {
            "gridcolor": "white",
            "linecolor": "white",
            "ticks": ""
           }
          },
          "scene": {
           "xaxis": {
            "backgroundcolor": "#E5ECF6",
            "gridcolor": "white",
            "gridwidth": 2,
            "linecolor": "white",
            "showbackground": true,
            "ticks": "",
            "zerolinecolor": "white"
           },
           "yaxis": {
            "backgroundcolor": "#E5ECF6",
            "gridcolor": "white",
            "gridwidth": 2,
            "linecolor": "white",
            "showbackground": true,
            "ticks": "",
            "zerolinecolor": "white"
           },
           "zaxis": {
            "backgroundcolor": "#E5ECF6",
            "gridcolor": "white",
            "gridwidth": 2,
            "linecolor": "white",
            "showbackground": true,
            "ticks": "",
            "zerolinecolor": "white"
           }
          },
          "shapedefaults": {
           "line": {
            "color": "#2a3f5f"
           }
          },
          "ternary": {
           "aaxis": {
            "gridcolor": "white",
            "linecolor": "white",
            "ticks": ""
           },
           "baxis": {
            "gridcolor": "white",
            "linecolor": "white",
            "ticks": ""
           },
           "bgcolor": "#E5ECF6",
           "caxis": {
            "gridcolor": "white",
            "linecolor": "white",
            "ticks": ""
           }
          },
          "title": {
           "x": 0.05
          },
          "xaxis": {
           "automargin": true,
           "gridcolor": "white",
           "linecolor": "white",
           "ticks": "",
           "title": {
            "standoff": 15
           },
           "zerolinecolor": "white",
           "zerolinewidth": 2
          },
          "yaxis": {
           "automargin": true,
           "gridcolor": "white",
           "linecolor": "white",
           "ticks": "",
           "title": {
            "standoff": 15
           },
           "zerolinecolor": "white",
           "zerolinewidth": 2
          }
         }
        },
        "title": {
         "font": {
          "color": "#4D5663"
         }
        },
        "xaxis": {
         "gridcolor": "#E1E5ED",
         "showgrid": true,
         "tickfont": {
          "color": "#4D5663"
         },
         "title": {
          "font": {
           "color": "#4D5663"
          },
          "text": "almond milk Price"
         },
         "zerolinecolor": "#E1E5ED"
        },
        "yaxis": {
         "gridcolor": "#E1E5ED",
         "showgrid": true,
         "tickfont": {
          "color": "#4D5663"
         },
         "title": {
          "font": {
           "color": "#4D5663"
          },
          "text": "Hectograms"
         },
         "zerolinecolor": "#E1E5ED"
        }
       }
      },
      "text/html": [
       "<div>                            <div id=\"b3dba985-771a-4b33-bb12-de64b14e0bdf\" class=\"plotly-graph-div\" style=\"height:525px; width:100%;\"></div>            <script type=\"text/javascript\">                require([\"plotly\"], function(Plotly) {                    window.PLOTLYENV=window.PLOTLYENV || {};\n",
       "                    window.PLOTLYENV.BASE_URL='https://plot.ly';                                    if (document.getElementById(\"b3dba985-771a-4b33-bb12-de64b14e0bdf\")) {                    Plotly.newPlot(                        \"b3dba985-771a-4b33-bb12-de64b14e0bdf\",                        [{\"line\":{\"color\":\"rgba(255, 153, 51, 1.0)\",\"dash\":\"solid\",\"shape\":\"linear\",\"width\":1.3},\"mode\":\"lines\",\"name\":\"cheddar cheese\",\"text\":\"\",\"type\":\"scatter\",\"x\":[0.10168821843277477,0.15253232764916216,0.1830387931789946,0.20337643686554954,0.2237140805521045,0.24405172423865945,0.2643893679252144,0.28472701161176933,0.3050646552983243,0.4067528737310991,0.8135057474621982],\"y\":[0.42361905312906806,0.4236190531317465,0.42361905311535836,0.42361905310150116,0.4236194135097114,0.4236194257822153,0.42361943697268023,0.42361944722579986,0.4236194566596063,0.4236194944865922,0.4236190531025761]},{\"line\":{\"color\":\"rgba(55, 128, 191, 1.0)\",\"dash\":\"solid\",\"shape\":\"linear\",\"width\":1.3},\"mode\":\"lines\",\"name\":\"peanut butter\",\"text\":\"\",\"type\":\"scatter\",\"x\":[0.10168821843277477,0.15253232764916216,0.1830387931789946,0.20337643686554954,0.2237140805521045,0.24405172423865945,0.2643893679252144,0.28472701161176933,0.3050646552983243,0.4067528737310991,0.8135057474621982],\"y\":[2.8879068091471938,2.887906809136559,2.8879068092995213,2.887906809434395,2.8879030411100963,2.887902965776993,2.8879028988410926,2.8879028389120416,2.887902784873162,2.887902576356501,2.887906809450668]},{\"line\":{\"color\":\"rgba(50, 171, 96, 1.0)\",\"dash\":\"solid\",\"shape\":\"linear\",\"width\":1.3},\"mode\":\"lines\",\"name\":\"whole milk\",\"text\":\"\",\"type\":\"scatter\",\"x\":[0.10168821843277477,0.15253232764916216,0.1830387931789946,0.20337643686554954,0.2237140805521045,0.24405172423865945,0.2643893679252144,0.28472701161176933,0.3050646552983243,0.4067528737310991,0.8135057474621982],\"y\":[0.6262323380934097,0.6262323380842773,0.6262323382468366,0.6262323383784812,0.6262289290275075,0.6262288422866276,0.6262287643981204,0.6262286940039155,0.6262286300121144,0.6262283801455327,0.6262323383912128]},{\"line\":{\"color\":\"rgba(128, 0, 128, 1.0)\",\"dash\":\"solid\",\"shape\":\"linear\",\"width\":1.3},\"mode\":\"lines\",\"name\":\"black beans\",\"text\":\"\",\"type\":\"scatter\",\"x\":[0.10168821843277477,0.15253232764916216,0.1830387931789946,0.20337643686554954,0.2237140805521045,0.24405172423865945,0.2643893679252144,0.28472701161176933,0.3050646552983243,0.4067528737310991,0.8135057474621982],\"y\":[0.86769232534576,0.867692325350283,0.8676923252218909,0.867692325113805,0.8676954214512375,0.8676954665230899,0.8676955056559363,0.8676955399469338,0.867695570268777,0.8676956828867826,0.8676923250924762]},{\"line\":{\"color\":\"rgba(219, 64, 82, 1.0)\",\"dash\":\"solid\",\"shape\":\"linear\",\"width\":1.3},\"mode\":\"lines\",\"name\":\"oats\",\"text\":\"\",\"type\":\"scatter\",\"x\":[0.10168821843277477,0.15253232764916216,0.1830387931789946,0.20337643686554954,0.2237140805521045,0.24405172423865945,0.2643893679252144,0.28472701161176933,0.3050646552983243,0.4067528737310991,0.8135057474621982],\"y\":[0.5471064025206935,0.5471064025213673,0.547106402527341,0.547106402533069,0.5471061782169255,0.5471061799051692,0.5471061817219889,0.5471061836064669,0.5471061855112459,0.5471061942883152,0.5471064025364697]},{\"line\":{\"color\":\"rgba(0, 128, 128, 1.0)\",\"dash\":\"solid\",\"shape\":\"linear\",\"width\":1.3},\"mode\":\"lines\",\"name\":\"spinach\",\"text\":\"\",\"type\":\"scatter\",\"x\":[0.10168821843277477,0.15253232764916216,0.1830387931789946,0.20337643686554954,0.2237140805521045,0.24405172423865945,0.2643893679252144,0.28472701161176933,0.3050646552983243,0.4067528737310991,0.8135057474621982],\"y\":[4.01989507879864,4.019895078803907,4.019895078741907,4.019895078693894,4.019896417623263,4.019896446326465,4.01989647189423,4.019896494838795,4.019896515570666,4.0198965956855,4.019895078687168]},{\"line\":{\"color\":\"rgba(255, 255, 51, 1.0)\",\"dash\":\"solid\",\"shape\":\"linear\",\"width\":1.3},\"mode\":\"lines\",\"name\":\"tuna\",\"text\":\"\",\"type\":\"scatter\",\"x\":[0.10168821843277477,0.15253232764916216,0.1830387931789946,0.20337643686554954,0.2237140805521045,0.24405172423865945,0.2643893679252144,0.28472701161176933,0.3050646552983243,0.4067528737310991,0.8135057474621982],\"y\":[0.6275479926430731,0.6275479926446293,0.6275479926196487,0.6275479925994703,0.6275485208910553,0.627548534127854,0.6275485460093401,0.6275485567442134,0.6275485665007424,0.6275486045980053,0.627547992597542]}],                        {\"legend\":{\"bgcolor\":\"#F5F6F9\",\"font\":{\"color\":\"#4D5663\"}},\"paper_bgcolor\":\"#F5F6F9\",\"plot_bgcolor\":\"#F5F6F9\",\"template\":{\"data\":{\"bar\":[{\"error_x\":{\"color\":\"#2a3f5f\"},\"error_y\":{\"color\":\"#2a3f5f\"},\"marker\":{\"line\":{\"color\":\"#E5ECF6\",\"width\":0.5},\"pattern\":{\"fillmode\":\"overlay\",\"size\":10,\"solidity\":0.2}},\"type\":\"bar\"}],\"barpolar\":[{\"marker\":{\"line\":{\"color\":\"#E5ECF6\",\"width\":0.5},\"pattern\":{\"fillmode\":\"overlay\",\"size\":10,\"solidity\":0.2}},\"type\":\"barpolar\"}],\"carpet\":[{\"aaxis\":{\"endlinecolor\":\"#2a3f5f\",\"gridcolor\":\"white\",\"linecolor\":\"white\",\"minorgridcolor\":\"white\",\"startlinecolor\":\"#2a3f5f\"},\"baxis\":{\"endlinecolor\":\"#2a3f5f\",\"gridcolor\":\"white\",\"linecolor\":\"white\",\"minorgridcolor\":\"white\",\"startlinecolor\":\"#2a3f5f\"},\"type\":\"carpet\"}],\"choropleth\":[{\"colorbar\":{\"outlinewidth\":0,\"ticks\":\"\"},\"type\":\"choropleth\"}],\"contour\":[{\"colorbar\":{\"outlinewidth\":0,\"ticks\":\"\"},\"colorscale\":[[0.0,\"#0d0887\"],[0.1111111111111111,\"#46039f\"],[0.2222222222222222,\"#7201a8\"],[0.3333333333333333,\"#9c179e\"],[0.4444444444444444,\"#bd3786\"],[0.5555555555555556,\"#d8576b\"],[0.6666666666666666,\"#ed7953\"],[0.7777777777777778,\"#fb9f3a\"],[0.8888888888888888,\"#fdca26\"],[1.0,\"#f0f921\"]],\"type\":\"contour\"}],\"contourcarpet\":[{\"colorbar\":{\"outlinewidth\":0,\"ticks\":\"\"},\"type\":\"contourcarpet\"}],\"heatmap\":[{\"colorbar\":{\"outlinewidth\":0,\"ticks\":\"\"},\"colorscale\":[[0.0,\"#0d0887\"],[0.1111111111111111,\"#46039f\"],[0.2222222222222222,\"#7201a8\"],[0.3333333333333333,\"#9c179e\"],[0.4444444444444444,\"#bd3786\"],[0.5555555555555556,\"#d8576b\"],[0.6666666666666666,\"#ed7953\"],[0.7777777777777778,\"#fb9f3a\"],[0.8888888888888888,\"#fdca26\"],[1.0,\"#f0f921\"]],\"type\":\"heatmap\"}],\"heatmapgl\":[{\"colorbar\":{\"outlinewidth\":0,\"ticks\":\"\"},\"colorscale\":[[0.0,\"#0d0887\"],[0.1111111111111111,\"#46039f\"],[0.2222222222222222,\"#7201a8\"],[0.3333333333333333,\"#9c179e\"],[0.4444444444444444,\"#bd3786\"],[0.5555555555555556,\"#d8576b\"],[0.6666666666666666,\"#ed7953\"],[0.7777777777777778,\"#fb9f3a\"],[0.8888888888888888,\"#fdca26\"],[1.0,\"#f0f921\"]],\"type\":\"heatmapgl\"}],\"histogram\":[{\"marker\":{\"pattern\":{\"fillmode\":\"overlay\",\"size\":10,\"solidity\":0.2}},\"type\":\"histogram\"}],\"histogram2d\":[{\"colorbar\":{\"outlinewidth\":0,\"ticks\":\"\"},\"colorscale\":[[0.0,\"#0d0887\"],[0.1111111111111111,\"#46039f\"],[0.2222222222222222,\"#7201a8\"],[0.3333333333333333,\"#9c179e\"],[0.4444444444444444,\"#bd3786\"],[0.5555555555555556,\"#d8576b\"],[0.6666666666666666,\"#ed7953\"],[0.7777777777777778,\"#fb9f3a\"],[0.8888888888888888,\"#fdca26\"],[1.0,\"#f0f921\"]],\"type\":\"histogram2d\"}],\"histogram2dcontour\":[{\"colorbar\":{\"outlinewidth\":0,\"ticks\":\"\"},\"colorscale\":[[0.0,\"#0d0887\"],[0.1111111111111111,\"#46039f\"],[0.2222222222222222,\"#7201a8\"],[0.3333333333333333,\"#9c179e\"],[0.4444444444444444,\"#bd3786\"],[0.5555555555555556,\"#d8576b\"],[0.6666666666666666,\"#ed7953\"],[0.7777777777777778,\"#fb9f3a\"],[0.8888888888888888,\"#fdca26\"],[1.0,\"#f0f921\"]],\"type\":\"histogram2dcontour\"}],\"mesh3d\":[{\"colorbar\":{\"outlinewidth\":0,\"ticks\":\"\"},\"type\":\"mesh3d\"}],\"parcoords\":[{\"line\":{\"colorbar\":{\"outlinewidth\":0,\"ticks\":\"\"}},\"type\":\"parcoords\"}],\"pie\":[{\"automargin\":true,\"type\":\"pie\"}],\"scatter\":[{\"marker\":{\"colorbar\":{\"outlinewidth\":0,\"ticks\":\"\"}},\"type\":\"scatter\"}],\"scatter3d\":[{\"line\":{\"colorbar\":{\"outlinewidth\":0,\"ticks\":\"\"}},\"marker\":{\"colorbar\":{\"outlinewidth\":0,\"ticks\":\"\"}},\"type\":\"scatter3d\"}],\"scattercarpet\":[{\"marker\":{\"colorbar\":{\"outlinewidth\":0,\"ticks\":\"\"}},\"type\":\"scattercarpet\"}],\"scattergeo\":[{\"marker\":{\"colorbar\":{\"outlinewidth\":0,\"ticks\":\"\"}},\"type\":\"scattergeo\"}],\"scattergl\":[{\"marker\":{\"colorbar\":{\"outlinewidth\":0,\"ticks\":\"\"}},\"type\":\"scattergl\"}],\"scattermapbox\":[{\"marker\":{\"colorbar\":{\"outlinewidth\":0,\"ticks\":\"\"}},\"type\":\"scattermapbox\"}],\"scatterpolar\":[{\"marker\":{\"colorbar\":{\"outlinewidth\":0,\"ticks\":\"\"}},\"type\":\"scatterpolar\"}],\"scatterpolargl\":[{\"marker\":{\"colorbar\":{\"outlinewidth\":0,\"ticks\":\"\"}},\"type\":\"scatterpolargl\"}],\"scatterternary\":[{\"marker\":{\"colorbar\":{\"outlinewidth\":0,\"ticks\":\"\"}},\"type\":\"scatterternary\"}],\"surface\":[{\"colorbar\":{\"outlinewidth\":0,\"ticks\":\"\"},\"colorscale\":[[0.0,\"#0d0887\"],[0.1111111111111111,\"#46039f\"],[0.2222222222222222,\"#7201a8\"],[0.3333333333333333,\"#9c179e\"],[0.4444444444444444,\"#bd3786\"],[0.5555555555555556,\"#d8576b\"],[0.6666666666666666,\"#ed7953\"],[0.7777777777777778,\"#fb9f3a\"],[0.8888888888888888,\"#fdca26\"],[1.0,\"#f0f921\"]],\"type\":\"surface\"}],\"table\":[{\"cells\":{\"fill\":{\"color\":\"#EBF0F8\"},\"line\":{\"color\":\"white\"}},\"header\":{\"fill\":{\"color\":\"#C8D4E3\"},\"line\":{\"color\":\"white\"}},\"type\":\"table\"}]},\"layout\":{\"annotationdefaults\":{\"arrowcolor\":\"#2a3f5f\",\"arrowhead\":0,\"arrowwidth\":1},\"autotypenumbers\":\"strict\",\"coloraxis\":{\"colorbar\":{\"outlinewidth\":0,\"ticks\":\"\"}},\"colorscale\":{\"diverging\":[[0,\"#8e0152\"],[0.1,\"#c51b7d\"],[0.2,\"#de77ae\"],[0.3,\"#f1b6da\"],[0.4,\"#fde0ef\"],[0.5,\"#f7f7f7\"],[0.6,\"#e6f5d0\"],[0.7,\"#b8e186\"],[0.8,\"#7fbc41\"],[0.9,\"#4d9221\"],[1,\"#276419\"]],\"sequential\":[[0.0,\"#0d0887\"],[0.1111111111111111,\"#46039f\"],[0.2222222222222222,\"#7201a8\"],[0.3333333333333333,\"#9c179e\"],[0.4444444444444444,\"#bd3786\"],[0.5555555555555556,\"#d8576b\"],[0.6666666666666666,\"#ed7953\"],[0.7777777777777778,\"#fb9f3a\"],[0.8888888888888888,\"#fdca26\"],[1.0,\"#f0f921\"]],\"sequentialminus\":[[0.0,\"#0d0887\"],[0.1111111111111111,\"#46039f\"],[0.2222222222222222,\"#7201a8\"],[0.3333333333333333,\"#9c179e\"],[0.4444444444444444,\"#bd3786\"],[0.5555555555555556,\"#d8576b\"],[0.6666666666666666,\"#ed7953\"],[0.7777777777777778,\"#fb9f3a\"],[0.8888888888888888,\"#fdca26\"],[1.0,\"#f0f921\"]]},\"colorway\":[\"#636efa\",\"#EF553B\",\"#00cc96\",\"#ab63fa\",\"#FFA15A\",\"#19d3f3\",\"#FF6692\",\"#B6E880\",\"#FF97FF\",\"#FECB52\"],\"font\":{\"color\":\"#2a3f5f\"},\"geo\":{\"bgcolor\":\"white\",\"lakecolor\":\"white\",\"landcolor\":\"#E5ECF6\",\"showlakes\":true,\"showland\":true,\"subunitcolor\":\"white\"},\"hoverlabel\":{\"align\":\"left\"},\"hovermode\":\"closest\",\"mapbox\":{\"style\":\"light\"},\"paper_bgcolor\":\"white\",\"plot_bgcolor\":\"#E5ECF6\",\"polar\":{\"angularaxis\":{\"gridcolor\":\"white\",\"linecolor\":\"white\",\"ticks\":\"\"},\"bgcolor\":\"#E5ECF6\",\"radialaxis\":{\"gridcolor\":\"white\",\"linecolor\":\"white\",\"ticks\":\"\"}},\"scene\":{\"xaxis\":{\"backgroundcolor\":\"#E5ECF6\",\"gridcolor\":\"white\",\"gridwidth\":2,\"linecolor\":\"white\",\"showbackground\":true,\"ticks\":\"\",\"zerolinecolor\":\"white\"},\"yaxis\":{\"backgroundcolor\":\"#E5ECF6\",\"gridcolor\":\"white\",\"gridwidth\":2,\"linecolor\":\"white\",\"showbackground\":true,\"ticks\":\"\",\"zerolinecolor\":\"white\"},\"zaxis\":{\"backgroundcolor\":\"#E5ECF6\",\"gridcolor\":\"white\",\"gridwidth\":2,\"linecolor\":\"white\",\"showbackground\":true,\"ticks\":\"\",\"zerolinecolor\":\"white\"}},\"shapedefaults\":{\"line\":{\"color\":\"#2a3f5f\"}},\"ternary\":{\"aaxis\":{\"gridcolor\":\"white\",\"linecolor\":\"white\",\"ticks\":\"\"},\"baxis\":{\"gridcolor\":\"white\",\"linecolor\":\"white\",\"ticks\":\"\"},\"bgcolor\":\"#E5ECF6\",\"caxis\":{\"gridcolor\":\"white\",\"linecolor\":\"white\",\"ticks\":\"\"}},\"title\":{\"x\":0.05},\"xaxis\":{\"automargin\":true,\"gridcolor\":\"white\",\"linecolor\":\"white\",\"ticks\":\"\",\"title\":{\"standoff\":15},\"zerolinecolor\":\"white\",\"zerolinewidth\":2},\"yaxis\":{\"automargin\":true,\"gridcolor\":\"white\",\"linecolor\":\"white\",\"ticks\":\"\",\"title\":{\"standoff\":15},\"zerolinecolor\":\"white\",\"zerolinewidth\":2}}},\"title\":{\"font\":{\"color\":\"#4D5663\"}},\"xaxis\":{\"gridcolor\":\"#E1E5ED\",\"showgrid\":true,\"tickfont\":{\"color\":\"#4D5663\"},\"title\":{\"font\":{\"color\":\"#4D5663\"},\"text\":\"almond milk Price\"},\"zerolinecolor\":\"#E1E5ED\"},\"yaxis\":{\"gridcolor\":\"#E1E5ED\",\"showgrid\":true,\"tickfont\":{\"color\":\"#4D5663\"},\"title\":{\"font\":{\"color\":\"#4D5663\"},\"text\":\"Hectograms\"},\"zerolinecolor\":\"#E1E5ED\"}},                        {\"showLink\": true, \"linkText\": \"Export to plot.ly\", \"plotlyServerURL\": \"https://plot.ly\", \"responsive\": true}                    ).then(function(){\n",
       "                            \n",
       "var gd = document.getElementById('b3dba985-771a-4b33-bb12-de64b14e0bdf');\n",
       "var x = new MutationObserver(function (mutations, observer) {{\n",
       "        var display = window.getComputedStyle(gd).display;\n",
       "        if (!display || display === 'none') {{\n",
       "            console.log([gd, 'removed!']);\n",
       "            Plotly.purge(gd);\n",
       "            observer.disconnect();\n",
       "        }}\n",
       "}});\n",
       "\n",
       "// Listen for the removal of the full notebook cells\n",
       "var notebookContainer = gd.closest('#notebook-container');\n",
       "if (notebookContainer) {{\n",
       "    x.observe(notebookContainer, {childList: true});\n",
       "}}\n",
       "\n",
       "// Listen for the clearing of the current output cell\n",
       "var outputEl = gd.closest('.output');\n",
       "if (outputEl) {{\n",
       "    x.observe(outputEl, {childList: true});\n",
       "}}\n",
       "\n",
       "                        })                };                });            </script>        </div>"
      ]
     },
     "metadata": {},
     "output_type": "display_data"
    }
   ],
   "source": [
    "cf.go_offline()\n",
    "\n",
    "# Specify reference good\n",
    "ReferenceGood = 'almond milk'\n",
    "\n",
    "scale = [0.5,0.75,0.9,1.,1.1,1.2,1.3,1.4,1.5,2,4]\n",
    "\n",
    "cost0 = solve_subsistence_problem(FoodNutrients,Prices,\n",
    "                                  diet_min[group],diet_max[group],max_weight=10,tol=tol).fun\n",
    "\n",
    "my_p = Prices.copy()\n",
    "\n",
    "diet = {}\n",
    "for s in scale:\n",
    "\n",
    "    my_p[ReferenceGood] = Prices[ReferenceGood]*s\n",
    "    result = solve_subsistence_problem(FoodNutrients,my_p,\n",
    "                                       diet_min[group],diet_max[group],max_weight=10,tol=tol)\n",
    "    diet[my_p[ReferenceGood]] = result.diet\n",
    "\n",
    "Diet_response = pd.DataFrame(diet).T\n",
    "Diet_response.index.name = '%s Price' % ReferenceGood\n",
    "\n",
    "Diet_response.reset_index(inplace=True)\n",
    "\n",
    "# Get rid of units for index (cufflinks chokes)\n",
    "Diet_response['%s Price' % ReferenceGood] = Diet_response['%s Price' % ReferenceGood].apply(lambda x: x.magnitude)\n",
    "\n",
    "Diet_response = Diet_response.set_index('%s Price' % ReferenceGood)\n",
    "\n",
    "# Just look at goods consumed in quantities greater than error tolerance\n",
    "Diet_response.loc[:,(Diet_response>tol).sum()>0].iplot(xTitle='%s Price' % ReferenceGood,yTitle='Hectograms')"
   ]
  },
  {
   "cell_type": "code",
   "execution_count": null,
   "metadata": {},
   "outputs": [],
   "source": []
  }
 ],
 "metadata": {
  "kernelspec": {
   "display_name": "Python 3 (ipykernel)",
   "language": "python",
   "name": "python3"
  },
  "language_info": {
   "codemirror_mode": {
    "name": "ipython",
    "version": 3
   },
   "file_extension": ".py",
   "mimetype": "text/x-python",
   "name": "python",
   "nbconvert_exporter": "python",
   "pygments_lexer": "ipython3",
   "version": "3.9.10"
  },
  "org": null
 },
 "nbformat": 4,
 "nbformat_minor": 1
}
